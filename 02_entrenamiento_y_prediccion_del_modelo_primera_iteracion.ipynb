{
  "nbformat": 4,
  "nbformat_minor": 0,
  "metadata": {
    "colab": {
      "name": "02_entrenamiento_y_prediccion_del_modelo_primera_iteracion.ipynb",
      "provenance": []
    },
    "kernelspec": {
      "name": "python3",
      "display_name": "Python 3"
    },
    "language_info": {
      "name": "python"
    }
  },
  "cells": [
    {
      "cell_type": "markdown",
      "source": [
        "# **Entrenamiento y predicción del modelo - Monografia**\n",
        "## Mateo Usme - 1017264083\n",
        "## Jorge Rojas - 71690015\n",
        "## Universidad de Antioquia"
      ],
      "metadata": {
        "id": "8Q1Kb6ERO3QM"
      }
    },
    {
      "cell_type": "markdown",
      "source": [
        "## Entrenamiento del modelo para Forecasting"
      ],
      "metadata": {
        "id": "l-4feOZIPi8j"
      }
    },
    {
      "cell_type": "markdown",
      "source": [
        "### Primero se importan los datos pre-procesados en el anterior notebook"
      ],
      "metadata": {
        "id": "dVGMvi97XfRT"
      }
    },
    {
      "cell_type": "code",
      "source": [
        "import pandas as pd\n",
        "\n",
        "df1 = pd.read_csv(r\"https://github.com/MateoUsme/Esp_Analitica/raw/main/data_clean_1.csv\")\n",
        "df2 = pd.read_csv(r\"https://github.com/MateoUsme/Esp_Analitica/raw/main/data_clean_2.csv\")\n",
        "df3 = pd.read_csv(r\"https://github.com/MateoUsme/Esp_Analitica/raw/main/data_clean_3.csv\")\n",
        "df4 = pd.read_csv(r\"https://github.com/MateoUsme/Esp_Analitica/raw/main/data_clean_4.csv\")\n",
        "\n",
        "data_1 = pd.concat([df1,df2,df3,df4]).reset_index(drop=True)\n",
        "\n",
        "del df1\n",
        "del df2\n",
        "del df3\n",
        "del df4\n",
        "\n",
        "data_1 = data_1[data_1.GrupoProducto == 688706].reset_index()"
      ],
      "metadata": {
        "id": "LxSDS0VPXmQp"
      },
      "execution_count": 1,
      "outputs": []
    },
    {
      "cell_type": "markdown",
      "source": [
        "### Realizamos la división de los conjuntos de training y test"
      ],
      "metadata": {
        "id": "DrJCyPilaGYe"
      }
    },
    {
      "cell_type": "code",
      "execution_count": 2,
      "metadata": {
        "colab": {
          "base_uri": "https://localhost:8080/"
        },
        "id": "gOseCcXnOwHK",
        "outputId": "d3b14400-e8a3-4e90-c291-5efd390040fe"
      },
      "outputs": [
        {
          "output_type": "stream",
          "name": "stdout",
          "text": [
            "Training shapes: (406, 66) (406,)\n",
            "Validation shapes: (174, 66) (174,)\n"
          ]
        }
      ],
      "source": [
        "columnas_filtro = data_1.columns.delete(2)\n",
        "\n",
        "df_valid = data_1.sample(frac = 0.3, random_state = 42)\n",
        "df_train = data_1.drop(df_valid.index)\n",
        "\n",
        "X_train = df_train[columnas_filtro].values\n",
        "X_valid = df_valid[columnas_filtro].values\n",
        "\n",
        "y_train = df_train[\"Kilos\"].values\n",
        "y_valid = df_valid[\"Kilos\"].values\n",
        "\n",
        "print(\"Training shapes:\",X_train.shape, y_train.shape)\n",
        "print(\"Validation shapes:\",X_valid.shape, y_valid.shape)"
      ]
    },
    {
      "cell_type": "markdown",
      "source": [
        "Las dimensiones son congruentes con lo que se esperaba, y la variable objetivo *Kilos* está separada"
      ],
      "metadata": {
        "id": "WlPhQOeBaQIX"
      }
    },
    {
      "cell_type": "markdown",
      "source": [
        "### Se realiza el entrenamiento y validación del modelo\n",
        "\n",
        "Se utilizará para la regresión un RandomForest con parámetros por defecto para deducir cómo se comporta una configuración estandar con nuestro dataset."
      ],
      "metadata": {
        "id": "A1VYFrjtake6"
      }
    },
    {
      "cell_type": "code",
      "source": [
        "from sklearn.ensemble import RandomForestRegressor\n",
        "\n",
        "rf= RandomForestRegressor(n_estimators=100)\n",
        "rf.fit(X_train,y_train)\n",
        "\n",
        "y_hat = rf.predict(X_valid)"
      ],
      "metadata": {
        "id": "4kwYYEvZPmbb"
      },
      "execution_count": 3,
      "outputs": []
    },
    {
      "cell_type": "code",
      "source": [
        "print(f\"Accuracy en el training: {rf.score(X_train,y_train)}\\nAccuracy en el test: {rf.score(X_valid,y_valid)}\")"
      ],
      "metadata": {
        "colab": {
          "base_uri": "https://localhost:8080/"
        },
        "id": "Dwtz_V02P-K6",
        "outputId": "81382492-abb6-4ca6-f15c-672c1b45361c"
      },
      "execution_count": 4,
      "outputs": [
        {
          "output_type": "stream",
          "name": "stdout",
          "text": [
            "Accuracy en el training: 0.9996266003839875\n",
            "Accuracy en el test: 0.9927121576584221\n"
          ]
        }
      ]
    },
    {
      "cell_type": "code",
      "source": [
        "from sklearn.metrics import mean_absolute_percentage_error\n",
        "from sklearn.metrics import mean_squared_log_error\n",
        "\n",
        "print(f\"MAPE Random forest 1ra iteración: {mean_absolute_percentage_error(y_valid,y_hat)}\")\n",
        "print(f\"RMSLE Random forest 1ra iteración: {mean_squared_log_error(y_valid,y_hat, squared=False)}\")\n"
      ],
      "metadata": {
        "colab": {
          "base_uri": "https://localhost:8080/"
        },
        "id": "3i-WINfvRt2e",
        "outputId": "47a08e2e-9112-4281-8d74-d633b5b163cb"
      },
      "execution_count": 5,
      "outputs": [
        {
          "output_type": "stream",
          "name": "stdout",
          "text": [
            "MAPE Random forest 1ra iteración: 0.028248459036691004\n",
            "RMSLE Random forest 1ra iteración: 0.10337498107545416\n"
          ]
        }
      ]
    },
    {
      "cell_type": "markdown",
      "source": [
        "Actualmente el modelo genera resultados positivos, pero debido a la cantidad de datos, la poca configuración realizada al modelo, el bajo porcentaje de error y el alto porcentje de acierto se estima que lo que ocurre es un sobreentrenamiento del modelo, se deberá emplear más optimización y ensayos con diferentes modelos para obtener un resultado coherente y fiable de ser llevado a producción."
      ],
      "metadata": {
        "id": "p3U6OC2ScWWW"
      }
    }
  ]
}