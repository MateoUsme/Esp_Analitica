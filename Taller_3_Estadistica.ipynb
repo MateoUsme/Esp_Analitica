{
  "nbformat": 4,
  "nbformat_minor": 0,
  "metadata": {
    "colab": {
      "name": "Taller_3_Estadistica.ipynb",
      "provenance": [],
      "collapsed_sections": [],
      "include_colab_link": true
    },
    "kernelspec": {
      "name": "python3",
      "display_name": "Python 3"
    },
    "language_info": {
      "name": "python"
    }
  },
  "cells": [
    {
      "cell_type": "markdown",
      "metadata": {
        "id": "view-in-github",
        "colab_type": "text"
      },
      "source": [
        "<a href=\"https://colab.research.google.com/github/MateoUsme/Esp_Analitica/blob/main/Taller_3_Estadistica.ipynb\" target=\"_parent\"><img src=\"https://colab.research.google.com/assets/colab-badge.svg\" alt=\"Open In Colab\"/></a>"
      ]
    },
    {
      "cell_type": "code",
      "metadata": {
        "id": "ycYfCBACPCRL"
      },
      "source": [
        "!wget --no-cache -O init.py -q https://raw.githubusercontent.com/UDEA-Esp-Analitica-y-Ciencia-de-Datos/EACD-02-ESTADISTICA/master/init.py\n",
        "import init; init.init(force_download=False); \n",
        "from IPython.display import Image"
      ],
      "execution_count": 595,
      "outputs": []
    },
    {
      "cell_type": "code",
      "metadata": {
        "colab": {
          "base_uri": "https://localhost:8080/",
          "height": 251
        },
        "id": "OaVZxOmQPEzU",
        "outputId": "20223777-4b98-4716-87a2-72a738aefb30"
      },
      "source": [
        "Image(\"local/imgs/udea-datascience.png\")"
      ],
      "execution_count": 596,
      "outputs": [
        {
          "output_type": "execute_result",
          "data": {
            "image/png": "[encoded data removed]",
            "text/plain": [
              "<IPython.core.display.Image object>"
            ]
          },
          "metadata": {},
          "execution_count": 596
        }
      ]
    },
    {
      "cell_type": "markdown",
      "metadata": {
        "id": "kVJT2mQTPAeo"
      },
      "source": [
        "# **Exploración de Datos - Taller 3**\n",
        "## Universidad de Antioquia"
      ]
    },
    {
      "cell_type": "markdown",
      "metadata": {
        "id": "MGf426IbkERH"
      },
      "source": [
        "### Estudiantes:\n",
        "\n",
        "**Nombre Completo:** Camilo Gutiérrez Ramírez\n",
        "**Cédula:** 1152460835\n",
        "**Correo Institucional:** camilo.gutierrezr@udea.edu.co\n",
        "\n",
        "**Nombre Completo:** Daniel Parra Holguin\n",
        "**Cédula:** 1036676030\n",
        "**Correo Institucional:** daniel.parrah1@udea.edu.co\n",
        "\n",
        "**Nombre Completo:** Mateo Usme Valencia\n",
        "**Cédula:** 1017264083\n",
        "**Correo Institucional:** mateo.usmev@udea.edu.co"
      ]
    },
    {
      "cell_type": "markdown",
      "metadata": {
        "id": "MjJQFWtuTqtY"
      },
      "source": [
        "## Leer una base de datos"
      ]
    },
    {
      "cell_type": "markdown",
      "metadata": {
        "id": "zZy0oJ9dUI2f"
      },
      "source": [
        "Para este taller utilizaremos un conjunto de datos del mundo real; este corresponde a un análisis de manuscritos antiguos de la Biblia, en el cual se ha identificado la participación de 12 copistas diferentes.\n",
        "Dichos datos ya se han normalizado, utilizando el metodo de normalización Z. Revise la información adicional y la descripción del dataset disponble en: https://archive.ics.uci.edu/ml/datasets/Avila\n",
        "\n",
        "**Sin embargo, no utilizaremos los archivos originales del repositorio, sino unas versiones modificadas (con fines prácticos para el taller) que estarán disponibles para el desarrollo del taller: *avila-tr-modified.csv* y *avila-ts-modified.csv***\n"
      ]
    },
    {
      "cell_type": "code",
      "metadata": {
        "id": "tMAZRauVK-iA"
      },
      "source": [
        "!pip -q install sweetviz\n",
        "\n",
        "import numpy as np\n",
        "import pandas as pd\n",
        "import seaborn as sns\n",
        "import sweetviz as svz\n",
        "import scipy.stats as sts\n",
        "import scipy.special as spcl\n",
        "import matplotlib.pyplot as plt"
      ],
      "execution_count": 597,
      "outputs": []
    },
    {
      "cell_type": "code",
      "metadata": {
        "id": "JJyi78OWD5K2"
      },
      "source": [
        "avila_tr_mod_url = \"https://drive.google.com/uc?export=download&id=1cHJuI7eZyE6hU1EvLu3xKQ3UgBBGDTry\"\n",
        "avila_ts_mod_url = \"https://drive.google.com/uc?export=download&id=1BUOi1v7dGv0Jx4ZM5WstxT6awfz-acCs\""
      ],
      "execution_count": 598,
      "outputs": []
    },
    {
      "cell_type": "code",
      "metadata": {
        "id": "DlgVesdMx0p8",
        "colab": {
          "base_uri": "https://localhost:8080/",
          "height": 423
        },
        "outputId": "beedb655-bde9-4f61-d533-b7eea0d0407d"
      },
      "source": [
        "data_tr = pd.read_excel(avila_tr_mod_url)\n",
        "data_tr"
      ],
      "execution_count": 599,
      "outputs": [
        {
          "output_type": "execute_result",
          "data": {
            "text/html": [
              "<div>\n",
              "<style scoped>\n",
              "    .dataframe tbody tr th:only-of-type {\n",
              "        vertical-align: middle;\n",
              "    }\n",
              "\n",
              "    .dataframe tbody tr th {\n",
              "        vertical-align: top;\n",
              "    }\n",
              "\n",
              "    .dataframe thead th {\n",
              "        text-align: right;\n",
              "    }\n",
              "</style>\n",
              "<table border=\"1\" class=\"dataframe\">\n",
              "  <thead>\n",
              "    <tr style=\"text-align: right;\">\n",
              "      <th></th>\n",
              "      <th>F1 intercolumnar distance</th>\n",
              "      <th>F2 upper margin</th>\n",
              "      <th>F3 lower margin</th>\n",
              "      <th>F4 exploitation</th>\n",
              "      <th>F5 row number</th>\n",
              "      <th>F6 modular ratio</th>\n",
              "      <th>F7 interlinear spacing</th>\n",
              "      <th>F8 weight</th>\n",
              "      <th>F9 peak number</th>\n",
              "      <th>F10 modular ratio/interlinear spacing</th>\n",
              "      <th>clases</th>\n",
              "    </tr>\n",
              "  </thead>\n",
              "  <tbody>\n",
              "    <tr>\n",
              "      <th>0</th>\n",
              "      <td>0.266074</td>\n",
              "      <td>-0.165620</td>\n",
              "      <td>0.320980</td>\n",
              "      <td>0.483299</td>\n",
              "      <td>0.172340</td>\n",
              "      <td>0.273364</td>\n",
              "      <td>0.371178</td>\n",
              "      <td>0.929823</td>\n",
              "      <td>0.251173</td>\n",
              "      <td>0.159345</td>\n",
              "      <td>A</td>\n",
              "    </tr>\n",
              "    <tr>\n",
              "      <th>1</th>\n",
              "      <td>0.130292</td>\n",
              "      <td>NaN</td>\n",
              "      <td>-3.210528</td>\n",
              "      <td>0.062493</td>\n",
              "      <td>0.261718</td>\n",
              "      <td>1.436060</td>\n",
              "      <td>1.465940</td>\n",
              "      <td>0.636203</td>\n",
              "      <td>0.282354</td>\n",
              "      <td>0.515587</td>\n",
              "      <td>A</td>\n",
              "    </tr>\n",
              "    <tr>\n",
              "      <th>2</th>\n",
              "      <td>-0.116585</td>\n",
              "      <td>0.069915</td>\n",
              "      <td>0.068476</td>\n",
              "      <td>-0.783147</td>\n",
              "      <td>NaN</td>\n",
              "      <td>0.439463</td>\n",
              "      <td>-0.081827</td>\n",
              "      <td>-0.888236</td>\n",
              "      <td>-0.123005</td>\n",
              "      <td>0.582939</td>\n",
              "      <td>A</td>\n",
              "    </tr>\n",
              "    <tr>\n",
              "      <th>3</th>\n",
              "      <td>0.031541</td>\n",
              "      <td>0.297600</td>\n",
              "      <td>-3.210528</td>\n",
              "      <td>-0.583590</td>\n",
              "      <td>-0.721442</td>\n",
              "      <td>-0.307984</td>\n",
              "      <td>0.710932</td>\n",
              "      <td>1.051693</td>\n",
              "      <td>0.594169</td>\n",
              "      <td>-0.533994</td>\n",
              "      <td>A</td>\n",
              "    </tr>\n",
              "    <tr>\n",
              "      <th>4</th>\n",
              "      <td>0.229043</td>\n",
              "      <td>0.807926</td>\n",
              "      <td>-0.052442</td>\n",
              "      <td>0.082634</td>\n",
              "      <td>0.261718</td>\n",
              "      <td>0.148790</td>\n",
              "      <td>0.635431</td>\n",
              "      <td>0.051062</td>\n",
              "      <td>0.032902</td>\n",
              "      <td>-0.086652</td>\n",
              "      <td>F</td>\n",
              "    </tr>\n",
              "    <tr>\n",
              "      <th>...</th>\n",
              "      <td>...</td>\n",
              "      <td>...</td>\n",
              "      <td>...</td>\n",
              "      <td>...</td>\n",
              "      <td>...</td>\n",
              "      <td>...</td>\n",
              "      <td>...</td>\n",
              "      <td>...</td>\n",
              "      <td>...</td>\n",
              "      <td>...</td>\n",
              "      <td>...</td>\n",
              "    </tr>\n",
              "    <tr>\n",
              "      <th>10425</th>\n",
              "      <td>0.080916</td>\n",
              "      <td>0.588093</td>\n",
              "      <td>0.015130</td>\n",
              "      <td>0.002250</td>\n",
              "      <td>0.261718</td>\n",
              "      <td>-0.557133</td>\n",
              "      <td>0.371178</td>\n",
              "      <td>0.932346</td>\n",
              "      <td>0.282354</td>\n",
              "      <td>-0.580141</td>\n",
              "      <td>F</td>\n",
              "    </tr>\n",
              "    <tr>\n",
              "      <th>10426</th>\n",
              "      <td>0.253730</td>\n",
              "      <td>-0.338346</td>\n",
              "      <td>0.352988</td>\n",
              "      <td>-1.154243</td>\n",
              "      <td>0.172340</td>\n",
              "      <td>-0.557133</td>\n",
              "      <td>0.257927</td>\n",
              "      <td>0.348428</td>\n",
              "      <td>0.032902</td>\n",
              "      <td>-0.527134</td>\n",
              "      <td>F</td>\n",
              "    </tr>\n",
              "    <tr>\n",
              "      <th>10427</th>\n",
              "      <td>0.229043</td>\n",
              "      <td>NaN</td>\n",
              "      <td>0.171611</td>\n",
              "      <td>-0.002793</td>\n",
              "      <td>0.261718</td>\n",
              "      <td>0.688613</td>\n",
              "      <td>0.295677</td>\n",
              "      <td>-1.088486</td>\n",
              "      <td>-0.590727</td>\n",
              "      <td>0.580142</td>\n",
              "      <td>A</td>\n",
              "    </tr>\n",
              "    <tr>\n",
              "      <th>10428</th>\n",
              "      <td>-0.301743</td>\n",
              "      <td>0.352558</td>\n",
              "      <td>0.288973</td>\n",
              "      <td>1.638181</td>\n",
              "      <td>0.261718</td>\n",
              "      <td>0.688613</td>\n",
              "      <td>0.069175</td>\n",
              "      <td>0.502761</td>\n",
              "      <td>0.625350</td>\n",
              "      <td>0.718969</td>\n",
              "      <td>E</td>\n",
              "    </tr>\n",
              "    <tr>\n",
              "      <th>10429</th>\n",
              "      <td>-0.104241</td>\n",
              "      <td>-1.037102</td>\n",
              "      <td>0.388552</td>\n",
              "      <td>-1.099311</td>\n",
              "      <td>0.172340</td>\n",
              "      <td>-0.307984</td>\n",
              "      <td>NaN</td>\n",
              "      <td>-1.337547</td>\n",
              "      <td>0.999528</td>\n",
              "      <td>-0.551063</td>\n",
              "      <td>X</td>\n",
              "    </tr>\n",
              "  </tbody>\n",
              "</table>\n",
              "<p>10430 rows × 11 columns</p>\n",
              "</div>"
            ],
            "text/plain": [
              "       F1 intercolumnar distance  ...  clases\n",
              "0                       0.266074  ...       A\n",
              "1                       0.130292  ...       A\n",
              "2                      -0.116585  ...       A\n",
              "3                       0.031541  ...       A\n",
              "4                       0.229043  ...       F\n",
              "...                          ...  ...     ...\n",
              "10425                   0.080916  ...       F\n",
              "10426                   0.253730  ...       F\n",
              "10427                   0.229043  ...       A\n",
              "10428                  -0.301743  ...       E\n",
              "10429                  -0.104241  ...       X\n",
              "\n",
              "[10430 rows x 11 columns]"
            ]
          },
          "metadata": {},
          "execution_count": 599
        }
      ]
    },
    {
      "cell_type": "code",
      "metadata": {
        "colab": {
          "base_uri": "https://localhost:8080/",
          "height": 423
        },
        "id": "MXnqcAnZLahP",
        "outputId": "633c372c-b4fa-44f8-da91-704baec6fa0f"
      },
      "source": [
        "data_ts = pd.read_excel(avila_ts_mod_url)\n",
        "data_ts"
      ],
      "execution_count": 600,
      "outputs": [
        {
          "output_type": "execute_result",
          "data": {
            "text/html": [
              "<div>\n",
              "<style scoped>\n",
              "    .dataframe tbody tr th:only-of-type {\n",
              "        vertical-align: middle;\n",
              "    }\n",
              "\n",
              "    .dataframe tbody tr th {\n",
              "        vertical-align: top;\n",
              "    }\n",
              "\n",
              "    .dataframe thead th {\n",
              "        text-align: right;\n",
              "    }\n",
              "</style>\n",
              "<table border=\"1\" class=\"dataframe\">\n",
              "  <thead>\n",
              "    <tr style=\"text-align: right;\">\n",
              "      <th></th>\n",
              "      <th>F1 intercolumnar distance</th>\n",
              "      <th>F2 upper margin</th>\n",
              "      <th>F3 lower margin</th>\n",
              "      <th>F4 exploitation</th>\n",
              "      <th>F5 row number</th>\n",
              "      <th>F6 modular ratio</th>\n",
              "      <th>F7 interlinear spacing</th>\n",
              "      <th>F8 weight</th>\n",
              "      <th>F9 peak number</th>\n",
              "      <th>F10 modular ratio/interlinear spacing</th>\n",
              "      <th>clases</th>\n",
              "    </tr>\n",
              "  </thead>\n",
              "  <tbody>\n",
              "    <tr>\n",
              "      <th>0</th>\n",
              "      <td>-3.498799</td>\n",
              "      <td>0.250492</td>\n",
              "      <td>0.232070</td>\n",
              "      <td>1.224178</td>\n",
              "      <td>-4.922215</td>\n",
              "      <td>1.145386</td>\n",
              "      <td>0.182426</td>\n",
              "      <td>-0.165983</td>\n",
              "      <td>-0.123005</td>\n",
              "      <td>1.087144</td>\n",
              "      <td>W</td>\n",
              "    </tr>\n",
              "    <tr>\n",
              "      <th>1</th>\n",
              "      <td>0.204355</td>\n",
              "      <td>-0.354049</td>\n",
              "      <td>0.320980</td>\n",
              "      <td>0.410166</td>\n",
              "      <td>-0.989576</td>\n",
              "      <td>-2.218127</td>\n",
              "      <td>0.220177</td>\n",
              "      <td>0.181844</td>\n",
              "      <td>2.090879</td>\n",
              "      <td>-2.009758</td>\n",
              "      <td>A</td>\n",
              "    </tr>\n",
              "    <tr>\n",
              "      <th>2</th>\n",
              "      <td>0.759828</td>\n",
              "      <td>-1.304042</td>\n",
              "      <td>NaN</td>\n",
              "      <td>-0.973663</td>\n",
              "      <td>-0.006417</td>\n",
              "      <td>-0.349509</td>\n",
              "      <td>-0.421580</td>\n",
              "      <td>-0.450127</td>\n",
              "      <td>0.469443</td>\n",
              "      <td>0.060952</td>\n",
              "      <td>I</td>\n",
              "    </tr>\n",
              "    <tr>\n",
              "      <th>3</th>\n",
              "      <td>-0.005490</td>\n",
              "      <td>0.360409</td>\n",
              "      <td>0.281860</td>\n",
              "      <td>-0.213479</td>\n",
              "      <td>-1.168333</td>\n",
              "      <td>-1.013906</td>\n",
              "      <td>-0.346080</td>\n",
              "      <td>1.176165</td>\n",
              "      <td>0.968347</td>\n",
              "      <td>-0.627999</td>\n",
              "      <td>E</td>\n",
              "    </tr>\n",
              "    <tr>\n",
              "      <th>4</th>\n",
              "      <td>0.080916</td>\n",
              "      <td>0.101320</td>\n",
              "      <td>0.104040</td>\n",
              "      <td>0.140490</td>\n",
              "      <td>0.261718</td>\n",
              "      <td>0.480988</td>\n",
              "      <td>0.710932</td>\n",
              "      <td>-0.253430</td>\n",
              "      <td>-0.497183</td>\n",
              "      <td>0.155681</td>\n",
              "      <td>A</td>\n",
              "    </tr>\n",
              "    <tr>\n",
              "      <th>...</th>\n",
              "      <td>...</td>\n",
              "      <td>...</td>\n",
              "      <td>...</td>\n",
              "      <td>...</td>\n",
              "      <td>...</td>\n",
              "      <td>...</td>\n",
              "      <td>...</td>\n",
              "      <td>...</td>\n",
              "      <td>...</td>\n",
              "      <td>...</td>\n",
              "      <td>...</td>\n",
              "    </tr>\n",
              "    <tr>\n",
              "      <th>10432</th>\n",
              "      <td>-0.128929</td>\n",
              "      <td>-0.040001</td>\n",
              "      <td>0.057807</td>\n",
              "      <td>0.557894</td>\n",
              "      <td>0.261718</td>\n",
              "      <td>-0.930856</td>\n",
              "      <td>NaN</td>\n",
              "      <td>1.158458</td>\n",
              "      <td>2.277968</td>\n",
              "      <td>-0.699884</td>\n",
              "      <td>X</td>\n",
              "    </tr>\n",
              "    <tr>\n",
              "      <th>10433</th>\n",
              "      <td>0.266074</td>\n",
              "      <td>0.556689</td>\n",
              "      <td>-0.020434</td>\n",
              "      <td>NaN</td>\n",
              "      <td>0.261718</td>\n",
              "      <td>-0.515608</td>\n",
              "      <td>0.597681</td>\n",
              "      <td>0.178349</td>\n",
              "      <td>0.625350</td>\n",
              "      <td>-0.657245</td>\n",
              "      <td>G</td>\n",
              "    </tr>\n",
              "    <tr>\n",
              "      <th>10434</th>\n",
              "      <td>-0.054866</td>\n",
              "      <td>NaN</td>\n",
              "      <td>0.032912</td>\n",
              "      <td>-0.016668</td>\n",
              "      <td>0.261718</td>\n",
              "      <td>1.519109</td>\n",
              "      <td>0.371178</td>\n",
              "      <td>-0.985508</td>\n",
              "      <td>-0.403638</td>\n",
              "      <td>1.276301</td>\n",
              "      <td>A</td>\n",
              "    </tr>\n",
              "    <tr>\n",
              "      <th>10435</th>\n",
              "      <td>0.080916</td>\n",
              "      <td>0.588093</td>\n",
              "      <td>0.015130</td>\n",
              "      <td>0.002250</td>\n",
              "      <td>0.261718</td>\n",
              "      <td>-0.930856</td>\n",
              "      <td>-0.270579</td>\n",
              "      <td>0.163807</td>\n",
              "      <td>-0.091823</td>\n",
              "      <td>-0.593329</td>\n",
              "      <td>F</td>\n",
              "    </tr>\n",
              "    <tr>\n",
              "      <th>10436</th>\n",
              "      <td>0.377169</td>\n",
              "      <td>0.014957</td>\n",
              "      <td>0.381439</td>\n",
              "      <td>0.292753</td>\n",
              "      <td>0.261718</td>\n",
              "      <td>-1.470679</td>\n",
              "      <td>-0.006326</td>\n",
              "      <td>-0.494919</td>\n",
              "      <td>-0.247731</td>\n",
              "      <td>-1.212974</td>\n",
              "      <td>H</td>\n",
              "    </tr>\n",
              "  </tbody>\n",
              "</table>\n",
              "<p>10437 rows × 11 columns</p>\n",
              "</div>"
            ],
            "text/plain": [
              "       F1 intercolumnar distance  ...  clases\n",
              "0                      -3.498799  ...       W\n",
              "1                       0.204355  ...       A\n",
              "2                       0.759828  ...       I\n",
              "3                      -0.005490  ...       E\n",
              "4                       0.080916  ...       A\n",
              "...                          ...  ...     ...\n",
              "10432                  -0.128929  ...       X\n",
              "10433                   0.266074  ...       G\n",
              "10434                  -0.054866  ...       A\n",
              "10435                   0.080916  ...       F\n",
              "10436                   0.377169  ...       H\n",
              "\n",
              "[10437 rows x 11 columns]"
            ]
          },
          "metadata": {},
          "execution_count": 600
        }
      ]
    },
    {
      "cell_type": "markdown",
      "metadata": {
        "id": "pC6M_TmBWG9p"
      },
      "source": [
        "## Exploración de Datos Inicial"
      ]
    },
    {
      "cell_type": "markdown",
      "metadata": {
        "id": "eSNYYq8vSGeJ"
      },
      "source": [
        "Una vez cargado los archivos avila_tr_modified.xlsx y avila_ts_modified.xlsx,  realice una breve exploración de ambas bases de datos.\n",
        "\n",
        "¿Hay datos nulos o faltantes? ¿Cuál es el porcentaje de datos nulos o faltantes?"
      ]
    },
    {
      "cell_type": "code",
      "metadata": {
        "colab": {
          "base_uri": "https://localhost:8080/",
          "height": 394
        },
        "id": "Nf6iuhAG_QWB",
        "outputId": "cafb991c-5b70-4e57-af60-abd50a8a673f"
      },
      "source": [
        "data_tr.isna().sum().to_frame(\"Datos nulos\")"
      ],
      "execution_count": 601,
      "outputs": [
        {
          "output_type": "execute_result",
          "data": {
            "text/html": [
              "<div>\n",
              "<style scoped>\n",
              "    .dataframe tbody tr th:only-of-type {\n",
              "        vertical-align: middle;\n",
              "    }\n",
              "\n",
              "    .dataframe tbody tr th {\n",
              "        vertical-align: top;\n",
              "    }\n",
              "\n",
              "    .dataframe thead th {\n",
              "        text-align: right;\n",
              "    }\n",
              "</style>\n",
              "<table border=\"1\" class=\"dataframe\">\n",
              "  <thead>\n",
              "    <tr style=\"text-align: right;\">\n",
              "      <th></th>\n",
              "      <th>Datos nulos</th>\n",
              "    </tr>\n",
              "  </thead>\n",
              "  <tbody>\n",
              "    <tr>\n",
              "      <th>F1 intercolumnar distance</th>\n",
              "      <td>538</td>\n",
              "    </tr>\n",
              "    <tr>\n",
              "      <th>F2 upper margin</th>\n",
              "      <td>536</td>\n",
              "    </tr>\n",
              "    <tr>\n",
              "      <th>F3 lower margin</th>\n",
              "      <td>509</td>\n",
              "    </tr>\n",
              "    <tr>\n",
              "      <th>F4 exploitation</th>\n",
              "      <td>507</td>\n",
              "    </tr>\n",
              "    <tr>\n",
              "      <th>F5 row number</th>\n",
              "      <td>516</td>\n",
              "    </tr>\n",
              "    <tr>\n",
              "      <th>F6 modular ratio</th>\n",
              "      <td>504</td>\n",
              "    </tr>\n",
              "    <tr>\n",
              "      <th>F7 interlinear spacing</th>\n",
              "      <td>490</td>\n",
              "    </tr>\n",
              "    <tr>\n",
              "      <th>F8 weight</th>\n",
              "      <td>565</td>\n",
              "    </tr>\n",
              "    <tr>\n",
              "      <th>F9 peak number</th>\n",
              "      <td>514</td>\n",
              "    </tr>\n",
              "    <tr>\n",
              "      <th>F10 modular ratio/interlinear spacing</th>\n",
              "      <td>536</td>\n",
              "    </tr>\n",
              "    <tr>\n",
              "      <th>clases</th>\n",
              "      <td>0</td>\n",
              "    </tr>\n",
              "  </tbody>\n",
              "</table>\n",
              "</div>"
            ],
            "text/plain": [
              "                                       Datos nulos\n",
              "F1 intercolumnar distance                      538\n",
              "F2 upper margin                                536\n",
              "F3 lower margin                                509\n",
              "F4 exploitation                                507\n",
              "F5 row number                                  516\n",
              "F6 modular ratio                               504\n",
              "F7 interlinear spacing                         490\n",
              "F8 weight                                      565\n",
              "F9 peak number                                 514\n",
              "F10 modular ratio/interlinear spacing          536\n",
              "clases                                           0"
            ]
          },
          "metadata": {},
          "execution_count": 601
        }
      ]
    },
    {
      "cell_type": "code",
      "metadata": {
        "id": "zVpugKJ5CTsz",
        "outputId": "23240123-fce1-417a-c2dd-d52610cec735",
        "colab": {
          "base_uri": "https://localhost:8080/",
          "height": 394
        }
      },
      "source": [
        "data_ts.isna().sum().to_frame(\"Datos nulos\")"
      ],
      "execution_count": 602,
      "outputs": [
        {
          "output_type": "execute_result",
          "data": {
            "text/html": [
              "<div>\n",
              "<style scoped>\n",
              "    .dataframe tbody tr th:only-of-type {\n",
              "        vertical-align: middle;\n",
              "    }\n",
              "\n",
              "    .dataframe tbody tr th {\n",
              "        vertical-align: top;\n",
              "    }\n",
              "\n",
              "    .dataframe thead th {\n",
              "        text-align: right;\n",
              "    }\n",
              "</style>\n",
              "<table border=\"1\" class=\"dataframe\">\n",
              "  <thead>\n",
              "    <tr style=\"text-align: right;\">\n",
              "      <th></th>\n",
              "      <th>Datos nulos</th>\n",
              "    </tr>\n",
              "  </thead>\n",
              "  <tbody>\n",
              "    <tr>\n",
              "      <th>F1 intercolumnar distance</th>\n",
              "      <td>545</td>\n",
              "    </tr>\n",
              "    <tr>\n",
              "      <th>F2 upper margin</th>\n",
              "      <td>500</td>\n",
              "    </tr>\n",
              "    <tr>\n",
              "      <th>F3 lower margin</th>\n",
              "      <td>531</td>\n",
              "    </tr>\n",
              "    <tr>\n",
              "      <th>F4 exploitation</th>\n",
              "      <td>504</td>\n",
              "    </tr>\n",
              "    <tr>\n",
              "      <th>F5 row number</th>\n",
              "      <td>531</td>\n",
              "    </tr>\n",
              "    <tr>\n",
              "      <th>F6 modular ratio</th>\n",
              "      <td>521</td>\n",
              "    </tr>\n",
              "    <tr>\n",
              "      <th>F7 interlinear spacing</th>\n",
              "      <td>507</td>\n",
              "    </tr>\n",
              "    <tr>\n",
              "      <th>F8 weight</th>\n",
              "      <td>524</td>\n",
              "    </tr>\n",
              "    <tr>\n",
              "      <th>F9 peak number</th>\n",
              "      <td>525</td>\n",
              "    </tr>\n",
              "    <tr>\n",
              "      <th>F10 modular ratio/interlinear spacing</th>\n",
              "      <td>530</td>\n",
              "    </tr>\n",
              "    <tr>\n",
              "      <th>clases</th>\n",
              "      <td>0</td>\n",
              "    </tr>\n",
              "  </tbody>\n",
              "</table>\n",
              "</div>"
            ],
            "text/plain": [
              "                                       Datos nulos\n",
              "F1 intercolumnar distance                      545\n",
              "F2 upper margin                                500\n",
              "F3 lower margin                                531\n",
              "F4 exploitation                                504\n",
              "F5 row number                                  531\n",
              "F6 modular ratio                               521\n",
              "F7 interlinear spacing                         507\n",
              "F8 weight                                      524\n",
              "F9 peak number                                 525\n",
              "F10 modular ratio/interlinear spacing          530\n",
              "clases                                           0"
            ]
          },
          "metadata": {},
          "execution_count": 602
        }
      ]
    },
    {
      "cell_type": "markdown",
      "metadata": {
        "id": "pccp_5VHvy1I"
      },
      "source": [
        "En la exploración inicial encontramos datos nulos en todas las columnas, desde *F1* hasta *F10* a excepción de la columna categórica *clases* donde se encuentran etiquetados los **12 copistas en el dataset**."
      ]
    },
    {
      "cell_type": "markdown",
      "metadata": {
        "id": "h2MrRoE8wMnl"
      },
      "source": [
        "Utilizamos de *sklearn* el módulo *MissingIndicator* para corroborar las columnas con datos faltantes y también calcular el porcentaje de datos faltantes."
      ]
    },
    {
      "cell_type": "code",
      "metadata": {
        "colab": {
          "base_uri": "https://localhost:8080/"
        },
        "id": "i_39naSy75R-",
        "outputId": "5fc6b0f1-e06c-44a7-b71b-d214056ef4b2"
      },
      "source": [
        "from sklearn.impute import MissingIndicator\n",
        "import numpy as np\n",
        "\n",
        "valores_faltantes_tr = MissingIndicator(missing_values = np.nan) \n",
        "valores_faltantes_tr.fit(data_tr)\n",
        "total_vf_tr = valores_faltantes_tr.transform(data_tr)\n",
        "\n",
        "valores_faltantes_ts = MissingIndicator(missing_values = np.nan) \n",
        "valores_faltantes_ts.fit(data_ts)\n",
        "total_vf_ts = valores_faltantes_ts.transform(data_ts)\n",
        "\n",
        "print(valores_faltantes_tr.features_, valores_faltantes_tr.features_)"
      ],
      "execution_count": 603,
      "outputs": [
        {
          "output_type": "stream",
          "name": "stdout",
          "text": [
            "[0 1 2 3 4 5 6 7 8 9] [0 1 2 3 4 5 6 7 8 9]\n"
          ]
        }
      ]
    },
    {
      "cell_type": "code",
      "metadata": {
        "colab": {
          "base_uri": "https://localhost:8080/"
        },
        "id": "9qU_g0nQ8rxl",
        "outputId": "6b863d8b-25b6-4611-d18d-4cc003832b57"
      },
      "source": [
        "print(\"Porcentaje de Datos Faltantes en data_tr (%): \",100*(len(np.where(total_vf_tr == True)[0])/(data_tr.shape[0]*data_tr.shape[1])))\n",
        "print(\"Porcentaje de Datos Faltantes en data_ts (%): \",100*(len(np.where(total_vf_ts == True)[0])/(data_ts.shape[0]*data_ts.shape[1])))"
      ],
      "execution_count": 604,
      "outputs": [
        {
          "output_type": "stream",
          "name": "stdout",
          "text": [
            "Porcentaje de Datos Faltantes en data_tr (%):  4.545454545454546\n",
            "Porcentaje de Datos Faltantes en data_ts (%):  4.545019031940561\n"
          ]
        }
      ]
    },
    {
      "cell_type": "markdown",
      "metadata": {
        "id": "clHzlZyOxPe0"
      },
      "source": [
        "El porcentaje de datos faltantes en este dataset es bajo, permite tener libertad a la hora de tratar con ellos al tener una gran mayoría de datos en las demás filas a disposición para rellenar con estadísticos u otros métodos."
      ]
    },
    {
      "cell_type": "markdown",
      "metadata": {
        "id": "0DjKwILmf3Ot"
      },
      "source": [
        "## Exploración de Datos Exhaustiva"
      ]
    },
    {
      "cell_type": "markdown",
      "metadata": {
        "id": "PL7sr92ASHl8"
      },
      "source": [
        "\n",
        "\n",
        "Realice una exploración exhaustiva de la base de datos y responda las siguientes preguntas:\n",
        "\n",
        "¿Cuales columnas tienen datos faltantes?\n",
        "\n",
        "Presente y calcule el porcentaje de los datos faltantes contenidos en nuestra base de datos.\n"
      ]
    },
    {
      "cell_type": "code",
      "metadata": {
        "id": "mR9stvBEGStc"
      },
      "source": [
        "def get_categories(df, limite=20):\n",
        "\n",
        "    cols_disponibles = df.columns[~df.applymap(\n",
        "        lambda x: isinstance(x, list)).all(axis=0)]\n",
        "    columnas_descartadas = df.columns[~df.columns.isin(cols_disponibles)]\n",
        "    print('Columnas multiselect:', columnas_descartadas.to_list())\n",
        "    for col in columnas_descartadas:\n",
        "        print(f'\\nColumna {col} - Tipo Multiselct con opciones:')\n",
        "        print(' | '.join(df[col].explode().dropna().unique()))\n",
        "    df_unicos = df.apply(lambda s: s.explode().dropna().unique().shape).T.set_axis(\n",
        "        ['unicos'], axis=1)\n",
        "    df_categories = df.apply(lambda x: \" | \".join(map(\n",
        "        str, x.explode().dropna().unique())) if x.explode().dropna().unique().shape[0] < limite else '-', axis=0).to_frame('categorias')\n",
        "    df_faltantes = df.apply(\n",
        "        lambda s: s.isnull()).sum().to_frame('faltantes')\n",
        "    df_conteo = df.count().to_frame('num_datos')\n",
        "    df_tipo = df.dtypes.to_frame('tipo')\n",
        "    df_pct = (df.isnull().mean()*100).round(1).to_frame('% faltante')\n",
        "    return pd.concat([df_categories, df_unicos, df_conteo, df_faltantes, df_pct, df_tipo], axis=1)"
      ],
      "execution_count": 605,
      "outputs": []
    },
    {
      "cell_type": "code",
      "metadata": {
        "id": "VYJ8scY_GTwb",
        "outputId": "4b7a5b49-62de-4672-fcf6-d3e8c584bf43",
        "colab": {
          "base_uri": "https://localhost:8080/",
          "height": 412
        }
      },
      "source": [
        "get_categories(data_tr)"
      ],
      "execution_count": 606,
      "outputs": [
        {
          "output_type": "stream",
          "name": "stdout",
          "text": [
            "Columnas multiselect: []\n"
          ]
        },
        {
          "output_type": "execute_result",
          "data": {
            "text/html": [
              "<div>\n",
              "<style scoped>\n",
              "    .dataframe tbody tr th:only-of-type {\n",
              "        vertical-align: middle;\n",
              "    }\n",
              "\n",
              "    .dataframe tbody tr th {\n",
              "        vertical-align: top;\n",
              "    }\n",
              "\n",
              "    .dataframe thead th {\n",
              "        text-align: right;\n",
              "    }\n",
              "</style>\n",
              "<table border=\"1\" class=\"dataframe\">\n",
              "  <thead>\n",
              "    <tr style=\"text-align: right;\">\n",
              "      <th></th>\n",
              "      <th>categorias</th>\n",
              "      <th>unicos</th>\n",
              "      <th>num_datos</th>\n",
              "      <th>faltantes</th>\n",
              "      <th>% faltante</th>\n",
              "      <th>tipo</th>\n",
              "    </tr>\n",
              "  </thead>\n",
              "  <tbody>\n",
              "    <tr>\n",
              "      <th>F1 intercolumnar distance</th>\n",
              "      <td>-</td>\n",
              "      <td>144</td>\n",
              "      <td>9892</td>\n",
              "      <td>538</td>\n",
              "      <td>5.2</td>\n",
              "      <td>float64</td>\n",
              "    </tr>\n",
              "    <tr>\n",
              "      <th>F2 upper margin</th>\n",
              "      <td>-</td>\n",
              "      <td>208</td>\n",
              "      <td>9894</td>\n",
              "      <td>536</td>\n",
              "      <td>5.1</td>\n",
              "      <td>float64</td>\n",
              "    </tr>\n",
              "    <tr>\n",
              "      <th>F3 lower margin</th>\n",
              "      <td>-</td>\n",
              "      <td>231</td>\n",
              "      <td>9921</td>\n",
              "      <td>509</td>\n",
              "      <td>4.9</td>\n",
              "      <td>float64</td>\n",
              "    </tr>\n",
              "    <tr>\n",
              "      <th>F4 exploitation</th>\n",
              "      <td>-</td>\n",
              "      <td>750</td>\n",
              "      <td>9923</td>\n",
              "      <td>507</td>\n",
              "      <td>4.9</td>\n",
              "      <td>float64</td>\n",
              "    </tr>\n",
              "    <tr>\n",
              "      <th>F5 row number</th>\n",
              "      <td>-</td>\n",
              "      <td>48</td>\n",
              "      <td>9914</td>\n",
              "      <td>516</td>\n",
              "      <td>4.9</td>\n",
              "      <td>float64</td>\n",
              "    </tr>\n",
              "    <tr>\n",
              "      <th>F6 modular ratio</th>\n",
              "      <td>-</td>\n",
              "      <td>226</td>\n",
              "      <td>9926</td>\n",
              "      <td>504</td>\n",
              "      <td>4.8</td>\n",
              "      <td>float64</td>\n",
              "    </tr>\n",
              "    <tr>\n",
              "      <th>F7 interlinear spacing</th>\n",
              "      <td>-</td>\n",
              "      <td>228</td>\n",
              "      <td>9940</td>\n",
              "      <td>490</td>\n",
              "      <td>4.7</td>\n",
              "      <td>float64</td>\n",
              "    </tr>\n",
              "    <tr>\n",
              "      <th>F8 weight</th>\n",
              "      <td>-</td>\n",
              "      <td>9575</td>\n",
              "      <td>9865</td>\n",
              "      <td>565</td>\n",
              "      <td>5.4</td>\n",
              "      <td>float64</td>\n",
              "    </tr>\n",
              "    <tr>\n",
              "      <th>F9 peak number</th>\n",
              "      <td>-</td>\n",
              "      <td>261</td>\n",
              "      <td>9916</td>\n",
              "      <td>514</td>\n",
              "      <td>4.9</td>\n",
              "      <td>float64</td>\n",
              "    </tr>\n",
              "    <tr>\n",
              "      <th>F10 modular ratio/interlinear spacing</th>\n",
              "      <td>-</td>\n",
              "      <td>9474</td>\n",
              "      <td>9894</td>\n",
              "      <td>536</td>\n",
              "      <td>5.1</td>\n",
              "      <td>float64</td>\n",
              "    </tr>\n",
              "    <tr>\n",
              "      <th>clases</th>\n",
              "      <td>A | F | H | E | I | Y | D | X | G | W | C | B</td>\n",
              "      <td>12</td>\n",
              "      <td>10430</td>\n",
              "      <td>0</td>\n",
              "      <td>0.0</td>\n",
              "      <td>object</td>\n",
              "    </tr>\n",
              "  </tbody>\n",
              "</table>\n",
              "</div>"
            ],
            "text/plain": [
              "                                                                          categorias  ...     tipo\n",
              "F1 intercolumnar distance                                                          -  ...  float64\n",
              "F2 upper margin                                                                    -  ...  float64\n",
              "F3 lower margin                                                                    -  ...  float64\n",
              "F4 exploitation                                                                    -  ...  float64\n",
              "F5 row number                                                                      -  ...  float64\n",
              "F6 modular ratio                                                                   -  ...  float64\n",
              "F7 interlinear spacing                                                             -  ...  float64\n",
              "F8 weight                                                                          -  ...  float64\n",
              "F9 peak number                                                                     -  ...  float64\n",
              "F10 modular ratio/interlinear spacing                                              -  ...  float64\n",
              "clases                                 A | F | H | E | I | Y | D | X | G | W | C | B  ...   object\n",
              "\n",
              "[11 rows x 6 columns]"
            ]
          },
          "metadata": {},
          "execution_count": 606
        }
      ]
    },
    {
      "cell_type": "markdown",
      "metadata": {
        "id": "S7I8RU7txpcI"
      },
      "source": [
        "Como se realizó arriba, estas son las columnas que contienen datos faltantes y dichos datos en relación al total de información en el dataset representa solo un **4.54%**"
      ]
    },
    {
      "cell_type": "markdown",
      "metadata": {
        "id": "xETFm0IwymU0"
      },
      "source": [
        "Realizamos también una exploración a la variedad de valores dentro del dataset en donde se esperaba las columnas numéricas tuviesen variedad de valores al ser números racionales de tipo *float*, la columna clases contiene sus 12 etiquetas también."
      ]
    },
    {
      "cell_type": "code",
      "metadata": {
        "colab": {
          "base_uri": "https://localhost:8080/",
          "height": 300
        },
        "id": "qiA7i9Xi1XYZ",
        "outputId": "868f97c1-0426-44d6-c2c8-df520546bd2f"
      },
      "source": [
        "data_tr.describe()"
      ],
      "execution_count": 607,
      "outputs": [
        {
          "output_type": "execute_result",
          "data": {
            "text/html": [
              "<div>\n",
              "<style scoped>\n",
              "    .dataframe tbody tr th:only-of-type {\n",
              "        vertical-align: middle;\n",
              "    }\n",
              "\n",
              "    .dataframe tbody tr th {\n",
              "        vertical-align: top;\n",
              "    }\n",
              "\n",
              "    .dataframe thead th {\n",
              "        text-align: right;\n",
              "    }\n",
              "</style>\n",
              "<table border=\"1\" class=\"dataframe\">\n",
              "  <thead>\n",
              "    <tr style=\"text-align: right;\">\n",
              "      <th></th>\n",
              "      <th>F1 intercolumnar distance</th>\n",
              "      <th>F2 upper margin</th>\n",
              "      <th>F3 lower margin</th>\n",
              "      <th>F4 exploitation</th>\n",
              "      <th>F5 row number</th>\n",
              "      <th>F6 modular ratio</th>\n",
              "      <th>F7 interlinear spacing</th>\n",
              "      <th>F8 weight</th>\n",
              "      <th>F9 peak number</th>\n",
              "      <th>F10 modular ratio/interlinear spacing</th>\n",
              "    </tr>\n",
              "  </thead>\n",
              "  <tbody>\n",
              "    <tr>\n",
              "      <th>count</th>\n",
              "      <td>9892.000000</td>\n",
              "      <td>9894.000000</td>\n",
              "      <td>9921.000000</td>\n",
              "      <td>9923.000000</td>\n",
              "      <td>9914.000000</td>\n",
              "      <td>9926.000000</td>\n",
              "      <td>9940.000000</td>\n",
              "      <td>9865.000000</td>\n",
              "      <td>9916.000000</td>\n",
              "      <td>9894.000000</td>\n",
              "    </tr>\n",
              "    <tr>\n",
              "      <th>mean</th>\n",
              "      <td>0.001546</td>\n",
              "      <td>0.036306</td>\n",
              "      <td>0.002634</td>\n",
              "      <td>-0.005310</td>\n",
              "      <td>0.007233</td>\n",
              "      <td>0.011181</td>\n",
              "      <td>0.004743</td>\n",
              "      <td>0.013899</td>\n",
              "      <td>0.013354</td>\n",
              "      <td>0.001993</td>\n",
              "    </tr>\n",
              "    <tr>\n",
              "      <th>std</th>\n",
              "      <td>0.987086</td>\n",
              "      <td>4.019557</td>\n",
              "      <td>1.124072</td>\n",
              "      <td>1.007372</td>\n",
              "      <td>0.992470</td>\n",
              "      <td>1.132249</td>\n",
              "      <td>1.328194</td>\n",
              "      <td>1.002868</td>\n",
              "      <td>1.093308</td>\n",
              "      <td>1.002932</td>\n",
              "    </tr>\n",
              "    <tr>\n",
              "      <th>min</th>\n",
              "      <td>-3.498799</td>\n",
              "      <td>-2.426761</td>\n",
              "      <td>-3.210528</td>\n",
              "      <td>-5.440122</td>\n",
              "      <td>-4.922215</td>\n",
              "      <td>-7.450257</td>\n",
              "      <td>-11.935457</td>\n",
              "      <td>-4.247781</td>\n",
              "      <td>-5.486218</td>\n",
              "      <td>-6.719324</td>\n",
              "    </tr>\n",
              "    <tr>\n",
              "      <th>25%</th>\n",
              "      <td>-0.128929</td>\n",
              "      <td>-0.259834</td>\n",
              "      <td>0.064919</td>\n",
              "      <td>-0.542563</td>\n",
              "      <td>0.172340</td>\n",
              "      <td>-0.598658</td>\n",
              "      <td>-0.044076</td>\n",
              "      <td>-0.537749</td>\n",
              "      <td>-0.372457</td>\n",
              "      <td>-0.516878</td>\n",
              "    </tr>\n",
              "    <tr>\n",
              "      <th>50%</th>\n",
              "      <td>0.043885</td>\n",
              "      <td>-0.055704</td>\n",
              "      <td>0.217845</td>\n",
              "      <td>0.089437</td>\n",
              "      <td>0.261718</td>\n",
              "      <td>-0.058835</td>\n",
              "      <td>0.220177</td>\n",
              "      <td>0.116084</td>\n",
              "      <td>0.064084</td>\n",
              "      <td>-0.036816</td>\n",
              "    </tr>\n",
              "    <tr>\n",
              "      <th>75%</th>\n",
              "      <td>0.204355</td>\n",
              "      <td>0.203385</td>\n",
              "      <td>0.352988</td>\n",
              "      <td>0.655644</td>\n",
              "      <td>0.261718</td>\n",
              "      <td>0.564038</td>\n",
              "      <td>0.446679</td>\n",
              "      <td>0.654959</td>\n",
              "      <td>0.500624</td>\n",
              "      <td>0.533989</td>\n",
              "    </tr>\n",
              "    <tr>\n",
              "      <th>max</th>\n",
              "      <td>11.819916</td>\n",
              "      <td>386.000000</td>\n",
              "      <td>50.000000</td>\n",
              "      <td>3.987152</td>\n",
              "      <td>1.066121</td>\n",
              "      <td>53.000000</td>\n",
              "      <td>83.000000</td>\n",
              "      <td>13.173081</td>\n",
              "      <td>44.000000</td>\n",
              "      <td>4.671232</td>\n",
              "    </tr>\n",
              "  </tbody>\n",
              "</table>\n",
              "</div>"
            ],
            "text/plain": [
              "       F1 intercolumnar distance  ...  F10 modular ratio/interlinear spacing\n",
              "count                9892.000000  ...                            9894.000000\n",
              "mean                    0.001546  ...                               0.001993\n",
              "std                     0.987086  ...                               1.002932\n",
              "min                    -3.498799  ...                              -6.719324\n",
              "25%                    -0.128929  ...                              -0.516878\n",
              "50%                     0.043885  ...                              -0.036816\n",
              "75%                     0.204355  ...                               0.533989\n",
              "max                    11.819916  ...                               4.671232\n",
              "\n",
              "[8 rows x 10 columns]"
            ]
          },
          "metadata": {},
          "execution_count": 607
        }
      ]
    },
    {
      "cell_type": "code",
      "metadata": {
        "id": "I8GSC7y_ISPi",
        "outputId": "ec0e7754-ad00-475b-b302-55ec38e832ec",
        "colab": {
          "base_uri": "https://localhost:8080/"
        }
      },
      "source": [
        "data_tr.clases.value_counts()"
      ],
      "execution_count": 608,
      "outputs": [
        {
          "output_type": "execute_result",
          "data": {
            "text/plain": [
              "A    4286\n",
              "F    1961\n",
              "E    1095\n",
              "I     831\n",
              "X     522\n",
              "H     519\n",
              "G     446\n",
              "D     352\n",
              "Y     266\n",
              "C     103\n",
              "W      44\n",
              "B       5\n",
              "Name: clases, dtype: int64"
            ]
          },
          "metadata": {},
          "execution_count": 608
        }
      ]
    },
    {
      "cell_type": "code",
      "metadata": {
        "id": "OSNo61E7IWRD",
        "outputId": "7f7de35d-37e5-480d-cf4f-f53d4ef94894",
        "colab": {
          "base_uri": "https://localhost:8080/"
        }
      },
      "source": [
        "data_ts.clases.value_counts()"
      ],
      "execution_count": 609,
      "outputs": [
        {
          "output_type": "execute_result",
          "data": {
            "text/plain": [
              "A    4286\n",
              "F    1962\n",
              "E    1095\n",
              "I     832\n",
              "X     522\n",
              "H     520\n",
              "G     447\n",
              "D     353\n",
              "Y     267\n",
              "C     103\n",
              "W      45\n",
              "B       5\n",
              "Name: clases, dtype: int64"
            ]
          },
          "metadata": {},
          "execution_count": 609
        }
      ]
    },
    {
      "cell_type": "markdown",
      "metadata": {
        "id": "UMhn7O4QyGJs"
      },
      "source": [
        "Realizando una exploración con estadísticos al dataset entero podemos encontrar que tienen valores muy atípicos tanto en los máximos como en los mínimos dando un abrebocas a lo que encontraremos más adelante cuando los tratemos."
      ]
    },
    {
      "cell_type": "markdown",
      "metadata": {
        "id": "wBY6bacooZSM"
      },
      "source": [
        "## Imputación de Datos\n",
        "\n"
      ]
    },
    {
      "cell_type": "markdown",
      "metadata": {
        "id": "aLT-syfLSIlq"
      },
      "source": [
        "De los métodos enseñados en clase, escoja el método de imputación de datos mas adecuado y justifique su elección. "
      ]
    },
    {
      "cell_type": "markdown",
      "metadata": {
        "id": "LoeD7-ZQysw8"
      },
      "source": [
        "Primero guardaremos el dataframe sin la columna categórica pues la imputación de datos no dará como válido estos datos, se dejan solo los valores numéricos donde se contemplan los datos faltantes sin problema de que la columna categórica esté limpia de valores nulos o extraños."
      ]
    },
    {
      "cell_type": "code",
      "metadata": {
        "colab": {
          "base_uri": "https://localhost:8080/",
          "height": 423
        },
        "id": "2fQ5fBwSBZRH",
        "outputId": "b4ea5ef1-3166-4618-ef7b-4f3568d060d6"
      },
      "source": [
        "data_tr = data_tr.sort_values(by=\"clases\").reset_index(drop=True)\n",
        "data_tr_2 = data_tr.loc[:,data_tr.columns[0]:data_tr.columns[-2]].copy()\n",
        "columnas = data_tr_2.columns\n",
        "col_clases = data_tr.clases\n",
        "data_tr_2"
      ],
      "execution_count": 610,
      "outputs": [
        {
          "output_type": "execute_result",
          "data": {
            "text/html": [
              "<div>\n",
              "<style scoped>\n",
              "    .dataframe tbody tr th:only-of-type {\n",
              "        vertical-align: middle;\n",
              "    }\n",
              "\n",
              "    .dataframe tbody tr th {\n",
              "        vertical-align: top;\n",
              "    }\n",
              "\n",
              "    .dataframe thead th {\n",
              "        text-align: right;\n",
              "    }\n",
              "</style>\n",
              "<table border=\"1\" class=\"dataframe\">\n",
              "  <thead>\n",
              "    <tr style=\"text-align: right;\">\n",
              "      <th></th>\n",
              "      <th>F1 intercolumnar distance</th>\n",
              "      <th>F2 upper margin</th>\n",
              "      <th>F3 lower margin</th>\n",
              "      <th>F4 exploitation</th>\n",
              "      <th>F5 row number</th>\n",
              "      <th>F6 modular ratio</th>\n",
              "      <th>F7 interlinear spacing</th>\n",
              "      <th>F8 weight</th>\n",
              "      <th>F9 peak number</th>\n",
              "      <th>F10 modular ratio/interlinear spacing</th>\n",
              "    </tr>\n",
              "  </thead>\n",
              "  <tbody>\n",
              "    <tr>\n",
              "      <th>0</th>\n",
              "      <td>0.266074</td>\n",
              "      <td>-0.165620</td>\n",
              "      <td>0.320980</td>\n",
              "      <td>0.483299</td>\n",
              "      <td>0.172340</td>\n",
              "      <td>0.273364</td>\n",
              "      <td>0.371178</td>\n",
              "      <td>0.929823</td>\n",
              "      <td>0.251173</td>\n",
              "      <td>0.159345</td>\n",
              "    </tr>\n",
              "    <tr>\n",
              "      <th>1</th>\n",
              "      <td>-0.128929</td>\n",
              "      <td>0.022808</td>\n",
              "      <td>0.192950</td>\n",
              "      <td>0.837775</td>\n",
              "      <td>0.261718</td>\n",
              "      <td>0.771662</td>\n",
              "      <td>0.220177</td>\n",
              "      <td>0.268534</td>\n",
              "      <td>0.095265</td>\n",
              "      <td>0.709807</td>\n",
              "    </tr>\n",
              "    <tr>\n",
              "      <th>2</th>\n",
              "      <td>0.216699</td>\n",
              "      <td>-2.089160</td>\n",
              "      <td>NaN</td>\n",
              "      <td>-0.457525</td>\n",
              "      <td>0.082961</td>\n",
              "      <td>1.062336</td>\n",
              "      <td>0.824183</td>\n",
              "      <td>0.224441</td>\n",
              "      <td>-0.029461</td>\n",
              "      <td>0.600937</td>\n",
              "    </tr>\n",
              "    <tr>\n",
              "      <th>3</th>\n",
              "      <td>-0.042522</td>\n",
              "      <td>-0.236281</td>\n",
              "      <td>-3.210528</td>\n",
              "      <td>-0.272051</td>\n",
              "      <td>0.261718</td>\n",
              "      <td>2.557230</td>\n",
              "      <td>0.597681</td>\n",
              "      <td>-0.908719</td>\n",
              "      <td>-0.278912</td>\n",
              "      <td>2.035883</td>\n",
              "    </tr>\n",
              "    <tr>\n",
              "      <th>4</th>\n",
              "      <td>-0.030178</td>\n",
              "      <td>0.093469</td>\n",
              "      <td>0.235627</td>\n",
              "      <td>1.206186</td>\n",
              "      <td>0.261718</td>\n",
              "      <td>0.605563</td>\n",
              "      <td>0.257927</td>\n",
              "      <td>0.460746</td>\n",
              "      <td>0.375899</td>\n",
              "      <td>0.535743</td>\n",
              "    </tr>\n",
              "    <tr>\n",
              "      <th>...</th>\n",
              "      <td>...</td>\n",
              "      <td>...</td>\n",
              "      <td>...</td>\n",
              "      <td>...</td>\n",
              "      <td>...</td>\n",
              "      <td>...</td>\n",
              "      <td>...</td>\n",
              "      <td>...</td>\n",
              "      <td>...</td>\n",
              "      <td>...</td>\n",
              "    </tr>\n",
              "    <tr>\n",
              "      <th>10425</th>\n",
              "      <td>-0.240024</td>\n",
              "      <td>-0.299090</td>\n",
              "      <td>0.694403</td>\n",
              "      <td>0.955725</td>\n",
              "      <td>0.619230</td>\n",
              "      <td>-0.432558</td>\n",
              "      <td>-0.723584</td>\n",
              "      <td>0.384075</td>\n",
              "      <td>2.246787</td>\n",
              "      <td>0.141805</td>\n",
              "    </tr>\n",
              "    <tr>\n",
              "      <th>10426</th>\n",
              "      <td>-0.128929</td>\n",
              "      <td>-0.283388</td>\n",
              "      <td>0.488131</td>\n",
              "      <td>0.833628</td>\n",
              "      <td>0.797987</td>\n",
              "      <td>-0.266459</td>\n",
              "      <td>-1.818346</td>\n",
              "      <td>0.334099</td>\n",
              "      <td>1.467250</td>\n",
              "      <td>1.089013</td>\n",
              "    </tr>\n",
              "    <tr>\n",
              "      <th>10427</th>\n",
              "      <td>0.117948</td>\n",
              "      <td>-0.165620</td>\n",
              "      <td>0.562816</td>\n",
              "      <td>0.567204</td>\n",
              "      <td>0.619230</td>\n",
              "      <td>-0.432558</td>\n",
              "      <td>-1.591843</td>\n",
              "      <td>-0.239936</td>\n",
              "      <td>-1.682078</td>\n",
              "      <td>0.747347</td>\n",
              "    </tr>\n",
              "    <tr>\n",
              "      <th>10428</th>\n",
              "      <td>-0.301743</td>\n",
              "      <td>-0.314793</td>\n",
              "      <td>0.399221</td>\n",
              "      <td>0.770520</td>\n",
              "      <td>0.708609</td>\n",
              "      <td>0.896237</td>\n",
              "      <td>-1.591843</td>\n",
              "      <td>-1.399172</td>\n",
              "      <td>-0.216549</td>\n",
              "      <td>2.116351</td>\n",
              "    </tr>\n",
              "    <tr>\n",
              "      <th>10429</th>\n",
              "      <td>-0.301743</td>\n",
              "      <td>-0.314793</td>\n",
              "      <td>0.399221</td>\n",
              "      <td>0.770520</td>\n",
              "      <td>0.708609</td>\n",
              "      <td>1.145386</td>\n",
              "      <td>-1.252090</td>\n",
              "      <td>NaN</td>\n",
              "      <td>1.248980</td>\n",
              "      <td>2.132698</td>\n",
              "    </tr>\n",
              "  </tbody>\n",
              "</table>\n",
              "<p>10430 rows × 10 columns</p>\n",
              "</div>"
            ],
            "text/plain": [
              "       F1 intercolumnar distance  ...  F10 modular ratio/interlinear spacing\n",
              "0                       0.266074  ...                               0.159345\n",
              "1                      -0.128929  ...                               0.709807\n",
              "2                       0.216699  ...                               0.600937\n",
              "3                      -0.042522  ...                               2.035883\n",
              "4                      -0.030178  ...                               0.535743\n",
              "...                          ...  ...                                    ...\n",
              "10425                  -0.240024  ...                               0.141805\n",
              "10426                  -0.128929  ...                               1.089013\n",
              "10427                   0.117948  ...                               0.747347\n",
              "10428                  -0.301743  ...                               2.116351\n",
              "10429                  -0.301743  ...                               2.132698\n",
              "\n",
              "[10430 rows x 10 columns]"
            ]
          },
          "metadata": {},
          "execution_count": 610
        }
      ]
    },
    {
      "cell_type": "markdown",
      "metadata": {
        "id": "AyjV-TYNzByg"
      },
      "source": [
        "Elegimos el método de imputación basado en el algoritmo de **K-vecinos más cercanos** para tomar los valores más cercanos y realizar el promedio ponderado de estos con una mayor relevancia según más cerca estén del dato faltante.\n",
        "\n",
        "Se ordenó el dataset anterior en orden alfabético según la categoría *clase*, tal categoría representa a los 12 copitas asignados por una letra, de esta forma al realizar el método de imputación elegido tomará los valores de los vecinos más cercanos que serán del mismo copista y realizará el promedio entre estos para asi evitar relacionar diferentes patrones de copistas entre estos datos."
      ]
    },
    {
      "cell_type": "code",
      "metadata": {
        "colab": {
          "base_uri": "https://localhost:8080/"
        },
        "id": "8a0nG5KoDvke",
        "outputId": "97b09933-2206-434e-8822-48032670d4f1"
      },
      "source": [
        "from sklearn.impute import KNNImputer\n",
        "\n",
        "knn_imp = KNNImputer(missing_values = np.nan, n_neighbors = 5, weights= \"uniform\")  \n",
        "knn_imp.fit(data_tr_2)\n",
        "data_tr_2 = knn_imp.transform(data_tr_2)\n",
        "print(data_tr_2.shape)"
      ],
      "execution_count": 611,
      "outputs": [
        {
          "output_type": "stream",
          "name": "stdout",
          "text": [
            "(10430, 10)\n"
          ]
        }
      ]
    },
    {
      "cell_type": "markdown",
      "metadata": {
        "id": "fxI-SfcZ0gBu"
      },
      "source": [
        "Las dimensiones corresponden con las del dataset original sin la columna de categorías, columnas de la F1 hasta la F10"
      ]
    },
    {
      "cell_type": "code",
      "metadata": {
        "colab": {
          "base_uri": "https://localhost:8080/",
          "height": 423
        },
        "id": "5Z5_JwbhFNVi",
        "outputId": "081cdbba-4def-4a95-8503-83be478dc8f9"
      },
      "source": [
        "data_tr = pd.concat([pd.DataFrame(data_tr_2,columns=columnas)]+[data_tr.clases],axis=1)\n",
        "data_tr"
      ],
      "execution_count": 612,
      "outputs": [
        {
          "output_type": "execute_result",
          "data": {
            "text/html": [
              "<div>\n",
              "<style scoped>\n",
              "    .dataframe tbody tr th:only-of-type {\n",
              "        vertical-align: middle;\n",
              "    }\n",
              "\n",
              "    .dataframe tbody tr th {\n",
              "        vertical-align: top;\n",
              "    }\n",
              "\n",
              "    .dataframe thead th {\n",
              "        text-align: right;\n",
              "    }\n",
              "</style>\n",
              "<table border=\"1\" class=\"dataframe\">\n",
              "  <thead>\n",
              "    <tr style=\"text-align: right;\">\n",
              "      <th></th>\n",
              "      <th>F1 intercolumnar distance</th>\n",
              "      <th>F2 upper margin</th>\n",
              "      <th>F3 lower margin</th>\n",
              "      <th>F4 exploitation</th>\n",
              "      <th>F5 row number</th>\n",
              "      <th>F6 modular ratio</th>\n",
              "      <th>F7 interlinear spacing</th>\n",
              "      <th>F8 weight</th>\n",
              "      <th>F9 peak number</th>\n",
              "      <th>F10 modular ratio/interlinear spacing</th>\n",
              "      <th>clases</th>\n",
              "    </tr>\n",
              "  </thead>\n",
              "  <tbody>\n",
              "    <tr>\n",
              "      <th>0</th>\n",
              "      <td>0.266074</td>\n",
              "      <td>-0.165620</td>\n",
              "      <td>0.320980</td>\n",
              "      <td>0.483299</td>\n",
              "      <td>0.172340</td>\n",
              "      <td>0.273364</td>\n",
              "      <td>0.371178</td>\n",
              "      <td>0.929823</td>\n",
              "      <td>0.251173</td>\n",
              "      <td>0.159345</td>\n",
              "      <td>A</td>\n",
              "    </tr>\n",
              "    <tr>\n",
              "      <th>1</th>\n",
              "      <td>-0.128929</td>\n",
              "      <td>0.022808</td>\n",
              "      <td>0.192950</td>\n",
              "      <td>0.837775</td>\n",
              "      <td>0.261718</td>\n",
              "      <td>0.771662</td>\n",
              "      <td>0.220177</td>\n",
              "      <td>0.268534</td>\n",
              "      <td>0.095265</td>\n",
              "      <td>0.709807</td>\n",
              "      <td>A</td>\n",
              "    </tr>\n",
              "    <tr>\n",
              "      <th>2</th>\n",
              "      <td>0.216699</td>\n",
              "      <td>-2.089160</td>\n",
              "      <td>-0.925895</td>\n",
              "      <td>-0.457525</td>\n",
              "      <td>0.082961</td>\n",
              "      <td>1.062336</td>\n",
              "      <td>0.824183</td>\n",
              "      <td>0.224441</td>\n",
              "      <td>-0.029461</td>\n",
              "      <td>0.600937</td>\n",
              "      <td>A</td>\n",
              "    </tr>\n",
              "    <tr>\n",
              "      <th>3</th>\n",
              "      <td>-0.042522</td>\n",
              "      <td>-0.236281</td>\n",
              "      <td>-3.210528</td>\n",
              "      <td>-0.272051</td>\n",
              "      <td>0.261718</td>\n",
              "      <td>2.557230</td>\n",
              "      <td>0.597681</td>\n",
              "      <td>-0.908719</td>\n",
              "      <td>-0.278912</td>\n",
              "      <td>2.035883</td>\n",
              "      <td>A</td>\n",
              "    </tr>\n",
              "    <tr>\n",
              "      <th>4</th>\n",
              "      <td>-0.030178</td>\n",
              "      <td>0.093469</td>\n",
              "      <td>0.235627</td>\n",
              "      <td>1.206186</td>\n",
              "      <td>0.261718</td>\n",
              "      <td>0.605563</td>\n",
              "      <td>0.257927</td>\n",
              "      <td>0.460746</td>\n",
              "      <td>0.375899</td>\n",
              "      <td>0.535743</td>\n",
              "      <td>A</td>\n",
              "    </tr>\n",
              "    <tr>\n",
              "      <th>...</th>\n",
              "      <td>...</td>\n",
              "      <td>...</td>\n",
              "      <td>...</td>\n",
              "      <td>...</td>\n",
              "      <td>...</td>\n",
              "      <td>...</td>\n",
              "      <td>...</td>\n",
              "      <td>...</td>\n",
              "      <td>...</td>\n",
              "      <td>...</td>\n",
              "      <td>...</td>\n",
              "    </tr>\n",
              "    <tr>\n",
              "      <th>10425</th>\n",
              "      <td>-0.240024</td>\n",
              "      <td>-0.299090</td>\n",
              "      <td>0.694403</td>\n",
              "      <td>0.955725</td>\n",
              "      <td>0.619230</td>\n",
              "      <td>-0.432558</td>\n",
              "      <td>-0.723584</td>\n",
              "      <td>0.384075</td>\n",
              "      <td>2.246787</td>\n",
              "      <td>0.141805</td>\n",
              "      <td>Y</td>\n",
              "    </tr>\n",
              "    <tr>\n",
              "      <th>10426</th>\n",
              "      <td>-0.128929</td>\n",
              "      <td>-0.283388</td>\n",
              "      <td>0.488131</td>\n",
              "      <td>0.833628</td>\n",
              "      <td>0.797987</td>\n",
              "      <td>-0.266459</td>\n",
              "      <td>-1.818346</td>\n",
              "      <td>0.334099</td>\n",
              "      <td>1.467250</td>\n",
              "      <td>1.089013</td>\n",
              "      <td>Y</td>\n",
              "    </tr>\n",
              "    <tr>\n",
              "      <th>10427</th>\n",
              "      <td>0.117948</td>\n",
              "      <td>-0.165620</td>\n",
              "      <td>0.562816</td>\n",
              "      <td>0.567204</td>\n",
              "      <td>0.619230</td>\n",
              "      <td>-0.432558</td>\n",
              "      <td>-1.591843</td>\n",
              "      <td>-0.239936</td>\n",
              "      <td>-1.682078</td>\n",
              "      <td>0.747347</td>\n",
              "      <td>Y</td>\n",
              "    </tr>\n",
              "    <tr>\n",
              "      <th>10428</th>\n",
              "      <td>-0.301743</td>\n",
              "      <td>-0.314793</td>\n",
              "      <td>0.399221</td>\n",
              "      <td>0.770520</td>\n",
              "      <td>0.708609</td>\n",
              "      <td>0.896237</td>\n",
              "      <td>-1.591843</td>\n",
              "      <td>-1.399172</td>\n",
              "      <td>-0.216549</td>\n",
              "      <td>2.116351</td>\n",
              "      <td>Y</td>\n",
              "    </tr>\n",
              "    <tr>\n",
              "      <th>10429</th>\n",
              "      <td>-0.301743</td>\n",
              "      <td>-0.314793</td>\n",
              "      <td>0.399221</td>\n",
              "      <td>0.770520</td>\n",
              "      <td>0.708609</td>\n",
              "      <td>1.145386</td>\n",
              "      <td>-1.252090</td>\n",
              "      <td>0.590041</td>\n",
              "      <td>1.248980</td>\n",
              "      <td>2.132698</td>\n",
              "      <td>Y</td>\n",
              "    </tr>\n",
              "  </tbody>\n",
              "</table>\n",
              "<p>10430 rows × 11 columns</p>\n",
              "</div>"
            ],
            "text/plain": [
              "       F1 intercolumnar distance  ...  clases\n",
              "0                       0.266074  ...       A\n",
              "1                      -0.128929  ...       A\n",
              "2                       0.216699  ...       A\n",
              "3                      -0.042522  ...       A\n",
              "4                      -0.030178  ...       A\n",
              "...                          ...  ...     ...\n",
              "10425                  -0.240024  ...       Y\n",
              "10426                  -0.128929  ...       Y\n",
              "10427                   0.117948  ...       Y\n",
              "10428                  -0.301743  ...       Y\n",
              "10429                  -0.301743  ...       Y\n",
              "\n",
              "[10430 rows x 11 columns]"
            ]
          },
          "metadata": {},
          "execution_count": 612
        }
      ]
    },
    {
      "cell_type": "code",
      "metadata": {
        "id": "eSNdacI_0tAt",
        "outputId": "bf1876de-1c4e-43c8-a664-aa93e160310c",
        "colab": {
          "base_uri": "https://localhost:8080/",
          "height": 412
        }
      },
      "source": [
        "get_categories(data_tr)"
      ],
      "execution_count": 613,
      "outputs": [
        {
          "output_type": "stream",
          "name": "stdout",
          "text": [
            "Columnas multiselect: []\n"
          ]
        },
        {
          "output_type": "execute_result",
          "data": {
            "text/html": [
              "<div>\n",
              "<style scoped>\n",
              "    .dataframe tbody tr th:only-of-type {\n",
              "        vertical-align: middle;\n",
              "    }\n",
              "\n",
              "    .dataframe tbody tr th {\n",
              "        vertical-align: top;\n",
              "    }\n",
              "\n",
              "    .dataframe thead th {\n",
              "        text-align: right;\n",
              "    }\n",
              "</style>\n",
              "<table border=\"1\" class=\"dataframe\">\n",
              "  <thead>\n",
              "    <tr style=\"text-align: right;\">\n",
              "      <th></th>\n",
              "      <th>categorias</th>\n",
              "      <th>unicos</th>\n",
              "      <th>num_datos</th>\n",
              "      <th>faltantes</th>\n",
              "      <th>% faltante</th>\n",
              "      <th>tipo</th>\n",
              "    </tr>\n",
              "  </thead>\n",
              "  <tbody>\n",
              "    <tr>\n",
              "      <th>F1 intercolumnar distance</th>\n",
              "      <td>-</td>\n",
              "      <td>593</td>\n",
              "      <td>10430</td>\n",
              "      <td>0</td>\n",
              "      <td>0.0</td>\n",
              "      <td>float64</td>\n",
              "    </tr>\n",
              "    <tr>\n",
              "      <th>F2 upper margin</th>\n",
              "      <td>-</td>\n",
              "      <td>691</td>\n",
              "      <td>10430</td>\n",
              "      <td>0</td>\n",
              "      <td>0.0</td>\n",
              "      <td>float64</td>\n",
              "    </tr>\n",
              "    <tr>\n",
              "      <th>F3 lower margin</th>\n",
              "      <td>-</td>\n",
              "      <td>699</td>\n",
              "      <td>10430</td>\n",
              "      <td>0</td>\n",
              "      <td>0.0</td>\n",
              "      <td>float64</td>\n",
              "    </tr>\n",
              "    <tr>\n",
              "      <th>F4 exploitation</th>\n",
              "      <td>-</td>\n",
              "      <td>1252</td>\n",
              "      <td>10430</td>\n",
              "      <td>0</td>\n",
              "      <td>0.0</td>\n",
              "      <td>float64</td>\n",
              "    </tr>\n",
              "    <tr>\n",
              "      <th>F5 row number</th>\n",
              "      <td>-</td>\n",
              "      <td>217</td>\n",
              "      <td>10430</td>\n",
              "      <td>0</td>\n",
              "      <td>0.0</td>\n",
              "      <td>float64</td>\n",
              "    </tr>\n",
              "    <tr>\n",
              "      <th>F6 modular ratio</th>\n",
              "      <td>-</td>\n",
              "      <td>649</td>\n",
              "      <td>10430</td>\n",
              "      <td>0</td>\n",
              "      <td>0.0</td>\n",
              "      <td>float64</td>\n",
              "    </tr>\n",
              "    <tr>\n",
              "      <th>F7 interlinear spacing</th>\n",
              "      <td>-</td>\n",
              "      <td>542</td>\n",
              "      <td>10430</td>\n",
              "      <td>0</td>\n",
              "      <td>0.0</td>\n",
              "      <td>float64</td>\n",
              "    </tr>\n",
              "    <tr>\n",
              "      <th>F8 weight</th>\n",
              "      <td>-</td>\n",
              "      <td>10139</td>\n",
              "      <td>10430</td>\n",
              "      <td>0</td>\n",
              "      <td>0.0</td>\n",
              "      <td>float64</td>\n",
              "    </tr>\n",
              "    <tr>\n",
              "      <th>F9 peak number</th>\n",
              "      <td>-</td>\n",
              "      <td>693</td>\n",
              "      <td>10430</td>\n",
              "      <td>0</td>\n",
              "      <td>0.0</td>\n",
              "      <td>float64</td>\n",
              "    </tr>\n",
              "    <tr>\n",
              "      <th>F10 modular ratio/interlinear spacing</th>\n",
              "      <td>-</td>\n",
              "      <td>10010</td>\n",
              "      <td>10430</td>\n",
              "      <td>0</td>\n",
              "      <td>0.0</td>\n",
              "      <td>float64</td>\n",
              "    </tr>\n",
              "    <tr>\n",
              "      <th>clases</th>\n",
              "      <td>A | B | C | D | E | F | G | H | I | W | X | Y</td>\n",
              "      <td>12</td>\n",
              "      <td>10430</td>\n",
              "      <td>0</td>\n",
              "      <td>0.0</td>\n",
              "      <td>object</td>\n",
              "    </tr>\n",
              "  </tbody>\n",
              "</table>\n",
              "</div>"
            ],
            "text/plain": [
              "                                                                          categorias  ...     tipo\n",
              "F1 intercolumnar distance                                                          -  ...  float64\n",
              "F2 upper margin                                                                    -  ...  float64\n",
              "F3 lower margin                                                                    -  ...  float64\n",
              "F4 exploitation                                                                    -  ...  float64\n",
              "F5 row number                                                                      -  ...  float64\n",
              "F6 modular ratio                                                                   -  ...  float64\n",
              "F7 interlinear spacing                                                             -  ...  float64\n",
              "F8 weight                                                                          -  ...  float64\n",
              "F9 peak number                                                                     -  ...  float64\n",
              "F10 modular ratio/interlinear spacing                                              -  ...  float64\n",
              "clases                                 A | B | C | D | E | F | G | H | I | W | X | Y  ...   object\n",
              "\n",
              "[11 rows x 6 columns]"
            ]
          },
          "metadata": {},
          "execution_count": 613
        }
      ]
    },
    {
      "cell_type": "markdown",
      "metadata": {
        "id": "b4GaogMs0uPj"
      },
      "source": [
        "La imputación de datos no modificó el dataset a otras dimensiones y no quedó ningún valor nulo en las columnas que antes sí tenían."
      ]
    },
    {
      "cell_type": "markdown",
      "metadata": {
        "id": "uMy-y9ebSANy"
      },
      "source": [
        "## Detección de Datos Atípicos"
      ]
    },
    {
      "cell_type": "markdown",
      "metadata": {
        "id": "oE-qplSUSKKJ"
      },
      "source": [
        "Presente mediante graficos vistos a lo largo del curso, diagramas que permitan la visualización  de datos atípicos, de una breve explicación de lo mostrado y analice si dentro del contexto del problema se pueden eliminar, justifique. "
      ]
    },
    {
      "cell_type": "code",
      "metadata": {
        "colab": {
          "base_uri": "https://localhost:8080/",
          "height": 540
        },
        "id": "tn0DMwik2OWK",
        "outputId": "e0e16385-d172-464d-e949-df772cf4e25b"
      },
      "source": [
        "import seaborn as sns # Librería de visualización para data science\n",
        "\n",
        "sns.set(rc={'figure.figsize':(25,9)}) # Tamaño de la figura\n",
        "sns.set(style=\"whitegrid\") # Estilo de la figura\n",
        "sns.boxplot(data = data_tr, linewidth = 3, palette=\"Set2\", fliersize = 5) # Diagrama Box Plot\n",
        "sns.despine(left=True)"
      ],
      "execution_count": 614,
      "outputs": [
        {
          "output_type": "display_data",
          "data": {
            "image/png": "[encoded data removed]",
            "text/plain": [
              "<Figure size 1800x648 with 1 Axes>"
            ]
          },
          "metadata": {}
        }
      ]
    },
    {
      "cell_type": "code",
      "metadata": {
        "colab": {
          "base_uri": "https://localhost:8080/",
          "height": 206
        },
        "id": "NL8lpEhU5lM3",
        "outputId": "07a95657-9b85-4166-c872-6fdd34e00389"
      },
      "source": [
        "data_tr[data_tr[\"F2 upper margin\"]>18]"
      ],
      "execution_count": 615,
      "outputs": [
        {
          "output_type": "execute_result",
          "data": {
            "text/html": [
              "<div>\n",
              "<style scoped>\n",
              "    .dataframe tbody tr th:only-of-type {\n",
              "        vertical-align: middle;\n",
              "    }\n",
              "\n",
              "    .dataframe tbody tr th {\n",
              "        vertical-align: top;\n",
              "    }\n",
              "\n",
              "    .dataframe thead th {\n",
              "        text-align: right;\n",
              "    }\n",
              "</style>\n",
              "<table border=\"1\" class=\"dataframe\">\n",
              "  <thead>\n",
              "    <tr style=\"text-align: right;\">\n",
              "      <th></th>\n",
              "      <th>F1 intercolumnar distance</th>\n",
              "      <th>F2 upper margin</th>\n",
              "      <th>F3 lower margin</th>\n",
              "      <th>F4 exploitation</th>\n",
              "      <th>F5 row number</th>\n",
              "      <th>F6 modular ratio</th>\n",
              "      <th>F7 interlinear spacing</th>\n",
              "      <th>F8 weight</th>\n",
              "      <th>F9 peak number</th>\n",
              "      <th>F10 modular ratio/interlinear spacing</th>\n",
              "      <th>clases</th>\n",
              "    </tr>\n",
              "  </thead>\n",
              "  <tbody>\n",
              "    <tr>\n",
              "      <th>537</th>\n",
              "      <td>-3.498799</td>\n",
              "      <td>43.133656</td>\n",
              "      <td>-3.210528</td>\n",
              "      <td>0.473966</td>\n",
              "      <td>-4.832837</td>\n",
              "      <td>-7.450257</td>\n",
              "      <td>0.325878</td>\n",
              "      <td>13.173081</td>\n",
              "      <td>-5.486218</td>\n",
              "      <td>0.034259</td>\n",
              "      <td>A</td>\n",
              "    </tr>\n",
              "    <tr>\n",
              "      <th>1261</th>\n",
              "      <td>-3.498799</td>\n",
              "      <td>19.470188</td>\n",
              "      <td>0.256965</td>\n",
              "      <td>0.105669</td>\n",
              "      <td>-4.922215</td>\n",
              "      <td>-1.346105</td>\n",
              "      <td>0.031425</td>\n",
              "      <td>0.896952</td>\n",
              "      <td>-2.929337</td>\n",
              "      <td>-1.129131</td>\n",
              "      <td>A</td>\n",
              "    </tr>\n",
              "    <tr>\n",
              "      <th>2291</th>\n",
              "      <td>0.000000</td>\n",
              "      <td>386.000000</td>\n",
              "      <td>50.000000</td>\n",
              "      <td>0.168104</td>\n",
              "      <td>0.000000</td>\n",
              "      <td>53.000000</td>\n",
              "      <td>83.000000</td>\n",
              "      <td>0.275032</td>\n",
              "      <td>44.000000</td>\n",
              "      <td>0.638020</td>\n",
              "      <td>A</td>\n",
              "    </tr>\n",
              "    <tr>\n",
              "      <th>2566</th>\n",
              "      <td>-3.498799</td>\n",
              "      <td>19.470188</td>\n",
              "      <td>0.256965</td>\n",
              "      <td>0.105669</td>\n",
              "      <td>-4.922215</td>\n",
              "      <td>-0.723232</td>\n",
              "      <td>-0.006326</td>\n",
              "      <td>1.017949</td>\n",
              "      <td>-1.519935</td>\n",
              "      <td>-0.539165</td>\n",
              "      <td>A</td>\n",
              "    </tr>\n",
              "    <tr>\n",
              "      <th>2811</th>\n",
              "      <td>-3.498799</td>\n",
              "      <td>19.470188</td>\n",
              "      <td>0.256965</td>\n",
              "      <td>0.105669</td>\n",
              "      <td>-4.922215</td>\n",
              "      <td>-0.432558</td>\n",
              "      <td>0.484429</td>\n",
              "      <td>0.408926</td>\n",
              "      <td>-3.085245</td>\n",
              "      <td>-0.522843</td>\n",
              "      <td>A</td>\n",
              "    </tr>\n",
              "  </tbody>\n",
              "</table>\n",
              "</div>"
            ],
            "text/plain": [
              "      F1 intercolumnar distance  ...  clases\n",
              "537                   -3.498799  ...       A\n",
              "1261                  -3.498799  ...       A\n",
              "2291                   0.000000  ...       A\n",
              "2566                  -3.498799  ...       A\n",
              "2811                  -3.498799  ...       A\n",
              "\n",
              "[5 rows x 11 columns]"
            ]
          },
          "metadata": {},
          "execution_count": 615
        }
      ]
    },
    {
      "cell_type": "markdown",
      "metadata": {
        "id": "RvN4QQfp1bqE"
      },
      "source": [
        "Hay valores atípicos demasiado alejados de los otros valores, entramos a revisar uno de estos con la columna *F2 upper margin* y precisamente esa fila contiene los demás datos extrañamente raros de las otras columnas, por esto mismo podemos eliminar este registro sin problema pues es más sencillo que tratar de arreglar cada valor de cada columna para un solo registro."
      ]
    },
    {
      "cell_type": "code",
      "metadata": {
        "id": "rIKY7zX93pLS"
      },
      "source": [
        "data_tr = data_tr.drop(data_tr.loc[data_tr[\"F2 upper margin\"]>20,\"F2 upper margin\"].index)"
      ],
      "execution_count": 616,
      "outputs": []
    },
    {
      "cell_type": "code",
      "metadata": {
        "colab": {
          "base_uri": "https://localhost:8080/",
          "height": 653
        },
        "id": "P7e9tFhi5p2_",
        "outputId": "3f69085f-a570-46cd-fee1-e58fc7e72b94"
      },
      "source": [
        "df_c = data_tr.loc[:,data_tr.columns[0]:data_tr.columns[-2]]\n",
        "for i, column in enumerate(df_c.columns, 1):\n",
        "  plt.subplot(1,len(df_c.columns),i)\n",
        "  sns.boxplot(data = data_tr[column], linewidth = 3, palette=\"Set2\", fliersize = 5)\n",
        "  plt.title(column)\n",
        "  plt.tight_layout()"
      ],
      "execution_count": 617,
      "outputs": [
        {
          "output_type": "display_data",
          "data": {
            "image/png": "[encoded data removed]",
            "text/plain": [
              "<Figure size 1800x648 with 10 Axes>"
            ]
          },
          "metadata": {}
        }
      ]
    },
    {
      "cell_type": "markdown",
      "metadata": {
        "id": "1pn_B9gg13N0"
      },
      "source": [
        "Ya tenemos una visualización más acorde a lo que desearíamos para detallar los datos atípicos, es el caso de varias columnas que tienen aún muchos valores fuera del conjunto con mayor densidad dentro de la misma categoría.\n",
        "\n",
        "No se pueden corregir todos los valores que estén por fuera de los extremos de los cuartiles en la gráfica de Boxplot porque no todos están tan dispersos aunque los que están en las colas superior e inferior sí serán tratados por la diferencia en magnitud principalmente."
      ]
    },
    {
      "cell_type": "code",
      "metadata": {
        "id": "rJndOhinP2-N",
        "outputId": "77f666ae-1db2-40ad-aaf8-ffdc2ad316b0",
        "colab": {
          "base_uri": "https://localhost:8080/"
        }
      },
      "source": [
        "data_tr[\"F2 upper margin\"].quantile([0.25,0.75])"
      ],
      "execution_count": 618,
      "outputs": [
        {
          "output_type": "execute_result",
          "data": {
            "text/plain": [
              "0.25   -0.259834\n",
              "0.75    0.203385\n",
              "Name: F2 upper margin, dtype: float64"
            ]
          },
          "metadata": {},
          "execution_count": 618
        }
      ]
    },
    {
      "cell_type": "code",
      "metadata": {
        "id": "WCOgGu1xPcJa",
        "outputId": "fd6b94d1-e002-4dea-d34a-dd221936c609",
        "colab": {
          "base_uri": "https://localhost:8080/"
        }
      },
      "source": [
        "for col in df_c.columns:\n",
        "  a,b = data_tr[col].quantile([0.25,0.75])\n",
        "  iqr = b-a\n",
        "  if b > 0:\n",
        "    upper = b+1.5*iqr\n",
        "  else:\n",
        "    upper = b-1.5*iqr\n",
        "\n",
        "  if a > 0:\n",
        "    lower = a-1.5*iqr\n",
        "  else:\n",
        "    lower = a+1.5*iqr\n",
        "\n",
        "  print(upper, lower, a,b)\n",
        "  data_tr.loc[data_tr[col]>upper,col] = upper\n",
        "  data_tr.loc[data_tr[col]<lower, col] = lower"
      ],
      "execution_count": 619,
      "outputs": [
        {
          "output_type": "stream",
          "name": "stdout",
          "text": [
            "0.695023375 0.365442425 -0.128929 0.20065195\n",
            "0.8982135000000001 0.43499450000000006 -0.259834 0.203385\n",
            "0.7815355 -0.37074050000000003 0.061363 0.349432\n",
            "2.3971395 1.2275485000000002 -0.526838 0.642753\n",
            "0.39578500000000005 0.038272999999999974 0.17234 0.261718\n",
            "2.3080819999999997 1.1453859999999998 -0.598658 0.564038\n",
            "1.1828115 0.6920565 -0.044076 0.446679\n",
            "2.39015775 1.2251942500000002 -0.522251 0.6427125\n",
            "1.7634725 0.9215735 -0.341275 0.500624\n",
            "2.0699172499999996 1.0386457499999997 -0.5082615 0.52301\n"
          ]
        }
      ]
    },
    {
      "cell_type": "code",
      "metadata": {
        "id": "OmkL1wh2SY6j",
        "outputId": "e8a508cd-fd84-43ca-e50c-b6e22c4ae322",
        "colab": {
          "base_uri": "https://localhost:8080/",
          "height": 653
        }
      },
      "source": [
        "df_c = data_tr.loc[:,data_tr.columns[0]:data_tr.columns[-2]]\n",
        "for i, column in enumerate(df_c.columns, 1):\n",
        "  plt.subplot(1,len(df_c.columns),i)\n",
        "  sns.boxplot(data = data_tr[column], linewidth = 3, palette=\"Set2\", fliersize = 5)\n",
        "  plt.title(column)\n",
        "  plt.tight_layout()"
      ],
      "execution_count": 620,
      "outputs": [
        {
          "output_type": "display_data",
          "data": {
            "image/png": "[encoded data removed]",
            "text/plain": [
              "<Figure size 1800x648 with 10 Axes>"
            ]
          },
          "metadata": {}
        }
      ]
    },
    {
      "cell_type": "markdown",
      "metadata": {
        "id": "_zV6NAnz30TU"
      },
      "source": [
        "Una vez corregido en su mayoría los valores muy atípicos y que por magnitud estaban alejados de lo que se esperaría, revisamos con un gráfico de diagrama de violín para observar cómo se distribuye la densidad de los datos en cada categoría."
      ]
    },
    {
      "cell_type": "code",
      "metadata": {
        "colab": {
          "base_uri": "https://localhost:8080/",
          "height": 550
        },
        "id": "cd92Dnl32ubN",
        "outputId": "a58e66d6-b0ad-4d72-c807-6547306ba740"
      },
      "source": [
        "sns.set(rc={'figure.figsize':(25,9)}) # Tamaño de la figura\n",
        "sns.set(style=\"whitegrid\") # Estilo de la figura\n",
        "sns.violinplot(data = data_tr, linewidth = 1, palette=\"Set2\", fliersize = 2)\n",
        "sns.despine(offset=10, trim=True);"
      ],
      "execution_count": 621,
      "outputs": [
        {
          "output_type": "display_data",
          "data": {
            "image/png": "[encoded data removed]",
            "text/plain": [
              "<Figure size 1800x648 with 1 Axes>"
            ]
          },
          "metadata": {}
        }
      ]
    },
    {
      "cell_type": "markdown",
      "metadata": {
        "id": "nxrmK2ff4NOk"
      },
      "source": [
        "La forma en la que estás distribuidos los datos para cada columna ahora están más uniformes si se compara con el primero gráfico de Boxplot, los datos atípicos se atenuaron hasta un punto aceptable en cada categoría."
      ]
    },
    {
      "cell_type": "markdown",
      "metadata": {
        "id": "ahUwlBGFHREU"
      },
      "source": [
        "## Codificación de Variables Categóricas"
      ]
    },
    {
      "cell_type": "markdown",
      "metadata": {
        "id": "nmUa0CE8uBcF"
      },
      "source": [
        "En este apartado, realizar la codificación de la característica o columna *clases*. Justificar la elección del método de codificación."
      ]
    },
    {
      "cell_type": "markdown",
      "metadata": {
        "id": "WoFn86hk-0BL"
      },
      "source": [
        "La codificación que se desea utilizar para la columna de variable categórica *clases* es **One hot Encoding**, esta codificación crea una columna por cada etiqueta que se encuentre en *clases* siendo 12 en total por lo que no se sacrifica mucha memoria y el procesamiento no va a ser extenuante con el dataset de entrenamiento.\n",
        "\n",
        "**Dummy encoding** aunque permite ahorrar una columna de las que se genera tomando k-1 nuevas características no se siente tanta la ventaja en nuestro caso, además se considera mejor tener un valor en alguna de las columnas generadas siendo esto algo que no sucede con el método pd.get_dummies pues alguna etiqueta será representada por tener todos los valores en cero y esto lo evita el One-Hot Encoding.\n",
        "\n",
        "**Label Encoding** no es el método de codificación más opcionado para nuestro caso al correr el riesgo de que el modelo se entrene con una relación de peso-valor, pues tal método relaciona las etiquetas de manera ordinal y un valor de 1 a un valor de 5 puede ser interpretado como más relevante en lugar de interpretarlo como un valor diferente solamente."
      ]
    },
    {
      "cell_type": "code",
      "metadata": {
        "id": "Q2rgikPPXnU5",
        "colab": {
          "base_uri": "https://localhost:8080/"
        },
        "outputId": "9259e176-691f-4442-d758-54f0b6da29ad"
      },
      "source": [
        "from sklearn.preprocessing import OneHotEncoder\n",
        "\n",
        "clases_tr = data_tr[\"clases\"]\n",
        "\n",
        "Onehot = OneHotEncoder(handle_unknown='ignore')\n",
        "Onehot.fit(clases_tr.values.reshape(-1, 1))"
      ],
      "execution_count": 622,
      "outputs": [
        {
          "output_type": "execute_result",
          "data": {
            "text/plain": [
              "OneHotEncoder(handle_unknown='ignore')"
            ]
          },
          "metadata": {},
          "execution_count": 622
        }
      ]
    },
    {
      "cell_type": "code",
      "metadata": {
        "id": "_HpvK2swY5xY",
        "colab": {
          "base_uri": "https://localhost:8080/"
        },
        "outputId": "a94d69b7-7f2e-4255-9716-ef6910e0c7f3"
      },
      "source": [
        "Onehot.categories_"
      ],
      "execution_count": 623,
      "outputs": [
        {
          "output_type": "execute_result",
          "data": {
            "text/plain": [
              "[array(['A', 'B', 'C', 'D', 'E', 'F', 'G', 'H', 'I', 'W', 'X', 'Y'],\n",
              "       dtype=object)]"
            ]
          },
          "metadata": {},
          "execution_count": 623
        }
      ]
    },
    {
      "cell_type": "markdown",
      "metadata": {
        "id": "51RQsUFtBRZD"
      },
      "source": [
        "Las etiquetas son las que hemos observado siempre, un total de 12 correspondiente a los 12 copistas.\n",
        "\n",
        "Así mismo, las dimensiones nuevas serán 12 columnas cada una correspondiendo a una letra de la categoría original *clases*."
      ]
    },
    {
      "cell_type": "code",
      "metadata": {
        "id": "9MuchG9cZBdn",
        "colab": {
          "base_uri": "https://localhost:8080/"
        },
        "outputId": "669de65d-a5cf-48c1-d0a8-a7986ac6305d"
      },
      "source": [
        "clases_codificadas = Onehot.transform(clases_tr.values.reshape(-1, 1)).toarray()\n",
        "clases_codificadas.shape"
      ],
      "execution_count": 624,
      "outputs": [
        {
          "output_type": "execute_result",
          "data": {
            "text/plain": [
              "(10428, 12)"
            ]
          },
          "metadata": {},
          "execution_count": 624
        }
      ]
    },
    {
      "cell_type": "code",
      "metadata": {
        "id": "kNe94E38bPBA",
        "colab": {
          "base_uri": "https://localhost:8080/"
        },
        "outputId": "d06d22e8-4033-4dc4-b7c4-8c6d8c25ebf0"
      },
      "source": [
        "nombres_clases_codificadas = Onehot.get_feature_names([\"clases\"])"
      ],
      "execution_count": 625,
      "outputs": [
        {
          "output_type": "stream",
          "name": "stderr",
          "text": [
            "/usr/local/lib/python3.7/dist-packages/sklearn/utils/deprecation.py:87: FutureWarning: Function get_feature_names is deprecated; get_feature_names is deprecated in 1.0 and will be removed in 1.2. Please use get_feature_names_out instead.\n",
            "  warnings.warn(msg, category=FutureWarning)\n"
          ]
        }
      ]
    },
    {
      "cell_type": "code",
      "metadata": {
        "id": "6L_X-3vjCC4s",
        "outputId": "63a26940-183b-4949-ba37-4f887f142f33",
        "colab": {
          "base_uri": "https://localhost:8080/"
        }
      },
      "source": [
        "clases_tr.value_counts().sum()"
      ],
      "execution_count": 626,
      "outputs": [
        {
          "output_type": "execute_result",
          "data": {
            "text/plain": [
              "10428"
            ]
          },
          "metadata": {},
          "execution_count": 626
        }
      ]
    },
    {
      "cell_type": "code",
      "metadata": {
        "id": "0KP9hvFhfmlu"
      },
      "source": [
        "data_tr_codificada = pd.concat([data_tr.loc[:,data_tr.columns[0]:data_tr.columns[-2]]]+[pd.DataFrame(clases_codificadas, columns=nombres_clases_codificadas)],axis=1)"
      ],
      "execution_count": 627,
      "outputs": []
    },
    {
      "cell_type": "code",
      "metadata": {
        "id": "TBMoZwUGgWKe",
        "colab": {
          "base_uri": "https://localhost:8080/",
          "height": 457
        },
        "outputId": "ed4d0095-55b5-4d72-d25b-224718d2c1de"
      },
      "source": [
        "data_tr_codificada"
      ],
      "execution_count": 628,
      "outputs": [
        {
          "output_type": "execute_result",
          "data": {
            "text/html": [
              "<div>\n",
              "<style scoped>\n",
              "    .dataframe tbody tr th:only-of-type {\n",
              "        vertical-align: middle;\n",
              "    }\n",
              "\n",
              "    .dataframe tbody tr th {\n",
              "        vertical-align: top;\n",
              "    }\n",
              "\n",
              "    .dataframe thead th {\n",
              "        text-align: right;\n",
              "    }\n",
              "</style>\n",
              "<table border=\"1\" class=\"dataframe\">\n",
              "  <thead>\n",
              "    <tr style=\"text-align: right;\">\n",
              "      <th></th>\n",
              "      <th>F1 intercolumnar distance</th>\n",
              "      <th>F2 upper margin</th>\n",
              "      <th>F3 lower margin</th>\n",
              "      <th>F4 exploitation</th>\n",
              "      <th>F5 row number</th>\n",
              "      <th>F6 modular ratio</th>\n",
              "      <th>F7 interlinear spacing</th>\n",
              "      <th>F8 weight</th>\n",
              "      <th>F9 peak number</th>\n",
              "      <th>F10 modular ratio/interlinear spacing</th>\n",
              "      <th>clases_A</th>\n",
              "      <th>clases_B</th>\n",
              "      <th>clases_C</th>\n",
              "      <th>clases_D</th>\n",
              "      <th>clases_E</th>\n",
              "      <th>clases_F</th>\n",
              "      <th>clases_G</th>\n",
              "      <th>clases_H</th>\n",
              "      <th>clases_I</th>\n",
              "      <th>clases_W</th>\n",
              "      <th>clases_X</th>\n",
              "      <th>clases_Y</th>\n",
              "    </tr>\n",
              "  </thead>\n",
              "  <tbody>\n",
              "    <tr>\n",
              "      <th>0</th>\n",
              "      <td>0.365442</td>\n",
              "      <td>0.434995</td>\n",
              "      <td>0.320980</td>\n",
              "      <td>1.227549</td>\n",
              "      <td>0.172340</td>\n",
              "      <td>1.145386</td>\n",
              "      <td>0.692056</td>\n",
              "      <td>1.225194</td>\n",
              "      <td>0.921574</td>\n",
              "      <td>1.038646</td>\n",
              "      <td>1.0</td>\n",
              "      <td>0.0</td>\n",
              "      <td>0.0</td>\n",
              "      <td>0.0</td>\n",
              "      <td>0.0</td>\n",
              "      <td>0.0</td>\n",
              "      <td>0.0</td>\n",
              "      <td>0.0</td>\n",
              "      <td>0.0</td>\n",
              "      <td>0.0</td>\n",
              "      <td>0.0</td>\n",
              "      <td>0.0</td>\n",
              "    </tr>\n",
              "    <tr>\n",
              "      <th>1</th>\n",
              "      <td>0.365442</td>\n",
              "      <td>0.434995</td>\n",
              "      <td>0.192950</td>\n",
              "      <td>1.227549</td>\n",
              "      <td>0.261718</td>\n",
              "      <td>1.145386</td>\n",
              "      <td>0.692056</td>\n",
              "      <td>1.225194</td>\n",
              "      <td>0.921574</td>\n",
              "      <td>1.038646</td>\n",
              "      <td>1.0</td>\n",
              "      <td>0.0</td>\n",
              "      <td>0.0</td>\n",
              "      <td>0.0</td>\n",
              "      <td>0.0</td>\n",
              "      <td>0.0</td>\n",
              "      <td>0.0</td>\n",
              "      <td>0.0</td>\n",
              "      <td>0.0</td>\n",
              "      <td>0.0</td>\n",
              "      <td>0.0</td>\n",
              "      <td>0.0</td>\n",
              "    </tr>\n",
              "    <tr>\n",
              "      <th>2</th>\n",
              "      <td>0.365442</td>\n",
              "      <td>0.434995</td>\n",
              "      <td>-0.370741</td>\n",
              "      <td>1.227549</td>\n",
              "      <td>0.082961</td>\n",
              "      <td>1.145386</td>\n",
              "      <td>0.824183</td>\n",
              "      <td>1.225194</td>\n",
              "      <td>0.921574</td>\n",
              "      <td>1.038646</td>\n",
              "      <td>1.0</td>\n",
              "      <td>0.0</td>\n",
              "      <td>0.0</td>\n",
              "      <td>0.0</td>\n",
              "      <td>0.0</td>\n",
              "      <td>0.0</td>\n",
              "      <td>0.0</td>\n",
              "      <td>0.0</td>\n",
              "      <td>0.0</td>\n",
              "      <td>0.0</td>\n",
              "      <td>0.0</td>\n",
              "      <td>0.0</td>\n",
              "    </tr>\n",
              "    <tr>\n",
              "      <th>3</th>\n",
              "      <td>0.365442</td>\n",
              "      <td>0.434995</td>\n",
              "      <td>-0.370741</td>\n",
              "      <td>1.227549</td>\n",
              "      <td>0.261718</td>\n",
              "      <td>2.308082</td>\n",
              "      <td>0.692056</td>\n",
              "      <td>1.225194</td>\n",
              "      <td>0.921574</td>\n",
              "      <td>2.035883</td>\n",
              "      <td>1.0</td>\n",
              "      <td>0.0</td>\n",
              "      <td>0.0</td>\n",
              "      <td>0.0</td>\n",
              "      <td>0.0</td>\n",
              "      <td>0.0</td>\n",
              "      <td>0.0</td>\n",
              "      <td>0.0</td>\n",
              "      <td>0.0</td>\n",
              "      <td>0.0</td>\n",
              "      <td>0.0</td>\n",
              "      <td>0.0</td>\n",
              "    </tr>\n",
              "    <tr>\n",
              "      <th>4</th>\n",
              "      <td>0.365442</td>\n",
              "      <td>0.434995</td>\n",
              "      <td>0.235627</td>\n",
              "      <td>1.227549</td>\n",
              "      <td>0.261718</td>\n",
              "      <td>1.145386</td>\n",
              "      <td>0.692056</td>\n",
              "      <td>1.225194</td>\n",
              "      <td>0.921574</td>\n",
              "      <td>1.038646</td>\n",
              "      <td>1.0</td>\n",
              "      <td>0.0</td>\n",
              "      <td>0.0</td>\n",
              "      <td>0.0</td>\n",
              "      <td>0.0</td>\n",
              "      <td>0.0</td>\n",
              "      <td>0.0</td>\n",
              "      <td>0.0</td>\n",
              "      <td>0.0</td>\n",
              "      <td>0.0</td>\n",
              "      <td>0.0</td>\n",
              "      <td>0.0</td>\n",
              "    </tr>\n",
              "    <tr>\n",
              "      <th>...</th>\n",
              "      <td>...</td>\n",
              "      <td>...</td>\n",
              "      <td>...</td>\n",
              "      <td>...</td>\n",
              "      <td>...</td>\n",
              "      <td>...</td>\n",
              "      <td>...</td>\n",
              "      <td>...</td>\n",
              "      <td>...</td>\n",
              "      <td>...</td>\n",
              "      <td>...</td>\n",
              "      <td>...</td>\n",
              "      <td>...</td>\n",
              "      <td>...</td>\n",
              "      <td>...</td>\n",
              "      <td>...</td>\n",
              "      <td>...</td>\n",
              "      <td>...</td>\n",
              "      <td>...</td>\n",
              "      <td>...</td>\n",
              "      <td>...</td>\n",
              "      <td>...</td>\n",
              "    </tr>\n",
              "    <tr>\n",
              "      <th>10425</th>\n",
              "      <td>0.365442</td>\n",
              "      <td>0.434995</td>\n",
              "      <td>0.694403</td>\n",
              "      <td>1.227549</td>\n",
              "      <td>0.395785</td>\n",
              "      <td>1.145386</td>\n",
              "      <td>0.692056</td>\n",
              "      <td>1.225194</td>\n",
              "      <td>1.763472</td>\n",
              "      <td>1.038646</td>\n",
              "      <td>0.0</td>\n",
              "      <td>0.0</td>\n",
              "      <td>0.0</td>\n",
              "      <td>0.0</td>\n",
              "      <td>0.0</td>\n",
              "      <td>0.0</td>\n",
              "      <td>0.0</td>\n",
              "      <td>0.0</td>\n",
              "      <td>0.0</td>\n",
              "      <td>0.0</td>\n",
              "      <td>0.0</td>\n",
              "      <td>1.0</td>\n",
              "    </tr>\n",
              "    <tr>\n",
              "      <th>10426</th>\n",
              "      <td>0.365442</td>\n",
              "      <td>0.434995</td>\n",
              "      <td>0.488131</td>\n",
              "      <td>1.227549</td>\n",
              "      <td>0.395785</td>\n",
              "      <td>1.145386</td>\n",
              "      <td>0.692056</td>\n",
              "      <td>1.225194</td>\n",
              "      <td>1.467250</td>\n",
              "      <td>1.089013</td>\n",
              "      <td>0.0</td>\n",
              "      <td>0.0</td>\n",
              "      <td>0.0</td>\n",
              "      <td>0.0</td>\n",
              "      <td>0.0</td>\n",
              "      <td>0.0</td>\n",
              "      <td>0.0</td>\n",
              "      <td>0.0</td>\n",
              "      <td>0.0</td>\n",
              "      <td>0.0</td>\n",
              "      <td>0.0</td>\n",
              "      <td>1.0</td>\n",
              "    </tr>\n",
              "    <tr>\n",
              "      <th>10427</th>\n",
              "      <td>0.365442</td>\n",
              "      <td>0.434995</td>\n",
              "      <td>0.562816</td>\n",
              "      <td>1.227549</td>\n",
              "      <td>0.395785</td>\n",
              "      <td>1.145386</td>\n",
              "      <td>0.692056</td>\n",
              "      <td>1.225194</td>\n",
              "      <td>0.921574</td>\n",
              "      <td>1.038646</td>\n",
              "      <td>0.0</td>\n",
              "      <td>0.0</td>\n",
              "      <td>0.0</td>\n",
              "      <td>0.0</td>\n",
              "      <td>0.0</td>\n",
              "      <td>0.0</td>\n",
              "      <td>0.0</td>\n",
              "      <td>0.0</td>\n",
              "      <td>0.0</td>\n",
              "      <td>0.0</td>\n",
              "      <td>0.0</td>\n",
              "      <td>1.0</td>\n",
              "    </tr>\n",
              "    <tr>\n",
              "      <th>10428</th>\n",
              "      <td>0.365442</td>\n",
              "      <td>0.434995</td>\n",
              "      <td>0.399221</td>\n",
              "      <td>1.227549</td>\n",
              "      <td>0.395785</td>\n",
              "      <td>1.145386</td>\n",
              "      <td>0.692056</td>\n",
              "      <td>1.225194</td>\n",
              "      <td>0.921574</td>\n",
              "      <td>2.069917</td>\n",
              "      <td>NaN</td>\n",
              "      <td>NaN</td>\n",
              "      <td>NaN</td>\n",
              "      <td>NaN</td>\n",
              "      <td>NaN</td>\n",
              "      <td>NaN</td>\n",
              "      <td>NaN</td>\n",
              "      <td>NaN</td>\n",
              "      <td>NaN</td>\n",
              "      <td>NaN</td>\n",
              "      <td>NaN</td>\n",
              "      <td>NaN</td>\n",
              "    </tr>\n",
              "    <tr>\n",
              "      <th>10429</th>\n",
              "      <td>0.365442</td>\n",
              "      <td>0.434995</td>\n",
              "      <td>0.399221</td>\n",
              "      <td>1.227549</td>\n",
              "      <td>0.395785</td>\n",
              "      <td>1.145386</td>\n",
              "      <td>0.692056</td>\n",
              "      <td>1.225194</td>\n",
              "      <td>1.248980</td>\n",
              "      <td>2.069917</td>\n",
              "      <td>NaN</td>\n",
              "      <td>NaN</td>\n",
              "      <td>NaN</td>\n",
              "      <td>NaN</td>\n",
              "      <td>NaN</td>\n",
              "      <td>NaN</td>\n",
              "      <td>NaN</td>\n",
              "      <td>NaN</td>\n",
              "      <td>NaN</td>\n",
              "      <td>NaN</td>\n",
              "      <td>NaN</td>\n",
              "      <td>NaN</td>\n",
              "    </tr>\n",
              "  </tbody>\n",
              "</table>\n",
              "<p>10430 rows × 22 columns</p>\n",
              "</div>"
            ],
            "text/plain": [
              "       F1 intercolumnar distance  F2 upper margin  ...  clases_X  clases_Y\n",
              "0                       0.365442         0.434995  ...       0.0       0.0\n",
              "1                       0.365442         0.434995  ...       0.0       0.0\n",
              "2                       0.365442         0.434995  ...       0.0       0.0\n",
              "3                       0.365442         0.434995  ...       0.0       0.0\n",
              "4                       0.365442         0.434995  ...       0.0       0.0\n",
              "...                          ...              ...  ...       ...       ...\n",
              "10425                   0.365442         0.434995  ...       0.0       1.0\n",
              "10426                   0.365442         0.434995  ...       0.0       1.0\n",
              "10427                   0.365442         0.434995  ...       0.0       1.0\n",
              "10428                   0.365442         0.434995  ...       NaN       NaN\n",
              "10429                   0.365442         0.434995  ...       NaN       NaN\n",
              "\n",
              "[10430 rows x 22 columns]"
            ]
          },
          "metadata": {},
          "execution_count": 628
        }
      ]
    },
    {
      "cell_type": "markdown",
      "metadata": {
        "id": "UsBnoNwNTUhS"
      },
      "source": [
        "## Reducción de Dimensionalidad"
      ]
    },
    {
      "cell_type": "markdown",
      "metadata": {
        "id": "uLcSnKhMTX06"
      },
      "source": [
        "Seleccione uno de los algoritmos de reducción de dimensionalidad:\n",
        "\n",
        "- Presente el tamaño del nuevo conjunto de datos\n",
        "- Seleccione dos características de los datos reducidos y genere una gráfica de datos esparcidos (scatter plot) \n",
        "- Haga un análisis de los resultados del gráfico obtenido"
      ]
    },
    {
      "cell_type": "code",
      "metadata": {
        "id": "58Kd68hJTX7h"
      },
      "source": [
        ""
      ],
      "execution_count": 628,
      "outputs": []
    },
    {
      "cell_type": "markdown",
      "metadata": {
        "id": "WdC728ysjemF"
      },
      "source": [
        "## Conclusiones Generales del Taller"
      ]
    },
    {
      "cell_type": "markdown",
      "metadata": {
        "id": "VG_VQayvkBNk"
      },
      "source": [
        "..."
      ]
    }
  ]
}