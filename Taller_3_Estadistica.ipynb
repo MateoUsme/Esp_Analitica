{
  "nbformat": 4,
  "nbformat_minor": 0,
  "metadata": {
    "colab": {
      "name": "Taller_3_Estadistica.ipynb",
      "provenance": [],
      "collapsed_sections": [],
      "include_colab_link": true
    },
    "kernelspec": {
      "name": "python3",
      "display_name": "Python 3"
    },
    "language_info": {
      "name": "python"
    }
  },
  "cells": [
    {
      "cell_type": "markdown",
      "metadata": {
        "id": "view-in-github",
        "colab_type": "text"
      },
      "source": [
        "<a href=\"https://colab.research.google.com/github/MateoUsme/Esp_Analitica/blob/main/Taller_3_Estadistica.ipynb\" target=\"_parent\"><img src=\"https://colab.research.google.com/assets/colab-badge.svg\" alt=\"Open In Colab\"/></a>"
      ]
    },
    {
      "cell_type": "code",
      "metadata": {
        "id": "ycYfCBACPCRL",
        "colab": {
          "base_uri": "https://localhost:8080/"
        },
        "outputId": "bf133b31-749c-4175-94d6-f93d1ef0c675"
      },
      "source": [
        "!wget --no-cache -O init.py -q https://raw.githubusercontent.com/UDEA-Esp-Analitica-y-Ciencia-de-Datos/EACD-02-ESTADISTICA/master/init.py\n",
        "import init; init.init(force_download=False); \n",
        "from IPython.display import Image"
      ],
      "execution_count": 1,
      "outputs": [
        {
          "output_type": "stream",
          "name": "stdout",
          "text": [
            "replicating local resources\n"
          ]
        }
      ]
    },
    {
      "cell_type": "code",
      "metadata": {
        "colab": {
          "base_uri": "https://localhost:8080/",
          "height": 251
        },
        "id": "OaVZxOmQPEzU",
        "outputId": "944f68eb-5703-4436-c132-a3894c7f871d"
      },
      "source": [
        "Image(\"local/imgs/udea-datascience.png\")"
      ],
      "execution_count": 2,
      "outputs": [
        {
          "output_type": "execute_result",
          "data": {
            "image/png": "[encoded data removed]",
            "text/plain": [
              "<IPython.core.display.Image object>"
            ]
          },
          "metadata": {},
          "execution_count": 2
        }
      ]
    },
    {
      "cell_type": "markdown",
      "metadata": {
        "id": "kVJT2mQTPAeo"
      },
      "source": [
        "# **Exploración de Datos - Taller 3**\n",
        "## Universidad de Antioquia"
      ]
    },
    {
      "cell_type": "markdown",
      "metadata": {
        "id": "MGf426IbkERH"
      },
      "source": [
        "### Estudiantes:\n",
        "\n",
        "- "
      ]
    },
    {
      "cell_type": "markdown",
      "metadata": {
        "id": "MjJQFWtuTqtY"
      },
      "source": [
        "## Leer una base de datos"
      ]
    },
    {
      "cell_type": "markdown",
      "metadata": {
        "id": "zZy0oJ9dUI2f"
      },
      "source": [
        "Para este taller utilizaremos un conjunto de datos del mundo real; este corresponde a un análisis de manuscritos antiguos de la Biblia, en el cual se ha identificado la participación de 12 copistas diferentes.\n",
        "Dichos datos ya se han normalizado, utilizando el metodo de normalización Z. Revise la información adicional y la descripción del dataset disponble en: https://archive.ics.uci.edu/ml/datasets/Avila\n",
        "\n",
        "**Sin embargo, no utilizaremos los archivos originales del repositorio, sino unas versiones modificadas (con fines prácticos para el taller) que estarán disponibles para el desarrollo del taller: *avila-tr-modified.csv* y *avila-ts-modified.csv***\n"
      ]
    },
    {
      "cell_type": "code",
      "metadata": {
        "id": "tMAZRauVK-iA"
      },
      "source": [
        "!pip -q install sweetviz\n",
        "\n",
        "import numpy as np\n",
        "import pandas as pd\n",
        "import seaborn as sns\n",
        "import sweetviz as svz\n",
        "import scipy.stats as sts\n",
        "import scipy.special as spcl\n",
        "import matplotlib.pyplot as plt"
      ],
      "execution_count": 75,
      "outputs": []
    },
    {
      "cell_type": "code",
      "metadata": {
        "id": "JJyi78OWD5K2"
      },
      "source": [
        "avila_tr_mod_url = \"https://drive.google.com/uc?export=download&id=1cHJuI7eZyE6hU1EvLu3xKQ3UgBBGDTry\"\n",
        "avila_ts_mod_url = \"https://drive.google.com/uc?export=download&id=1BUOi1v7dGv0Jx4ZM5WstxT6awfz-acCs\""
      ],
      "execution_count": 76,
      "outputs": []
    },
    {
      "cell_type": "code",
      "metadata": {
        "id": "DlgVesdMx0p8",
        "colab": {
          "base_uri": "https://localhost:8080/",
          "height": 423
        },
        "outputId": "8cfc35b8-a2a1-4f1f-8c0b-67521a7830b3"
      },
      "source": [
        "data_tr = pd.read_excel(avila_tr_mod_url) # Read data\n",
        "data_tr"
      ],
      "execution_count": 77,
      "outputs": [
        {
          "output_type": "execute_result",
          "data": {
            "text/html": [
              "<div>\n",
              "<style scoped>\n",
              "    .dataframe tbody tr th:only-of-type {\n",
              "        vertical-align: middle;\n",
              "    }\n",
              "\n",
              "    .dataframe tbody tr th {\n",
              "        vertical-align: top;\n",
              "    }\n",
              "\n",
              "    .dataframe thead th {\n",
              "        text-align: right;\n",
              "    }\n",
              "</style>\n",
              "<table border=\"1\" class=\"dataframe\">\n",
              "  <thead>\n",
              "    <tr style=\"text-align: right;\">\n",
              "      <th></th>\n",
              "      <th>F1 intercolumnar distance</th>\n",
              "      <th>F2 upper margin</th>\n",
              "      <th>F3 lower margin</th>\n",
              "      <th>F4 exploitation</th>\n",
              "      <th>F5 row number</th>\n",
              "      <th>F6 modular ratio</th>\n",
              "      <th>F7 interlinear spacing</th>\n",
              "      <th>F8 weight</th>\n",
              "      <th>F9 peak number</th>\n",
              "      <th>F10 modular ratio/interlinear spacing</th>\n",
              "      <th>clases</th>\n",
              "    </tr>\n",
              "  </thead>\n",
              "  <tbody>\n",
              "    <tr>\n",
              "      <th>0</th>\n",
              "      <td>0.266074</td>\n",
              "      <td>-0.165620</td>\n",
              "      <td>0.320980</td>\n",
              "      <td>0.483299</td>\n",
              "      <td>0.172340</td>\n",
              "      <td>0.273364</td>\n",
              "      <td>0.371178</td>\n",
              "      <td>0.929823</td>\n",
              "      <td>0.251173</td>\n",
              "      <td>0.159345</td>\n",
              "      <td>A</td>\n",
              "    </tr>\n",
              "    <tr>\n",
              "      <th>1</th>\n",
              "      <td>0.130292</td>\n",
              "      <td>NaN</td>\n",
              "      <td>-3.210528</td>\n",
              "      <td>0.062493</td>\n",
              "      <td>0.261718</td>\n",
              "      <td>1.436060</td>\n",
              "      <td>1.465940</td>\n",
              "      <td>0.636203</td>\n",
              "      <td>0.282354</td>\n",
              "      <td>0.515587</td>\n",
              "      <td>A</td>\n",
              "    </tr>\n",
              "    <tr>\n",
              "      <th>2</th>\n",
              "      <td>-0.116585</td>\n",
              "      <td>0.069915</td>\n",
              "      <td>0.068476</td>\n",
              "      <td>-0.783147</td>\n",
              "      <td>NaN</td>\n",
              "      <td>0.439463</td>\n",
              "      <td>-0.081827</td>\n",
              "      <td>-0.888236</td>\n",
              "      <td>-0.123005</td>\n",
              "      <td>0.582939</td>\n",
              "      <td>A</td>\n",
              "    </tr>\n",
              "    <tr>\n",
              "      <th>3</th>\n",
              "      <td>0.031541</td>\n",
              "      <td>0.297600</td>\n",
              "      <td>-3.210528</td>\n",
              "      <td>-0.583590</td>\n",
              "      <td>-0.721442</td>\n",
              "      <td>-0.307984</td>\n",
              "      <td>0.710932</td>\n",
              "      <td>1.051693</td>\n",
              "      <td>0.594169</td>\n",
              "      <td>-0.533994</td>\n",
              "      <td>A</td>\n",
              "    </tr>\n",
              "    <tr>\n",
              "      <th>4</th>\n",
              "      <td>0.229043</td>\n",
              "      <td>0.807926</td>\n",
              "      <td>-0.052442</td>\n",
              "      <td>0.082634</td>\n",
              "      <td>0.261718</td>\n",
              "      <td>0.148790</td>\n",
              "      <td>0.635431</td>\n",
              "      <td>0.051062</td>\n",
              "      <td>0.032902</td>\n",
              "      <td>-0.086652</td>\n",
              "      <td>F</td>\n",
              "    </tr>\n",
              "    <tr>\n",
              "      <th>...</th>\n",
              "      <td>...</td>\n",
              "      <td>...</td>\n",
              "      <td>...</td>\n",
              "      <td>...</td>\n",
              "      <td>...</td>\n",
              "      <td>...</td>\n",
              "      <td>...</td>\n",
              "      <td>...</td>\n",
              "      <td>...</td>\n",
              "      <td>...</td>\n",
              "      <td>...</td>\n",
              "    </tr>\n",
              "    <tr>\n",
              "      <th>10425</th>\n",
              "      <td>0.080916</td>\n",
              "      <td>0.588093</td>\n",
              "      <td>0.015130</td>\n",
              "      <td>0.002250</td>\n",
              "      <td>0.261718</td>\n",
              "      <td>-0.557133</td>\n",
              "      <td>0.371178</td>\n",
              "      <td>0.932346</td>\n",
              "      <td>0.282354</td>\n",
              "      <td>-0.580141</td>\n",
              "      <td>F</td>\n",
              "    </tr>\n",
              "    <tr>\n",
              "      <th>10426</th>\n",
              "      <td>0.253730</td>\n",
              "      <td>-0.338346</td>\n",
              "      <td>0.352988</td>\n",
              "      <td>-1.154243</td>\n",
              "      <td>0.172340</td>\n",
              "      <td>-0.557133</td>\n",
              "      <td>0.257927</td>\n",
              "      <td>0.348428</td>\n",
              "      <td>0.032902</td>\n",
              "      <td>-0.527134</td>\n",
              "      <td>F</td>\n",
              "    </tr>\n",
              "    <tr>\n",
              "      <th>10427</th>\n",
              "      <td>0.229043</td>\n",
              "      <td>NaN</td>\n",
              "      <td>0.171611</td>\n",
              "      <td>-0.002793</td>\n",
              "      <td>0.261718</td>\n",
              "      <td>0.688613</td>\n",
              "      <td>0.295677</td>\n",
              "      <td>-1.088486</td>\n",
              "      <td>-0.590727</td>\n",
              "      <td>0.580142</td>\n",
              "      <td>A</td>\n",
              "    </tr>\n",
              "    <tr>\n",
              "      <th>10428</th>\n",
              "      <td>-0.301743</td>\n",
              "      <td>0.352558</td>\n",
              "      <td>0.288973</td>\n",
              "      <td>1.638181</td>\n",
              "      <td>0.261718</td>\n",
              "      <td>0.688613</td>\n",
              "      <td>0.069175</td>\n",
              "      <td>0.502761</td>\n",
              "      <td>0.625350</td>\n",
              "      <td>0.718969</td>\n",
              "      <td>E</td>\n",
              "    </tr>\n",
              "    <tr>\n",
              "      <th>10429</th>\n",
              "      <td>-0.104241</td>\n",
              "      <td>-1.037102</td>\n",
              "      <td>0.388552</td>\n",
              "      <td>-1.099311</td>\n",
              "      <td>0.172340</td>\n",
              "      <td>-0.307984</td>\n",
              "      <td>NaN</td>\n",
              "      <td>-1.337547</td>\n",
              "      <td>0.999528</td>\n",
              "      <td>-0.551063</td>\n",
              "      <td>X</td>\n",
              "    </tr>\n",
              "  </tbody>\n",
              "</table>\n",
              "<p>10430 rows × 11 columns</p>\n",
              "</div>"
            ],
            "text/plain": [
              "       F1 intercolumnar distance  ...  clases\n",
              "0                       0.266074  ...       A\n",
              "1                       0.130292  ...       A\n",
              "2                      -0.116585  ...       A\n",
              "3                       0.031541  ...       A\n",
              "4                       0.229043  ...       F\n",
              "...                          ...  ...     ...\n",
              "10425                   0.080916  ...       F\n",
              "10426                   0.253730  ...       F\n",
              "10427                   0.229043  ...       A\n",
              "10428                  -0.301743  ...       E\n",
              "10429                  -0.104241  ...       X\n",
              "\n",
              "[10430 rows x 11 columns]"
            ]
          },
          "metadata": {},
          "execution_count": 77
        }
      ]
    },
    {
      "cell_type": "code",
      "metadata": {
        "colab": {
          "base_uri": "https://localhost:8080/",
          "height": 423
        },
        "id": "MXnqcAnZLahP",
        "outputId": "0e1d73f0-3880-403a-cbb8-75af419eabac"
      },
      "source": [
        "data_ts = pd.read_excel(avila_ts_mod_url) # Read data\n",
        "data_ts"
      ],
      "execution_count": 78,
      "outputs": [
        {
          "output_type": "execute_result",
          "data": {
            "text/html": [
              "<div>\n",
              "<style scoped>\n",
              "    .dataframe tbody tr th:only-of-type {\n",
              "        vertical-align: middle;\n",
              "    }\n",
              "\n",
              "    .dataframe tbody tr th {\n",
              "        vertical-align: top;\n",
              "    }\n",
              "\n",
              "    .dataframe thead th {\n",
              "        text-align: right;\n",
              "    }\n",
              "</style>\n",
              "<table border=\"1\" class=\"dataframe\">\n",
              "  <thead>\n",
              "    <tr style=\"text-align: right;\">\n",
              "      <th></th>\n",
              "      <th>F1 intercolumnar distance</th>\n",
              "      <th>F2 upper margin</th>\n",
              "      <th>F3 lower margin</th>\n",
              "      <th>F4 exploitation</th>\n",
              "      <th>F5 row number</th>\n",
              "      <th>F6 modular ratio</th>\n",
              "      <th>F7 interlinear spacing</th>\n",
              "      <th>F8 weight</th>\n",
              "      <th>F9 peak number</th>\n",
              "      <th>F10 modular ratio/interlinear spacing</th>\n",
              "      <th>clases</th>\n",
              "    </tr>\n",
              "  </thead>\n",
              "  <tbody>\n",
              "    <tr>\n",
              "      <th>0</th>\n",
              "      <td>-3.498799</td>\n",
              "      <td>0.250492</td>\n",
              "      <td>0.232070</td>\n",
              "      <td>1.224178</td>\n",
              "      <td>-4.922215</td>\n",
              "      <td>1.145386</td>\n",
              "      <td>0.182426</td>\n",
              "      <td>-0.165983</td>\n",
              "      <td>-0.123005</td>\n",
              "      <td>1.087144</td>\n",
              "      <td>W</td>\n",
              "    </tr>\n",
              "    <tr>\n",
              "      <th>1</th>\n",
              "      <td>0.204355</td>\n",
              "      <td>-0.354049</td>\n",
              "      <td>0.320980</td>\n",
              "      <td>0.410166</td>\n",
              "      <td>-0.989576</td>\n",
              "      <td>-2.218127</td>\n",
              "      <td>0.220177</td>\n",
              "      <td>0.181844</td>\n",
              "      <td>2.090879</td>\n",
              "      <td>-2.009758</td>\n",
              "      <td>A</td>\n",
              "    </tr>\n",
              "    <tr>\n",
              "      <th>2</th>\n",
              "      <td>0.759828</td>\n",
              "      <td>-1.304042</td>\n",
              "      <td>NaN</td>\n",
              "      <td>-0.973663</td>\n",
              "      <td>-0.006417</td>\n",
              "      <td>-0.349509</td>\n",
              "      <td>-0.421580</td>\n",
              "      <td>-0.450127</td>\n",
              "      <td>0.469443</td>\n",
              "      <td>0.060952</td>\n",
              "      <td>I</td>\n",
              "    </tr>\n",
              "    <tr>\n",
              "      <th>3</th>\n",
              "      <td>-0.005490</td>\n",
              "      <td>0.360409</td>\n",
              "      <td>0.281860</td>\n",
              "      <td>-0.213479</td>\n",
              "      <td>-1.168333</td>\n",
              "      <td>-1.013906</td>\n",
              "      <td>-0.346080</td>\n",
              "      <td>1.176165</td>\n",
              "      <td>0.968347</td>\n",
              "      <td>-0.627999</td>\n",
              "      <td>E</td>\n",
              "    </tr>\n",
              "    <tr>\n",
              "      <th>4</th>\n",
              "      <td>0.080916</td>\n",
              "      <td>0.101320</td>\n",
              "      <td>0.104040</td>\n",
              "      <td>0.140490</td>\n",
              "      <td>0.261718</td>\n",
              "      <td>0.480988</td>\n",
              "      <td>0.710932</td>\n",
              "      <td>-0.253430</td>\n",
              "      <td>-0.497183</td>\n",
              "      <td>0.155681</td>\n",
              "      <td>A</td>\n",
              "    </tr>\n",
              "    <tr>\n",
              "      <th>...</th>\n",
              "      <td>...</td>\n",
              "      <td>...</td>\n",
              "      <td>...</td>\n",
              "      <td>...</td>\n",
              "      <td>...</td>\n",
              "      <td>...</td>\n",
              "      <td>...</td>\n",
              "      <td>...</td>\n",
              "      <td>...</td>\n",
              "      <td>...</td>\n",
              "      <td>...</td>\n",
              "    </tr>\n",
              "    <tr>\n",
              "      <th>10432</th>\n",
              "      <td>-0.128929</td>\n",
              "      <td>-0.040001</td>\n",
              "      <td>0.057807</td>\n",
              "      <td>0.557894</td>\n",
              "      <td>0.261718</td>\n",
              "      <td>-0.930856</td>\n",
              "      <td>NaN</td>\n",
              "      <td>1.158458</td>\n",
              "      <td>2.277968</td>\n",
              "      <td>-0.699884</td>\n",
              "      <td>X</td>\n",
              "    </tr>\n",
              "    <tr>\n",
              "      <th>10433</th>\n",
              "      <td>0.266074</td>\n",
              "      <td>0.556689</td>\n",
              "      <td>-0.020434</td>\n",
              "      <td>NaN</td>\n",
              "      <td>0.261718</td>\n",
              "      <td>-0.515608</td>\n",
              "      <td>0.597681</td>\n",
              "      <td>0.178349</td>\n",
              "      <td>0.625350</td>\n",
              "      <td>-0.657245</td>\n",
              "      <td>G</td>\n",
              "    </tr>\n",
              "    <tr>\n",
              "      <th>10434</th>\n",
              "      <td>-0.054866</td>\n",
              "      <td>NaN</td>\n",
              "      <td>0.032912</td>\n",
              "      <td>-0.016668</td>\n",
              "      <td>0.261718</td>\n",
              "      <td>1.519109</td>\n",
              "      <td>0.371178</td>\n",
              "      <td>-0.985508</td>\n",
              "      <td>-0.403638</td>\n",
              "      <td>1.276301</td>\n",
              "      <td>A</td>\n",
              "    </tr>\n",
              "    <tr>\n",
              "      <th>10435</th>\n",
              "      <td>0.080916</td>\n",
              "      <td>0.588093</td>\n",
              "      <td>0.015130</td>\n",
              "      <td>0.002250</td>\n",
              "      <td>0.261718</td>\n",
              "      <td>-0.930856</td>\n",
              "      <td>-0.270579</td>\n",
              "      <td>0.163807</td>\n",
              "      <td>-0.091823</td>\n",
              "      <td>-0.593329</td>\n",
              "      <td>F</td>\n",
              "    </tr>\n",
              "    <tr>\n",
              "      <th>10436</th>\n",
              "      <td>0.377169</td>\n",
              "      <td>0.014957</td>\n",
              "      <td>0.381439</td>\n",
              "      <td>0.292753</td>\n",
              "      <td>0.261718</td>\n",
              "      <td>-1.470679</td>\n",
              "      <td>-0.006326</td>\n",
              "      <td>-0.494919</td>\n",
              "      <td>-0.247731</td>\n",
              "      <td>-1.212974</td>\n",
              "      <td>H</td>\n",
              "    </tr>\n",
              "  </tbody>\n",
              "</table>\n",
              "<p>10437 rows × 11 columns</p>\n",
              "</div>"
            ],
            "text/plain": [
              "       F1 intercolumnar distance  ...  clases\n",
              "0                      -3.498799  ...       W\n",
              "1                       0.204355  ...       A\n",
              "2                       0.759828  ...       I\n",
              "3                      -0.005490  ...       E\n",
              "4                       0.080916  ...       A\n",
              "...                          ...  ...     ...\n",
              "10432                  -0.128929  ...       X\n",
              "10433                   0.266074  ...       G\n",
              "10434                  -0.054866  ...       A\n",
              "10435                   0.080916  ...       F\n",
              "10436                   0.377169  ...       H\n",
              "\n",
              "[10437 rows x 11 columns]"
            ]
          },
          "metadata": {},
          "execution_count": 78
        }
      ]
    },
    {
      "cell_type": "markdown",
      "metadata": {
        "id": "pC6M_TmBWG9p"
      },
      "source": [
        "## Exploración de Datos Inicial"
      ]
    },
    {
      "cell_type": "markdown",
      "metadata": {
        "id": "eSNYYq8vSGeJ"
      },
      "source": [
        "Una vez cargado los archivos avila_tr_modified.xlsx y avila_ts_modified.xlsx,  realice una breve exploración de ambas bases de datos.\n",
        "\n",
        "¿Hay datos nulos o faltantes? ¿Cuál es el porcentaje de datos nulos o faltantes?"
      ]
    },
    {
      "cell_type": "code",
      "metadata": {
        "id": "Nf6iuhAG_QWB",
        "outputId": "37b4fe98-e65c-488d-ae88-ee7fcce101c3",
        "colab": {
          "base_uri": "https://localhost:8080/"
        }
      },
      "source": [
        "data_tr.isna().sum()"
      ],
      "execution_count": 136,
      "outputs": [
        {
          "output_type": "execute_result",
          "data": {
            "text/plain": [
              "F1 intercolumnar distance                538\n",
              "F2 upper margin                          536\n",
              "F3 lower margin                          509\n",
              "F4 exploitation                          507\n",
              "F5 row number                            516\n",
              "F6 modular ratio                         504\n",
              "F7 interlinear spacing                   490\n",
              "F8 weight                                565\n",
              "F9 peak number                           514\n",
              "F10 modular ratio/interlinear spacing    536\n",
              "clases                                     0\n",
              "dtype: int64"
            ]
          },
          "metadata": {},
          "execution_count": 136
        }
      ]
    },
    {
      "cell_type": "code",
      "metadata": {
        "id": "Gs2jjBPg0S2L",
        "outputId": "6be04e7a-b6be-448b-f4e7-8ec8c3d2a23e",
        "colab": {
          "base_uri": "https://localhost:8080/"
        }
      },
      "source": [
        "for col in data_tr.columns:\n",
        "  print(len(data_tr[col].unique()))"
      ],
      "execution_count": 80,
      "outputs": [
        {
          "output_type": "stream",
          "name": "stdout",
          "text": [
            "145\n",
            "209\n",
            "232\n",
            "751\n",
            "49\n",
            "227\n",
            "229\n",
            "9576\n",
            "262\n",
            "9475\n",
            "12\n"
          ]
        }
      ]
    },
    {
      "cell_type": "code",
      "metadata": {
        "id": "i_39naSy75R-",
        "outputId": "14dd0f42-bc1d-4e5f-b7ee-1ebc201ae20f",
        "colab": {
          "base_uri": "https://localhost:8080/"
        }
      },
      "source": [
        "from sklearn.impute import MissingIndicator\n",
        "import numpy as np\n",
        "\n",
        "valores_faltantes = MissingIndicator(missing_values = np.nan) \n",
        "valores_faltantes.fit(data_tr)\n",
        "total_vf = valores_faltantes.transform(data_tr)\n",
        "\n",
        "valores_faltantes.features_"
      ],
      "execution_count": 109,
      "outputs": [
        {
          "output_type": "execute_result",
          "data": {
            "text/plain": [
              "array([0, 1, 2, 3, 4, 5, 6, 7, 8, 9])"
            ]
          },
          "metadata": {},
          "execution_count": 109
        }
      ]
    },
    {
      "cell_type": "code",
      "metadata": {
        "id": "9qU_g0nQ8rxl",
        "outputId": "88b7c845-01b6-4fb8-c6b5-b6cd3988d505",
        "colab": {
          "base_uri": "https://localhost:8080/"
        }
      },
      "source": [
        "print(\"Porcentaje de Datos Faltantes (%): \",100*(len(np.where(total_vf == True)[0])/(data_tr.shape[0]*data_tr.shape[1])))"
      ],
      "execution_count": 115,
      "outputs": [
        {
          "output_type": "stream",
          "name": "stdout",
          "text": [
            "Porcentaje de Datos Faltantes (%):  4.545454545454546\n"
          ]
        }
      ]
    },
    {
      "cell_type": "markdown",
      "metadata": {
        "id": "0DjKwILmf3Ot"
      },
      "source": [
        "## Exploración de Datos Exhaustiva"
      ]
    },
    {
      "cell_type": "markdown",
      "metadata": {
        "id": "PL7sr92ASHl8"
      },
      "source": [
        "\n",
        "\n",
        "Realice una exploración exhaustiva de la base de datos y responda las siguientes preguntas:\n",
        "\n",
        "¿Cuales columnas tienen datos faltantes?\n",
        "\n",
        "Presente y calcule el porcentaje de los datos faltantes contenidos en nuestra base de datos.\n"
      ]
    },
    {
      "cell_type": "code",
      "metadata": {
        "id": "Xw7n_ks2-v4z",
        "outputId": "0eb75220-7b4c-4bf6-e97c-d963609a0022",
        "colab": {
          "base_uri": "https://localhost:8080/"
        }
      },
      "source": [
        "for col in valores_faltantes.features_:\n",
        "  print(data_tr.columns[col])"
      ],
      "execution_count": 117,
      "outputs": [
        {
          "output_type": "stream",
          "name": "stdout",
          "text": [
            "F1 intercolumnar distance\n",
            "F2 upper margin\n",
            "F3 lower margin\n",
            "F4 exploitation\n",
            "F5 row number\n",
            "F6 modular ratio\n",
            "F7 interlinear spacing\n",
            "F8 weight\n",
            "F9 peak number\n",
            "F10 modular ratio/interlinear spacing\n"
          ]
        }
      ]
    },
    {
      "cell_type": "code",
      "metadata": {
        "id": "qiA7i9Xi1XYZ",
        "outputId": "e3198481-7c86-4639-dc81-2e9ed56ad6e5",
        "colab": {
          "base_uri": "https://localhost:8080/",
          "height": 300
        }
      },
      "source": [
        "data_tr.describe()"
      ],
      "execution_count": 81,
      "outputs": [
        {
          "output_type": "execute_result",
          "data": {
            "text/html": [
              "<div>\n",
              "<style scoped>\n",
              "    .dataframe tbody tr th:only-of-type {\n",
              "        vertical-align: middle;\n",
              "    }\n",
              "\n",
              "    .dataframe tbody tr th {\n",
              "        vertical-align: top;\n",
              "    }\n",
              "\n",
              "    .dataframe thead th {\n",
              "        text-align: right;\n",
              "    }\n",
              "</style>\n",
              "<table border=\"1\" class=\"dataframe\">\n",
              "  <thead>\n",
              "    <tr style=\"text-align: right;\">\n",
              "      <th></th>\n",
              "      <th>F1 intercolumnar distance</th>\n",
              "      <th>F2 upper margin</th>\n",
              "      <th>F3 lower margin</th>\n",
              "      <th>F4 exploitation</th>\n",
              "      <th>F5 row number</th>\n",
              "      <th>F6 modular ratio</th>\n",
              "      <th>F7 interlinear spacing</th>\n",
              "      <th>F8 weight</th>\n",
              "      <th>F9 peak number</th>\n",
              "      <th>F10 modular ratio/interlinear spacing</th>\n",
              "    </tr>\n",
              "  </thead>\n",
              "  <tbody>\n",
              "    <tr>\n",
              "      <th>count</th>\n",
              "      <td>9892.000000</td>\n",
              "      <td>9894.000000</td>\n",
              "      <td>9921.000000</td>\n",
              "      <td>9923.000000</td>\n",
              "      <td>9914.000000</td>\n",
              "      <td>9926.000000</td>\n",
              "      <td>9940.000000</td>\n",
              "      <td>9865.000000</td>\n",
              "      <td>9916.000000</td>\n",
              "      <td>9894.000000</td>\n",
              "    </tr>\n",
              "    <tr>\n",
              "      <th>mean</th>\n",
              "      <td>0.001546</td>\n",
              "      <td>0.036306</td>\n",
              "      <td>0.002634</td>\n",
              "      <td>-0.005310</td>\n",
              "      <td>0.007233</td>\n",
              "      <td>0.011181</td>\n",
              "      <td>0.004743</td>\n",
              "      <td>0.013899</td>\n",
              "      <td>0.013354</td>\n",
              "      <td>0.001993</td>\n",
              "    </tr>\n",
              "    <tr>\n",
              "      <th>std</th>\n",
              "      <td>0.987086</td>\n",
              "      <td>4.019557</td>\n",
              "      <td>1.124072</td>\n",
              "      <td>1.007372</td>\n",
              "      <td>0.992470</td>\n",
              "      <td>1.132249</td>\n",
              "      <td>1.328194</td>\n",
              "      <td>1.002868</td>\n",
              "      <td>1.093308</td>\n",
              "      <td>1.002932</td>\n",
              "    </tr>\n",
              "    <tr>\n",
              "      <th>min</th>\n",
              "      <td>-3.498799</td>\n",
              "      <td>-2.426761</td>\n",
              "      <td>-3.210528</td>\n",
              "      <td>-5.440122</td>\n",
              "      <td>-4.922215</td>\n",
              "      <td>-7.450257</td>\n",
              "      <td>-11.935457</td>\n",
              "      <td>-4.247781</td>\n",
              "      <td>-5.486218</td>\n",
              "      <td>-6.719324</td>\n",
              "    </tr>\n",
              "    <tr>\n",
              "      <th>25%</th>\n",
              "      <td>-0.128929</td>\n",
              "      <td>-0.259834</td>\n",
              "      <td>0.064919</td>\n",
              "      <td>-0.542563</td>\n",
              "      <td>0.172340</td>\n",
              "      <td>-0.598658</td>\n",
              "      <td>-0.044076</td>\n",
              "      <td>-0.537749</td>\n",
              "      <td>-0.372457</td>\n",
              "      <td>-0.516878</td>\n",
              "    </tr>\n",
              "    <tr>\n",
              "      <th>50%</th>\n",
              "      <td>0.043885</td>\n",
              "      <td>-0.055704</td>\n",
              "      <td>0.217845</td>\n",
              "      <td>0.089437</td>\n",
              "      <td>0.261718</td>\n",
              "      <td>-0.058835</td>\n",
              "      <td>0.220177</td>\n",
              "      <td>0.116084</td>\n",
              "      <td>0.064084</td>\n",
              "      <td>-0.036816</td>\n",
              "    </tr>\n",
              "    <tr>\n",
              "      <th>75%</th>\n",
              "      <td>0.204355</td>\n",
              "      <td>0.203385</td>\n",
              "      <td>0.352988</td>\n",
              "      <td>0.655644</td>\n",
              "      <td>0.261718</td>\n",
              "      <td>0.564038</td>\n",
              "      <td>0.446679</td>\n",
              "      <td>0.654959</td>\n",
              "      <td>0.500624</td>\n",
              "      <td>0.533989</td>\n",
              "    </tr>\n",
              "    <tr>\n",
              "      <th>max</th>\n",
              "      <td>11.819916</td>\n",
              "      <td>386.000000</td>\n",
              "      <td>50.000000</td>\n",
              "      <td>3.987152</td>\n",
              "      <td>1.066121</td>\n",
              "      <td>53.000000</td>\n",
              "      <td>83.000000</td>\n",
              "      <td>13.173081</td>\n",
              "      <td>44.000000</td>\n",
              "      <td>4.671232</td>\n",
              "    </tr>\n",
              "  </tbody>\n",
              "</table>\n",
              "</div>"
            ],
            "text/plain": [
              "       F1 intercolumnar distance  ...  F10 modular ratio/interlinear spacing\n",
              "count                9892.000000  ...                            9894.000000\n",
              "mean                    0.001546  ...                               0.001993\n",
              "std                     0.987086  ...                               1.002932\n",
              "min                    -3.498799  ...                              -6.719324\n",
              "25%                    -0.128929  ...                              -0.516878\n",
              "50%                     0.043885  ...                              -0.036816\n",
              "75%                     0.204355  ...                               0.533989\n",
              "max                    11.819916  ...                               4.671232\n",
              "\n",
              "[8 rows x 10 columns]"
            ]
          },
          "metadata": {},
          "execution_count": 81
        }
      ]
    },
    {
      "cell_type": "markdown",
      "metadata": {
        "id": "wBY6bacooZSM"
      },
      "source": [
        "## Imputación de Datos\n",
        "\n"
      ]
    },
    {
      "cell_type": "markdown",
      "metadata": {
        "id": "aLT-syfLSIlq"
      },
      "source": [
        "De los métodos enseñados en clase, escoja el método de imputación de datos mas adecuado y justifique su elección. "
      ]
    },
    {
      "cell_type": "code",
      "metadata": {
        "id": "2fQ5fBwSBZRH",
        "outputId": "8a59d549-713e-4149-f223-4ae743fa73dc",
        "colab": {
          "base_uri": "https://localhost:8080/",
          "height": 423
        }
      },
      "source": [
        "data_tr = data_tr.sort_values(by=\"clases\").reset_index()\n",
        "data_tr_numerica = data_tr.loc[:,data_tr.columns[0]:data_tr.columns[-2]].copy()\n",
        "columnas = data_tr_numerica.columns\n",
        "col_clases = data_tr.clases\n",
        "data_tr_numerica\n"
      ],
      "execution_count": 174,
      "outputs": [
        {
          "output_type": "execute_result",
          "data": {
            "text/html": [
              "<div>\n",
              "<style scoped>\n",
              "    .dataframe tbody tr th:only-of-type {\n",
              "        vertical-align: middle;\n",
              "    }\n",
              "\n",
              "    .dataframe tbody tr th {\n",
              "        vertical-align: top;\n",
              "    }\n",
              "\n",
              "    .dataframe thead th {\n",
              "        text-align: right;\n",
              "    }\n",
              "</style>\n",
              "<table border=\"1\" class=\"dataframe\">\n",
              "  <thead>\n",
              "    <tr style=\"text-align: right;\">\n",
              "      <th></th>\n",
              "      <th>level_0</th>\n",
              "      <th>index</th>\n",
              "      <th>F1 intercolumnar distance</th>\n",
              "      <th>F2 upper margin</th>\n",
              "      <th>F3 lower margin</th>\n",
              "      <th>F4 exploitation</th>\n",
              "      <th>F5 row number</th>\n",
              "      <th>F6 modular ratio</th>\n",
              "      <th>F7 interlinear spacing</th>\n",
              "      <th>F8 weight</th>\n",
              "      <th>F9 peak number</th>\n",
              "      <th>F10 modular ratio/interlinear spacing</th>\n",
              "    </tr>\n",
              "  </thead>\n",
              "  <tbody>\n",
              "    <tr>\n",
              "      <th>0</th>\n",
              "      <td>0</td>\n",
              "      <td>0</td>\n",
              "      <td>0.266074</td>\n",
              "      <td>-0.165620</td>\n",
              "      <td>0.320980</td>\n",
              "      <td>0.483299</td>\n",
              "      <td>0.172340</td>\n",
              "      <td>0.273364</td>\n",
              "      <td>0.371178</td>\n",
              "      <td>0.929823</td>\n",
              "      <td>0.251173</td>\n",
              "      <td>0.159345</td>\n",
              "    </tr>\n",
              "    <tr>\n",
              "      <th>1</th>\n",
              "      <td>2850</td>\n",
              "      <td>6986</td>\n",
              "      <td>-0.314087</td>\n",
              "      <td>-2.426761</td>\n",
              "      <td>-0.006209</td>\n",
              "      <td>-0.194681</td>\n",
              "      <td>0.261718</td>\n",
              "      <td>2.100457</td>\n",
              "      <td>0.446679</td>\n",
              "      <td>-0.892527</td>\n",
              "      <td>-0.185368</td>\n",
              "      <td>1.737085</td>\n",
              "    </tr>\n",
              "    <tr>\n",
              "      <th>2</th>\n",
              "      <td>2851</td>\n",
              "      <td>6875</td>\n",
              "      <td>0.154980</td>\n",
              "      <td>-0.471816</td>\n",
              "      <td>0.509470</td>\n",
              "      <td>1.205082</td>\n",
              "      <td>0.261718</td>\n",
              "      <td>1.062336</td>\n",
              "      <td>0.408929</td>\n",
              "      <td>0.201123</td>\n",
              "      <td>-0.185368</td>\n",
              "      <td>0.834674</td>\n",
              "    </tr>\n",
              "    <tr>\n",
              "      <th>3</th>\n",
              "      <td>2852</td>\n",
              "      <td>6980</td>\n",
              "      <td>NaN</td>\n",
              "      <td>-0.110662</td>\n",
              "      <td>0.409890</td>\n",
              "      <td>1.097277</td>\n",
              "      <td>0.261718</td>\n",
              "      <td>1.353010</td>\n",
              "      <td>0.786433</td>\n",
              "      <td>-0.181904</td>\n",
              "      <td>-0.247731</td>\n",
              "      <td>0.862992</td>\n",
              "    </tr>\n",
              "    <tr>\n",
              "      <th>4</th>\n",
              "      <td>2853</td>\n",
              "      <td>6916</td>\n",
              "      <td>0.364825</td>\n",
              "      <td>-0.149918</td>\n",
              "      <td>0.107596</td>\n",
              "      <td>-1.108143</td>\n",
              "      <td>0.172340</td>\n",
              "      <td>-0.391033</td>\n",
              "      <td>0.220177</td>\n",
              "      <td>1.961441</td>\n",
              "      <td>0.500624</td>\n",
              "      <td>-0.345222</td>\n",
              "    </tr>\n",
              "    <tr>\n",
              "      <th>...</th>\n",
              "      <td>...</td>\n",
              "      <td>...</td>\n",
              "      <td>...</td>\n",
              "      <td>...</td>\n",
              "      <td>...</td>\n",
              "      <td>...</td>\n",
              "      <td>...</td>\n",
              "      <td>...</td>\n",
              "      <td>...</td>\n",
              "      <td>...</td>\n",
              "      <td>...</td>\n",
              "      <td>...</td>\n",
              "    </tr>\n",
              "    <tr>\n",
              "      <th>10425</th>\n",
              "      <td>10258</td>\n",
              "      <td>8518</td>\n",
              "      <td>-0.635027</td>\n",
              "      <td>NaN</td>\n",
              "      <td>0.299642</td>\n",
              "      <td>1.407861</td>\n",
              "      <td>0.172340</td>\n",
              "      <td>0.730137</td>\n",
              "      <td>-0.912336</td>\n",
              "      <td>0.948093</td>\n",
              "      <td>2.870416</td>\n",
              "      <td>1.426123</td>\n",
              "    </tr>\n",
              "    <tr>\n",
              "      <th>10426</th>\n",
              "      <td>10259</td>\n",
              "      <td>5825</td>\n",
              "      <td>-0.128929</td>\n",
              "      <td>0.705861</td>\n",
              "      <td>0.413447</td>\n",
              "      <td>2.004055</td>\n",
              "      <td>0.619230</td>\n",
              "      <td>1.186911</td>\n",
              "      <td>-1.176589</td>\n",
              "      <td>NaN</td>\n",
              "      <td>NaN</td>\n",
              "      <td>2.120920</td>\n",
              "    </tr>\n",
              "    <tr>\n",
              "      <th>10427</th>\n",
              "      <td>10260</td>\n",
              "      <td>8162</td>\n",
              "      <td>-0.240024</td>\n",
              "      <td>-0.299090</td>\n",
              "      <td>0.694403</td>\n",
              "      <td>0.955725</td>\n",
              "      <td>0.619230</td>\n",
              "      <td>-0.847807</td>\n",
              "      <td>-1.403091</td>\n",
              "      <td>1.471901</td>\n",
              "      <td>1.685520</td>\n",
              "      <td>0.166711</td>\n",
              "    </tr>\n",
              "    <tr>\n",
              "      <th>10428</th>\n",
              "      <td>10246</td>\n",
              "      <td>8184</td>\n",
              "      <td>-0.338774</td>\n",
              "      <td>-0.197025</td>\n",
              "      <td>0.530808</td>\n",
              "      <td>1.146271</td>\n",
              "      <td>0.708609</td>\n",
              "      <td>-0.100360</td>\n",
              "      <td>-1.365341</td>\n",
              "      <td>NaN</td>\n",
              "      <td>-0.029461</td>\n",
              "      <td>0.940024</td>\n",
              "    </tr>\n",
              "    <tr>\n",
              "      <th>10429</th>\n",
              "      <td>10429</td>\n",
              "      <td>8878</td>\n",
              "      <td>-0.301743</td>\n",
              "      <td>-0.314793</td>\n",
              "      <td>0.399221</td>\n",
              "      <td>0.770520</td>\n",
              "      <td>0.708609</td>\n",
              "      <td>1.145386</td>\n",
              "      <td>-1.252090</td>\n",
              "      <td>NaN</td>\n",
              "      <td>1.248980</td>\n",
              "      <td>2.132698</td>\n",
              "    </tr>\n",
              "  </tbody>\n",
              "</table>\n",
              "<p>10430 rows × 12 columns</p>\n",
              "</div>"
            ],
            "text/plain": [
              "       level_0  index  ...  F9 peak number  F10 modular ratio/interlinear spacing\n",
              "0            0      0  ...        0.251173                               0.159345\n",
              "1         2850   6986  ...       -0.185368                               1.737085\n",
              "2         2851   6875  ...       -0.185368                               0.834674\n",
              "3         2852   6980  ...       -0.247731                               0.862992\n",
              "4         2853   6916  ...        0.500624                              -0.345222\n",
              "...        ...    ...  ...             ...                                    ...\n",
              "10425    10258   8518  ...        2.870416                               1.426123\n",
              "10426    10259   5825  ...             NaN                               2.120920\n",
              "10427    10260   8162  ...        1.685520                               0.166711\n",
              "10428    10246   8184  ...       -0.029461                               0.940024\n",
              "10429    10429   8878  ...        1.248980                               2.132698\n",
              "\n",
              "[10430 rows x 12 columns]"
            ]
          },
          "metadata": {},
          "execution_count": 174
        }
      ]
    },
    {
      "cell_type": "code",
      "metadata": {
        "id": "8a0nG5KoDvke",
        "outputId": "1e561dac-54cb-432c-a146-907c8dd0b34d",
        "colab": {
          "base_uri": "https://localhost:8080/"
        }
      },
      "source": [
        "from sklearn.impute import KNNImputer\n",
        "\n",
        "knn_imp = KNNImputer(missing_values = np.nan, n_neighbors = 5, weights= \"distance\")  \n",
        "knn_imp.fit(data_tr_numerica)\n",
        "data_tr_2 = knn_imp.transform(data_tr_numerica)\n",
        "print(data_tr_2.shape)"
      ],
      "execution_count": 175,
      "outputs": [
        {
          "output_type": "stream",
          "name": "stdout",
          "text": [
            "(10430, 12)\n"
          ]
        }
      ]
    },
    {
      "cell_type": "code",
      "metadata": {
        "id": "5Z5_JwbhFNVi",
        "outputId": "4f380aaa-5626-41c8-b419-16d9a551c934",
        "colab": {
          "base_uri": "https://localhost:8080/",
          "height": 423
        }
      },
      "source": [
        "pd.concat([pd.DataFrame(data_tr_2,columns=columnas)]+[data_tr.clases],axis=1)"
      ],
      "execution_count": 176,
      "outputs": [
        {
          "output_type": "execute_result",
          "data": {
            "text/html": [
              "<div>\n",
              "<style scoped>\n",
              "    .dataframe tbody tr th:only-of-type {\n",
              "        vertical-align: middle;\n",
              "    }\n",
              "\n",
              "    .dataframe tbody tr th {\n",
              "        vertical-align: top;\n",
              "    }\n",
              "\n",
              "    .dataframe thead th {\n",
              "        text-align: right;\n",
              "    }\n",
              "</style>\n",
              "<table border=\"1\" class=\"dataframe\">\n",
              "  <thead>\n",
              "    <tr style=\"text-align: right;\">\n",
              "      <th></th>\n",
              "      <th>level_0</th>\n",
              "      <th>index</th>\n",
              "      <th>F1 intercolumnar distance</th>\n",
              "      <th>F2 upper margin</th>\n",
              "      <th>F3 lower margin</th>\n",
              "      <th>F4 exploitation</th>\n",
              "      <th>F5 row number</th>\n",
              "      <th>F6 modular ratio</th>\n",
              "      <th>F7 interlinear spacing</th>\n",
              "      <th>F8 weight</th>\n",
              "      <th>F9 peak number</th>\n",
              "      <th>F10 modular ratio/interlinear spacing</th>\n",
              "      <th>clases</th>\n",
              "    </tr>\n",
              "  </thead>\n",
              "  <tbody>\n",
              "    <tr>\n",
              "      <th>0</th>\n",
              "      <td>0.0</td>\n",
              "      <td>0.0</td>\n",
              "      <td>0.266074</td>\n",
              "      <td>-0.165620</td>\n",
              "      <td>0.320980</td>\n",
              "      <td>0.483299</td>\n",
              "      <td>0.172340</td>\n",
              "      <td>0.273364</td>\n",
              "      <td>0.371178</td>\n",
              "      <td>0.929823</td>\n",
              "      <td>0.251173</td>\n",
              "      <td>0.159345</td>\n",
              "      <td>A</td>\n",
              "    </tr>\n",
              "    <tr>\n",
              "      <th>1</th>\n",
              "      <td>2850.0</td>\n",
              "      <td>6986.0</td>\n",
              "      <td>-0.314087</td>\n",
              "      <td>-2.426761</td>\n",
              "      <td>-0.006209</td>\n",
              "      <td>-0.194681</td>\n",
              "      <td>0.261718</td>\n",
              "      <td>2.100457</td>\n",
              "      <td>0.446679</td>\n",
              "      <td>-0.892527</td>\n",
              "      <td>-0.185368</td>\n",
              "      <td>1.737085</td>\n",
              "      <td>A</td>\n",
              "    </tr>\n",
              "    <tr>\n",
              "      <th>2</th>\n",
              "      <td>2851.0</td>\n",
              "      <td>6875.0</td>\n",
              "      <td>0.154980</td>\n",
              "      <td>-0.471816</td>\n",
              "      <td>0.509470</td>\n",
              "      <td>1.205082</td>\n",
              "      <td>0.261718</td>\n",
              "      <td>1.062336</td>\n",
              "      <td>0.408929</td>\n",
              "      <td>0.201123</td>\n",
              "      <td>-0.185368</td>\n",
              "      <td>0.834674</td>\n",
              "      <td>A</td>\n",
              "    </tr>\n",
              "    <tr>\n",
              "      <th>3</th>\n",
              "      <td>2852.0</td>\n",
              "      <td>6980.0</td>\n",
              "      <td>0.000291</td>\n",
              "      <td>-0.110662</td>\n",
              "      <td>0.409890</td>\n",
              "      <td>1.097277</td>\n",
              "      <td>0.261718</td>\n",
              "      <td>1.353010</td>\n",
              "      <td>0.786433</td>\n",
              "      <td>-0.181904</td>\n",
              "      <td>-0.247731</td>\n",
              "      <td>0.862992</td>\n",
              "      <td>A</td>\n",
              "    </tr>\n",
              "    <tr>\n",
              "      <th>4</th>\n",
              "      <td>2853.0</td>\n",
              "      <td>6916.0</td>\n",
              "      <td>0.364825</td>\n",
              "      <td>-0.149918</td>\n",
              "      <td>0.107596</td>\n",
              "      <td>-1.108143</td>\n",
              "      <td>0.172340</td>\n",
              "      <td>-0.391033</td>\n",
              "      <td>0.220177</td>\n",
              "      <td>1.961441</td>\n",
              "      <td>0.500624</td>\n",
              "      <td>-0.345222</td>\n",
              "      <td>A</td>\n",
              "    </tr>\n",
              "    <tr>\n",
              "      <th>...</th>\n",
              "      <td>...</td>\n",
              "      <td>...</td>\n",
              "      <td>...</td>\n",
              "      <td>...</td>\n",
              "      <td>...</td>\n",
              "      <td>...</td>\n",
              "      <td>...</td>\n",
              "      <td>...</td>\n",
              "      <td>...</td>\n",
              "      <td>...</td>\n",
              "      <td>...</td>\n",
              "      <td>...</td>\n",
              "      <td>...</td>\n",
              "    </tr>\n",
              "    <tr>\n",
              "      <th>10425</th>\n",
              "      <td>10258.0</td>\n",
              "      <td>8518.0</td>\n",
              "      <td>-0.635027</td>\n",
              "      <td>-0.031185</td>\n",
              "      <td>0.299642</td>\n",
              "      <td>1.407861</td>\n",
              "      <td>0.172340</td>\n",
              "      <td>0.730137</td>\n",
              "      <td>-0.912336</td>\n",
              "      <td>0.948093</td>\n",
              "      <td>2.870416</td>\n",
              "      <td>1.426123</td>\n",
              "      <td>Y</td>\n",
              "    </tr>\n",
              "    <tr>\n",
              "      <th>10426</th>\n",
              "      <td>10259.0</td>\n",
              "      <td>5825.0</td>\n",
              "      <td>-0.128929</td>\n",
              "      <td>0.705861</td>\n",
              "      <td>0.413447</td>\n",
              "      <td>2.004055</td>\n",
              "      <td>0.619230</td>\n",
              "      <td>1.186911</td>\n",
              "      <td>-1.176589</td>\n",
              "      <td>0.674775</td>\n",
              "      <td>0.939344</td>\n",
              "      <td>2.120920</td>\n",
              "      <td>Y</td>\n",
              "    </tr>\n",
              "    <tr>\n",
              "      <th>10427</th>\n",
              "      <td>10260.0</td>\n",
              "      <td>8162.0</td>\n",
              "      <td>-0.240024</td>\n",
              "      <td>-0.299090</td>\n",
              "      <td>0.694403</td>\n",
              "      <td>0.955725</td>\n",
              "      <td>0.619230</td>\n",
              "      <td>-0.847807</td>\n",
              "      <td>-1.403091</td>\n",
              "      <td>1.471901</td>\n",
              "      <td>1.685520</td>\n",
              "      <td>0.166711</td>\n",
              "      <td>Y</td>\n",
              "    </tr>\n",
              "    <tr>\n",
              "      <th>10428</th>\n",
              "      <td>10246.0</td>\n",
              "      <td>8184.0</td>\n",
              "      <td>-0.338774</td>\n",
              "      <td>-0.197025</td>\n",
              "      <td>0.530808</td>\n",
              "      <td>1.146271</td>\n",
              "      <td>0.708609</td>\n",
              "      <td>-0.100360</td>\n",
              "      <td>-1.365341</td>\n",
              "      <td>1.008031</td>\n",
              "      <td>-0.029461</td>\n",
              "      <td>0.940024</td>\n",
              "      <td>Y</td>\n",
              "    </tr>\n",
              "    <tr>\n",
              "      <th>10429</th>\n",
              "      <td>10429.0</td>\n",
              "      <td>8878.0</td>\n",
              "      <td>-0.301743</td>\n",
              "      <td>-0.314793</td>\n",
              "      <td>0.399221</td>\n",
              "      <td>0.770520</td>\n",
              "      <td>0.708609</td>\n",
              "      <td>1.145386</td>\n",
              "      <td>-1.252090</td>\n",
              "      <td>-0.076883</td>\n",
              "      <td>1.248980</td>\n",
              "      <td>2.132698</td>\n",
              "      <td>Y</td>\n",
              "    </tr>\n",
              "  </tbody>\n",
              "</table>\n",
              "<p>10430 rows × 13 columns</p>\n",
              "</div>"
            ],
            "text/plain": [
              "       level_0   index  ...  F10 modular ratio/interlinear spacing  clases\n",
              "0          0.0     0.0  ...                               0.159345       A\n",
              "1       2850.0  6986.0  ...                               1.737085       A\n",
              "2       2851.0  6875.0  ...                               0.834674       A\n",
              "3       2852.0  6980.0  ...                               0.862992       A\n",
              "4       2853.0  6916.0  ...                              -0.345222       A\n",
              "...        ...     ...  ...                                    ...     ...\n",
              "10425  10258.0  8518.0  ...                               1.426123       Y\n",
              "10426  10259.0  5825.0  ...                               2.120920       Y\n",
              "10427  10260.0  8162.0  ...                               0.166711       Y\n",
              "10428  10246.0  8184.0  ...                               0.940024       Y\n",
              "10429  10429.0  8878.0  ...                               2.132698       Y\n",
              "\n",
              "[10430 rows x 13 columns]"
            ]
          },
          "metadata": {},
          "execution_count": 176
        }
      ]
    },
    {
      "cell_type": "markdown",
      "metadata": {
        "id": "ahUwlBGFHREU"
      },
      "source": [
        "## Codificación de Variables Categóricas"
      ]
    },
    {
      "cell_type": "markdown",
      "metadata": {
        "id": "_CWWkNmLSJYW"
      },
      "source": [
        "En este apartado, realizar la codificación de la característica o columna *clases*. Justificar la elección del método de codificación."
      ]
    },
    {
      "cell_type": "code",
      "metadata": {
        "id": "tn0DMwik2OWK",
        "outputId": "884baecc-4b0b-425d-8dd6-1e55b1ce8873",
        "colab": {
          "base_uri": "https://localhost:8080/",
          "height": 540
        }
      },
      "source": [
        "import seaborn as sns # Librería de visualización para data science\n",
        "\n",
        "sns.set(rc={'figure.figsize':(25,9)}) # Tamaño de la figura\n",
        "sns.set(style=\"whitegrid\") # Estilo de la figura\n",
        "sns.boxplot(data = data_tr, linewidth = 3, palette=\"Set2\", fliersize = 5) # Diagrama Box Plot\n",
        "sns.despine(left=True)"
      ],
      "execution_count": 82,
      "outputs": [
        {
          "output_type": "display_data",
          "data": {
            "image/png": "[encoded data removed]",
            "text/plain": [
              "<Figure size 1800x648 with 1 Axes>"
            ]
          },
          "metadata": {}
        }
      ]
    },
    {
      "cell_type": "code",
      "metadata": {
        "id": "NL8lpEhU5lM3"
      },
      "source": [
        "data_tr[data_tr[\"F2 upper margin\"]>18]"
      ],
      "execution_count": null,
      "outputs": []
    },
    {
      "cell_type": "code",
      "metadata": {
        "id": "rIKY7zX93pLS",
        "outputId": "6162d742-677d-4f8c-9e03-71b065ae55f8",
        "colab": {
          "base_uri": "https://localhost:8080/"
        }
      },
      "source": [
        "data_tr.loc[data_tr[\"F2 upper margin\"]>20,\"F2 upper margin\"] = 19.470188"
      ],
      "execution_count": 83,
      "outputs": [
        {
          "output_type": "stream",
          "name": "stdout",
          "text": [
            "      F1 intercolumnar distance  ...  clases\n",
            "4245                  -3.498799  ...       A\n",
            "6619                   0.000000  ...       A\n",
            "6946                  -3.498799  ...       A\n",
            "7176                  -3.498799  ...       A\n",
            "9402                  -3.498799  ...       A\n",
            "\n",
            "[5 rows x 11 columns]\n"
          ]
        }
      ]
    },
    {
      "cell_type": "code",
      "metadata": {
        "id": "O0UEWL6C6Jt0",
        "outputId": "a52d5171-57b0-4ded-f147-6801c8890ee9",
        "colab": {
          "base_uri": "https://localhost:8080/",
          "height": 331
        }
      },
      "source": [
        "data_tr[data_tr[\"F3 lower margin\"]>7]"
      ],
      "execution_count": 97,
      "outputs": [
        {
          "output_type": "execute_result",
          "data": {
            "text/html": [
              "<div>\n",
              "<style scoped>\n",
              "    .dataframe tbody tr th:only-of-type {\n",
              "        vertical-align: middle;\n",
              "    }\n",
              "\n",
              "    .dataframe tbody tr th {\n",
              "        vertical-align: top;\n",
              "    }\n",
              "\n",
              "    .dataframe thead th {\n",
              "        text-align: right;\n",
              "    }\n",
              "</style>\n",
              "<table border=\"1\" class=\"dataframe\">\n",
              "  <thead>\n",
              "    <tr style=\"text-align: right;\">\n",
              "      <th></th>\n",
              "      <th>F1 intercolumnar distance</th>\n",
              "      <th>F2 upper margin</th>\n",
              "      <th>F3 lower margin</th>\n",
              "      <th>F4 exploitation</th>\n",
              "      <th>F5 row number</th>\n",
              "      <th>F6 modular ratio</th>\n",
              "      <th>F7 interlinear spacing</th>\n",
              "      <th>F8 weight</th>\n",
              "      <th>F9 peak number</th>\n",
              "      <th>F10 modular ratio/interlinear spacing</th>\n",
              "      <th>clases</th>\n",
              "    </tr>\n",
              "  </thead>\n",
              "  <tbody>\n",
              "    <tr>\n",
              "      <th>369</th>\n",
              "      <td>-3.498799</td>\n",
              "      <td>-0.110662</td>\n",
              "      <td>7.419561</td>\n",
              "      <td>2.021451</td>\n",
              "      <td>-4.922215</td>\n",
              "      <td>-0.141884</td>\n",
              "      <td>-0.761334</td>\n",
              "      <td>1.335682</td>\n",
              "      <td>1.404887</td>\n",
              "      <td>0.484039</td>\n",
              "      <td>I</td>\n",
              "    </tr>\n",
              "    <tr>\n",
              "      <th>818</th>\n",
              "      <td>-3.498799</td>\n",
              "      <td>-0.063555</td>\n",
              "      <td>7.458681</td>\n",
              "      <td>0.129002</td>\n",
              "      <td>-4.922215</td>\n",
              "      <td>-0.058835</td>\n",
              "      <td>1.088436</td>\n",
              "      <td>-0.828456</td>\n",
              "      <td>-0.341275</td>\n",
              "      <td>-0.480408</td>\n",
              "      <td>W</td>\n",
              "    </tr>\n",
              "    <tr>\n",
              "      <th>1798</th>\n",
              "      <td>-3.498799</td>\n",
              "      <td>-0.063555</td>\n",
              "      <td>7.458681</td>\n",
              "      <td>0.129002</td>\n",
              "      <td>-4.922215</td>\n",
              "      <td>0.024215</td>\n",
              "      <td>0.635431</td>\n",
              "      <td>-0.009106</td>\n",
              "      <td>-0.029461</td>\n",
              "      <td>-0.200211</td>\n",
              "      <td>W</td>\n",
              "    </tr>\n",
              "    <tr>\n",
              "      <th>1860</th>\n",
              "      <td>-3.498799</td>\n",
              "      <td>-0.110662</td>\n",
              "      <td>7.419561</td>\n",
              "      <td>2.021451</td>\n",
              "      <td>-4.922215</td>\n",
              "      <td>-0.100360</td>\n",
              "      <td>-0.950086</td>\n",
              "      <td>1.138383</td>\n",
              "      <td>0.625350</td>\n",
              "      <td>0.635318</td>\n",
              "      <td>I</td>\n",
              "    </tr>\n",
              "    <tr>\n",
              "      <th>3705</th>\n",
              "      <td>-3.498799</td>\n",
              "      <td>-0.063555</td>\n",
              "      <td>7.458681</td>\n",
              "      <td>0.129002</td>\n",
              "      <td>-4.922215</td>\n",
              "      <td>NaN</td>\n",
              "      <td>0.861934</td>\n",
              "      <td>-0.567979</td>\n",
              "      <td>-0.434820</td>\n",
              "      <td>0.692291</td>\n",
              "      <td>W</td>\n",
              "    </tr>\n",
              "    <tr>\n",
              "      <th>6323</th>\n",
              "      <td>-3.498799</td>\n",
              "      <td>-0.110662</td>\n",
              "      <td>7.419561</td>\n",
              "      <td>2.021451</td>\n",
              "      <td>-4.922215</td>\n",
              "      <td>-0.598658</td>\n",
              "      <td>-1.176589</td>\n",
              "      <td>2.248439</td>\n",
              "      <td>1.248980</td>\n",
              "      <td>0.266636</td>\n",
              "      <td>I</td>\n",
              "    </tr>\n",
              "    <tr>\n",
              "      <th>6619</th>\n",
              "      <td>0.000000</td>\n",
              "      <td>19.470188</td>\n",
              "      <td>50.000000</td>\n",
              "      <td>0.168104</td>\n",
              "      <td>0.000000</td>\n",
              "      <td>53.000000</td>\n",
              "      <td>83.000000</td>\n",
              "      <td>0.275032</td>\n",
              "      <td>44.000000</td>\n",
              "      <td>0.638020</td>\n",
              "      <td>A</td>\n",
              "    </tr>\n",
              "    <tr>\n",
              "      <th>7207</th>\n",
              "      <td>-3.498799</td>\n",
              "      <td>-0.063555</td>\n",
              "      <td>7.458681</td>\n",
              "      <td>0.129002</td>\n",
              "      <td>-4.922215</td>\n",
              "      <td>-0.100360</td>\n",
              "      <td>0.031425</td>\n",
              "      <td>-0.378038</td>\n",
              "      <td>0.188810</td>\n",
              "      <td>0.057226</td>\n",
              "      <td>W</td>\n",
              "    </tr>\n",
              "    <tr>\n",
              "      <th>10199</th>\n",
              "      <td>-3.498799</td>\n",
              "      <td>-0.063555</td>\n",
              "      <td>7.458681</td>\n",
              "      <td>0.129002</td>\n",
              "      <td>-4.922215</td>\n",
              "      <td>0.148790</td>\n",
              "      <td>0.031425</td>\n",
              "      <td>-1.382921</td>\n",
              "      <td>-1.619716</td>\n",
              "      <td>0.240139</td>\n",
              "      <td>W</td>\n",
              "    </tr>\n",
              "  </tbody>\n",
              "</table>\n",
              "</div>"
            ],
            "text/plain": [
              "       F1 intercolumnar distance  ...  clases\n",
              "369                    -3.498799  ...       I\n",
              "818                    -3.498799  ...       W\n",
              "1798                   -3.498799  ...       W\n",
              "1860                   -3.498799  ...       I\n",
              "3705                   -3.498799  ...       W\n",
              "6323                   -3.498799  ...       I\n",
              "6619                    0.000000  ...       A\n",
              "7207                   -3.498799  ...       W\n",
              "10199                  -3.498799  ...       W\n",
              "\n",
              "[9 rows x 11 columns]"
            ]
          },
          "metadata": {},
          "execution_count": 97
        }
      ]
    },
    {
      "cell_type": "code",
      "metadata": {
        "id": "8sEJfQJ26J4Q"
      },
      "source": [
        "data_tr.loc[data_tr[\"F3 lower margin\"]>20,\"F3 lower margin\"] = 7.458687"
      ],
      "execution_count": null,
      "outputs": []
    },
    {
      "cell_type": "code",
      "metadata": {
        "id": "xhgW0t8P6l13",
        "outputId": "2db78bdd-245e-4efa-c72c-f6d5e2a2af09",
        "colab": {
          "base_uri": "https://localhost:8080/",
          "height": 143
        }
      },
      "source": [
        "data_tr[data_tr[\"F6 modular ratio\"]>5]"
      ],
      "execution_count": 102,
      "outputs": [
        {
          "output_type": "execute_result",
          "data": {
            "text/html": [
              "<div>\n",
              "<style scoped>\n",
              "    .dataframe tbody tr th:only-of-type {\n",
              "        vertical-align: middle;\n",
              "    }\n",
              "\n",
              "    .dataframe tbody tr th {\n",
              "        vertical-align: top;\n",
              "    }\n",
              "\n",
              "    .dataframe thead th {\n",
              "        text-align: right;\n",
              "    }\n",
              "</style>\n",
              "<table border=\"1\" class=\"dataframe\">\n",
              "  <thead>\n",
              "    <tr style=\"text-align: right;\">\n",
              "      <th></th>\n",
              "      <th>F1 intercolumnar distance</th>\n",
              "      <th>F2 upper margin</th>\n",
              "      <th>F3 lower margin</th>\n",
              "      <th>F4 exploitation</th>\n",
              "      <th>F5 row number</th>\n",
              "      <th>F6 modular ratio</th>\n",
              "      <th>F7 interlinear spacing</th>\n",
              "      <th>F8 weight</th>\n",
              "      <th>F9 peak number</th>\n",
              "      <th>F10 modular ratio/interlinear spacing</th>\n",
              "      <th>clases</th>\n",
              "    </tr>\n",
              "  </thead>\n",
              "  <tbody>\n",
              "    <tr>\n",
              "      <th>5812</th>\n",
              "      <td>-0.511588</td>\n",
              "      <td>-0.620989</td>\n",
              "      <td>0.491688</td>\n",
              "      <td>-2.053711</td>\n",
              "      <td>-0.006417</td>\n",
              "      <td>5.505495</td>\n",
              "      <td>NaN</td>\n",
              "      <td>-1.684909</td>\n",
              "      <td>-3.895963</td>\n",
              "      <td>4.443329</td>\n",
              "      <td>D</td>\n",
              "    </tr>\n",
              "    <tr>\n",
              "      <th>6619</th>\n",
              "      <td>0.000000</td>\n",
              "      <td>19.470188</td>\n",
              "      <td>50.000000</td>\n",
              "      <td>0.168104</td>\n",
              "      <td>0.000000</td>\n",
              "      <td>53.000000</td>\n",
              "      <td>83.000000</td>\n",
              "      <td>0.275032</td>\n",
              "      <td>44.000000</td>\n",
              "      <td>0.638020</td>\n",
              "      <td>A</td>\n",
              "    </tr>\n",
              "    <tr>\n",
              "      <th>9252</th>\n",
              "      <td>-0.511588</td>\n",
              "      <td>-0.620989</td>\n",
              "      <td>0.491688</td>\n",
              "      <td>-2.053711</td>\n",
              "      <td>-0.006417</td>\n",
              "      <td>5.007196</td>\n",
              "      <td>0.044008</td>\n",
              "      <td>-1.604276</td>\n",
              "      <td>-2.659098</td>\n",
              "      <td>4.671232</td>\n",
              "      <td>D</td>\n",
              "    </tr>\n",
              "  </tbody>\n",
              "</table>\n",
              "</div>"
            ],
            "text/plain": [
              "      F1 intercolumnar distance  ...  clases\n",
              "5812                  -0.511588  ...       D\n",
              "6619                   0.000000  ...       A\n",
              "9252                  -0.511588  ...       D\n",
              "\n",
              "[3 rows x 11 columns]"
            ]
          },
          "metadata": {},
          "execution_count": 102
        }
      ]
    },
    {
      "cell_type": "code",
      "metadata": {
        "id": "gcMthAGg6l7P"
      },
      "source": [
        "data_tr.loc[data_tr[\"F6 modular ratio\"]>8,\"F6 modular ratio\"] = 10.714792"
      ],
      "execution_count": null,
      "outputs": []
    },
    {
      "cell_type": "code",
      "metadata": {
        "id": "hQwkq8eJ5tGs",
        "outputId": "6283f3ac-7bf8-489e-d6ce-da89960bcb27",
        "colab": {
          "base_uri": "https://localhost:8080/",
          "height": 143
        }
      },
      "source": [
        "data_tr[data_tr[\"F7 interlinear spacing\"]>8]"
      ],
      "execution_count": 90,
      "outputs": [
        {
          "output_type": "execute_result",
          "data": {
            "text/html": [
              "<div>\n",
              "<style scoped>\n",
              "    .dataframe tbody tr th:only-of-type {\n",
              "        vertical-align: middle;\n",
              "    }\n",
              "\n",
              "    .dataframe tbody tr th {\n",
              "        vertical-align: top;\n",
              "    }\n",
              "\n",
              "    .dataframe thead th {\n",
              "        text-align: right;\n",
              "    }\n",
              "</style>\n",
              "<table border=\"1\" class=\"dataframe\">\n",
              "  <thead>\n",
              "    <tr style=\"text-align: right;\">\n",
              "      <th></th>\n",
              "      <th>F1 intercolumnar distance</th>\n",
              "      <th>F2 upper margin</th>\n",
              "      <th>F3 lower margin</th>\n",
              "      <th>F4 exploitation</th>\n",
              "      <th>F5 row number</th>\n",
              "      <th>F6 modular ratio</th>\n",
              "      <th>F7 interlinear spacing</th>\n",
              "      <th>F8 weight</th>\n",
              "      <th>F9 peak number</th>\n",
              "      <th>F10 modular ratio/interlinear spacing</th>\n",
              "      <th>clases</th>\n",
              "    </tr>\n",
              "  </thead>\n",
              "  <tbody>\n",
              "    <tr>\n",
              "      <th>4584</th>\n",
              "      <td>-0.116585</td>\n",
              "      <td>-0.338346</td>\n",
              "      <td>-3.210528</td>\n",
              "      <td>-0.865829</td>\n",
              "      <td>-1.168333</td>\n",
              "      <td>-7.450257</td>\n",
              "      <td>10.714792</td>\n",
              "      <td>-2.166818</td>\n",
              "      <td>-5.423855</td>\n",
              "      <td>-6.719324</td>\n",
              "      <td>A</td>\n",
              "    </tr>\n",
              "    <tr>\n",
              "      <th>4608</th>\n",
              "      <td>0.414200</td>\n",
              "      <td>-0.306942</td>\n",
              "      <td>4.329047</td>\n",
              "      <td>-1.391455</td>\n",
              "      <td>-4.743459</td>\n",
              "      <td>-1.802878</td>\n",
              "      <td>8.902772</td>\n",
              "      <td>1.134344</td>\n",
              "      <td>-4.176596</td>\n",
              "      <td>-3.749217</td>\n",
              "      <td>A</td>\n",
              "    </tr>\n",
              "    <tr>\n",
              "      <th>6619</th>\n",
              "      <td>0.000000</td>\n",
              "      <td>19.470188</td>\n",
              "      <td>50.000000</td>\n",
              "      <td>0.168104</td>\n",
              "      <td>0.000000</td>\n",
              "      <td>53.000000</td>\n",
              "      <td>83.000000</td>\n",
              "      <td>0.275032</td>\n",
              "      <td>44.000000</td>\n",
              "      <td>0.638020</td>\n",
              "      <td>A</td>\n",
              "    </tr>\n",
              "  </tbody>\n",
              "</table>\n",
              "</div>"
            ],
            "text/plain": [
              "      F1 intercolumnar distance  ...  clases\n",
              "4584                  -0.116585  ...       A\n",
              "4608                   0.414200  ...       A\n",
              "6619                   0.000000  ...       A\n",
              "\n",
              "[3 rows x 11 columns]"
            ]
          },
          "metadata": {},
          "execution_count": 90
        }
      ]
    },
    {
      "cell_type": "code",
      "metadata": {
        "id": "exthRoAU6AaK"
      },
      "source": [
        "data_tr.loc[data_tr[\"F7 interlinear spacing\"]>8,\"F7 interlinear spacing\"] = 10.714792"
      ],
      "execution_count": null,
      "outputs": []
    },
    {
      "cell_type": "code",
      "metadata": {
        "id": "P7e9tFhi5p2_",
        "outputId": "f9d36edd-51ed-401b-fe9d-dcf8a9e56cb3",
        "colab": {
          "base_uri": "https://localhost:8080/",
          "height": 540
        }
      },
      "source": [
        "sns.set(rc={'figure.figsize':(25,9)}) # Tamaño de la figura\n",
        "sns.set(style=\"whitegrid\") # Estilo de la figura\n",
        "sns.boxplot(data = data_tr, linewidth = 3, palette=\"Set2\", fliersize = 5) # Diagrama Box Plot\n",
        "sns.despine(left=True)"
      ],
      "execution_count": 84,
      "outputs": [
        {
          "output_type": "display_data",
          "data": {
            "image/png": "[encoded data removed]",
            "text/plain": [
              "<Figure size 1800x648 with 1 Axes>"
            ]
          },
          "metadata": {}
        }
      ]
    },
    {
      "cell_type": "code",
      "metadata": {
        "id": "7Mq-y7JNHn3z"
      },
      "source": [
        ""
      ],
      "execution_count": null,
      "outputs": []
    },
    {
      "cell_type": "markdown",
      "metadata": {
        "id": "uMy-y9ebSANy"
      },
      "source": [
        "## Detección de Datos Atípicos"
      ]
    },
    {
      "cell_type": "markdown",
      "metadata": {
        "id": "oE-qplSUSKKJ"
      },
      "source": [
        "Presente mediante graficos vistos a lo largo del curso, diagramas que permitan la visualización  de datos atípicos, de una breve explicación de lo mostrado y analice si dentro del contexto del problema se pueden eliminar, justifique. "
      ]
    },
    {
      "cell_type": "code",
      "metadata": {
        "id": "HDB1Q_tCSFEt"
      },
      "source": [
        ""
      ],
      "execution_count": null,
      "outputs": []
    },
    {
      "cell_type": "markdown",
      "metadata": {
        "id": "UsBnoNwNTUhS"
      },
      "source": [
        "## Reducción de Dimensionalidad"
      ]
    },
    {
      "cell_type": "markdown",
      "metadata": {
        "id": "uLcSnKhMTX06"
      },
      "source": [
        "Seleccione uno de los algoritmos de reducción de dimensionalidad:\n",
        "\n",
        "- Presente el tamaño del nuevo conjunto de datos\n",
        "- Seleccione dos características de los datos reducidos y genere una gráfica de datos esparcidos (scatter plot) \n",
        "- Haga un análisis de los resultados del gráfico obtenido"
      ]
    },
    {
      "cell_type": "code",
      "metadata": {
        "id": "58Kd68hJTX7h"
      },
      "source": [
        ""
      ],
      "execution_count": null,
      "outputs": []
    },
    {
      "cell_type": "markdown",
      "metadata": {
        "id": "WdC728ysjemF"
      },
      "source": [
        "## Conclusiones Generales del Taller"
      ]
    },
    {
      "cell_type": "markdown",
      "metadata": {
        "id": "VG_VQayvkBNk"
      },
      "source": [
        "..."
      ]
    }
  ]
}