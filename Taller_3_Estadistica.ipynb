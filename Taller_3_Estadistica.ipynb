{
  "nbformat": 4,
  "nbformat_minor": 0,
  "metadata": {
    "colab": {
      "name": "Taller_3_Estadistica.ipynb",
      "provenance": [],
      "collapsed_sections": [],
      "include_colab_link": true
    },
    "kernelspec": {
      "name": "python3",
      "display_name": "Python 3"
    },
    "language_info": {
      "name": "python"
    }
  },
  "cells": [
    {
      "cell_type": "markdown",
      "metadata": {
        "id": "view-in-github",
        "colab_type": "text"
      },
      "source": [
        "<a href=\"https://colab.research.google.com/github/MateoUsme/Esp_Analitica/blob/main/Taller_3_Estadistica.ipynb\" target=\"_parent\"><img src=\"https://colab.research.google.com/assets/colab-badge.svg\" alt=\"Open In Colab\"/></a>"
      ]
    },
    {
      "cell_type": "code",
      "metadata": {
        "id": "ycYfCBACPCRL"
      },
      "source": [
        "!wget --no-cache -O init.py -q https://raw.githubusercontent.com/UDEA-Esp-Analitica-y-Ciencia-de-Datos/EACD-02-ESTADISTICA/master/init.py\n",
        "import init; init.init(force_download=False); \n",
        "from IPython.display import Image"
      ],
      "execution_count": 124,
      "outputs": []
    },
    {
      "cell_type": "code",
      "metadata": {
        "colab": {
          "base_uri": "https://localhost:8080/",
          "height": 251
        },
        "id": "OaVZxOmQPEzU",
        "outputId": "80020070-1027-49f8-c1c9-77575b40ea19"
      },
      "source": [
        "Image(\"local/imgs/udea-datascience.png\")"
      ],
      "execution_count": 125,
      "outputs": [
        {
          "output_type": "execute_result",
          "data": {
            "image/png": "[encoded data removed]",
            "text/plain": [
              "<IPython.core.display.Image object>"
            ]
          },
          "metadata": {},
          "execution_count": 125
        }
      ]
    },
    {
      "cell_type": "markdown",
      "metadata": {
        "id": "kVJT2mQTPAeo"
      },
      "source": [
        "# **Exploración de Datos - Taller 3**\n",
        "## Universidad de Antioquia"
      ]
    },
    {
      "cell_type": "markdown",
      "metadata": {
        "id": "MGf426IbkERH"
      },
      "source": [
        "### Estudiantes:\n",
        "\n",
        "- "
      ]
    },
    {
      "cell_type": "markdown",
      "metadata": {
        "id": "MjJQFWtuTqtY"
      },
      "source": [
        "## Leer una base de datos"
      ]
    },
    {
      "cell_type": "markdown",
      "metadata": {
        "id": "zZy0oJ9dUI2f"
      },
      "source": [
        "Para este taller utilizaremos un conjunto de datos del mundo real; este corresponde a un análisis de manuscritos antiguos de la Biblia, en el cual se ha identificado la participación de 12 copistas diferentes.\n",
        "Dichos datos ya se han normalizado, utilizando el metodo de normalización Z. Revise la información adicional y la descripción del dataset disponble en: https://archive.ics.uci.edu/ml/datasets/Avila\n",
        "\n",
        "**Sin embargo, no utilizaremos los archivos originales del repositorio, sino unas versiones modificadas (con fines prácticos para el taller) que estarán disponibles para el desarrollo del taller: *avila-tr-modified.csv* y *avila-ts-modified.csv***\n"
      ]
    },
    {
      "cell_type": "code",
      "metadata": {
        "id": "tMAZRauVK-iA"
      },
      "source": [
        "!pip -q install sweetviz\n",
        "\n",
        "import numpy as np\n",
        "import pandas as pd\n",
        "import seaborn as sns\n",
        "import sweetviz as svz\n",
        "import scipy.stats as sts\n",
        "import scipy.special as spcl\n",
        "import matplotlib.pyplot as plt"
      ],
      "execution_count": 126,
      "outputs": []
    },
    {
      "cell_type": "code",
      "metadata": {
        "id": "JJyi78OWD5K2"
      },
      "source": [
        "avila_tr_mod_url = \"https://drive.google.com/uc?export=download&id=1cHJuI7eZyE6hU1EvLu3xKQ3UgBBGDTry\"\n",
        "avila_ts_mod_url = \"https://drive.google.com/uc?export=download&id=1BUOi1v7dGv0Jx4ZM5WstxT6awfz-acCs\""
      ],
      "execution_count": 127,
      "outputs": []
    },
    {
      "cell_type": "code",
      "metadata": {
        "id": "DlgVesdMx0p8",
        "colab": {
          "base_uri": "https://localhost:8080/",
          "height": 423
        },
        "outputId": "d3614dc5-cd79-459a-8269-7ae41ba76709"
      },
      "source": [
        "data_tr = pd.read_excel(avila_tr_mod_url) # Read data\n",
        "data_tr"
      ],
      "execution_count": 128,
      "outputs": [
        {
          "output_type": "execute_result",
          "data": {
            "text/html": [
              "<div>\n",
              "<style scoped>\n",
              "    .dataframe tbody tr th:only-of-type {\n",
              "        vertical-align: middle;\n",
              "    }\n",
              "\n",
              "    .dataframe tbody tr th {\n",
              "        vertical-align: top;\n",
              "    }\n",
              "\n",
              "    .dataframe thead th {\n",
              "        text-align: right;\n",
              "    }\n",
              "</style>\n",
              "<table border=\"1\" class=\"dataframe\">\n",
              "  <thead>\n",
              "    <tr style=\"text-align: right;\">\n",
              "      <th></th>\n",
              "      <th>F1 intercolumnar distance</th>\n",
              "      <th>F2 upper margin</th>\n",
              "      <th>F3 lower margin</th>\n",
              "      <th>F4 exploitation</th>\n",
              "      <th>F5 row number</th>\n",
              "      <th>F6 modular ratio</th>\n",
              "      <th>F7 interlinear spacing</th>\n",
              "      <th>F8 weight</th>\n",
              "      <th>F9 peak number</th>\n",
              "      <th>F10 modular ratio/interlinear spacing</th>\n",
              "      <th>clases</th>\n",
              "    </tr>\n",
              "  </thead>\n",
              "  <tbody>\n",
              "    <tr>\n",
              "      <th>0</th>\n",
              "      <td>0.266074</td>\n",
              "      <td>-0.165620</td>\n",
              "      <td>0.320980</td>\n",
              "      <td>0.483299</td>\n",
              "      <td>0.172340</td>\n",
              "      <td>0.273364</td>\n",
              "      <td>0.371178</td>\n",
              "      <td>0.929823</td>\n",
              "      <td>0.251173</td>\n",
              "      <td>0.159345</td>\n",
              "      <td>A</td>\n",
              "    </tr>\n",
              "    <tr>\n",
              "      <th>1</th>\n",
              "      <td>0.130292</td>\n",
              "      <td>NaN</td>\n",
              "      <td>-3.210528</td>\n",
              "      <td>0.062493</td>\n",
              "      <td>0.261718</td>\n",
              "      <td>1.436060</td>\n",
              "      <td>1.465940</td>\n",
              "      <td>0.636203</td>\n",
              "      <td>0.282354</td>\n",
              "      <td>0.515587</td>\n",
              "      <td>A</td>\n",
              "    </tr>\n",
              "    <tr>\n",
              "      <th>2</th>\n",
              "      <td>-0.116585</td>\n",
              "      <td>0.069915</td>\n",
              "      <td>0.068476</td>\n",
              "      <td>-0.783147</td>\n",
              "      <td>NaN</td>\n",
              "      <td>0.439463</td>\n",
              "      <td>-0.081827</td>\n",
              "      <td>-0.888236</td>\n",
              "      <td>-0.123005</td>\n",
              "      <td>0.582939</td>\n",
              "      <td>A</td>\n",
              "    </tr>\n",
              "    <tr>\n",
              "      <th>3</th>\n",
              "      <td>0.031541</td>\n",
              "      <td>0.297600</td>\n",
              "      <td>-3.210528</td>\n",
              "      <td>-0.583590</td>\n",
              "      <td>-0.721442</td>\n",
              "      <td>-0.307984</td>\n",
              "      <td>0.710932</td>\n",
              "      <td>1.051693</td>\n",
              "      <td>0.594169</td>\n",
              "      <td>-0.533994</td>\n",
              "      <td>A</td>\n",
              "    </tr>\n",
              "    <tr>\n",
              "      <th>4</th>\n",
              "      <td>0.229043</td>\n",
              "      <td>0.807926</td>\n",
              "      <td>-0.052442</td>\n",
              "      <td>0.082634</td>\n",
              "      <td>0.261718</td>\n",
              "      <td>0.148790</td>\n",
              "      <td>0.635431</td>\n",
              "      <td>0.051062</td>\n",
              "      <td>0.032902</td>\n",
              "      <td>-0.086652</td>\n",
              "      <td>F</td>\n",
              "    </tr>\n",
              "    <tr>\n",
              "      <th>...</th>\n",
              "      <td>...</td>\n",
              "      <td>...</td>\n",
              "      <td>...</td>\n",
              "      <td>...</td>\n",
              "      <td>...</td>\n",
              "      <td>...</td>\n",
              "      <td>...</td>\n",
              "      <td>...</td>\n",
              "      <td>...</td>\n",
              "      <td>...</td>\n",
              "      <td>...</td>\n",
              "    </tr>\n",
              "    <tr>\n",
              "      <th>10425</th>\n",
              "      <td>0.080916</td>\n",
              "      <td>0.588093</td>\n",
              "      <td>0.015130</td>\n",
              "      <td>0.002250</td>\n",
              "      <td>0.261718</td>\n",
              "      <td>-0.557133</td>\n",
              "      <td>0.371178</td>\n",
              "      <td>0.932346</td>\n",
              "      <td>0.282354</td>\n",
              "      <td>-0.580141</td>\n",
              "      <td>F</td>\n",
              "    </tr>\n",
              "    <tr>\n",
              "      <th>10426</th>\n",
              "      <td>0.253730</td>\n",
              "      <td>-0.338346</td>\n",
              "      <td>0.352988</td>\n",
              "      <td>-1.154243</td>\n",
              "      <td>0.172340</td>\n",
              "      <td>-0.557133</td>\n",
              "      <td>0.257927</td>\n",
              "      <td>0.348428</td>\n",
              "      <td>0.032902</td>\n",
              "      <td>-0.527134</td>\n",
              "      <td>F</td>\n",
              "    </tr>\n",
              "    <tr>\n",
              "      <th>10427</th>\n",
              "      <td>0.229043</td>\n",
              "      <td>NaN</td>\n",
              "      <td>0.171611</td>\n",
              "      <td>-0.002793</td>\n",
              "      <td>0.261718</td>\n",
              "      <td>0.688613</td>\n",
              "      <td>0.295677</td>\n",
              "      <td>-1.088486</td>\n",
              "      <td>-0.590727</td>\n",
              "      <td>0.580142</td>\n",
              "      <td>A</td>\n",
              "    </tr>\n",
              "    <tr>\n",
              "      <th>10428</th>\n",
              "      <td>-0.301743</td>\n",
              "      <td>0.352558</td>\n",
              "      <td>0.288973</td>\n",
              "      <td>1.638181</td>\n",
              "      <td>0.261718</td>\n",
              "      <td>0.688613</td>\n",
              "      <td>0.069175</td>\n",
              "      <td>0.502761</td>\n",
              "      <td>0.625350</td>\n",
              "      <td>0.718969</td>\n",
              "      <td>E</td>\n",
              "    </tr>\n",
              "    <tr>\n",
              "      <th>10429</th>\n",
              "      <td>-0.104241</td>\n",
              "      <td>-1.037102</td>\n",
              "      <td>0.388552</td>\n",
              "      <td>-1.099311</td>\n",
              "      <td>0.172340</td>\n",
              "      <td>-0.307984</td>\n",
              "      <td>NaN</td>\n",
              "      <td>-1.337547</td>\n",
              "      <td>0.999528</td>\n",
              "      <td>-0.551063</td>\n",
              "      <td>X</td>\n",
              "    </tr>\n",
              "  </tbody>\n",
              "</table>\n",
              "<p>10430 rows × 11 columns</p>\n",
              "</div>"
            ],
            "text/plain": [
              "       F1 intercolumnar distance  ...  clases\n",
              "0                       0.266074  ...       A\n",
              "1                       0.130292  ...       A\n",
              "2                      -0.116585  ...       A\n",
              "3                       0.031541  ...       A\n",
              "4                       0.229043  ...       F\n",
              "...                          ...  ...     ...\n",
              "10425                   0.080916  ...       F\n",
              "10426                   0.253730  ...       F\n",
              "10427                   0.229043  ...       A\n",
              "10428                  -0.301743  ...       E\n",
              "10429                  -0.104241  ...       X\n",
              "\n",
              "[10430 rows x 11 columns]"
            ]
          },
          "metadata": {},
          "execution_count": 128
        }
      ]
    },
    {
      "cell_type": "code",
      "metadata": {
        "colab": {
          "base_uri": "https://localhost:8080/",
          "height": 423
        },
        "id": "MXnqcAnZLahP",
        "outputId": "69eb5552-49ae-4618-989c-5d0dfcbc43a9"
      },
      "source": [
        "data_ts = pd.read_excel(avila_ts_mod_url) # Read data\n",
        "data_ts"
      ],
      "execution_count": 129,
      "outputs": [
        {
          "output_type": "execute_result",
          "data": {
            "text/html": [
              "<div>\n",
              "<style scoped>\n",
              "    .dataframe tbody tr th:only-of-type {\n",
              "        vertical-align: middle;\n",
              "    }\n",
              "\n",
              "    .dataframe tbody tr th {\n",
              "        vertical-align: top;\n",
              "    }\n",
              "\n",
              "    .dataframe thead th {\n",
              "        text-align: right;\n",
              "    }\n",
              "</style>\n",
              "<table border=\"1\" class=\"dataframe\">\n",
              "  <thead>\n",
              "    <tr style=\"text-align: right;\">\n",
              "      <th></th>\n",
              "      <th>F1 intercolumnar distance</th>\n",
              "      <th>F2 upper margin</th>\n",
              "      <th>F3 lower margin</th>\n",
              "      <th>F4 exploitation</th>\n",
              "      <th>F5 row number</th>\n",
              "      <th>F6 modular ratio</th>\n",
              "      <th>F7 interlinear spacing</th>\n",
              "      <th>F8 weight</th>\n",
              "      <th>F9 peak number</th>\n",
              "      <th>F10 modular ratio/interlinear spacing</th>\n",
              "      <th>clases</th>\n",
              "    </tr>\n",
              "  </thead>\n",
              "  <tbody>\n",
              "    <tr>\n",
              "      <th>0</th>\n",
              "      <td>-3.498799</td>\n",
              "      <td>0.250492</td>\n",
              "      <td>0.232070</td>\n",
              "      <td>1.224178</td>\n",
              "      <td>-4.922215</td>\n",
              "      <td>1.145386</td>\n",
              "      <td>0.182426</td>\n",
              "      <td>-0.165983</td>\n",
              "      <td>-0.123005</td>\n",
              "      <td>1.087144</td>\n",
              "      <td>W</td>\n",
              "    </tr>\n",
              "    <tr>\n",
              "      <th>1</th>\n",
              "      <td>0.204355</td>\n",
              "      <td>-0.354049</td>\n",
              "      <td>0.320980</td>\n",
              "      <td>0.410166</td>\n",
              "      <td>-0.989576</td>\n",
              "      <td>-2.218127</td>\n",
              "      <td>0.220177</td>\n",
              "      <td>0.181844</td>\n",
              "      <td>2.090879</td>\n",
              "      <td>-2.009758</td>\n",
              "      <td>A</td>\n",
              "    </tr>\n",
              "    <tr>\n",
              "      <th>2</th>\n",
              "      <td>0.759828</td>\n",
              "      <td>-1.304042</td>\n",
              "      <td>NaN</td>\n",
              "      <td>-0.973663</td>\n",
              "      <td>-0.006417</td>\n",
              "      <td>-0.349509</td>\n",
              "      <td>-0.421580</td>\n",
              "      <td>-0.450127</td>\n",
              "      <td>0.469443</td>\n",
              "      <td>0.060952</td>\n",
              "      <td>I</td>\n",
              "    </tr>\n",
              "    <tr>\n",
              "      <th>3</th>\n",
              "      <td>-0.005490</td>\n",
              "      <td>0.360409</td>\n",
              "      <td>0.281860</td>\n",
              "      <td>-0.213479</td>\n",
              "      <td>-1.168333</td>\n",
              "      <td>-1.013906</td>\n",
              "      <td>-0.346080</td>\n",
              "      <td>1.176165</td>\n",
              "      <td>0.968347</td>\n",
              "      <td>-0.627999</td>\n",
              "      <td>E</td>\n",
              "    </tr>\n",
              "    <tr>\n",
              "      <th>4</th>\n",
              "      <td>0.080916</td>\n",
              "      <td>0.101320</td>\n",
              "      <td>0.104040</td>\n",
              "      <td>0.140490</td>\n",
              "      <td>0.261718</td>\n",
              "      <td>0.480988</td>\n",
              "      <td>0.710932</td>\n",
              "      <td>-0.253430</td>\n",
              "      <td>-0.497183</td>\n",
              "      <td>0.155681</td>\n",
              "      <td>A</td>\n",
              "    </tr>\n",
              "    <tr>\n",
              "      <th>...</th>\n",
              "      <td>...</td>\n",
              "      <td>...</td>\n",
              "      <td>...</td>\n",
              "      <td>...</td>\n",
              "      <td>...</td>\n",
              "      <td>...</td>\n",
              "      <td>...</td>\n",
              "      <td>...</td>\n",
              "      <td>...</td>\n",
              "      <td>...</td>\n",
              "      <td>...</td>\n",
              "    </tr>\n",
              "    <tr>\n",
              "      <th>10432</th>\n",
              "      <td>-0.128929</td>\n",
              "      <td>-0.040001</td>\n",
              "      <td>0.057807</td>\n",
              "      <td>0.557894</td>\n",
              "      <td>0.261718</td>\n",
              "      <td>-0.930856</td>\n",
              "      <td>NaN</td>\n",
              "      <td>1.158458</td>\n",
              "      <td>2.277968</td>\n",
              "      <td>-0.699884</td>\n",
              "      <td>X</td>\n",
              "    </tr>\n",
              "    <tr>\n",
              "      <th>10433</th>\n",
              "      <td>0.266074</td>\n",
              "      <td>0.556689</td>\n",
              "      <td>-0.020434</td>\n",
              "      <td>NaN</td>\n",
              "      <td>0.261718</td>\n",
              "      <td>-0.515608</td>\n",
              "      <td>0.597681</td>\n",
              "      <td>0.178349</td>\n",
              "      <td>0.625350</td>\n",
              "      <td>-0.657245</td>\n",
              "      <td>G</td>\n",
              "    </tr>\n",
              "    <tr>\n",
              "      <th>10434</th>\n",
              "      <td>-0.054866</td>\n",
              "      <td>NaN</td>\n",
              "      <td>0.032912</td>\n",
              "      <td>-0.016668</td>\n",
              "      <td>0.261718</td>\n",
              "      <td>1.519109</td>\n",
              "      <td>0.371178</td>\n",
              "      <td>-0.985508</td>\n",
              "      <td>-0.403638</td>\n",
              "      <td>1.276301</td>\n",
              "      <td>A</td>\n",
              "    </tr>\n",
              "    <tr>\n",
              "      <th>10435</th>\n",
              "      <td>0.080916</td>\n",
              "      <td>0.588093</td>\n",
              "      <td>0.015130</td>\n",
              "      <td>0.002250</td>\n",
              "      <td>0.261718</td>\n",
              "      <td>-0.930856</td>\n",
              "      <td>-0.270579</td>\n",
              "      <td>0.163807</td>\n",
              "      <td>-0.091823</td>\n",
              "      <td>-0.593329</td>\n",
              "      <td>F</td>\n",
              "    </tr>\n",
              "    <tr>\n",
              "      <th>10436</th>\n",
              "      <td>0.377169</td>\n",
              "      <td>0.014957</td>\n",
              "      <td>0.381439</td>\n",
              "      <td>0.292753</td>\n",
              "      <td>0.261718</td>\n",
              "      <td>-1.470679</td>\n",
              "      <td>-0.006326</td>\n",
              "      <td>-0.494919</td>\n",
              "      <td>-0.247731</td>\n",
              "      <td>-1.212974</td>\n",
              "      <td>H</td>\n",
              "    </tr>\n",
              "  </tbody>\n",
              "</table>\n",
              "<p>10437 rows × 11 columns</p>\n",
              "</div>"
            ],
            "text/plain": [
              "       F1 intercolumnar distance  ...  clases\n",
              "0                      -3.498799  ...       W\n",
              "1                       0.204355  ...       A\n",
              "2                       0.759828  ...       I\n",
              "3                      -0.005490  ...       E\n",
              "4                       0.080916  ...       A\n",
              "...                          ...  ...     ...\n",
              "10432                  -0.128929  ...       X\n",
              "10433                   0.266074  ...       G\n",
              "10434                  -0.054866  ...       A\n",
              "10435                   0.080916  ...       F\n",
              "10436                   0.377169  ...       H\n",
              "\n",
              "[10437 rows x 11 columns]"
            ]
          },
          "metadata": {},
          "execution_count": 129
        }
      ]
    },
    {
      "cell_type": "markdown",
      "metadata": {
        "id": "pC6M_TmBWG9p"
      },
      "source": [
        "## Exploración de Datos Inicial"
      ]
    },
    {
      "cell_type": "markdown",
      "metadata": {
        "id": "eSNYYq8vSGeJ"
      },
      "source": [
        "Una vez cargado los archivos avila_tr_modified.xlsx y avila_ts_modified.xlsx,  realice una breve exploración de ambas bases de datos.\n",
        "\n",
        "¿Hay datos nulos o faltantes? ¿Cuál es el porcentaje de datos nulos o faltantes?"
      ]
    },
    {
      "cell_type": "code",
      "metadata": {
        "colab": {
          "base_uri": "https://localhost:8080/"
        },
        "id": "Nf6iuhAG_QWB",
        "outputId": "8a540da6-01b1-4b86-bbca-d4c2b1299ab6"
      },
      "source": [
        "data_tr.isna().sum()"
      ],
      "execution_count": 130,
      "outputs": [
        {
          "output_type": "execute_result",
          "data": {
            "text/plain": [
              "F1 intercolumnar distance                538\n",
              "F2 upper margin                          536\n",
              "F3 lower margin                          509\n",
              "F4 exploitation                          507\n",
              "F5 row number                            516\n",
              "F6 modular ratio                         504\n",
              "F7 interlinear spacing                   490\n",
              "F8 weight                                565\n",
              "F9 peak number                           514\n",
              "F10 modular ratio/interlinear spacing    536\n",
              "clases                                     0\n",
              "dtype: int64"
            ]
          },
          "metadata": {},
          "execution_count": 130
        }
      ]
    },
    {
      "cell_type": "code",
      "metadata": {
        "colab": {
          "base_uri": "https://localhost:8080/"
        },
        "id": "Gs2jjBPg0S2L",
        "outputId": "fdacc4b7-4ae6-47fa-f687-b62e60e6c08f"
      },
      "source": [
        "for col in data_tr.columns:\n",
        "  print(len(data_tr[col].unique()))"
      ],
      "execution_count": 131,
      "outputs": [
        {
          "output_type": "stream",
          "name": "stdout",
          "text": [
            "145\n",
            "209\n",
            "232\n",
            "751\n",
            "49\n",
            "227\n",
            "229\n",
            "9576\n",
            "262\n",
            "9475\n",
            "12\n"
          ]
        }
      ]
    },
    {
      "cell_type": "code",
      "metadata": {
        "colab": {
          "base_uri": "https://localhost:8080/"
        },
        "id": "i_39naSy75R-",
        "outputId": "b8cf7a01-c778-486f-a7e2-06d2c2cfea90"
      },
      "source": [
        "from sklearn.impute import MissingIndicator\n",
        "import numpy as np\n",
        "\n",
        "valores_faltantes = MissingIndicator(missing_values = np.nan) \n",
        "valores_faltantes.fit(data_tr)\n",
        "total_vf = valores_faltantes.transform(data_tr)\n",
        "\n",
        "valores_faltantes.features_"
      ],
      "execution_count": 132,
      "outputs": [
        {
          "output_type": "execute_result",
          "data": {
            "text/plain": [
              "array([0, 1, 2, 3, 4, 5, 6, 7, 8, 9])"
            ]
          },
          "metadata": {},
          "execution_count": 132
        }
      ]
    },
    {
      "cell_type": "code",
      "metadata": {
        "colab": {
          "base_uri": "https://localhost:8080/"
        },
        "id": "9qU_g0nQ8rxl",
        "outputId": "092563d2-71ca-4b9f-9cbc-f8ea19004938"
      },
      "source": [
        "print(\"Porcentaje de Datos Faltantes (%): \",100*(len(np.where(total_vf == True)[0])/(data_tr.shape[0]*data_tr.shape[1])))"
      ],
      "execution_count": 133,
      "outputs": [
        {
          "output_type": "stream",
          "name": "stdout",
          "text": [
            "Porcentaje de Datos Faltantes (%):  4.545454545454546\n"
          ]
        }
      ]
    },
    {
      "cell_type": "markdown",
      "metadata": {
        "id": "0DjKwILmf3Ot"
      },
      "source": [
        "## Exploración de Datos Exhaustiva"
      ]
    },
    {
      "cell_type": "markdown",
      "metadata": {
        "id": "PL7sr92ASHl8"
      },
      "source": [
        "\n",
        "\n",
        "Realice una exploración exhaustiva de la base de datos y responda las siguientes preguntas:\n",
        "\n",
        "¿Cuales columnas tienen datos faltantes?\n",
        "\n",
        "Presente y calcule el porcentaje de los datos faltantes contenidos en nuestra base de datos.\n"
      ]
    },
    {
      "cell_type": "code",
      "metadata": {
        "colab": {
          "base_uri": "https://localhost:8080/"
        },
        "id": "Xw7n_ks2-v4z",
        "outputId": "0eef1be3-14ff-40bd-b007-ff790ed07a98"
      },
      "source": [
        "for col in valores_faltantes.features_:\n",
        "  print(data_tr.columns[col])"
      ],
      "execution_count": 134,
      "outputs": [
        {
          "output_type": "stream",
          "name": "stdout",
          "text": [
            "F1 intercolumnar distance\n",
            "F2 upper margin\n",
            "F3 lower margin\n",
            "F4 exploitation\n",
            "F5 row number\n",
            "F6 modular ratio\n",
            "F7 interlinear spacing\n",
            "F8 weight\n",
            "F9 peak number\n",
            "F10 modular ratio/interlinear spacing\n"
          ]
        }
      ]
    },
    {
      "cell_type": "code",
      "metadata": {
        "colab": {
          "base_uri": "https://localhost:8080/",
          "height": 300
        },
        "id": "qiA7i9Xi1XYZ",
        "outputId": "10f6ce3f-898f-47f0-b8d0-848e49162d24"
      },
      "source": [
        "data_tr.describe()"
      ],
      "execution_count": 135,
      "outputs": [
        {
          "output_type": "execute_result",
          "data": {
            "text/html": [
              "<div>\n",
              "<style scoped>\n",
              "    .dataframe tbody tr th:only-of-type {\n",
              "        vertical-align: middle;\n",
              "    }\n",
              "\n",
              "    .dataframe tbody tr th {\n",
              "        vertical-align: top;\n",
              "    }\n",
              "\n",
              "    .dataframe thead th {\n",
              "        text-align: right;\n",
              "    }\n",
              "</style>\n",
              "<table border=\"1\" class=\"dataframe\">\n",
              "  <thead>\n",
              "    <tr style=\"text-align: right;\">\n",
              "      <th></th>\n",
              "      <th>F1 intercolumnar distance</th>\n",
              "      <th>F2 upper margin</th>\n",
              "      <th>F3 lower margin</th>\n",
              "      <th>F4 exploitation</th>\n",
              "      <th>F5 row number</th>\n",
              "      <th>F6 modular ratio</th>\n",
              "      <th>F7 interlinear spacing</th>\n",
              "      <th>F8 weight</th>\n",
              "      <th>F9 peak number</th>\n",
              "      <th>F10 modular ratio/interlinear spacing</th>\n",
              "    </tr>\n",
              "  </thead>\n",
              "  <tbody>\n",
              "    <tr>\n",
              "      <th>count</th>\n",
              "      <td>9892.000000</td>\n",
              "      <td>9894.000000</td>\n",
              "      <td>9921.000000</td>\n",
              "      <td>9923.000000</td>\n",
              "      <td>9914.000000</td>\n",
              "      <td>9926.000000</td>\n",
              "      <td>9940.000000</td>\n",
              "      <td>9865.000000</td>\n",
              "      <td>9916.000000</td>\n",
              "      <td>9894.000000</td>\n",
              "    </tr>\n",
              "    <tr>\n",
              "      <th>mean</th>\n",
              "      <td>0.001546</td>\n",
              "      <td>0.036306</td>\n",
              "      <td>0.002634</td>\n",
              "      <td>-0.005310</td>\n",
              "      <td>0.007233</td>\n",
              "      <td>0.011181</td>\n",
              "      <td>0.004743</td>\n",
              "      <td>0.013899</td>\n",
              "      <td>0.013354</td>\n",
              "      <td>0.001993</td>\n",
              "    </tr>\n",
              "    <tr>\n",
              "      <th>std</th>\n",
              "      <td>0.987086</td>\n",
              "      <td>4.019557</td>\n",
              "      <td>1.124072</td>\n",
              "      <td>1.007372</td>\n",
              "      <td>0.992470</td>\n",
              "      <td>1.132249</td>\n",
              "      <td>1.328194</td>\n",
              "      <td>1.002868</td>\n",
              "      <td>1.093308</td>\n",
              "      <td>1.002932</td>\n",
              "    </tr>\n",
              "    <tr>\n",
              "      <th>min</th>\n",
              "      <td>-3.498799</td>\n",
              "      <td>-2.426761</td>\n",
              "      <td>-3.210528</td>\n",
              "      <td>-5.440122</td>\n",
              "      <td>-4.922215</td>\n",
              "      <td>-7.450257</td>\n",
              "      <td>-11.935457</td>\n",
              "      <td>-4.247781</td>\n",
              "      <td>-5.486218</td>\n",
              "      <td>-6.719324</td>\n",
              "    </tr>\n",
              "    <tr>\n",
              "      <th>25%</th>\n",
              "      <td>-0.128929</td>\n",
              "      <td>-0.259834</td>\n",
              "      <td>0.064919</td>\n",
              "      <td>-0.542563</td>\n",
              "      <td>0.172340</td>\n",
              "      <td>-0.598658</td>\n",
              "      <td>-0.044076</td>\n",
              "      <td>-0.537749</td>\n",
              "      <td>-0.372457</td>\n",
              "      <td>-0.516878</td>\n",
              "    </tr>\n",
              "    <tr>\n",
              "      <th>50%</th>\n",
              "      <td>0.043885</td>\n",
              "      <td>-0.055704</td>\n",
              "      <td>0.217845</td>\n",
              "      <td>0.089437</td>\n",
              "      <td>0.261718</td>\n",
              "      <td>-0.058835</td>\n",
              "      <td>0.220177</td>\n",
              "      <td>0.116084</td>\n",
              "      <td>0.064084</td>\n",
              "      <td>-0.036816</td>\n",
              "    </tr>\n",
              "    <tr>\n",
              "      <th>75%</th>\n",
              "      <td>0.204355</td>\n",
              "      <td>0.203385</td>\n",
              "      <td>0.352988</td>\n",
              "      <td>0.655644</td>\n",
              "      <td>0.261718</td>\n",
              "      <td>0.564038</td>\n",
              "      <td>0.446679</td>\n",
              "      <td>0.654959</td>\n",
              "      <td>0.500624</td>\n",
              "      <td>0.533989</td>\n",
              "    </tr>\n",
              "    <tr>\n",
              "      <th>max</th>\n",
              "      <td>11.819916</td>\n",
              "      <td>386.000000</td>\n",
              "      <td>50.000000</td>\n",
              "      <td>3.987152</td>\n",
              "      <td>1.066121</td>\n",
              "      <td>53.000000</td>\n",
              "      <td>83.000000</td>\n",
              "      <td>13.173081</td>\n",
              "      <td>44.000000</td>\n",
              "      <td>4.671232</td>\n",
              "    </tr>\n",
              "  </tbody>\n",
              "</table>\n",
              "</div>"
            ],
            "text/plain": [
              "       F1 intercolumnar distance  ...  F10 modular ratio/interlinear spacing\n",
              "count                9892.000000  ...                            9894.000000\n",
              "mean                    0.001546  ...                               0.001993\n",
              "std                     0.987086  ...                               1.002932\n",
              "min                    -3.498799  ...                              -6.719324\n",
              "25%                    -0.128929  ...                              -0.516878\n",
              "50%                     0.043885  ...                              -0.036816\n",
              "75%                     0.204355  ...                               0.533989\n",
              "max                    11.819916  ...                               4.671232\n",
              "\n",
              "[8 rows x 10 columns]"
            ]
          },
          "metadata": {},
          "execution_count": 135
        }
      ]
    },
    {
      "cell_type": "markdown",
      "metadata": {
        "id": "wBY6bacooZSM"
      },
      "source": [
        "## Imputación de Datos\n",
        "\n"
      ]
    },
    {
      "cell_type": "markdown",
      "metadata": {
        "id": "aLT-syfLSIlq"
      },
      "source": [
        "De los métodos enseñados en clase, escoja el método de imputación de datos mas adecuado y justifique su elección. "
      ]
    },
    {
      "cell_type": "code",
      "metadata": {
        "colab": {
          "base_uri": "https://localhost:8080/",
          "height": 423
        },
        "id": "2fQ5fBwSBZRH",
        "outputId": "3e1937e0-a2e8-40a0-fc8c-15996ceb011a"
      },
      "source": [
        "data_tr = data_tr.sort_values(by=\"clases\").reset_index(drop=True)\n",
        "data_tr_2 = data_tr.loc[:,data_tr.columns[0]:data_tr.columns[-2]].copy()\n",
        "columnas = data_tr_2.columns\n",
        "col_clases = data_tr.clases\n",
        "data_tr_2"
      ],
      "execution_count": 136,
      "outputs": [
        {
          "output_type": "execute_result",
          "data": {
            "text/html": [
              "<div>\n",
              "<style scoped>\n",
              "    .dataframe tbody tr th:only-of-type {\n",
              "        vertical-align: middle;\n",
              "    }\n",
              "\n",
              "    .dataframe tbody tr th {\n",
              "        vertical-align: top;\n",
              "    }\n",
              "\n",
              "    .dataframe thead th {\n",
              "        text-align: right;\n",
              "    }\n",
              "</style>\n",
              "<table border=\"1\" class=\"dataframe\">\n",
              "  <thead>\n",
              "    <tr style=\"text-align: right;\">\n",
              "      <th></th>\n",
              "      <th>F1 intercolumnar distance</th>\n",
              "      <th>F2 upper margin</th>\n",
              "      <th>F3 lower margin</th>\n",
              "      <th>F4 exploitation</th>\n",
              "      <th>F5 row number</th>\n",
              "      <th>F6 modular ratio</th>\n",
              "      <th>F7 interlinear spacing</th>\n",
              "      <th>F8 weight</th>\n",
              "      <th>F9 peak number</th>\n",
              "      <th>F10 modular ratio/interlinear spacing</th>\n",
              "    </tr>\n",
              "  </thead>\n",
              "  <tbody>\n",
              "    <tr>\n",
              "      <th>0</th>\n",
              "      <td>0.266074</td>\n",
              "      <td>-0.165620</td>\n",
              "      <td>0.320980</td>\n",
              "      <td>0.483299</td>\n",
              "      <td>0.172340</td>\n",
              "      <td>0.273364</td>\n",
              "      <td>0.371178</td>\n",
              "      <td>0.929823</td>\n",
              "      <td>0.251173</td>\n",
              "      <td>0.159345</td>\n",
              "    </tr>\n",
              "    <tr>\n",
              "      <th>1</th>\n",
              "      <td>-0.128929</td>\n",
              "      <td>0.022808</td>\n",
              "      <td>0.192950</td>\n",
              "      <td>0.837775</td>\n",
              "      <td>0.261718</td>\n",
              "      <td>0.771662</td>\n",
              "      <td>0.220177</td>\n",
              "      <td>0.268534</td>\n",
              "      <td>0.095265</td>\n",
              "      <td>0.709807</td>\n",
              "    </tr>\n",
              "    <tr>\n",
              "      <th>2</th>\n",
              "      <td>0.216699</td>\n",
              "      <td>-2.089160</td>\n",
              "      <td>NaN</td>\n",
              "      <td>-0.457525</td>\n",
              "      <td>0.082961</td>\n",
              "      <td>1.062336</td>\n",
              "      <td>0.824183</td>\n",
              "      <td>0.224441</td>\n",
              "      <td>-0.029461</td>\n",
              "      <td>0.600937</td>\n",
              "    </tr>\n",
              "    <tr>\n",
              "      <th>3</th>\n",
              "      <td>-0.042522</td>\n",
              "      <td>-0.236281</td>\n",
              "      <td>-3.210528</td>\n",
              "      <td>-0.272051</td>\n",
              "      <td>0.261718</td>\n",
              "      <td>2.557230</td>\n",
              "      <td>0.597681</td>\n",
              "      <td>-0.908719</td>\n",
              "      <td>-0.278912</td>\n",
              "      <td>2.035883</td>\n",
              "    </tr>\n",
              "    <tr>\n",
              "      <th>4</th>\n",
              "      <td>-0.030178</td>\n",
              "      <td>0.093469</td>\n",
              "      <td>0.235627</td>\n",
              "      <td>1.206186</td>\n",
              "      <td>0.261718</td>\n",
              "      <td>0.605563</td>\n",
              "      <td>0.257927</td>\n",
              "      <td>0.460746</td>\n",
              "      <td>0.375899</td>\n",
              "      <td>0.535743</td>\n",
              "    </tr>\n",
              "    <tr>\n",
              "      <th>...</th>\n",
              "      <td>...</td>\n",
              "      <td>...</td>\n",
              "      <td>...</td>\n",
              "      <td>...</td>\n",
              "      <td>...</td>\n",
              "      <td>...</td>\n",
              "      <td>...</td>\n",
              "      <td>...</td>\n",
              "      <td>...</td>\n",
              "      <td>...</td>\n",
              "    </tr>\n",
              "    <tr>\n",
              "      <th>10425</th>\n",
              "      <td>-0.240024</td>\n",
              "      <td>-0.299090</td>\n",
              "      <td>0.694403</td>\n",
              "      <td>0.955725</td>\n",
              "      <td>0.619230</td>\n",
              "      <td>-0.432558</td>\n",
              "      <td>-0.723584</td>\n",
              "      <td>0.384075</td>\n",
              "      <td>2.246787</td>\n",
              "      <td>0.141805</td>\n",
              "    </tr>\n",
              "    <tr>\n",
              "      <th>10426</th>\n",
              "      <td>-0.128929</td>\n",
              "      <td>-0.283388</td>\n",
              "      <td>0.488131</td>\n",
              "      <td>0.833628</td>\n",
              "      <td>0.797987</td>\n",
              "      <td>-0.266459</td>\n",
              "      <td>-1.818346</td>\n",
              "      <td>0.334099</td>\n",
              "      <td>1.467250</td>\n",
              "      <td>1.089013</td>\n",
              "    </tr>\n",
              "    <tr>\n",
              "      <th>10427</th>\n",
              "      <td>0.117948</td>\n",
              "      <td>-0.165620</td>\n",
              "      <td>0.562816</td>\n",
              "      <td>0.567204</td>\n",
              "      <td>0.619230</td>\n",
              "      <td>-0.432558</td>\n",
              "      <td>-1.591843</td>\n",
              "      <td>-0.239936</td>\n",
              "      <td>-1.682078</td>\n",
              "      <td>0.747347</td>\n",
              "    </tr>\n",
              "    <tr>\n",
              "      <th>10428</th>\n",
              "      <td>-0.301743</td>\n",
              "      <td>-0.314793</td>\n",
              "      <td>0.399221</td>\n",
              "      <td>0.770520</td>\n",
              "      <td>0.708609</td>\n",
              "      <td>0.896237</td>\n",
              "      <td>-1.591843</td>\n",
              "      <td>-1.399172</td>\n",
              "      <td>-0.216549</td>\n",
              "      <td>2.116351</td>\n",
              "    </tr>\n",
              "    <tr>\n",
              "      <th>10429</th>\n",
              "      <td>-0.301743</td>\n",
              "      <td>-0.314793</td>\n",
              "      <td>0.399221</td>\n",
              "      <td>0.770520</td>\n",
              "      <td>0.708609</td>\n",
              "      <td>1.145386</td>\n",
              "      <td>-1.252090</td>\n",
              "      <td>NaN</td>\n",
              "      <td>1.248980</td>\n",
              "      <td>2.132698</td>\n",
              "    </tr>\n",
              "  </tbody>\n",
              "</table>\n",
              "<p>10430 rows × 10 columns</p>\n",
              "</div>"
            ],
            "text/plain": [
              "       F1 intercolumnar distance  ...  F10 modular ratio/interlinear spacing\n",
              "0                       0.266074  ...                               0.159345\n",
              "1                      -0.128929  ...                               0.709807\n",
              "2                       0.216699  ...                               0.600937\n",
              "3                      -0.042522  ...                               2.035883\n",
              "4                      -0.030178  ...                               0.535743\n",
              "...                          ...  ...                                    ...\n",
              "10425                  -0.240024  ...                               0.141805\n",
              "10426                  -0.128929  ...                               1.089013\n",
              "10427                   0.117948  ...                               0.747347\n",
              "10428                  -0.301743  ...                               2.116351\n",
              "10429                  -0.301743  ...                               2.132698\n",
              "\n",
              "[10430 rows x 10 columns]"
            ]
          },
          "metadata": {},
          "execution_count": 136
        }
      ]
    },
    {
      "cell_type": "code",
      "metadata": {
        "colab": {
          "base_uri": "https://localhost:8080/"
        },
        "id": "8a0nG5KoDvke",
        "outputId": "6e6426be-cddb-4fc6-f12b-b7cb36ebcf26"
      },
      "source": [
        "from sklearn.impute import KNNImputer\n",
        "\n",
        "knn_imp = KNNImputer(missing_values = np.nan, n_neighbors = 5, weights= \"distance\")  \n",
        "knn_imp.fit(data_tr_numerica)\n",
        "data_tr_2 = knn_imp.transform(data_tr_numerica)\n",
        "print(data_tr_2.shape)"
      ],
      "execution_count": 137,
      "outputs": [
        {
          "output_type": "stream",
          "name": "stdout",
          "text": [
            "(10430, 10)\n"
          ]
        }
      ]
    },
    {
      "cell_type": "code",
      "metadata": {
        "colab": {
          "base_uri": "https://localhost:8080/",
          "height": 423
        },
        "id": "5Z5_JwbhFNVi",
        "outputId": "abc996fe-bc85-401c-8a30-d1495162dc7f"
      },
      "source": [
        "data_tr = pd.concat([pd.DataFrame(data_tr_2,columns=columnas)]+[data_tr.clases],axis=1)\n",
        "data_tr"
      ],
      "execution_count": 152,
      "outputs": [
        {
          "output_type": "execute_result",
          "data": {
            "text/html": [
              "<div>\n",
              "<style scoped>\n",
              "    .dataframe tbody tr th:only-of-type {\n",
              "        vertical-align: middle;\n",
              "    }\n",
              "\n",
              "    .dataframe tbody tr th {\n",
              "        vertical-align: top;\n",
              "    }\n",
              "\n",
              "    .dataframe thead th {\n",
              "        text-align: right;\n",
              "    }\n",
              "</style>\n",
              "<table border=\"1\" class=\"dataframe\">\n",
              "  <thead>\n",
              "    <tr style=\"text-align: right;\">\n",
              "      <th></th>\n",
              "      <th>F1 intercolumnar distance</th>\n",
              "      <th>F2 upper margin</th>\n",
              "      <th>F3 lower margin</th>\n",
              "      <th>F4 exploitation</th>\n",
              "      <th>F5 row number</th>\n",
              "      <th>F6 modular ratio</th>\n",
              "      <th>F7 interlinear spacing</th>\n",
              "      <th>F8 weight</th>\n",
              "      <th>F9 peak number</th>\n",
              "      <th>F10 modular ratio/interlinear spacing</th>\n",
              "      <th>clases</th>\n",
              "    </tr>\n",
              "  </thead>\n",
              "  <tbody>\n",
              "    <tr>\n",
              "      <th>0</th>\n",
              "      <td>0.266074</td>\n",
              "      <td>-0.165620</td>\n",
              "      <td>0.320980</td>\n",
              "      <td>0.483299</td>\n",
              "      <td>0.172340</td>\n",
              "      <td>0.273364</td>\n",
              "      <td>0.371178</td>\n",
              "      <td>0.929823</td>\n",
              "      <td>0.251173</td>\n",
              "      <td>0.159345</td>\n",
              "      <td>A</td>\n",
              "    </tr>\n",
              "    <tr>\n",
              "      <th>1</th>\n",
              "      <td>-0.128929</td>\n",
              "      <td>0.022808</td>\n",
              "      <td>0.192950</td>\n",
              "      <td>0.837775</td>\n",
              "      <td>0.261718</td>\n",
              "      <td>0.771662</td>\n",
              "      <td>0.220177</td>\n",
              "      <td>0.268534</td>\n",
              "      <td>0.095265</td>\n",
              "      <td>0.709807</td>\n",
              "      <td>A</td>\n",
              "    </tr>\n",
              "    <tr>\n",
              "      <th>2</th>\n",
              "      <td>0.216699</td>\n",
              "      <td>-2.089160</td>\n",
              "      <td>-0.846649</td>\n",
              "      <td>-0.457525</td>\n",
              "      <td>0.082961</td>\n",
              "      <td>1.062336</td>\n",
              "      <td>0.824183</td>\n",
              "      <td>0.224441</td>\n",
              "      <td>-0.029461</td>\n",
              "      <td>0.600937</td>\n",
              "      <td>A</td>\n",
              "    </tr>\n",
              "    <tr>\n",
              "      <th>3</th>\n",
              "      <td>-0.042522</td>\n",
              "      <td>-0.236281</td>\n",
              "      <td>-3.210528</td>\n",
              "      <td>-0.272051</td>\n",
              "      <td>0.261718</td>\n",
              "      <td>2.557230</td>\n",
              "      <td>0.597681</td>\n",
              "      <td>-0.908719</td>\n",
              "      <td>-0.278912</td>\n",
              "      <td>2.035883</td>\n",
              "      <td>A</td>\n",
              "    </tr>\n",
              "    <tr>\n",
              "      <th>4</th>\n",
              "      <td>-0.030178</td>\n",
              "      <td>0.093469</td>\n",
              "      <td>0.235627</td>\n",
              "      <td>1.206186</td>\n",
              "      <td>0.261718</td>\n",
              "      <td>0.605563</td>\n",
              "      <td>0.257927</td>\n",
              "      <td>0.460746</td>\n",
              "      <td>0.375899</td>\n",
              "      <td>0.535743</td>\n",
              "      <td>A</td>\n",
              "    </tr>\n",
              "    <tr>\n",
              "      <th>...</th>\n",
              "      <td>...</td>\n",
              "      <td>...</td>\n",
              "      <td>...</td>\n",
              "      <td>...</td>\n",
              "      <td>...</td>\n",
              "      <td>...</td>\n",
              "      <td>...</td>\n",
              "      <td>...</td>\n",
              "      <td>...</td>\n",
              "      <td>...</td>\n",
              "      <td>...</td>\n",
              "    </tr>\n",
              "    <tr>\n",
              "      <th>10425</th>\n",
              "      <td>-0.240024</td>\n",
              "      <td>-0.299090</td>\n",
              "      <td>0.694403</td>\n",
              "      <td>0.955725</td>\n",
              "      <td>0.619230</td>\n",
              "      <td>-0.432558</td>\n",
              "      <td>-0.723584</td>\n",
              "      <td>0.384075</td>\n",
              "      <td>2.246787</td>\n",
              "      <td>0.141805</td>\n",
              "      <td>Y</td>\n",
              "    </tr>\n",
              "    <tr>\n",
              "      <th>10426</th>\n",
              "      <td>-0.128929</td>\n",
              "      <td>-0.283388</td>\n",
              "      <td>0.488131</td>\n",
              "      <td>0.833628</td>\n",
              "      <td>0.797987</td>\n",
              "      <td>-0.266459</td>\n",
              "      <td>-1.818346</td>\n",
              "      <td>0.334099</td>\n",
              "      <td>1.467250</td>\n",
              "      <td>1.089013</td>\n",
              "      <td>Y</td>\n",
              "    </tr>\n",
              "    <tr>\n",
              "      <th>10427</th>\n",
              "      <td>0.117948</td>\n",
              "      <td>-0.165620</td>\n",
              "      <td>0.562816</td>\n",
              "      <td>0.567204</td>\n",
              "      <td>0.619230</td>\n",
              "      <td>-0.432558</td>\n",
              "      <td>-1.591843</td>\n",
              "      <td>-0.239936</td>\n",
              "      <td>-1.682078</td>\n",
              "      <td>0.747347</td>\n",
              "      <td>Y</td>\n",
              "    </tr>\n",
              "    <tr>\n",
              "      <th>10428</th>\n",
              "      <td>-0.301743</td>\n",
              "      <td>-0.314793</td>\n",
              "      <td>0.399221</td>\n",
              "      <td>0.770520</td>\n",
              "      <td>0.708609</td>\n",
              "      <td>0.896237</td>\n",
              "      <td>-1.591843</td>\n",
              "      <td>-1.399172</td>\n",
              "      <td>-0.216549</td>\n",
              "      <td>2.116351</td>\n",
              "      <td>Y</td>\n",
              "    </tr>\n",
              "    <tr>\n",
              "      <th>10429</th>\n",
              "      <td>-0.301743</td>\n",
              "      <td>-0.314793</td>\n",
              "      <td>0.399221</td>\n",
              "      <td>0.770520</td>\n",
              "      <td>0.708609</td>\n",
              "      <td>1.145386</td>\n",
              "      <td>-1.252090</td>\n",
              "      <td>0.656091</td>\n",
              "      <td>1.248980</td>\n",
              "      <td>2.132698</td>\n",
              "      <td>Y</td>\n",
              "    </tr>\n",
              "  </tbody>\n",
              "</table>\n",
              "<p>10430 rows × 11 columns</p>\n",
              "</div>"
            ],
            "text/plain": [
              "       F1 intercolumnar distance  ...  clases\n",
              "0                       0.266074  ...       A\n",
              "1                      -0.128929  ...       A\n",
              "2                       0.216699  ...       A\n",
              "3                      -0.042522  ...       A\n",
              "4                      -0.030178  ...       A\n",
              "...                          ...  ...     ...\n",
              "10425                  -0.240024  ...       Y\n",
              "10426                  -0.128929  ...       Y\n",
              "10427                   0.117948  ...       Y\n",
              "10428                  -0.301743  ...       Y\n",
              "10429                  -0.301743  ...       Y\n",
              "\n",
              "[10430 rows x 11 columns]"
            ]
          },
          "metadata": {},
          "execution_count": 152
        }
      ]
    },
    {
      "cell_type": "markdown",
      "metadata": {
        "id": "uMy-y9ebSANy"
      },
      "source": [
        "## Detección de Datos Atípicos"
      ]
    },
    {
      "cell_type": "markdown",
      "metadata": {
        "id": "oE-qplSUSKKJ"
      },
      "source": [
        "Presente mediante graficos vistos a lo largo del curso, diagramas que permitan la visualización  de datos atípicos, de una breve explicación de lo mostrado y analice si dentro del contexto del problema se pueden eliminar, justifique. "
      ]
    },
    {
      "cell_type": "code",
      "metadata": {
        "colab": {
          "base_uri": "https://localhost:8080/",
          "height": 540
        },
        "id": "tn0DMwik2OWK",
        "outputId": "f6e9fc87-8130-4e37-fa23-75badd0d80e0"
      },
      "source": [
        "import seaborn as sns # Librería de visualización para data science\n",
        "\n",
        "sns.set(rc={'figure.figsize':(25,9)}) # Tamaño de la figura\n",
        "sns.set(style=\"whitegrid\") # Estilo de la figura\n",
        "sns.boxplot(data = data_tr, linewidth = 3, palette=\"Set2\", fliersize = 5) # Diagrama Box Plot\n",
        "sns.despine(left=True)"
      ],
      "execution_count": 153,
      "outputs": [
        {
          "output_type": "display_data",
          "data": {
            "image/png": "[encoded data removed]",
            "text/plain": [
              "<Figure size 1800x648 with 1 Axes>"
            ]
          },
          "metadata": {}
        }
      ]
    },
    {
      "cell_type": "code",
      "metadata": {
        "colab": {
          "base_uri": "https://localhost:8080/",
          "height": 206
        },
        "id": "NL8lpEhU5lM3",
        "outputId": "5fca9ae5-6973-4d7b-f6d8-6a09ee09c853"
      },
      "source": [
        "data_tr[data_tr[\"F2 upper margin\"]>18]"
      ],
      "execution_count": 154,
      "outputs": [
        {
          "output_type": "execute_result",
          "data": {
            "text/html": [
              "<div>\n",
              "<style scoped>\n",
              "    .dataframe tbody tr th:only-of-type {\n",
              "        vertical-align: middle;\n",
              "    }\n",
              "\n",
              "    .dataframe tbody tr th {\n",
              "        vertical-align: top;\n",
              "    }\n",
              "\n",
              "    .dataframe thead th {\n",
              "        text-align: right;\n",
              "    }\n",
              "</style>\n",
              "<table border=\"1\" class=\"dataframe\">\n",
              "  <thead>\n",
              "    <tr style=\"text-align: right;\">\n",
              "      <th></th>\n",
              "      <th>F1 intercolumnar distance</th>\n",
              "      <th>F2 upper margin</th>\n",
              "      <th>F3 lower margin</th>\n",
              "      <th>F4 exploitation</th>\n",
              "      <th>F5 row number</th>\n",
              "      <th>F6 modular ratio</th>\n",
              "      <th>F7 interlinear spacing</th>\n",
              "      <th>F8 weight</th>\n",
              "      <th>F9 peak number</th>\n",
              "      <th>F10 modular ratio/interlinear spacing</th>\n",
              "      <th>clases</th>\n",
              "    </tr>\n",
              "  </thead>\n",
              "  <tbody>\n",
              "    <tr>\n",
              "      <th>537</th>\n",
              "      <td>-3.498799</td>\n",
              "      <td>43.133656</td>\n",
              "      <td>-3.210528</td>\n",
              "      <td>0.486514</td>\n",
              "      <td>-4.832837</td>\n",
              "      <td>-7.450257</td>\n",
              "      <td>0.323723</td>\n",
              "      <td>13.173081</td>\n",
              "      <td>-5.486218</td>\n",
              "      <td>0.046820</td>\n",
              "      <td>NaN</td>\n",
              "    </tr>\n",
              "    <tr>\n",
              "      <th>1261</th>\n",
              "      <td>-3.498799</td>\n",
              "      <td>19.470188</td>\n",
              "      <td>0.256965</td>\n",
              "      <td>0.105669</td>\n",
              "      <td>-4.922215</td>\n",
              "      <td>-1.346105</td>\n",
              "      <td>0.031425</td>\n",
              "      <td>0.896952</td>\n",
              "      <td>-2.929337</td>\n",
              "      <td>-1.129131</td>\n",
              "      <td>A</td>\n",
              "    </tr>\n",
              "    <tr>\n",
              "      <th>2291</th>\n",
              "      <td>0.000000</td>\n",
              "      <td>386.000000</td>\n",
              "      <td>50.000000</td>\n",
              "      <td>0.168104</td>\n",
              "      <td>0.000000</td>\n",
              "      <td>53.000000</td>\n",
              "      <td>83.000000</td>\n",
              "      <td>0.275032</td>\n",
              "      <td>44.000000</td>\n",
              "      <td>0.638020</td>\n",
              "      <td>NaN</td>\n",
              "    </tr>\n",
              "    <tr>\n",
              "      <th>2566</th>\n",
              "      <td>-3.498799</td>\n",
              "      <td>19.470188</td>\n",
              "      <td>0.256965</td>\n",
              "      <td>0.105669</td>\n",
              "      <td>-4.922215</td>\n",
              "      <td>-0.723232</td>\n",
              "      <td>-0.006326</td>\n",
              "      <td>1.017949</td>\n",
              "      <td>-1.569176</td>\n",
              "      <td>-0.539165</td>\n",
              "      <td>A</td>\n",
              "    </tr>\n",
              "    <tr>\n",
              "      <th>2811</th>\n",
              "      <td>-3.498799</td>\n",
              "      <td>19.470188</td>\n",
              "      <td>0.256965</td>\n",
              "      <td>0.105669</td>\n",
              "      <td>-4.922215</td>\n",
              "      <td>-0.432558</td>\n",
              "      <td>0.484429</td>\n",
              "      <td>0.408926</td>\n",
              "      <td>-3.085245</td>\n",
              "      <td>-0.522843</td>\n",
              "      <td>A</td>\n",
              "    </tr>\n",
              "  </tbody>\n",
              "</table>\n",
              "</div>"
            ],
            "text/plain": [
              "      F1 intercolumnar distance  ...  clases\n",
              "537                   -3.498799  ...     NaN\n",
              "1261                  -3.498799  ...       A\n",
              "2291                   0.000000  ...     NaN\n",
              "2566                  -3.498799  ...       A\n",
              "2811                  -3.498799  ...       A\n",
              "\n",
              "[5 rows x 11 columns]"
            ]
          },
          "metadata": {},
          "execution_count": 154
        }
      ]
    },
    {
      "cell_type": "code",
      "metadata": {
        "id": "rIKY7zX93pLS"
      },
      "source": [
        "data_tr = data_tr.drop(data_tr.loc[data_tr[\"F2 upper margin\"]>20,\"F2 upper margin\"].index)"
      ],
      "execution_count": 155,
      "outputs": []
    },
    {
      "cell_type": "code",
      "metadata": {
        "colab": {
          "base_uri": "https://localhost:8080/",
          "height": 540
        },
        "id": "P7e9tFhi5p2_",
        "outputId": "2dc2bea8-5c33-4a93-9d32-f2c8cd51d848"
      },
      "source": [
        "sns.set(rc={'figure.figsize':(25,9)}) # Tamaño de la figura\n",
        "sns.set(style=\"whitegrid\") # Estilo de la figura\n",
        "sns.boxplot(data = data_tr, linewidth = 3, palette=\"Set2\", fliersize = 5) # Diagrama Box Plot\n",
        "sns.despine(left=True)"
      ],
      "execution_count": 157,
      "outputs": [
        {
          "output_type": "display_data",
          "data": {
            "image/png": "[encoded data removed]",
            "text/plain": [
              "<Figure size 1800x648 with 1 Axes>"
            ]
          },
          "metadata": {}
        }
      ]
    },
    {
      "cell_type": "code",
      "metadata": {
        "colab": {
          "base_uri": "https://localhost:8080/",
          "height": 550
        },
        "id": "cd92Dnl32ubN",
        "outputId": "4201c230-a022-4c3e-f2d7-b7300e20b81e"
      },
      "source": [
        "sns.set(rc={'figure.figsize':(25,9)}) # Tamaño de la figura\n",
        "sns.set(style=\"whitegrid\") # Estilo de la figura\n",
        "sns.violinplot(data = data_tr, linewidth = 1, palette=\"Set2\", fliersize = 2)\n",
        "sns.despine(offset=10, trim=True);"
      ],
      "execution_count": 151,
      "outputs": [
        {
          "output_type": "display_data",
          "data": {
            "image/png": "[encoded data removed]",
            "text/plain": [
              "<Figure size 1800x648 with 1 Axes>"
            ]
          },
          "metadata": {}
        }
      ]
    },
    {
      "cell_type": "markdown",
      "metadata": {
        "id": "ahUwlBGFHREU"
      },
      "source": [
        "## Codificación de Variables Categóricas"
      ]
    },
    {
      "cell_type": "markdown",
      "metadata": {
        "id": "nmUa0CE8uBcF"
      },
      "source": [
        "En este apartado, realizar la codificación de la característica o columna *clases*. Justificar la elección del método de codificación."
      ]
    },
    {
      "cell_type": "code",
      "metadata": {
        "id": "HDB1Q_tCSFEt"
      },
      "source": [
        ""
      ],
      "execution_count": 151,
      "outputs": []
    },
    {
      "cell_type": "markdown",
      "metadata": {
        "id": "UsBnoNwNTUhS"
      },
      "source": [
        "## Reducción de Dimensionalidad"
      ]
    },
    {
      "cell_type": "markdown",
      "metadata": {
        "id": "uLcSnKhMTX06"
      },
      "source": [
        "Seleccione uno de los algoritmos de reducción de dimensionalidad:\n",
        "\n",
        "- Presente el tamaño del nuevo conjunto de datos\n",
        "- Seleccione dos características de los datos reducidos y genere una gráfica de datos esparcidos (scatter plot) \n",
        "- Haga un análisis de los resultados del gráfico obtenido"
      ]
    },
    {
      "cell_type": "code",
      "metadata": {
        "id": "58Kd68hJTX7h"
      },
      "source": [
        ""
      ],
      "execution_count": 151,
      "outputs": []
    },
    {
      "cell_type": "markdown",
      "metadata": {
        "id": "WdC728ysjemF"
      },
      "source": [
        "## Conclusiones Generales del Taller"
      ]
    },
    {
      "cell_type": "markdown",
      "metadata": {
        "id": "VG_VQayvkBNk"
      },
      "source": [
        "..."
      ]
    }
  ]
}