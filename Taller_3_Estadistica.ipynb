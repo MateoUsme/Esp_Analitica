{
  "nbformat": 4,
  "nbformat_minor": 0,
  "metadata": {
    "colab": {
      "name": "Taller_3_Estadistica.ipynb",
      "provenance": [],
      "collapsed_sections": [],
      "include_colab_link": true
    },
    "kernelspec": {
      "name": "python3",
      "display_name": "Python 3"
    },
    "language_info": {
      "name": "python"
    }
  },
  "cells": [
    {
      "cell_type": "markdown",
      "metadata": {
        "id": "view-in-github",
        "colab_type": "text"
      },
      "source": [
        "<a href=\"https://colab.research.google.com/github/MateoUsme/Esp_Analitica/blob/main/Taller_3_Estadistica.ipynb\" target=\"_parent\"><img src=\"https://colab.research.google.com/assets/colab-badge.svg\" alt=\"Open In Colab\"/></a>"
      ]
    },
    {
      "cell_type": "code",
      "metadata": {
        "id": "5RJBeBiECgyD"
      },
      "source": [
        ""
      ],
      "execution_count": null,
      "outputs": []
    },
    {
      "cell_type": "code",
      "metadata": {
        "id": "ycYfCBACPCRL",
        "colab": {
          "base_uri": "https://localhost:8080/"
        },
        "outputId": "a059c5cb-8858-487a-925e-a6eeab9186b6"
      },
      "source": [
        "!wget --no-cache -O init.py -q https://raw.githubusercontent.com/UDEA-Esp-Analitica-y-Ciencia-de-Datos/EACD-02-ESTADISTICA/master/init.py\n",
        "import init; init.init(force_download=False); \n",
        "from IPython.display import Image"
      ],
      "execution_count": null,
      "outputs": [
        {
          "output_type": "stream",
          "name": "stdout",
          "text": [
            "replicating local resources\n"
          ]
        }
      ]
    },
    {
      "cell_type": "code",
      "metadata": {
        "colab": {
          "base_uri": "https://localhost:8080/",
          "height": 251
        },
        "id": "OaVZxOmQPEzU",
        "outputId": "a278f7c4-c527-49d7-b300-50a467a04ffb"
      },
      "source": [
        "Image(\"local/imgs/udea-datascience.png\")"
      ],
      "execution_count": null,
      "outputs": [
        {
          "output_type": "execute_result",
          "data": {
            "image/png": "[encoded data removed]",
            "text/plain": [
              "<IPython.core.display.Image object>"
            ]
          },
          "metadata": {},
          "execution_count": 8
        }
      ]
    },
    {
      "cell_type": "markdown",
      "metadata": {
        "id": "kVJT2mQTPAeo"
      },
      "source": [
        "# **Exploración de Datos - Taller 3**\n",
        "## Universidad de Antioquia"
      ]
    },
    {
      "cell_type": "markdown",
      "metadata": {
        "id": "MGf426IbkERH"
      },
      "source": [
        "### Estudiantes:\n",
        "\n",
        "- Camilo Salomón | camilo.salomon@udea.edu.co"
      ]
    },
    {
      "cell_type": "markdown",
      "metadata": {
        "id": "MjJQFWtuTqtY"
      },
      "source": [
        "## Leer una base de datos"
      ]
    },
    {
      "cell_type": "markdown",
      "metadata": {
        "id": "zZy0oJ9dUI2f"
      },
      "source": [
        "Para este taller utilizaremos un conjunto de datos del mundo real; este corresponde a un análisis de manuscritos antiguos de la Biblia, en el cual se ha identificado la participación de 12 copistas diferentes.\n",
        "Dichos datos ya se han normalizado, utilizando el metodo de normalización Z. Revise la información adicional y la descripción del dataset disponble en: https://archive.ics.uci.edu/ml/datasets/Avila\n",
        "\n",
        "**Sin embargo, no utilizaremos los archivos originales del repositorio, sino unas versiones modificadas (con fines prácticos para el taller) que estarán disponibles para el desarrollo del taller: *avila-tr-modified.csv* y *avila-ts-modified.csv***\n"
      ]
    },
    {
      "cell_type": "code",
      "metadata": {
        "id": "tMAZRauVK-iA"
      },
      "source": [
        "!pip -q install sweetviz\n",
        "\n",
        "import numpy as np\n",
        "import pandas as pd\n",
        "import seaborn as sns\n",
        "import sweetviz as svz\n",
        "import scipy.stats as sts\n",
        "import scipy.special as spcl\n",
        "import matplotlib.pyplot as plt"
      ],
      "execution_count": null,
      "outputs": []
    },
    {
      "cell_type": "code",
      "metadata": {
        "id": "JJyi78OWD5K2"
      },
      "source": [
        "avila_tr_mod_url = \"https://drive.google.com/uc?export=download&id=1cHJuI7eZyE6hU1EvLu3xKQ3UgBBGDTry\"\n",
        "avila_ts_mod_url = \"https://drive.google.com/uc?export=download&id=1BUOi1v7dGv0Jx4ZM5WstxT6awfz-acCs\""
      ],
      "execution_count": null,
      "outputs": []
    },
    {
      "cell_type": "code",
      "metadata": {
        "id": "DlgVesdMx0p8",
        "colab": {
          "base_uri": "https://localhost:8080/",
          "height": 439
        },
        "outputId": "773e5ce3-b985-49f4-f9ed-b9942f008d40"
      },
      "source": [
        "data_1 = pd.read_excel(avila) # Read data\n",
        "data_1"
      ],
      "execution_count": null,
      "outputs": [
        {
          "output_type": "execute_result",
          "data": {
            "text/html": [
              "<div>\n",
              "<style scoped>\n",
              "    .dataframe tbody tr th:only-of-type {\n",
              "        vertical-align: middle;\n",
              "    }\n",
              "\n",
              "    .dataframe tbody tr th {\n",
              "        vertical-align: top;\n",
              "    }\n",
              "\n",
              "    .dataframe thead th {\n",
              "        text-align: right;\n",
              "    }\n",
              "</style>\n",
              "<table border=\"1\" class=\"dataframe\">\n",
              "  <thead>\n",
              "    <tr style=\"text-align: right;\">\n",
              "      <th></th>\n",
              "      <th>F1 intercolumnar distance</th>\n",
              "      <th>F2 upper margin</th>\n",
              "      <th>F3 lower margin</th>\n",
              "      <th>F4 exploitation</th>\n",
              "      <th>F5 row number</th>\n",
              "      <th>F6 modular ratio</th>\n",
              "      <th>F7 interlinear spacing</th>\n",
              "      <th>F8 weight</th>\n",
              "      <th>F9 peak number</th>\n",
              "      <th>F10 modular ratio/interlinear spacing</th>\n",
              "      <th>clases</th>\n",
              "    </tr>\n",
              "  </thead>\n",
              "  <tbody>\n",
              "    <tr>\n",
              "      <th>0</th>\n",
              "      <td>0.266074</td>\n",
              "      <td>-0.165620</td>\n",
              "      <td>0.320980</td>\n",
              "      <td>0.483299</td>\n",
              "      <td>0.172340</td>\n",
              "      <td>0.273364</td>\n",
              "      <td>0.371178</td>\n",
              "      <td>0.929823</td>\n",
              "      <td>0.251173</td>\n",
              "      <td>0.159345</td>\n",
              "      <td>A</td>\n",
              "    </tr>\n",
              "    <tr>\n",
              "      <th>1</th>\n",
              "      <td>0.130292</td>\n",
              "      <td>NaN</td>\n",
              "      <td>-3.210528</td>\n",
              "      <td>0.062493</td>\n",
              "      <td>0.261718</td>\n",
              "      <td>1.436060</td>\n",
              "      <td>1.465940</td>\n",
              "      <td>0.636203</td>\n",
              "      <td>0.282354</td>\n",
              "      <td>0.515587</td>\n",
              "      <td>A</td>\n",
              "    </tr>\n",
              "    <tr>\n",
              "      <th>2</th>\n",
              "      <td>-0.116585</td>\n",
              "      <td>0.069915</td>\n",
              "      <td>0.068476</td>\n",
              "      <td>-0.783147</td>\n",
              "      <td>NaN</td>\n",
              "      <td>0.439463</td>\n",
              "      <td>-0.081827</td>\n",
              "      <td>-0.888236</td>\n",
              "      <td>-0.123005</td>\n",
              "      <td>0.582939</td>\n",
              "      <td>A</td>\n",
              "    </tr>\n",
              "    <tr>\n",
              "      <th>3</th>\n",
              "      <td>0.031541</td>\n",
              "      <td>0.297600</td>\n",
              "      <td>-3.210528</td>\n",
              "      <td>-0.583590</td>\n",
              "      <td>-0.721442</td>\n",
              "      <td>-0.307984</td>\n",
              "      <td>0.710932</td>\n",
              "      <td>1.051693</td>\n",
              "      <td>0.594169</td>\n",
              "      <td>-0.533994</td>\n",
              "      <td>A</td>\n",
              "    </tr>\n",
              "    <tr>\n",
              "      <th>4</th>\n",
              "      <td>0.229043</td>\n",
              "      <td>0.807926</td>\n",
              "      <td>-0.052442</td>\n",
              "      <td>0.082634</td>\n",
              "      <td>0.261718</td>\n",
              "      <td>0.148790</td>\n",
              "      <td>0.635431</td>\n",
              "      <td>0.051062</td>\n",
              "      <td>0.032902</td>\n",
              "      <td>-0.086652</td>\n",
              "      <td>F</td>\n",
              "    </tr>\n",
              "    <tr>\n",
              "      <th>...</th>\n",
              "      <td>...</td>\n",
              "      <td>...</td>\n",
              "      <td>...</td>\n",
              "      <td>...</td>\n",
              "      <td>...</td>\n",
              "      <td>...</td>\n",
              "      <td>...</td>\n",
              "      <td>...</td>\n",
              "      <td>...</td>\n",
              "      <td>...</td>\n",
              "      <td>...</td>\n",
              "    </tr>\n",
              "    <tr>\n",
              "      <th>10425</th>\n",
              "      <td>0.080916</td>\n",
              "      <td>0.588093</td>\n",
              "      <td>0.015130</td>\n",
              "      <td>0.002250</td>\n",
              "      <td>0.261718</td>\n",
              "      <td>-0.557133</td>\n",
              "      <td>0.371178</td>\n",
              "      <td>0.932346</td>\n",
              "      <td>0.282354</td>\n",
              "      <td>-0.580141</td>\n",
              "      <td>F</td>\n",
              "    </tr>\n",
              "    <tr>\n",
              "      <th>10426</th>\n",
              "      <td>0.253730</td>\n",
              "      <td>-0.338346</td>\n",
              "      <td>0.352988</td>\n",
              "      <td>-1.154243</td>\n",
              "      <td>0.172340</td>\n",
              "      <td>-0.557133</td>\n",
              "      <td>0.257927</td>\n",
              "      <td>0.348428</td>\n",
              "      <td>0.032902</td>\n",
              "      <td>-0.527134</td>\n",
              "      <td>F</td>\n",
              "    </tr>\n",
              "    <tr>\n",
              "      <th>10427</th>\n",
              "      <td>0.229043</td>\n",
              "      <td>NaN</td>\n",
              "      <td>0.171611</td>\n",
              "      <td>-0.002793</td>\n",
              "      <td>0.261718</td>\n",
              "      <td>0.688613</td>\n",
              "      <td>0.295677</td>\n",
              "      <td>-1.088486</td>\n",
              "      <td>-0.590727</td>\n",
              "      <td>0.580142</td>\n",
              "      <td>A</td>\n",
              "    </tr>\n",
              "    <tr>\n",
              "      <th>10428</th>\n",
              "      <td>-0.301743</td>\n",
              "      <td>0.352558</td>\n",
              "      <td>0.288973</td>\n",
              "      <td>1.638181</td>\n",
              "      <td>0.261718</td>\n",
              "      <td>0.688613</td>\n",
              "      <td>0.069175</td>\n",
              "      <td>0.502761</td>\n",
              "      <td>0.625350</td>\n",
              "      <td>0.718969</td>\n",
              "      <td>E</td>\n",
              "    </tr>\n",
              "    <tr>\n",
              "      <th>10429</th>\n",
              "      <td>-0.104241</td>\n",
              "      <td>-1.037102</td>\n",
              "      <td>0.388552</td>\n",
              "      <td>-1.099311</td>\n",
              "      <td>0.172340</td>\n",
              "      <td>-0.307984</td>\n",
              "      <td>NaN</td>\n",
              "      <td>-1.337547</td>\n",
              "      <td>0.999528</td>\n",
              "      <td>-0.551063</td>\n",
              "      <td>X</td>\n",
              "    </tr>\n",
              "  </tbody>\n",
              "</table>\n",
              "<p>10430 rows × 11 columns</p>\n",
              "</div>"
            ],
            "text/plain": [
              "       F1 intercolumnar distance  ...  clases\n",
              "0                       0.266074  ...       A\n",
              "1                       0.130292  ...       A\n",
              "2                      -0.116585  ...       A\n",
              "3                       0.031541  ...       A\n",
              "4                       0.229043  ...       F\n",
              "...                          ...  ...     ...\n",
              "10425                   0.080916  ...       F\n",
              "10426                   0.253730  ...       F\n",
              "10427                   0.229043  ...       A\n",
              "10428                  -0.301743  ...       E\n",
              "10429                  -0.104241  ...       X\n",
              "\n",
              "[10430 rows x 11 columns]"
            ]
          },
          "metadata": {},
          "execution_count": 5
        }
      ]
    },
    {
      "cell_type": "code",
      "metadata": {
        "colab": {
          "base_uri": "https://localhost:8080/",
          "height": 439
        },
        "id": "MXnqcAnZLahP",
        "outputId": "2dbddc0d-ac3a-4a42-fcad-ba2421a0ec2a"
      },
      "source": [
        "data_2 = pd.read_excel(\"avila_ts_modified.xlsx\") # Read data\n",
        "data_2"
      ],
      "execution_count": null,
      "outputs": [
        {
          "output_type": "execute_result",
          "data": {
            "text/html": [
              "<div>\n",
              "<style scoped>\n",
              "    .dataframe tbody tr th:only-of-type {\n",
              "        vertical-align: middle;\n",
              "    }\n",
              "\n",
              "    .dataframe tbody tr th {\n",
              "        vertical-align: top;\n",
              "    }\n",
              "\n",
              "    .dataframe thead th {\n",
              "        text-align: right;\n",
              "    }\n",
              "</style>\n",
              "<table border=\"1\" class=\"dataframe\">\n",
              "  <thead>\n",
              "    <tr style=\"text-align: right;\">\n",
              "      <th></th>\n",
              "      <th>F1 intercolumnar distance</th>\n",
              "      <th>F2 upper margin</th>\n",
              "      <th>F3 lower margin</th>\n",
              "      <th>F4 exploitation</th>\n",
              "      <th>F5 row number</th>\n",
              "      <th>F6 modular ratio</th>\n",
              "      <th>F7 interlinear spacing</th>\n",
              "      <th>F8 weight</th>\n",
              "      <th>F9 peak number</th>\n",
              "      <th>F10 modular ratio/interlinear spacing</th>\n",
              "      <th>clases</th>\n",
              "    </tr>\n",
              "  </thead>\n",
              "  <tbody>\n",
              "    <tr>\n",
              "      <th>0</th>\n",
              "      <td>-3.498799</td>\n",
              "      <td>0.250492</td>\n",
              "      <td>0.232070</td>\n",
              "      <td>1.224178</td>\n",
              "      <td>-4.922215</td>\n",
              "      <td>1.145386</td>\n",
              "      <td>0.182426</td>\n",
              "      <td>-0.165983</td>\n",
              "      <td>-0.123005</td>\n",
              "      <td>1.087144</td>\n",
              "      <td>W</td>\n",
              "    </tr>\n",
              "    <tr>\n",
              "      <th>1</th>\n",
              "      <td>0.204355</td>\n",
              "      <td>-0.354049</td>\n",
              "      <td>0.320980</td>\n",
              "      <td>0.410166</td>\n",
              "      <td>-0.989576</td>\n",
              "      <td>-2.218127</td>\n",
              "      <td>0.220177</td>\n",
              "      <td>0.181844</td>\n",
              "      <td>2.090879</td>\n",
              "      <td>-2.009758</td>\n",
              "      <td>A</td>\n",
              "    </tr>\n",
              "    <tr>\n",
              "      <th>2</th>\n",
              "      <td>0.759828</td>\n",
              "      <td>-1.304042</td>\n",
              "      <td>NaN</td>\n",
              "      <td>-0.973663</td>\n",
              "      <td>-0.006417</td>\n",
              "      <td>-0.349509</td>\n",
              "      <td>-0.421580</td>\n",
              "      <td>-0.450127</td>\n",
              "      <td>0.469443</td>\n",
              "      <td>0.060952</td>\n",
              "      <td>I</td>\n",
              "    </tr>\n",
              "    <tr>\n",
              "      <th>3</th>\n",
              "      <td>-0.005490</td>\n",
              "      <td>0.360409</td>\n",
              "      <td>0.281860</td>\n",
              "      <td>-0.213479</td>\n",
              "      <td>-1.168333</td>\n",
              "      <td>-1.013906</td>\n",
              "      <td>-0.346080</td>\n",
              "      <td>1.176165</td>\n",
              "      <td>0.968347</td>\n",
              "      <td>-0.627999</td>\n",
              "      <td>E</td>\n",
              "    </tr>\n",
              "    <tr>\n",
              "      <th>4</th>\n",
              "      <td>0.080916</td>\n",
              "      <td>0.101320</td>\n",
              "      <td>0.104040</td>\n",
              "      <td>0.140490</td>\n",
              "      <td>0.261718</td>\n",
              "      <td>0.480988</td>\n",
              "      <td>0.710932</td>\n",
              "      <td>-0.253430</td>\n",
              "      <td>-0.497183</td>\n",
              "      <td>0.155681</td>\n",
              "      <td>A</td>\n",
              "    </tr>\n",
              "    <tr>\n",
              "      <th>...</th>\n",
              "      <td>...</td>\n",
              "      <td>...</td>\n",
              "      <td>...</td>\n",
              "      <td>...</td>\n",
              "      <td>...</td>\n",
              "      <td>...</td>\n",
              "      <td>...</td>\n",
              "      <td>...</td>\n",
              "      <td>...</td>\n",
              "      <td>...</td>\n",
              "      <td>...</td>\n",
              "    </tr>\n",
              "    <tr>\n",
              "      <th>10432</th>\n",
              "      <td>-0.128929</td>\n",
              "      <td>-0.040001</td>\n",
              "      <td>0.057807</td>\n",
              "      <td>0.557894</td>\n",
              "      <td>0.261718</td>\n",
              "      <td>-0.930856</td>\n",
              "      <td>NaN</td>\n",
              "      <td>1.158458</td>\n",
              "      <td>2.277968</td>\n",
              "      <td>-0.699884</td>\n",
              "      <td>X</td>\n",
              "    </tr>\n",
              "    <tr>\n",
              "      <th>10433</th>\n",
              "      <td>0.266074</td>\n",
              "      <td>0.556689</td>\n",
              "      <td>-0.020434</td>\n",
              "      <td>NaN</td>\n",
              "      <td>0.261718</td>\n",
              "      <td>-0.515608</td>\n",
              "      <td>0.597681</td>\n",
              "      <td>0.178349</td>\n",
              "      <td>0.625350</td>\n",
              "      <td>-0.657245</td>\n",
              "      <td>G</td>\n",
              "    </tr>\n",
              "    <tr>\n",
              "      <th>10434</th>\n",
              "      <td>-0.054866</td>\n",
              "      <td>NaN</td>\n",
              "      <td>0.032912</td>\n",
              "      <td>-0.016668</td>\n",
              "      <td>0.261718</td>\n",
              "      <td>1.519109</td>\n",
              "      <td>0.371178</td>\n",
              "      <td>-0.985508</td>\n",
              "      <td>-0.403638</td>\n",
              "      <td>1.276301</td>\n",
              "      <td>A</td>\n",
              "    </tr>\n",
              "    <tr>\n",
              "      <th>10435</th>\n",
              "      <td>0.080916</td>\n",
              "      <td>0.588093</td>\n",
              "      <td>0.015130</td>\n",
              "      <td>0.002250</td>\n",
              "      <td>0.261718</td>\n",
              "      <td>-0.930856</td>\n",
              "      <td>-0.270579</td>\n",
              "      <td>0.163807</td>\n",
              "      <td>-0.091823</td>\n",
              "      <td>-0.593329</td>\n",
              "      <td>F</td>\n",
              "    </tr>\n",
              "    <tr>\n",
              "      <th>10436</th>\n",
              "      <td>0.377169</td>\n",
              "      <td>0.014957</td>\n",
              "      <td>0.381439</td>\n",
              "      <td>0.292753</td>\n",
              "      <td>0.261718</td>\n",
              "      <td>-1.470679</td>\n",
              "      <td>-0.006326</td>\n",
              "      <td>-0.494919</td>\n",
              "      <td>-0.247731</td>\n",
              "      <td>-1.212974</td>\n",
              "      <td>H</td>\n",
              "    </tr>\n",
              "  </tbody>\n",
              "</table>\n",
              "<p>10437 rows × 11 columns</p>\n",
              "</div>"
            ],
            "text/plain": [
              "       F1 intercolumnar distance  ...  clases\n",
              "0                      -3.498799  ...       W\n",
              "1                       0.204355  ...       A\n",
              "2                       0.759828  ...       I\n",
              "3                      -0.005490  ...       E\n",
              "4                       0.080916  ...       A\n",
              "...                          ...  ...     ...\n",
              "10432                  -0.128929  ...       X\n",
              "10433                   0.266074  ...       G\n",
              "10434                  -0.054866  ...       A\n",
              "10435                   0.080916  ...       F\n",
              "10436                   0.377169  ...       H\n",
              "\n",
              "[10437 rows x 11 columns]"
            ]
          },
          "metadata": {},
          "execution_count": 6
        }
      ]
    },
    {
      "cell_type": "markdown",
      "metadata": {
        "id": "pC6M_TmBWG9p"
      },
      "source": [
        "## Exploración de Datos Inicial"
      ]
    },
    {
      "cell_type": "markdown",
      "metadata": {
        "id": "eSNYYq8vSGeJ"
      },
      "source": [
        "Una vez cargado los archivos avila_tr_modified.xlsx y avila_ts_modified.xlsx,  realice una breve exploración de ambas bases de datos.\n",
        "\n",
        "¿Hay datos nulos o faltantes? ¿Cuál es el porcentaje de datos nulos o faltantes?"
      ]
    },
    {
      "cell_type": "code",
      "metadata": {
        "id": "68b-ei_2tOyd"
      },
      "source": [
        ""
      ],
      "execution_count": null,
      "outputs": []
    },
    {
      "cell_type": "markdown",
      "metadata": {
        "id": "0DjKwILmf3Ot"
      },
      "source": [
        "## Exploración de Datos Exhaustiva"
      ]
    },
    {
      "cell_type": "markdown",
      "metadata": {
        "id": "PL7sr92ASHl8"
      },
      "source": [
        "\n",
        "\n",
        "Realice una exploración exhaustiva de la base de datos y responda las siguientes preguntas:\n",
        "\n",
        "¿Cuales columnas tienen datos faltantes?\n",
        "\n",
        "Presente y calcule el porcentaje de los datos faltantes contenidos en nuestra base de datos.\n"
      ]
    },
    {
      "cell_type": "code",
      "metadata": {
        "id": "Gvxq5pHKfF86"
      },
      "source": [
        ""
      ],
      "execution_count": null,
      "outputs": []
    },
    {
      "cell_type": "markdown",
      "metadata": {
        "id": "wBY6bacooZSM"
      },
      "source": [
        "## Imputación de Datos\n",
        "\n"
      ]
    },
    {
      "cell_type": "markdown",
      "metadata": {
        "id": "aLT-syfLSIlq"
      },
      "source": [
        "De los métodos enseñados en clase, escoja el método de imputación de datos mas adecuado y justifique su elección. "
      ]
    },
    {
      "cell_type": "code",
      "metadata": {
        "id": "mBtHUxY2e46t"
      },
      "source": [
        ""
      ],
      "execution_count": null,
      "outputs": []
    },
    {
      "cell_type": "code",
      "metadata": {
        "id": "jmqyAeNwAUPM"
      },
      "source": [
        ""
      ],
      "execution_count": null,
      "outputs": []
    },
    {
      "cell_type": "markdown",
      "metadata": {
        "id": "ahUwlBGFHREU"
      },
      "source": [
        "## Codificación de Variables Categóricas"
      ]
    },
    {
      "cell_type": "markdown",
      "metadata": {
        "id": "_CWWkNmLSJYW"
      },
      "source": [
        "En este apartado, realizar la codificación de la característica o columna *clases*. Justificar la elección del método de codificación."
      ]
    },
    {
      "cell_type": "code",
      "metadata": {
        "id": "7Mq-y7JNHn3z"
      },
      "source": [
        ""
      ],
      "execution_count": null,
      "outputs": []
    },
    {
      "cell_type": "markdown",
      "metadata": {
        "id": "uMy-y9ebSANy"
      },
      "source": [
        "## Detección de Datos Atípicos"
      ]
    },
    {
      "cell_type": "markdown",
      "metadata": {
        "id": "oE-qplSUSKKJ"
      },
      "source": [
        "Presente mediante graficos vistos a lo largo del curso, diagramas que permitan la visualización  de datos atípicos, de una breve explicación de lo mostrado y analice si dentro del contexto del problema se pueden eliminar, justifique. "
      ]
    },
    {
      "cell_type": "code",
      "metadata": {
        "id": "HDB1Q_tCSFEt"
      },
      "source": [
        ""
      ],
      "execution_count": null,
      "outputs": []
    },
    {
      "cell_type": "markdown",
      "metadata": {
        "id": "UsBnoNwNTUhS"
      },
      "source": [
        "## Reducción de Dimensionalidad"
      ]
    },
    {
      "cell_type": "markdown",
      "metadata": {
        "id": "uLcSnKhMTX06"
      },
      "source": [
        "Seleccione uno de los algoritmos de reducción de dimensionalidad:\n",
        "\n",
        "- Presente el tamaño del nuevo conjunto de datos\n",
        "- Seleccione dos características de los datos reducidos y genere una gráfica de datos esparcidos (scatter plot) \n",
        "- Haga un análisis de los resultados del gráfico obtenido"
      ]
    },
    {
      "cell_type": "code",
      "metadata": {
        "id": "58Kd68hJTX7h"
      },
      "source": [
        ""
      ],
      "execution_count": null,
      "outputs": []
    },
    {
      "cell_type": "markdown",
      "metadata": {
        "id": "WdC728ysjemF"
      },
      "source": [
        "## Conclusiones Generales del Taller"
      ]
    },
    {
      "cell_type": "markdown",
      "metadata": {
        "id": "VG_VQayvkBNk"
      },
      "source": [
        "..."
      ]
    }
  ]
}