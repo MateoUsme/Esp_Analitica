{
  "nbformat": 4,
  "nbformat_minor": 0,
  "metadata": {
    "colab": {
      "name": "Taller_1_vB.ipynb",
      "provenance": [],
      "collapsed_sections": [],
      "include_colab_link": true
    },
    "kernelspec": {
      "display_name": "Python 3",
      "language": "python",
      "name": "python3"
    },
    "language_info": {
      "codemirror_mode": {
        "name": "ipython",
        "version": 3
      },
      "file_extension": ".py",
      "mimetype": "text/x-python",
      "name": "python",
      "nbconvert_exporter": "python",
      "pygments_lexer": "ipython3",
      "version": "3.8.5"
    }
  },
  "cells": [
    {
      "cell_type": "markdown",
      "metadata": {
        "id": "view-in-github",
        "colab_type": "text"
      },
      "source": [
        "<a href=\"https://colab.research.google.com/github/MateoUsme/Esp_Analitica/blob/main/Taller_1_vB.ipynb\" target=\"_parent\"><img src=\"https://colab.research.google.com/assets/colab-badge.svg\" alt=\"Open In Colab\"/></a>"
      ]
    },
    {
      "cell_type": "markdown",
      "metadata": {
        "id": "lVYLwpygGSAP"
      },
      "source": [
        "# Taller 1\n",
        "#### Cédula: XXXXXXXX\n",
        "#### Nombre: XXXXXXXX\n",
        "#### Fecha: DD-MM-AAAA"
      ]
    },
    {
      "cell_type": "markdown",
      "metadata": {
        "id": "JhGTiacTilkN"
      },
      "source": [
        "# Ejercicio 1\n",
        "\n",
        "En un hospital se estudiaron tres tratamientos para la depresión: imipramina, \n",
        "carbonato de litio y una combinación. Como es tradicional\n",
        "en dichos estudios (denominados ensayos clínicos), también hubo un grupo \n",
        "de pacientes que recibieron un placebo. (Un placebo es un tratamiento que se \n",
        "supone que no es útil ni dañino). A algunos pacientes se les administra \n",
        "un placebo para que no sepan que no recibieron ninguno de los otros tratamientos. \n",
        "En este caso se consideran 30 pacientes que ingresaron al estudio después \n",
        "de un episodio de depresión. Si se sabe que hay 7 pacientes tratados con imipramina, 8 pacientes tratados con carbonato de litio, 9 tratados con la combinación,entonces si se eligen al azar 5 pacientes halle toda la información en cada caso e nterprete  los resultados obtenidos en contexo.\n",
        "\n",
        "Sean $X$ numero de pacientes tratados con imipramina, $Y$ numero de pacientes tratados con la combinación\n",
        "  \n",
        "  - Halle la función de distribución conjunta para los pacientes que recibieron imipramina\n",
        "y la combinación.\n",
        "\n",
        "- Determine la probabilidad de que se seleccionen solo personas tratadas con la combinación\n",
        "\n",
        "- Determine la probabilidad de que se seleccione una persona tratada con placebo si se suponía que estaba siendo tratada con la combinación (imipramina - carbonato de litio).\n",
        "\n",
        "- ¿Es posible decir que se trata de variables independientes?.\n",
        "\n",
        "- Determine $P((X,Y) \\in A)$ donde $A$ es la región determinada por $\\{(X,Y)/ X+Y \\leq 3\\}$"
      ]
    },
    {
      "cell_type": "markdown",
      "metadata": {
        "id": "qyOYjahXY5Q5"
      },
      "source": [
        "# Ejercicio 2\n",
        "\n",
        "El cangrejo de herradura hembra se caracteriza porque a su caparazón se adhieren los machos de la misma especie, una persona está interesada en determinar cual es el patrón de variación del número de machos sobre cada \n",
        "hembra, para esto, se recolectó una muestra de hembras a las cuales se les observó el color, la condición de la espina, el peso en kilogramos, el ancho del caparazón en centímetros y el número de satélites o machos sobre \n",
        "el caparazón.\n",
        "\n",
        "#base de datos en la red\n",
        "URL: 'https://raw.githubusercontent.com/fhernanb/datos/master/crab'\n",
        "\n",
        "- Hallar la distribución de probablidad para la variable numero de satélites e interpretar los resultados.  \n",
        "- Construir un histograma y un gráfico de densidad kernel.\n",
        "- Realizar un análsis comparativo de los gráficos obtenidos en el inciso anterior.\n",
        "- Contruir el gráfico de dispersión, hallar la covariana y la correlación para  las variables peso y ancho del caparazón del cangrejo de herradura hembra e interpretar los resultados obtenidos."
      ]
    },
    {
      "cell_type": "code",
      "metadata": {
        "colab": {
          "base_uri": "https://localhost:8080/",
          "height": 667
        },
        "id": "XsuCVG1QcsmS",
        "outputId": "cbe5f1ac-4ff1-4086-f6a2-1e6831255b1e"
      },
      "source": [
        "import pandas as pd\n",
        "from io import StringIO\n",
        "\n",
        "CRAB_DATA = 'C,S,W,Wt,Sa \\n2,1,28.0,2.9,4\\n2,3,25.8,2.3,0\\n2,3,25.0,2.1,2\\n3,3,23.1,1.55,0\\n4,3,23.7,1.85,0\\n2,3,25.4,2.25,6\\n4,3,24.7,2.2,0\\n3,3,24.2,1.9,0\\n2,3,27.5,2.55,1\\n2,3,28.2,3.05,8\\n2,2,24.0,1.7,0\\n2,3,27.7,2.9,5\\n2,3,26.2,2.3,0\\n2,3,26.5,2.35,4\\n2,3,28.3,3.2,0\\n2,3,28.7,3.15,3\\n2,1,22.9,1.6,0\\n3,3,29.0,3.28,4\\n2,3,27.5,2.63,6\\n2,3,28.0,2.8,1\\n3,3,26.1,2.75,3\\n2,3,24.2,1.65,2\\n2,3,25.8,2.65,0\\n3,3,28.9,2.8,4\\n4,2,21.0,1.85,0\\n4,3,22.5,1.47,4\\n2,3,28.2,3.05,11\\n3,2,24.7,1.9,0\\n3,1,27.0,2.45,3\\n1,1,27.4,2.7,6\\n4,3,27.0,2.63,0\\n2,3,27.6,2.85,4\\n2,3,28.2,2.87,1\\n2,1,25.7,2.0,8\\n3,3,24.1,1.8,0\\n1,2,25.0,2.3,3\\n2,3,23.9,1.85,2\\n1,1,29.3,3.2,4\\n2,3,30.0,3.05,8\\n2,3,28.3,3.0,15\\n3,3,24.0,1.9,10\\n2,1,26.0,2.3,14\\n1,1,30.2,3.28,2\\n4,3,25.8,2.0,3\\n2,3,26.2,2.4,3\\n2,1,28.7,3.2,0\\n2,3,29.5,3.02,4\\n2,3,26.2,2.4,0\\n3,3,24.8,2.1,0\\n4,3,27.5,2.9,0\\n1,1,28.0,2.62,0\\n1,2,24.5,1.95,6\\n2,3,28.5,3.05,0\\n2,3,26.5,2.3,4\\n3,1,25.9,2.55,4\\n3,3,25.7,2.1,0\\n4,3,29.3,3.23,12\\n2,1,26.7,2.7,5\\n3,3,24.5,2.2,1\\n3,3,26.2,2.17,2\\n1,1,26.1,2.8,5\\n2,1,30.3,3.6,3\\n3,3,26.7,2.6,2\\n2,3,27.0,2.5,6\\n3,3,25.5,2.25,0\\n2,3,27.5,3.15,6\\n3,3,26.2,2.22,0\\n2,3,24.9,2.2,0\\n3,3,29.0,2.92,3\\n2,3,25.8,2.4,0\\n2,1,30.0,3.3,5\\n2,3,29.0,3.1,1\\n2,3,25.0,2.4,5\\n1,1,27.7,2.5,6\\n2,2,22.9,1.6,0\\n2,1,33.5,5.2,7\\n2,3,28.5,3.0,3\\n1,1,26.0,2.3,9\\n3,1,28.5,3.25,9\\n1,1,26.5,2.35,0\\n3,3,27.3,2.9,1\\n3,3,27.1,2.55,0\\n2,1,25.7,2.0,5\\n2,1,26.8,2.55,0\\n2,2,25.4,2.3,0\\n1,1,27.1,2.95,8\\n3,3,26.2,2.3,3\\n3,3,23.1,1.65,0\\n2,3,25.8,2.2,0\\n2,3,27.9,2.8,6\\n3,3,23.0,1.65,1\\n2,2,25.0,2.25,6\\n2,1,31.7,3.73,4\\n2,2,25.7,2.0,0\\n4,3,23.5,1.9,0\\n2,3,27.4,2.9,3\\n2,3,24.7,1.95,4\\n3,2,29.8,3.5,4\\n3,3,28.5,3.0,1\\n2,3,25.1,2.1,5\\n'\n",
        "\n",
        "df = pd.read_csv(StringIO(CRAB_DATA))\n",
        "\n",
        "df[\"Sa \"].plot(kind=\"hist\")\n",
        "df"
      ],
      "execution_count": null,
      "outputs": [
        {
          "output_type": "execute_result",
          "data": {
            "text/html": [
              "<div>\n",
              "<style scoped>\n",
              "    .dataframe tbody tr th:only-of-type {\n",
              "        vertical-align: middle;\n",
              "    }\n",
              "\n",
              "    .dataframe tbody tr th {\n",
              "        vertical-align: top;\n",
              "    }\n",
              "\n",
              "    .dataframe thead th {\n",
              "        text-align: right;\n",
              "    }\n",
              "</style>\n",
              "<table border=\"1\" class=\"dataframe\">\n",
              "  <thead>\n",
              "    <tr style=\"text-align: right;\">\n",
              "      <th></th>\n",
              "      <th>C</th>\n",
              "      <th>S</th>\n",
              "      <th>W</th>\n",
              "      <th>Wt</th>\n",
              "      <th>Sa</th>\n",
              "    </tr>\n",
              "  </thead>\n",
              "  <tbody>\n",
              "    <tr>\n",
              "      <th>0</th>\n",
              "      <td>2</td>\n",
              "      <td>1</td>\n",
              "      <td>28.0</td>\n",
              "      <td>2.90</td>\n",
              "      <td>4</td>\n",
              "    </tr>\n",
              "    <tr>\n",
              "      <th>1</th>\n",
              "      <td>2</td>\n",
              "      <td>3</td>\n",
              "      <td>25.8</td>\n",
              "      <td>2.30</td>\n",
              "      <td>0</td>\n",
              "    </tr>\n",
              "    <tr>\n",
              "      <th>2</th>\n",
              "      <td>2</td>\n",
              "      <td>3</td>\n",
              "      <td>25.0</td>\n",
              "      <td>2.10</td>\n",
              "      <td>2</td>\n",
              "    </tr>\n",
              "    <tr>\n",
              "      <th>3</th>\n",
              "      <td>3</td>\n",
              "      <td>3</td>\n",
              "      <td>23.1</td>\n",
              "      <td>1.55</td>\n",
              "      <td>0</td>\n",
              "    </tr>\n",
              "    <tr>\n",
              "      <th>4</th>\n",
              "      <td>4</td>\n",
              "      <td>3</td>\n",
              "      <td>23.7</td>\n",
              "      <td>1.85</td>\n",
              "      <td>0</td>\n",
              "    </tr>\n",
              "    <tr>\n",
              "      <th>...</th>\n",
              "      <td>...</td>\n",
              "      <td>...</td>\n",
              "      <td>...</td>\n",
              "      <td>...</td>\n",
              "      <td>...</td>\n",
              "    </tr>\n",
              "    <tr>\n",
              "      <th>95</th>\n",
              "      <td>2</td>\n",
              "      <td>3</td>\n",
              "      <td>27.4</td>\n",
              "      <td>2.90</td>\n",
              "      <td>3</td>\n",
              "    </tr>\n",
              "    <tr>\n",
              "      <th>96</th>\n",
              "      <td>2</td>\n",
              "      <td>3</td>\n",
              "      <td>24.7</td>\n",
              "      <td>1.95</td>\n",
              "      <td>4</td>\n",
              "    </tr>\n",
              "    <tr>\n",
              "      <th>97</th>\n",
              "      <td>3</td>\n",
              "      <td>2</td>\n",
              "      <td>29.8</td>\n",
              "      <td>3.50</td>\n",
              "      <td>4</td>\n",
              "    </tr>\n",
              "    <tr>\n",
              "      <th>98</th>\n",
              "      <td>3</td>\n",
              "      <td>3</td>\n",
              "      <td>28.5</td>\n",
              "      <td>3.00</td>\n",
              "      <td>1</td>\n",
              "    </tr>\n",
              "    <tr>\n",
              "      <th>99</th>\n",
              "      <td>2</td>\n",
              "      <td>3</td>\n",
              "      <td>25.1</td>\n",
              "      <td>2.10</td>\n",
              "      <td>5</td>\n",
              "    </tr>\n",
              "  </tbody>\n",
              "</table>\n",
              "<p>100 rows × 5 columns</p>\n",
              "</div>"
            ],
            "text/plain": [
              "    C  S     W    Wt  Sa \n",
              "0   2  1  28.0  2.90    4\n",
              "1   2  3  25.8  2.30    0\n",
              "2   2  3  25.0  2.10    2\n",
              "3   3  3  23.1  1.55    0\n",
              "4   4  3  23.7  1.85    0\n",
              ".. .. ..   ...   ...  ...\n",
              "95  2  3  27.4  2.90    3\n",
              "96  2  3  24.7  1.95    4\n",
              "97  3  2  29.8  3.50    4\n",
              "98  3  3  28.5  3.00    1\n",
              "99  2  3  25.1  2.10    5\n",
              "\n",
              "[100 rows x 5 columns]"
            ]
          },
          "metadata": {},
          "execution_count": 11
        },
        {
          "output_type": "display_data",
          "data": {
            "image/png": "[encoded data removed]",
            "text/plain": [
              "<Figure size 432x288 with 1 Axes>"
            ]
          },
          "metadata": {
            "needs_background": "light"
          }
        }
      ]
    },
    {
      "cell_type": "markdown",
      "metadata": {
        "id": "txWl4Sgj5cVP"
      },
      "source": [
        "# Ejercicio 3\n",
        "\n",
        "Considere el siguiente problema:\n",
        "\n",
        "En una asignatura llamada Métodos estadísticos, se tiene un registro de las notas que sacaron los estudiantes en los cuatro parciales realizados en el último semestre académico. Las notas se organizaron en un DataFrame para realizar un análisis estadístico que permita evaluar el desempeño global de los estudiantes. A partir de esta base de datos:\n",
        "  \n",
        "- Construir los histogramas de cada una de las variables, usando la regla de Freedman-Diaconis (fd)\n",
        "- Calcular la media y la varianza de cada una de las variables e interpretar lso resultados.\n",
        "- Determinar cuál de los parciales tienen mejor y peor desempeño los estudiantes.\n",
        "- Seleccione una muestra de 5 estudiantes de forma aleatoria. Calcule la media y la varianza muestral.\n",
        "- Compare con la media y la varianza poblacional de los item anteriores. Realice una interpretación en contexto de los resultados obtenidos."
      ]
    },
    {
      "cell_type": "code",
      "metadata": {
        "id": "fWc9QAL77Nau"
      },
      "source": [
        "Parcial_1 = [4.4, 3.9, 2.3, 0.7, 4.8, 2.5, 4.8, 2.3, 1.3, 4.6, 0.4, 0.6, 4.6, 3.8, 3.3, 0.1, 3.3, 0.9, 1. , 4.4]\n",
        "Parcial_2 = [2. , 3.4, 0.3, 2.9, 4.3, 4.8, 1.8, 2.6, 4.6, 4.6, 1. , 2.8, 0.6, 0.8, 4.2, 2.8, 3.9, 4. , 1. , 5. ]\n",
        "Parcial_3 = [2.5, 1.9, 5. , 3.5, 4.5, 3.1, 1.4, 4.4, 4.1, 0.9, 1.2, 3.2, 2.9, 0.1, 4.3, 3.3, 3.4, 3.7, 1.9, 1.1]\n",
        "Parcial_4 = [2.4, 3.6, 2. , 4.7, 2.4, 0.9, 3.2, 3.5, 2. , 0.6, 2.3, 0.3, 3.1, 3.2, 4.5, 0.3, 1.6, 2.4, 1.9, 1.8]"
      ],
      "execution_count": 141,
      "outputs": []
    },
    {
      "cell_type": "markdown",
      "metadata": {
        "id": "L5vTlgqXXKE4"
      },
      "source": [
        "**Construir los histogramas de cada una de las variables, usando la regla de Freedman-Diaconis (fd)**"
      ]
    },
    {
      "cell_type": "code",
      "metadata": {
        "colab": {
          "base_uri": "https://localhost:8080/",
          "height": 372
        },
        "id": "f1WKklwlPYnw",
        "outputId": "1973610d-7c3d-4e8d-eadb-40c241889fa1"
      },
      "source": [
        "import pandas as pd\n",
        "import numpy as np\n",
        "import matplotlib.pyplot as plt\n",
        "import seaborn as sns\n",
        "\n",
        "df = pd.DataFrame({\"Parcial 1\":Parcial_1,\"Parcial 2\":Parcial_2,\"Parcial 3\":Parcial_3,\"Parcial 4\":Parcial_4})\n",
        "df.hist(bins='fd') #Punto 1"
      ],
      "execution_count": 183,
      "outputs": [
        {
          "output_type": "execute_result",
          "data": {
            "text/plain": [
              "array([[<matplotlib.axes._subplots.AxesSubplot object at 0x7f78e4897990>,\n",
              "        <matplotlib.axes._subplots.AxesSubplot object at 0x7f78e4887190>],\n",
              "       [<matplotlib.axes._subplots.AxesSubplot object at 0x7f78e4836410>,\n",
              "        <matplotlib.axes._subplots.AxesSubplot object at 0x7f78e47e9990>]],\n",
              "      dtype=object)"
            ]
          },
          "metadata": {},
          "execution_count": 183
        },
        {
          "output_type": "display_data",
          "data": {
            "image/png": "[encoded data removed]",
            "text/plain": [
              "<Figure size 432x288 with 4 Axes>"
            ]
          },
          "metadata": {
            "needs_background": "light"
          }
        }
      ]
    },
    {
      "cell_type": "markdown",
      "metadata": {
        "id": "wY3nzI0yXQFu"
      },
      "source": [
        "**Calcular la media y la varianza de cada una de las variables e interpretar lso resultados**"
      ]
    },
    {
      "cell_type": "code",
      "metadata": {
        "colab": {
          "base_uri": "https://localhost:8080/",
          "height": 112
        },
        "id": "-58G9DzGRquw",
        "outputId": "82c3855f-65c5-411c-8aa4-e035f2274625"
      },
      "source": [
        "df.aggregate([np.mean,np.var]) # Punto 2"
      ],
      "execution_count": 143,
      "outputs": [
        {
          "output_type": "execute_result",
          "data": {
            "text/html": [
              "<div>\n",
              "<style scoped>\n",
              "    .dataframe tbody tr th:only-of-type {\n",
              "        vertical-align: middle;\n",
              "    }\n",
              "\n",
              "    .dataframe tbody tr th {\n",
              "        vertical-align: top;\n",
              "    }\n",
              "\n",
              "    .dataframe thead th {\n",
              "        text-align: right;\n",
              "    }\n",
              "</style>\n",
              "<table border=\"1\" class=\"dataframe\">\n",
              "  <thead>\n",
              "    <tr style=\"text-align: right;\">\n",
              "      <th></th>\n",
              "      <th>Parcial 1</th>\n",
              "      <th>Parcial 2</th>\n",
              "      <th>Parcial 3</th>\n",
              "      <th>Parcial 4</th>\n",
              "    </tr>\n",
              "  </thead>\n",
              "  <tbody>\n",
              "    <tr>\n",
              "      <th>mean</th>\n",
              "      <td>2.700000</td>\n",
              "      <td>2.870000</td>\n",
              "      <td>2.820000</td>\n",
              "      <td>2.335000</td>\n",
              "    </tr>\n",
              "    <tr>\n",
              "      <th>var</th>\n",
              "      <td>2.847368</td>\n",
              "      <td>2.405368</td>\n",
              "      <td>1.916421</td>\n",
              "      <td>1.575026</td>\n",
              "    </tr>\n",
              "  </tbody>\n",
              "</table>\n",
              "</div>"
            ],
            "text/plain": [
              "      Parcial 1  Parcial 2  Parcial 3  Parcial 4\n",
              "mean   2.700000   2.870000   2.820000   2.335000\n",
              "var    2.847368   2.405368   1.916421   1.575026"
            ]
          },
          "metadata": {},
          "execution_count": 143
        }
      ]
    },
    {
      "cell_type": "markdown",
      "metadata": {
        "id": "LeAYWRHaXUeo"
      },
      "source": [
        "**Determinar cuál de los parciales tienen mejor y peor desempeño los estudiantes**"
      ]
    },
    {
      "cell_type": "code",
      "metadata": {
        "colab": {
          "base_uri": "https://localhost:8080/",
          "height": 446
        },
        "id": "Zgs3z_GTckPh",
        "outputId": "7fe270d5-c013-45d0-86a4-7aa8d9036c06"
      },
      "source": [
        "df.plot.bar(figsize=(25,7),rot=0)"
      ],
      "execution_count": 144,
      "outputs": [
        {
          "output_type": "execute_result",
          "data": {
            "text/plain": [
              "<matplotlib.axes._subplots.AxesSubplot at 0x7f78e4d34210>"
            ]
          },
          "metadata": {},
          "execution_count": 144
        },
        {
          "output_type": "display_data",
          "data": {
            "image/png": "[encoded data removed]",
            "text/plain": [
              "<Figure size 1800x504 with 1 Axes>"
            ]
          },
          "metadata": {
            "needs_background": "light"
          }
        }
      ]
    },
    {
      "cell_type": "code",
      "metadata": {
        "colab": {
          "base_uri": "https://localhost:8080/"
        },
        "id": "kZ646wLAfLJk",
        "outputId": "094d077c-48da-40aa-81f3-5369fcb67fb3"
      },
      "source": [
        "df_top = df.copy()\n",
        "top = df.aggregate([\"max\"],axis=1)\n",
        "for col in df_top.columns:\n",
        "  df_top[col] = (df_top[col] == top[\"max\"]).astype(int)\n",
        "df_top.sum()"
      ],
      "execution_count": 179,
      "outputs": [
        {
          "output_type": "execute_result",
          "data": {
            "text/plain": [
              "Parcial 1    7\n",
              "Parcial 2    6\n",
              "Parcial 3    5\n",
              "Parcial 4    4\n",
              "dtype: int64"
            ]
          },
          "metadata": {},
          "execution_count": 179
        }
      ]
    },
    {
      "cell_type": "code",
      "metadata": {
        "colab": {
          "base_uri": "https://localhost:8080/"
        },
        "id": "TLrc64MiwZd2",
        "outputId": "e71f4d03-dbb4-4503-9bbd-f49975e987cc"
      },
      "source": [
        "df_bottom = df.copy()\n",
        "bott = df.aggregate([\"min\"],axis=1)\n",
        "for col in df_bottom.columns:\n",
        "  df_bottom[col] = (df_bottom[col] == bott[\"min\"]).astype(int)\n",
        "df_bottom.sum()"
      ],
      "execution_count": 180,
      "outputs": [
        {
          "output_type": "execute_result",
          "data": {
            "text/plain": [
              "Parcial 1    8\n",
              "Parcial 2    4\n",
              "Parcial 3    4\n",
              "Parcial 4    5\n",
              "dtype: int64"
            ]
          },
          "metadata": {},
          "execution_count": 180
        }
      ]
    },
    {
      "cell_type": "markdown",
      "metadata": {
        "id": "dtSYvRVfXbN_"
      },
      "source": [
        "**Seleccione una muestra de 5 estudiantes de forma aleatoria. Calcule la media y la varianza muestral**"
      ]
    },
    {
      "cell_type": "code",
      "metadata": {
        "colab": {
          "base_uri": "https://localhost:8080/",
          "height": 205
        },
        "id": "AjWVkABtSLRw",
        "outputId": "d2e87641-9c09-4587-8f9c-95350830bcb3"
      },
      "source": [
        "df_muestra = df.sample(5).copy()\n",
        "df_muestra"
      ],
      "execution_count": 58,
      "outputs": [
        {
          "output_type": "execute_result",
          "data": {
            "text/html": [
              "<div>\n",
              "<style scoped>\n",
              "    .dataframe tbody tr th:only-of-type {\n",
              "        vertical-align: middle;\n",
              "    }\n",
              "\n",
              "    .dataframe tbody tr th {\n",
              "        vertical-align: top;\n",
              "    }\n",
              "\n",
              "    .dataframe thead th {\n",
              "        text-align: right;\n",
              "    }\n",
              "</style>\n",
              "<table border=\"1\" class=\"dataframe\">\n",
              "  <thead>\n",
              "    <tr style=\"text-align: right;\">\n",
              "      <th></th>\n",
              "      <th>Parcial 1</th>\n",
              "      <th>Parcial 2</th>\n",
              "      <th>Parcial 3</th>\n",
              "      <th>Parcial 4</th>\n",
              "    </tr>\n",
              "  </thead>\n",
              "  <tbody>\n",
              "    <tr>\n",
              "      <th>11</th>\n",
              "      <td>0.6</td>\n",
              "      <td>2.8</td>\n",
              "      <td>3.2</td>\n",
              "      <td>0.3</td>\n",
              "    </tr>\n",
              "    <tr>\n",
              "      <th>4</th>\n",
              "      <td>4.8</td>\n",
              "      <td>4.3</td>\n",
              "      <td>4.5</td>\n",
              "      <td>2.4</td>\n",
              "    </tr>\n",
              "    <tr>\n",
              "      <th>6</th>\n",
              "      <td>4.8</td>\n",
              "      <td>1.8</td>\n",
              "      <td>1.4</td>\n",
              "      <td>3.2</td>\n",
              "    </tr>\n",
              "    <tr>\n",
              "      <th>2</th>\n",
              "      <td>2.3</td>\n",
              "      <td>0.3</td>\n",
              "      <td>5.0</td>\n",
              "      <td>2.0</td>\n",
              "    </tr>\n",
              "    <tr>\n",
              "      <th>19</th>\n",
              "      <td>4.4</td>\n",
              "      <td>5.0</td>\n",
              "      <td>1.1</td>\n",
              "      <td>1.8</td>\n",
              "    </tr>\n",
              "  </tbody>\n",
              "</table>\n",
              "</div>"
            ],
            "text/plain": [
              "    Parcial 1  Parcial 2  Parcial 3  Parcial 4\n",
              "11        0.6        2.8        3.2        0.3\n",
              "4         4.8        4.3        4.5        2.4\n",
              "6         4.8        1.8        1.4        3.2\n",
              "2         2.3        0.3        5.0        2.0\n",
              "19        4.4        5.0        1.1        1.8"
            ]
          },
          "metadata": {},
          "execution_count": 58
        }
      ]
    },
    {
      "cell_type": "code",
      "metadata": {
        "colab": {
          "base_uri": "https://localhost:8080/",
          "height": 112
        },
        "id": "H6TWag5ZaAiQ",
        "outputId": "d1769ab5-50f3-488e-9d88-0ec9b1c8f64d"
      },
      "source": [
        "df_muestra.aggregate([np.mean,np.var])"
      ],
      "execution_count": 59,
      "outputs": [
        {
          "output_type": "execute_result",
          "data": {
            "text/html": [
              "<div>\n",
              "<style scoped>\n",
              "    .dataframe tbody tr th:only-of-type {\n",
              "        vertical-align: middle;\n",
              "    }\n",
              "\n",
              "    .dataframe tbody tr th {\n",
              "        vertical-align: top;\n",
              "    }\n",
              "\n",
              "    .dataframe thead th {\n",
              "        text-align: right;\n",
              "    }\n",
              "</style>\n",
              "<table border=\"1\" class=\"dataframe\">\n",
              "  <thead>\n",
              "    <tr style=\"text-align: right;\">\n",
              "      <th></th>\n",
              "      <th>Parcial 1</th>\n",
              "      <th>Parcial 2</th>\n",
              "      <th>Parcial 3</th>\n",
              "      <th>Parcial 4</th>\n",
              "    </tr>\n",
              "  </thead>\n",
              "  <tbody>\n",
              "    <tr>\n",
              "      <th>mean</th>\n",
              "      <td>3.380</td>\n",
              "      <td>2.840</td>\n",
              "      <td>3.040</td>\n",
              "      <td>1.940</td>\n",
              "    </tr>\n",
              "    <tr>\n",
              "      <th>var</th>\n",
              "      <td>3.492</td>\n",
              "      <td>3.583</td>\n",
              "      <td>3.113</td>\n",
              "      <td>1.128</td>\n",
              "    </tr>\n",
              "  </tbody>\n",
              "</table>\n",
              "</div>"
            ],
            "text/plain": [
              "      Parcial 1  Parcial 2  Parcial 3  Parcial 4\n",
              "mean      3.380      2.840      3.040      1.940\n",
              "var       3.492      3.583      3.113      1.128"
            ]
          },
          "metadata": {},
          "execution_count": 59
        }
      ]
    },
    {
      "cell_type": "markdown",
      "metadata": {
        "id": "f--A3VTO78at"
      },
      "source": [
        "# Ejercicio 4\n",
        "\n",
        "Una empresa dispone de dos máquinas disponibles para cortar corchos que se  usan en botellas de vino. La máquina 1 produce corchos con diámetros que están normalmente distribuidos con media de 3cm y desviación estándar de 0.1cm. La máquina 2 produce corchos con diámetros que tienen una distribución normal con media de 3.04cm y desviación estándar de 0.2cm. Los corchos aceptables tienen diámetros entre 2.9 y 3.1 cm.\n",
        "\n",
        "- Realice un gráfico para la distribución del diametro de los corchos producidos por cada máquina (use un rango de +/- 2 unidades alrededor de la media)\n",
        "- Determine la probabildad de que cada maquina produzca corchos aceptables y construya el gráfico asociado.\n",
        "- ¿ Cuál es la máquina con mayor probabilidad de corchos aceptables?\n",
        "- Si se toma una muestra de 300 corchos producidos por cada máquina, ¿el número esperado de corchos aceptables es? "
      ]
    }
  ]
}