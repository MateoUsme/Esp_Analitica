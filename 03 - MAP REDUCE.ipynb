{
  "nbformat": 4,
  "nbformat_minor": 0,
  "metadata": {
    "colab": {
      "name": "03 - MAP REDUCE.ipynb",
      "provenance": [],
      "collapsed_sections": [
        "rr4qQZHgTYAj"
      ],
      "include_colab_link": true
    },
    "kernelspec": {
      "name": "python3",
      "display_name": "Python 3"
    }
  },
  "cells": [
    {
      "cell_type": "markdown",
      "metadata": {
        "id": "view-in-github",
        "colab_type": "text"
      },
      "source": [
        "<a href=\"https://colab.research.google.com/github/MateoUsme/Esp_Analitica/blob/main/03%20-%20MAP%20REDUCE.ipynb\" target=\"_parent\"><img src=\"https://colab.research.google.com/assets/colab-badge.svg\" alt=\"Open In Colab\"/></a>"
      ]
    },
    {
      "cell_type": "code",
      "metadata": {
        "id": "V3NWrLdx33ZO",
        "colab": {
          "base_uri": "https://localhost:8080/"
        },
        "outputId": "28398f1a-132e-4ceb-fd22-028b7ca76f17"
      },
      "source": [
        "!wget --no-cache -O init.py -q https://raw.githubusercontent.com/UDEA-Esp-Analitica-y-Ciencia-de-Datos/EACD-03-BIGDATA/master/init.py\n",
        "import init; init.init(force_download=False); \n",
        "from IPython.display import Image"
      ],
      "execution_count": 1,
      "outputs": [
        {
          "output_type": "stream",
          "name": "stdout",
          "text": [
            "replicating local resources\n"
          ]
        }
      ]
    },
    {
      "cell_type": "code",
      "metadata": {
        "id": "jYDamaLv_PR8"
      },
      "source": [
        "Image(\"local/imgs/udea-datascience.png\")"
      ],
      "execution_count": null,
      "outputs": []
    },
    {
      "cell_type": "markdown",
      "metadata": {
        "id": "rr4qQZHgTYAj"
      },
      "source": [
        "# **MAP REDUCE EN SPARK**"
      ]
    },
    {
      "cell_type": "markdown",
      "metadata": {
        "id": "KckwF54B_5oD"
      },
      "source": [
        "# **Preparación del ambiente de trabajo**\n"
      ]
    },
    {
      "cell_type": "markdown",
      "metadata": {
        "id": "A6Y0xx0KUl1s"
      },
      "source": [
        "##1. Instalación de herramientas necesarias\n",
        "\n",
        "*   Java\n",
        "*   Apache Spark\n",
        "*   FindSpark\n",
        "\n",
        "\n",
        "\n"
      ]
    },
    {
      "cell_type": "code",
      "metadata": {
        "id": "9tCrSfgu_-JL"
      },
      "source": [
        "!apt-get install openjdk-11-jdk-headless -qq > /dev/null\n",
        "!wget -q http://archive.apache.org/dist/spark/spark-3.0.1/spark-3.0.1-bin-hadoop3.2.tgz\n",
        "!tar xf spark-3.0.1-bin-hadoop3.2.tgz \n",
        "!pip install -q findspark"
      ],
      "execution_count": 2,
      "outputs": []
    },
    {
      "cell_type": "markdown",
      "metadata": {
        "id": "9UVXhLq0ADLr"
      },
      "source": [
        "##2. Configuración de variables de entorno\n",
        "\n",
        "\n",
        "*   JAVA\n",
        "*   SPARK\n",
        "\n"
      ]
    },
    {
      "cell_type": "code",
      "metadata": {
        "id": "TC0hH01MAI7m"
      },
      "source": [
        "import os\n",
        "os.environ[\"JAVA_HOME\"] = \"/usr/lib/jvm/java-11-openjdk-amd64\"\n",
        "os.environ[\"SPARK_HOME\"] = \"/content/spark-3.0.1-bin-hadoop3.2\""
      ],
      "execution_count": 3,
      "outputs": []
    },
    {
      "cell_type": "markdown",
      "metadata": {
        "id": "qns04As6AMmt"
      },
      "source": [
        "##3. Obtener el Spark Context"
      ]
    },
    {
      "cell_type": "code",
      "metadata": {
        "id": "V3m41r_fARQE"
      },
      "source": [
        "import findspark\n",
        "findspark.init()\n",
        "from pyspark.sql import SparkSession\n",
        "from pyspark import SparkContext\n",
        "spark = SparkSession.builder.master(\"local[*]\").getOrCreate()\n",
        "sc = SparkContext.getOrCreate()"
      ],
      "execution_count": 4,
      "outputs": []
    },
    {
      "cell_type": "markdown",
      "metadata": {
        "id": "1m_18EvJRslx"
      },
      "source": [
        "#**Map Reduce**\n",
        "\n"
      ]
    },
    {
      "cell_type": "markdown",
      "metadata": {
        "id": "QIbFnusoX2tV"
      },
      "source": [
        "Map Recue es un **Paradigma de programación** que permite trabajar en **ambientes distribuidos** usando una gran cantidad de servidores que conforman un **clúster**.\n",
        "\n",
        "Requiere de las siguientes etapas\n",
        "\n",
        "\n",
        "\n",
        "*   **Map:** recibe un conjunto de datos y lo transforma en un segundo conjunto de datos cuyos elementos se representan en tuplas (clave-valor)\n",
        "*   **Reduce:** Utiliza como entrada las tuplas generadas por el map y genera un conjunto de datos de salida reducido a partir de la combinación de los datos recibidos\n",
        "\n",
        "En el siguiente gráfico se muestra la forma como interactúan estas dos etapas\n"
      ]
    },
    {
      "cell_type": "code",
      "metadata": {
        "id": "kd5RIN8HZBek"
      },
      "source": [
        "Image(\"local/imgs/map_reduce.png\")"
      ],
      "execution_count": null,
      "outputs": []
    },
    {
      "cell_type": "markdown",
      "metadata": {
        "id": "QiGJIrXIiVcE"
      },
      "source": [
        "Para Ilustrar la operación de Map Redcue vamos a utilizar tres variables\n",
        "\n",
        "\n",
        "*   num: Secuencia de números del 0 al 5\n",
        "*   tuplas: Pares ordenados de números en formato (clave, valor)\n",
        "*   texto: Archivo de texto\n",
        "\n"
      ]
    },
    {
      "cell_type": "code",
      "metadata": {
        "id": "mFHBbspwu9-E"
      },
      "source": [
        "num = sc.parallelize([0, 1, 2, 3, 4, 5])"
      ],
      "execution_count": null,
      "outputs": []
    },
    {
      "cell_type": "code",
      "metadata": {
        "id": "jxWf-s12_OEi"
      },
      "source": [
        "tuplas = sc.parallelize([[0, 1], [0,2], [0,3], [1,5], [1,6], [2,9]])"
      ],
      "execution_count": null,
      "outputs": []
    },
    {
      "cell_type": "code",
      "metadata": {
        "id": "XdyPshr4Al5S"
      },
      "source": [
        "text = sc.textFile(\"local/data/animales.txt\")"
      ],
      "execution_count": null,
      "outputs": []
    },
    {
      "cell_type": "markdown",
      "metadata": {
        "id": "larM13ECaAQ6"
      },
      "source": [
        "##**Map**\n",
        "\n",
        "Recibe un conjunto de datos y lo transforma en un segundo conjunto de datos cuyos elementos se representan en tuplas (clave-valor)"
      ]
    },
    {
      "cell_type": "markdown",
      "metadata": {
        "id": "DJ6pfCWeaJm6"
      },
      "source": [
        "###Función map\n",
        "Devuelve un nuevo conjunto de datos distribuido formado al pasar cada elemento de la fuente a través de una función.\n"
      ]
    },
    {
      "cell_type": "markdown",
      "metadata": {
        "id": "wm9GWLsY3ais"
      },
      "source": [
        "Usando la variable num (0, 1, 2, 3, 4, 5) apliquemos map para multiplicar cada elemento por 2"
      ]
    },
    {
      "cell_type": "code",
      "metadata": {
        "id": "ihGH0RH9ATcU"
      },
      "source": [
        "num.collect()"
      ],
      "execution_count": null,
      "outputs": []
    },
    {
      "cell_type": "code",
      "metadata": {
        "id": "eKzaUGVJvPJI"
      },
      "source": [
        "numMap=num.map(lambda x:(x,2*x))\n",
        "numMap.collect()"
      ],
      "execution_count": null,
      "outputs": []
    },
    {
      "cell_type": "markdown",
      "metadata": {
        "id": "Fym0Qj9t4Now"
      },
      "source": [
        "Usando la variable text, apliquemos la función map para obtener cada uno de los elementos separados por un espacio"
      ]
    },
    {
      "cell_type": "code",
      "metadata": {
        "id": "6RIRrtJsCCKF"
      },
      "source": [
        "text.collect()"
      ],
      "execution_count": null,
      "outputs": []
    },
    {
      "cell_type": "code",
      "metadata": {
        "id": "AgR1piR3q_mi"
      },
      "source": [
        "wordsMap = text.map(lambda line: line.split(\" \"))\n",
        "print(\"El número de elementos de entrada es: \", text.count())\n",
        "text.collect()\n",
        "print(\"El número de elementos de salida es\", wordsMap.count())\n",
        "wordsMap.collect()\n"
      ],
      "execution_count": null,
      "outputs": []
    },
    {
      "cell_type": "markdown",
      "metadata": {
        "id": "3OIrHJ4UaNb4"
      },
      "source": [
        "###Función flatMap\n",
        "Similar al map, pero cada elemento de entrada se puede asignar a 0 o más elementos de salida. Esto significa que devuelve una secuencia en lugar de un solo elemento.\n"
      ]
    },
    {
      "cell_type": "markdown",
      "metadata": {
        "id": "Pr7XdjedaJi4"
      },
      "source": [
        "Usando la variable num (0, 1, 2, 3, 4, 5) apliquemos flatMap para multiplicar cada elemento por 2"
      ]
    },
    {
      "cell_type": "code",
      "metadata": {
        "id": "IgeevSIKvXcR"
      },
      "source": [
        "numFlatMap=num.flatMap(lambda x:(x,2*x))\n",
        "numFlatMap.collect()"
      ],
      "execution_count": null,
      "outputs": []
    },
    {
      "cell_type": "markdown",
      "metadata": {
        "id": "KTu9sXJa5gX8"
      },
      "source": [
        "Usando la variable text, apliquemos la función map para obtener cada uno de los elementos separados por un espacio"
      ]
    },
    {
      "cell_type": "code",
      "metadata": {
        "id": "QdVBwSXmp2Rl"
      },
      "source": [
        "wordsFlatMap = text.flatMap(lambda line: line.split(\" \"))\n",
        "print(\"El número de elementos de entrada es: \", text.count())\n",
        "print(\"El número de elementos de salida es\", wordsFlatMap.count())\n",
        "wordsFlatMap.collect()"
      ],
      "execution_count": null,
      "outputs": []
    },
    {
      "cell_type": "markdown",
      "metadata": {
        "id": "2akJr4mcaCmb"
      },
      "source": [
        "##**Reduce**\n",
        "Utiliza como entrada las tuplas generadas por el map y genera un conjunto de datos de salida reducido a partir de la combinación de los datos recibidos"
      ]
    },
    {
      "cell_type": "markdown",
      "metadata": {
        "id": "bPqP4VoFaRo2"
      },
      "source": [
        "###Función reduce\n",
        "Reduce los elementos de utilizando el operador binario conmutativo y asociativo especificado\n"
      ]
    },
    {
      "cell_type": "markdown",
      "metadata": {
        "id": "6PdJ9S-s6V2f"
      },
      "source": [
        "Apliquemos reduce a la variable num (0, 1, 2, 3, 4, 5) para obtener la suma de los términos"
      ]
    },
    {
      "cell_type": "code",
      "metadata": {
        "id": "SnPVbETOLRFP"
      },
      "source": [
        "num.collect()"
      ],
      "execution_count": null,
      "outputs": []
    },
    {
      "cell_type": "code",
      "metadata": {
        "id": "AQITLHLS2tuh"
      },
      "source": [
        "numReduce=num.reduce(lambda a,b:a+b)\n",
        "print(\"La suma es: \", numReduce)"
      ],
      "execution_count": null,
      "outputs": []
    },
    {
      "cell_type": "markdown",
      "metadata": {
        "id": "CSBAumnW6rY-"
      },
      "source": [
        "Apliquemos reduce a la variable num (0, 1, 2, 3, 4, 5) para conseguir el valor menor"
      ]
    },
    {
      "cell_type": "code",
      "metadata": {
        "id": "NWJ4XoYB6jO0"
      },
      "source": [
        "numReduce=num.reduce(lambda a,b: a if a<b else b)\n",
        "print(\"El menor es: \", numReduce)"
      ],
      "execution_count": null,
      "outputs": []
    },
    {
      "cell_type": "markdown",
      "metadata": {
        "id": "FIwl8mbb7Ay9"
      },
      "source": [
        "Apliquemos reduce a la variable num (0, 1, 2, 3, 4, 5) para obtener el mayor de los términos utilizando la función max"
      ]
    },
    {
      "cell_type": "code",
      "metadata": {
        "id": "ynputxe85kca"
      },
      "source": [
        "numReduce=num.reduce(lambda a,b:max(a,b))\n",
        "print(\"El mayor es: \", numReduce)"
      ],
      "execution_count": null,
      "outputs": []
    },
    {
      "cell_type": "markdown",
      "metadata": {
        "id": "bB798umSaVct"
      },
      "source": [
        "###Función reduceByKey\n",
        "Cuando se llama a un conjunto de datos de pares (K, V), devuelve un conjunto de datos de pares (K, V) donde los valores de cada clave se agregan usando la función de reducción dada, que debe ser de tipo (V, V) => V.\n"
      ]
    },
    {
      "cell_type": "markdown",
      "metadata": {
        "id": "f3nZDHVRD83B"
      },
      "source": [
        "Visualicemos la variable tuplas"
      ]
    },
    {
      "cell_type": "code",
      "metadata": {
        "id": "gwDN2YQic_Je"
      },
      "source": [
        "tuplas.collect()"
      ],
      "execution_count": null,
      "outputs": []
    },
    {
      "cell_type": "markdown",
      "metadata": {
        "id": "AY6W73L6-DFj"
      },
      "source": [
        "Utilicemos la variable tuplas para sumar los elementos que contengan la misma clave"
      ]
    },
    {
      "cell_type": "code",
      "metadata": {
        "id": "I1p5sOJf9gbL"
      },
      "source": [
        "tuplasReduce=tuplas.reduceByKey(lambda a,b:a+b)\n",
        "tuplasReduce.collect()"
      ],
      "execution_count": null,
      "outputs": []
    },
    {
      "cell_type": "markdown",
      "metadata": {
        "id": "tvVcJmE9-M9E"
      },
      "source": [
        "Utilicemos la variable tuplas para encontrar el menor valor de cada clave"
      ]
    },
    {
      "cell_type": "code",
      "metadata": {
        "id": "pSrLpRb8_W8_"
      },
      "source": [
        "tuplasReduce=tuplas.reduceByKey(lambda a,b: a if a<b else b)\n",
        "tuplasReduce.collect()"
      ],
      "execution_count": null,
      "outputs": []
    },
    {
      "cell_type": "markdown",
      "metadata": {
        "id": "v8C0u71E_W_z"
      },
      "source": [
        "#**Ejemplos**\n",
        "\n",
        "Ahora que ya sabemos que es Map Reduce y  como utilizar las funciones map y reduce, vamos a realizar algunos ejemplos \n"
      ]
    },
    {
      "cell_type": "markdown",
      "metadata": {
        "id": "NWj07o6uWt5-"
      },
      "source": [
        "##**Analicemos la sucesión de Fibonacci**\n",
        "\n",
        "Fibonacci propone una sucesión infinita compuesta por números que se generan a partir de la suma de los dos términos anteriores de la sucesión.\n",
        "\n",
        "0  1  1  2  3  5  8  13  21  34  55  89 ...\n",
        "\n",
        "Será posible construir la sucesión de Fibonacci a partir de un proceso map reduce?"
      ]
    },
    {
      "cell_type": "code",
      "metadata": {
        "id": "DBjH9-egtFCt"
      },
      "source": [
        "#Función que crea la sucesión de Fibonacci usando un ciclo\n",
        "def fibonacci(n):\n",
        "    x, y = 0,1\n",
        "    while x < n:\n",
        "      print(x, end=' ')\n",
        "      x, y = y, x+y\n",
        "    "
      ],
      "execution_count": null,
      "outputs": []
    },
    {
      "cell_type": "code",
      "metadata": {
        "id": "MKKqP6RhtIYt"
      },
      "source": [
        "#Generemos los primeros términos de la sucesión de Fibonacci hasta el número 100\n",
        "fibonacci(100)"
      ],
      "execution_count": null,
      "outputs": []
    },
    {
      "cell_type": "markdown",
      "metadata": {
        "id": "KH1RpdGnrDKt"
      },
      "source": [
        "###Calculemos la suma del cuadrado de los elementos de la sucesión\n",
        "\n",
        "Primero creamos la variable fibo donde representamos la sucesión"
      ]
    },
    {
      "cell_type": "code",
      "metadata": {
        "id": "A1_IA4qyAVib"
      },
      "source": [
        "fibo = sc.parallelize([0, 1, 1, 2, 3, 5, 8, 13, 21, 34, 55, 89])\n",
        "fibo.collect()"
      ],
      "execution_count": null,
      "outputs": []
    },
    {
      "cell_type": "markdown",
      "metadata": {
        "id": "2UM6ksJXF2xE"
      },
      "source": [
        "Ahora utilizemos una función map que nos permite tomar cada elemento de la sucesión y multiplicarlo por sí mismo. El resultado es un nuevo conjunto de datos que contiene el cuadrado de los elementos iniciales"
      ]
    },
    {
      "cell_type": "code",
      "metadata": {
        "id": "jTtPs-UCCGd9"
      },
      "source": [
        "fibo2 = fibo.map(lambda x: x*x)\n",
        "fibo2.collect()"
      ],
      "execution_count": null,
      "outputs": []
    },
    {
      "cell_type": "markdown",
      "metadata": {
        "id": "1e6VNcbUHrZh"
      },
      "source": [
        "Ahora utilicemos la función reduce para sumar el resultado que obtuvimos en la función map anterior"
      ]
    },
    {
      "cell_type": "code",
      "metadata": {
        "id": "V-w3yLftCI8c"
      },
      "source": [
        "from operator import add\n",
        "fibo2Sum = fibo2.reduce(add)\n",
        "print (\"La suma del cuadrado de los elementos de la sucesión es: \", fibo2Sum)"
      ],
      "execution_count": null,
      "outputs": []
    },
    {
      "cell_type": "markdown",
      "metadata": {
        "id": "HgN9Uk7qv00u"
      },
      "source": [
        "###Sumemos los números pares de la sucesión\n",
        "\n",
        "¿Debo usar map y luego reduce?\n",
        "\n",
        "Método 1: usando map para identificar si el número es par y luego sumo con reduce\n",
        "\n"
      ]
    },
    {
      "cell_type": "code",
      "metadata": {
        "id": "hp5HitK3TeBD"
      },
      "source": [
        "fibo.collect()"
      ],
      "execution_count": null,
      "outputs": []
    },
    {
      "cell_type": "code",
      "metadata": {
        "id": "bs63l51F1Vyh"
      },
      "source": [
        "fibo2 = fibo.map(lambda x: x if x%2==0 else 0)\n",
        "fibo2.collect()"
      ],
      "execution_count": null,
      "outputs": []
    },
    {
      "cell_type": "code",
      "metadata": {
        "id": "56MABTeF1uJz"
      },
      "source": [
        "fibo2Sum = fibo2.reduce(lambda a,b:a+b)\n",
        "print(fibo2Sum)"
      ],
      "execution_count": null,
      "outputs": []
    },
    {
      "cell_type": "markdown",
      "metadata": {
        "id": "mK6P7gSG90mL"
      },
      "source": [
        "Método 2: usando solo reduce "
      ]
    },
    {
      "cell_type": "code",
      "metadata": {
        "id": "uQK_G-HOwQTE"
      },
      "source": [
        "fiboPar = fibo.reduce(lambda a,b: a+b if b%2==0 else a)\n",
        "print (fiboPar)"
      ],
      "execution_count": null,
      "outputs": []
    },
    {
      "cell_type": "markdown",
      "metadata": {
        "id": "Hwxz2hDoIkz8"
      },
      "source": [
        "##**Calculemos el valor del Número PI**\n",
        "\n",
        "Pi es uno de los números más famosos de toda la historia de la humanidad. A demás de definir la longitud de una circunferencia se utiliza para muchos fines prácticos entre ellos la astronomía permitiéndonos tener GPS precisos.\n",
        "\n",
        "Al ser un número irracional la precisión dependerá de la cantidad de dígitos con los que lo representemos. En este ejemplo vamos a realizar el cálculo del número PI de manera aproximada mediante el método Monte-Carlo"
      ]
    },
    {
      "cell_type": "code",
      "metadata": {
        "id": "jkhEBdwbh9ER"
      },
      "source": [
        "Image(\"local/imgs/pi.png\")"
      ],
      "execution_count": null,
      "outputs": []
    },
    {
      "cell_type": "code",
      "metadata": {
        "id": "5uh7i19MIv7B"
      },
      "source": [
        "import numpy as np"
      ],
      "execution_count": null,
      "outputs": []
    },
    {
      "cell_type": "markdown",
      "metadata": {
        "id": "XL7_6NVeLQO6"
      },
      "source": [
        "Vamos a definir una función que genere aleatoriamente coordenadas (x,y) utilizando valores entre 0 y 1.\n",
        "Algunos de estos puntos quedarán dentro del círculo unitario y otros por fuera, esto nos permitirá calcular el valor de PI.\n",
        "La función devuelve 1 si la coordenada generada está dentro del círculo unitario y 0 de lo contrario"
      ]
    },
    {
      "cell_type": "code",
      "metadata": {
        "id": "GvPfn2jEIycL"
      },
      "source": [
        "def func(p):\n",
        "    #Creamos aleatoriamente una cooredenada x,y\n",
        "    x, y = np.random.random(), np.random.random()\n",
        "    #Devolvemos 1 si la coordenada hace parte del círulo y 0 de lo contrario\n",
        "    return 1 if x*x + y*y < 1 else 0\n"
      ],
      "execution_count": null,
      "outputs": []
    },
    {
      "cell_type": "markdown",
      "metadata": {
        "id": "OT-WjI3m9ZPS"
      },
      "source": [
        "Creamos una secuencia de números entre 0 y n que servirán para crear los números aleatorios"
      ]
    },
    {
      "cell_type": "code",
      "metadata": {
        "id": "x5xVgLXBKWRD"
      },
      "source": [
        "n = 1000000\n",
        "nums = sc.parallelize(range(0, n))\n",
        "nums.take(10)"
      ],
      "execution_count": null,
      "outputs": []
    },
    {
      "cell_type": "markdown",
      "metadata": {
        "id": "qnOUeftH9j47"
      },
      "source": [
        "Creamos una función map que invocará a la función que genera las coordenadas y nos devuelve 1 si la coordenada pertenece al círculo unitario"
      ]
    },
    {
      "cell_type": "code",
      "metadata": {
        "id": "xNHosQr8VjOZ"
      },
      "source": [
        "mapNum=nums.map(func)\n",
        "mapNum.take(10)"
      ],
      "execution_count": null,
      "outputs": []
    },
    {
      "cell_type": "markdown",
      "metadata": {
        "id": "-bXRwMIs-W3v"
      },
      "source": [
        "Ahora utilicemos un reduce para contabilizar las coordenadas que quedaron dentro del círculo unitario"
      ]
    },
    {
      "cell_type": "code",
      "metadata": {
        "id": "qxuh3koRVxqX"
      },
      "source": [
        "count=mapNum.reduce(lambda a, b: a + b)\n",
        "count"
      ],
      "execution_count": null,
      "outputs": []
    },
    {
      "cell_type": "code",
      "metadata": {
        "id": "f7fiMTipbPQp"
      },
      "source": [
        "count=nums.map(func).reduce(lambda a, b: a + b)"
      ],
      "execution_count": null,
      "outputs": []
    },
    {
      "cell_type": "markdown",
      "metadata": {
        "id": "aRtCuLnX-eh9"
      },
      "source": [
        "Finalmente calculamos el valor de PI"
      ]
    },
    {
      "cell_type": "code",
      "metadata": {
        "id": "K5oh61dQKi06"
      },
      "source": [
        "#pi= 4*r\n",
        "r = float(count) / float(n)\n",
        "print (\"El valor de PI es aproximadamente %f\" % (4.0 * r))"
      ],
      "execution_count": null,
      "outputs": []
    },
    {
      "cell_type": "markdown",
      "metadata": {
        "id": "m1PG7SsMEqm9"
      },
      "source": [
        "##**Contador de Palabras**\n",
        "\n",
        "Utilizando map reduce, vamos a contar cuantas veces se repite cada una de las palabras presentes en un texto dado.\n",
        "\n",
        "La siguiente imagen ayudará a comprender el flujo del proceso y el papel de las funciones map y reduce"
      ]
    },
    {
      "cell_type": "code",
      "metadata": {
        "id": "NHBcdJXTaZG5"
      },
      "source": [
        "Image(\"local/imgs/wordcount.png\")"
      ],
      "execution_count": null,
      "outputs": []
    },
    {
      "cell_type": "markdown",
      "metadata": {
        "id": "zodqf3em_XZx"
      },
      "source": [
        "###Ingresando las palabras directamente en una variable"
      ]
    },
    {
      "cell_type": "code",
      "metadata": {
        "id": "b_UdNvNbE05g"
      },
      "source": [
        "texto = sc.parallelize(['gato', 'perro', 'conejo', 'conejo', 'gato','conejo','perro','conejo','gato'])\n",
        "texto.collect()"
      ],
      "execution_count": null,
      "outputs": []
    },
    {
      "cell_type": "markdown",
      "metadata": {
        "id": "rNOYLRLve0NU"
      },
      "source": [
        "Con la ayuda de la función map generamos la tupla (palabra,1) para cada una de las palabras ingresadas"
      ]
    },
    {
      "cell_type": "code",
      "metadata": {
        "id": "lqfflVDnFQDc"
      },
      "source": [
        "cont = texto.map(lambda x: (x,1))\n",
        "cont.collect()"
      ],
      "execution_count": null,
      "outputs": []
    },
    {
      "cell_type": "markdown",
      "metadata": {
        "id": "UYSsiwZVe9l7"
      },
      "source": [
        "Con la ayuda de la función reduceByKey tomamos todas las tuplas que contengan la misma clave, en este caso la misma palabra, y sumamos sus valores, es decir las veces que aparece cada palabra"
      ]
    },
    {
      "cell_type": "code",
      "metadata": {
        "id": "XjY9BM6MGlzz"
      },
      "source": [
        "res = cont.reduceByKey(lambda x, y: x + y)\n",
        "print(\"Las siguientes tuplas nos muestran cuantas veces aparece cada palabra en el texto ingresado\")\n",
        "res.collect()"
      ],
      "execution_count": null,
      "outputs": []
    },
    {
      "cell_type": "markdown",
      "metadata": {
        "id": "QYGSR6y8aexU"
      },
      "source": [
        "###Leyendo un archivo de texto\n",
        "\n",
        "\n",
        "*   Leemos el archivo de texto\n",
        "*   Aplicamos la función flatMap para obtener una variable con todas las palabras\n",
        "*   Aplicamos la función map para genera la tupla (palabra,1)\n",
        "*   Aplicamos la función reduceByKey para sumar los valores de las tuplas que contienen la misma palabra\n",
        "\n",
        "\n",
        "\n"
      ]
    },
    {
      "cell_type": "code",
      "metadata": {
        "id": "RlstOQ5Wajm_"
      },
      "source": [
        "text_file = sc.textFile(\"local/data/animales.txt\")\n",
        "counts = text_file.flatMap(lambda line: line.split(\" \")) \\\n",
        "             .map(lambda word: (word, 1)) \\\n",
        "             .reduceByKey(lambda a, b: a + b)\n",
        "counts.collect()"
      ],
      "execution_count": null,
      "outputs": []
    },
    {
      "cell_type": "markdown",
      "metadata": {
        "id": "Mr5IbNueaxhv"
      },
      "source": [
        "Almacenamos el resultado en un fichero"
      ]
    },
    {
      "cell_type": "code",
      "metadata": {
        "id": "LHqcNS8iaqkX"
      },
      "source": [
        "counts.saveAsTextFile(\"local/data/contAnimales\")"
      ],
      "execution_count": null,
      "outputs": []
    },
    {
      "cell_type": "markdown",
      "metadata": {
        "id": "TQ3XP_y-dryQ"
      },
      "source": [
        "##**Máxima Temperatura**\n",
        "\n",
        "Vamos a leer un archivo que contiene los valores de temperatura entregados por los sensores ubicados en varias ciudades. El objetivo es encontrar cuál es la máxima temperatura reportada en cada departamento.\n",
        "Fuente de los datos: www.datos.gov.co\n"
      ]
    },
    {
      "cell_type": "code",
      "metadata": {
        "id": "1WiF1mHWdyE8"
      },
      "source": [
        "text_file = sc.textFile(\"local/data/temperatura.txt\")\n",
        "text_file.take(10)"
      ],
      "execution_count": null,
      "outputs": []
    },
    {
      "cell_type": "markdown",
      "metadata": {
        "id": "9LM21Rl5hvhM"
      },
      "source": [
        "En el archivo temperatura.txt tenemos el departamento y la temperatura separados por coma. Aplicamos un split para separar ambos valores mediante una función map"
      ]
    },
    {
      "cell_type": "code",
      "metadata": {
        "id": "6moebV52d-hO"
      },
      "source": [
        "data1=text_file.map(lambda a: (a.split(\",\")))\n",
        "data1.take(10)"
      ],
      "execution_count": null,
      "outputs": []
    },
    {
      "cell_type": "markdown",
      "metadata": {
        "id": "ZpyI1hjXh8t6"
      },
      "source": [
        "Usamos nuevamente una función map para generar la tupla (departamento, temperatura)"
      ]
    },
    {
      "cell_type": "code",
      "metadata": {
        "id": "YEl1HEvEeAl-"
      },
      "source": [
        "data2=data1.map(lambda word: (word[0], float (word[1]) ) )\n",
        "data2.take(10)"
      ],
      "execution_count": null,
      "outputs": []
    },
    {
      "cell_type": "markdown",
      "metadata": {
        "id": "HemYepQliH6i"
      },
      "source": [
        "Utilizamos la función reduceByKey para encontrar el valor máximo de temperatura en cada grupo de tuplas que contengan el mismo departamento"
      ]
    },
    {
      "cell_type": "code",
      "metadata": {
        "id": "iubfiWYseC9m"
      },
      "source": [
        "data3=data2.reduceByKey(lambda a,b: max(a,b))\n",
        "print(\"A continuación se presenta la temperatura máxima de cada departamento\")\n",
        "data3.collect()"
      ],
      "execution_count": null,
      "outputs": []
    },
    {
      "cell_type": "markdown",
      "metadata": {
        "id": "6g67AvB-kYFG"
      },
      "source": [
        "##**PageRank**\n",
        "\n",
        "PageRank es un método que propone Google para evaluar la autoridad que tiene un sitio web en internet, esa autoridad se calcula evaluando la cantidad y calidad de enlaces provenientes de otros sitios web.\n",
        "\n",
        "Con el PageRank se genera un sistema de ranking para conocer la importancia de un sitio Web calculado sobre la premisa de que un sitio es importante si es referenciado por otros sitios que sean importantes y esa calificación tiene implicaciones en la posición en que aparecerá dicho sitio cuando un usuario realiza una consulta en Google.\n",
        "\n",
        "La siguiente imagen ayudará a entender la forma como se calcula el PageRank"
      ]
    },
    {
      "cell_type": "code",
      "metadata": {
        "id": "HfhUtlNi_hRY"
      },
      "source": [
        "Image(\"local/imgs/pagerank.png\")"
      ],
      "execution_count": null,
      "outputs": []
    },
    {
      "cell_type": "markdown",
      "metadata": {
        "id": "DQa3XdTowuGB"
      },
      "source": [
        "Definimos la función computeContribs que permite calcular la contribución de una url en el rank de otras urls. Es decir que dada una url que tiene cierta importancia (rank) reparte esa importancia a las demás urls a través de los enlaces que tenga a dichas urls.\n",
        "\n",
        "Como resultado entrega tuplas compuestas por cada url referenciada y el valor del rank que le corresponde"
      ]
    },
    {
      "cell_type": "code",
      "metadata": {
        "id": "DXpotXrSkbK9"
      },
      "source": [
        "def computeContribs(urls, rank):\n",
        "    #Calculates URL contributions to the rank of other URLs\n",
        "    num_urls = len(urls)\n",
        "    for url in urls:\n",
        "        yield (url, rank / num_urls)"
      ],
      "execution_count": null,
      "outputs": []
    },
    {
      "cell_type": "markdown",
      "metadata": {
        "id": "5sYuI0jgx4QJ"
      },
      "source": [
        "Definimos la función parseNeighbors que genera tuplas a partir de una lista que contiene las urls y sus enlaces"
      ]
    },
    {
      "cell_type": "code",
      "metadata": {
        "id": "Wb6lAQxskd71"
      },
      "source": [
        "def parseNeighbors(urls):\n",
        "    #Parses a urls pair string into urls pair\n",
        "    parts = re.split(r'\\s+', urls)\n",
        "    return parts[0], parts[1]"
      ],
      "execution_count": null,
      "outputs": []
    },
    {
      "cell_type": "markdown",
      "metadata": {
        "id": "2bGTGQPKyddp"
      },
      "source": [
        "Leemos el archivo que contiene la información a analizar compuesto por líneas donde cada línea relaciona una url y un enlace de esa url a otra url"
      ]
    },
    {
      "cell_type": "code",
      "metadata": {
        "id": "saFZn822kXzX"
      },
      "source": [
        "lines = sc.textFile(\"local/data/pagerank.txt\")\n",
        "lines.collect()"
      ],
      "execution_count": null,
      "outputs": []
    },
    {
      "cell_type": "markdown",
      "metadata": {
        "id": "_CfasQJC_oAx"
      },
      "source": [
        "Utilizamos la función map para generar tuplas de datos cuya clave será la url y el valor representa los enlaces realizados por dicha url a otras urls"
      ]
    },
    {
      "cell_type": "code",
      "metadata": {
        "id": "-IU27e9Dl3mc"
      },
      "source": [
        "# initialize their neighbors.\n",
        "import re\n",
        "links = lines.map(lambda urls: parseNeighbors(urls)).distinct().groupByKey().cache()\n",
        "links.collect()"
      ],
      "execution_count": null,
      "outputs": []
    },
    {
      "cell_type": "markdown",
      "metadata": {
        "id": "_qfAjn8k_2tt"
      },
      "source": [
        "Inicialmente vamos a asumir que todas las urls tienen la misa autoridad (1). Utilizamos la función map para generar la tupla (url,1) indicando que cada url tiene una rank de 1"
      ]
    },
    {
      "cell_type": "code",
      "metadata": {
        "id": "mBTYMutAl54g"
      },
      "source": [
        "# Loads all URLs with other URL(s) link to from input file and initialize ranks of them to one.\n",
        "ranks = links.map(lambda url_neighbors: (url_neighbors[0], 1.0))\n",
        "ranks.collect()"
      ],
      "execution_count": null,
      "outputs": []
    },
    {
      "cell_type": "markdown",
      "metadata": {
        "id": "fMc9tYGRAI9P"
      },
      "source": [
        "Aplicamos una iteración de 10 pasos donde calculamos la contribución de cada url a las demás urls a través de la función computeContribs en un proceso flatMap y a partir de esa contribución recalculamos el rank de cada url.\n"
      ]
    },
    {
      "cell_type": "code",
      "metadata": {
        "id": "JVzBFAT6l-8s"
      },
      "source": [
        "from operator import add\n",
        "# Calculates and updates URL ranks continuously using PageRank algorithm.\n",
        "for iteration in range(10):\n",
        "  # Calculates URL contributions to the rank of other URLs.\n",
        "  contribs = links.join(ranks).flatMap(lambda url_urls_rank: computeContribs(url_urls_rank[1][0], url_urls_rank[1][1]))\n",
        "  # Re-calculates URL ranks based on neighbor contributions.\n",
        "  ranks = contribs.reduceByKey(add).mapValues(lambda rank: rank * 0.85 + 0.15)"
      ],
      "execution_count": null,
      "outputs": []
    },
    {
      "cell_type": "markdown",
      "metadata": {
        "id": "sRwJipQFA26V"
      },
      "source": [
        "Veamos el rank de cada página luego de las 10 iteraciones"
      ]
    },
    {
      "cell_type": "code",
      "metadata": {
        "id": "SBcILM3OmCpk"
      },
      "source": [
        "# Collects all URL ranks and dump them to console.\n",
        "for (link, rank) in ranks.collect():\n",
        "  print(\"%s has rank: %s.\" % (link, rank))"
      ],
      "execution_count": null,
      "outputs": []
    },
    {
      "cell_type": "markdown",
      "metadata": {
        "id": "T_YUJCMyVr1n"
      },
      "source": [
        "#**Ejercicios**#\n",
        "\n",
        "Se dispone de un set de datos que describen la situación del covid19 en Colombia obtenidos de https://www.datos.gov.co/\n",
        "\n",
        "Estos datos relacionan los casos positivos en Colombia a través de las siguientes variables\n",
        "\n",
        "\n",
        "\n",
        "*   Ciudad\n",
        "*   Departamento\n",
        "*   Atención (casa, fallecido, hospital, hospital/uci, recuperado)\n",
        "*   Edad\n",
        "*   Tipo (En estudio, importado, relacionado)\n",
        "*   Estado (Asintomático, Fallecido, Grave, Leve, Moderado)\n",
        "\n"
      ]
    },
    {
      "cell_type": "markdown",
      "metadata": {
        "id": "5Y_1v_px9637"
      },
      "source": [
        "Dada la cantidad de casos positivos en el país, apliquemos map reduce para resolver las siguientes inquietudes\n",
        "\n",
        "1.   Cuánto es el total de fallecidos y recuperados en el país\n",
        "2.   Afectará la pandemia a hombres y  mujeres por igual\n",
        "3.   Cuál es el promedio de edad de los afectados\n",
        "4.   Cuál es el departamento que presenta mayor número de casos\n",
        "5.   Que porcentaje de los casos son importados\n",
        "6.   Es cierto que en Cartagena la mayoría de los casos son importados\n",
        "\n"
      ]
    },
    {
      "cell_type": "code",
      "metadata": {
        "id": "q_rdI87yCjFF"
      },
      "source": [
        "datos = sc.textFile(\"local/data/covid19_Colombia.csv\")\n",
        "datos_hrd = datos.first()\n",
        "datos = datos.filter(lambda x: not str(x).startswith(datos_hrd))"
      ],
      "execution_count": 5,
      "outputs": []
    },
    {
      "cell_type": "code",
      "metadata": {
        "id": "Aw-4rYQfCwGN",
        "colab": {
          "base_uri": "https://localhost:8080/"
        },
        "outputId": "a400847b-8cfa-49b5-faff-3b49d6a6d8a9"
      },
      "source": [
        "base_data = datos.map(lambda x: x.split(\";\"))\n",
        "base_data.take(5)"
      ],
      "execution_count": 6,
      "outputs": [
        {
          "output_type": "execute_result",
          "data": {
            "text/plain": [
              "[['1', 'Bogota', 'Bogota', 'Recuperado', '19', 'F', 'Importado', 'Leve'],\n",
              " ['2',\n",
              "  'Guadalajara de Buga',\n",
              "  'Valle del Cauca',\n",
              "  'Recuperado',\n",
              "  '34',\n",
              "  'M',\n",
              "  'Importado',\n",
              "  'Leve'],\n",
              " ['3', 'Medellin', 'Antioquia', 'Recuperado', '50', 'F', 'Importado', 'Leve'],\n",
              " ['4',\n",
              "  'Medellin',\n",
              "  'Antioquia',\n",
              "  'Recuperado',\n",
              "  '55',\n",
              "  'M',\n",
              "  'Relacionado',\n",
              "  'Leve'],\n",
              " ['5',\n",
              "  'Medellin',\n",
              "  'Antioquia',\n",
              "  'Recuperado',\n",
              "  '25',\n",
              "  'M',\n",
              "  'Relacionado',\n",
              "  'Leve']]"
            ]
          },
          "metadata": {},
          "execution_count": 6
        }
      ]
    },
    {
      "cell_type": "code",
      "metadata": {
        "id": "JFioakCDC9au",
        "colab": {
          "base_uri": "https://localhost:8080/"
        },
        "outputId": "07e8cdab-97a7-4537-c534-474d8a1659d9"
      },
      "source": [
        "results = base_data.map(lambda x: (x[7],1)).reduceByKey(lambda a,b: a+b)\n",
        "results.take(15)"
      ],
      "execution_count": 7,
      "outputs": [
        {
          "output_type": "execute_result",
          "data": {
            "text/plain": [
              "[('Asintomatico', 95449),\n",
              " ('N/A', 1842),\n",
              " ('Moderado', 21942),\n",
              " ('Grave', 2216),\n",
              " ('Leve', 619415),\n",
              " ('Fallecido', 24207),\n",
              " ('LEVE', 5)]"
            ]
          },
          "metadata": {},
          "execution_count": 7
        }
      ]
    },
    {
      "cell_type": "code",
      "metadata": {
        "id": "YqBE3ScxD3cO",
        "colab": {
          "base_uri": "https://localhost:8080/"
        },
        "outputId": "d7d9ecd9-f01c-4aec-d340-6aba4d78c9f8"
      },
      "source": [
        "results2 = base_data.map(lambda x: (x[3],1)).reduceByKey(lambda a,b: a+b)\n",
        "results2.take(15)"
      ],
      "execution_count": 8,
      "outputs": [
        {
          "output_type": "execute_result",
          "data": {
            "text/plain": [
              "[('N/A', 1602),\n",
              " ('Recuperado', 633199),\n",
              " ('Fallecido', 24208),\n",
              " ('Casa', 90763),\n",
              " ('Hospital', 14057),\n",
              " ('Hospital UCI', 1242),\n",
              " ('CASA', 5)]"
            ]
          },
          "metadata": {},
          "execution_count": 8
        }
      ]
    },
    {
      "cell_type": "markdown",
      "metadata": {
        "id": "IE3-1kvdEVHb"
      },
      "source": [
        "**Pregunta 2**\n",
        "\n",
        "\n",
        "*   Afectará la pandemia a hombres y mujeres por igual\n",
        "\n"
      ]
    },
    {
      "cell_type": "code",
      "metadata": {
        "id": "lGu6cthpEbYS",
        "colab": {
          "base_uri": "https://localhost:8080/"
        },
        "outputId": "648c33a8-4e38-4136-e947-4bdc092d8aef"
      },
      "source": [
        "results3 = base_data.map(lambda x: (x[5],1)).reduceByKey(lambda a,b: a+b)\n",
        "nota = results3.take(3)\n",
        "F = nota[0][1]\n",
        "M = nota[1][1]\n",
        "print(f\"Infectados en la pandemia:\\n\\nPorcentaje mujeres: {F/(M+F):.2}\\nPorcentaje hombres: {M/(M+F):.2}\")"
      ],
      "execution_count": 9,
      "outputs": [
        {
          "output_type": "stream",
          "name": "stdout",
          "text": [
            "Infectados en la pandemia:\n",
            "\n",
            "Porcentaje mujeres: 0.49\n",
            "Porcentaje hombres: 0.51\n"
          ]
        }
      ]
    },
    {
      "cell_type": "markdown",
      "metadata": {
        "id": "AKTxd1mEFm5c"
      },
      "source": [
        "**Pregunta 3**\n",
        "\n",
        "\n",
        "*   Cuál es el promedio de edad de los afectados\n"
      ]
    },
    {
      "cell_type": "code",
      "metadata": {
        "id": "CRqRkvIpFx4q",
        "colab": {
          "base_uri": "https://localhost:8080/"
        },
        "outputId": "920b9fc3-b71e-4803-e635-a39b38a1ab22"
      },
      "source": [
        "import numpy as np\n",
        "results4 = base_data.map(lambda x: int(x[4]))\n",
        "print(f\"Promedio de edad de afectados: {round(np.mean(results4.collect()),0).astype(int)}\")"
      ],
      "execution_count": 10,
      "outputs": [
        {
          "output_type": "stream",
          "name": "stdout",
          "text": [
            "Promedio de edad de afectados: 40\n"
          ]
        }
      ]
    },
    {
      "cell_type": "markdown",
      "metadata": {
        "id": "za9lOGeQKvn9"
      },
      "source": [
        "**Pregunta 4**\n",
        "\n",
        "\n",
        "*   Cuál es el departamento que presenta mayor número de casos\n",
        "\n"
      ]
    },
    {
      "cell_type": "code",
      "metadata": {
        "id": "k3sJL7QTK-qM"
      },
      "source": [
        "results5 = base_data.map(lambda x: (x[2],1)).reduceByKey(lambda a,b: a+b)\n",
        "sortear = results5.take(100)"
      ],
      "execution_count": 25,
      "outputs": []
    },
    {
      "cell_type": "code",
      "metadata": {
        "id": "REtRVtHrML6_",
        "outputId": "6b418c83-8860-43a4-a95b-243478e45377",
        "colab": {
          "base_uri": "https://localhost:8080/"
        }
      },
      "source": [
        "sortear.sort(key=lambda x:x[1])\n",
        "sortear[::-1][:3]"
      ],
      "execution_count": 29,
      "outputs": [
        {
          "output_type": "execute_result",
          "data": {
            "text/plain": [
              "[('Bogota', 252319), ('Antioquia', 103915), ('Valle del Cauca', 54706)]"
            ]
          },
          "metadata": {},
          "execution_count": 29
        }
      ]
    },
    {
      "cell_type": "markdown",
      "metadata": {
        "id": "oNbaeglDNWwl"
      },
      "source": [
        "**Pregunta 5**\n",
        "\n",
        "\n",
        "*   Que porcentaje de los casos son importados\n",
        "\n"
      ]
    },
    {
      "cell_type": "code",
      "metadata": {
        "id": "v_8cwOQDPoSO",
        "outputId": "fcf15bdf-d59f-4433-b96f-87aa0ef674b3",
        "colab": {
          "base_uri": "https://localhost:8080/"
        }
      },
      "source": [
        "results6 = base_data.map(lambda x: (x[6],1)).reduceByKey(lambda a,b: a+b)\n",
        "results6.take(10)"
      ],
      "execution_count": 33,
      "outputs": [
        {
          "output_type": "execute_result",
          "data": {
            "text/plain": [
              "[('En estudio', 721452),\n",
              " ('relacionado', 38),\n",
              " ('En Estudio', 2185),\n",
              " ('Importado', 981),\n",
              " ('Relacionado', 40401),\n",
              " ('RELACIONADO', 14),\n",
              " ('EN ESTUDIO', 5)]"
            ]
          },
          "metadata": {},
          "execution_count": 33
        }
      ]
    },
    {
      "cell_type": "code",
      "metadata": {
        "id": "91dwrbCDQOGZ",
        "outputId": "1518c567-98f7-417f-c364-f9f96c16fc07",
        "colab": {
          "base_uri": "https://localhost:8080/",
          "height": 319
        }
      },
      "source": [
        "total = base_data.map(lambda x: x[6])\n",
        "total.take(5)"
      ],
      "execution_count": 39,
      "outputs": [
        {
          "output_type": "error",
          "ename": "KeyboardInterrupt",
          "evalue": "ignored",
          "traceback": [
            "\u001b[0;31m---------------------------------------------------------------------------\u001b[0m",
            "\u001b[0;31mKeyboardInterrupt\u001b[0m                         Traceback (most recent call last)",
            "\u001b[0;32m<ipython-input-39-df754f8b58ff>\u001b[0m in \u001b[0;36m<module>\u001b[0;34m()\u001b[0m\n\u001b[1;32m      1\u001b[0m \u001b[0mtotal\u001b[0m \u001b[0;34m=\u001b[0m \u001b[0mbase_data\u001b[0m\u001b[0;34m.\u001b[0m\u001b[0mmap\u001b[0m\u001b[0;34m(\u001b[0m\u001b[0;32mlambda\u001b[0m \u001b[0mx\u001b[0m\u001b[0;34m:\u001b[0m \u001b[0mx\u001b[0m\u001b[0;34m[\u001b[0m\u001b[0;36m6\u001b[0m\u001b[0;34m]\u001b[0m\u001b[0;34m)\u001b[0m\u001b[0;34m\u001b[0m\u001b[0;34m\u001b[0m\u001b[0m\n\u001b[0;32m----> 2\u001b[0;31m \u001b[0mtotal\u001b[0m\u001b[0;34m.\u001b[0m\u001b[0mtake\u001b[0m\u001b[0;34m(\u001b[0m\u001b[0;36m5\u001b[0m\u001b[0;34m)\u001b[0m\u001b[0;34m\u001b[0m\u001b[0;34m\u001b[0m\u001b[0m\n\u001b[0m",
            "\u001b[0;32m/content/spark-3.0.1-bin-hadoop3.2/python/pyspark/rdd.py\u001b[0m in \u001b[0;36mtake\u001b[0;34m(self, num)\u001b[0m\n\u001b[1;32m   1444\u001b[0m \u001b[0;34m\u001b[0m\u001b[0m\n\u001b[1;32m   1445\u001b[0m             \u001b[0mp\u001b[0m \u001b[0;34m=\u001b[0m \u001b[0mrange\u001b[0m\u001b[0;34m(\u001b[0m\u001b[0mpartsScanned\u001b[0m\u001b[0;34m,\u001b[0m \u001b[0mmin\u001b[0m\u001b[0;34m(\u001b[0m\u001b[0mpartsScanned\u001b[0m \u001b[0;34m+\u001b[0m \u001b[0mnumPartsToTry\u001b[0m\u001b[0;34m,\u001b[0m \u001b[0mtotalParts\u001b[0m\u001b[0;34m)\u001b[0m\u001b[0;34m)\u001b[0m\u001b[0;34m\u001b[0m\u001b[0;34m\u001b[0m\u001b[0m\n\u001b[0;32m-> 1446\u001b[0;31m             \u001b[0mres\u001b[0m \u001b[0;34m=\u001b[0m \u001b[0mself\u001b[0m\u001b[0;34m.\u001b[0m\u001b[0mcontext\u001b[0m\u001b[0;34m.\u001b[0m\u001b[0mrunJob\u001b[0m\u001b[0;34m(\u001b[0m\u001b[0mself\u001b[0m\u001b[0;34m,\u001b[0m \u001b[0mtakeUpToNumLeft\u001b[0m\u001b[0;34m,\u001b[0m \u001b[0mp\u001b[0m\u001b[0;34m)\u001b[0m\u001b[0;34m\u001b[0m\u001b[0;34m\u001b[0m\u001b[0m\n\u001b[0m\u001b[1;32m   1447\u001b[0m \u001b[0;34m\u001b[0m\u001b[0m\n\u001b[1;32m   1448\u001b[0m             \u001b[0mitems\u001b[0m \u001b[0;34m+=\u001b[0m \u001b[0mres\u001b[0m\u001b[0;34m\u001b[0m\u001b[0;34m\u001b[0m\u001b[0m\n",
            "\u001b[0;32m/content/spark-3.0.1-bin-hadoop3.2/python/pyspark/context.py\u001b[0m in \u001b[0;36mrunJob\u001b[0;34m(self, rdd, partitionFunc, partitions, allowLocal)\u001b[0m\n\u001b[1;32m   1116\u001b[0m         \u001b[0;31m# SparkContext#runJob.\u001b[0m\u001b[0;34m\u001b[0m\u001b[0;34m\u001b[0m\u001b[0;34m\u001b[0m\u001b[0m\n\u001b[1;32m   1117\u001b[0m         \u001b[0mmappedRDD\u001b[0m \u001b[0;34m=\u001b[0m \u001b[0mrdd\u001b[0m\u001b[0;34m.\u001b[0m\u001b[0mmapPartitions\u001b[0m\u001b[0;34m(\u001b[0m\u001b[0mpartitionFunc\u001b[0m\u001b[0;34m)\u001b[0m\u001b[0;34m\u001b[0m\u001b[0;34m\u001b[0m\u001b[0m\n\u001b[0;32m-> 1118\u001b[0;31m         \u001b[0msock_info\u001b[0m \u001b[0;34m=\u001b[0m \u001b[0mself\u001b[0m\u001b[0;34m.\u001b[0m\u001b[0m_jvm\u001b[0m\u001b[0;34m.\u001b[0m\u001b[0mPythonRDD\u001b[0m\u001b[0;34m.\u001b[0m\u001b[0mrunJob\u001b[0m\u001b[0;34m(\u001b[0m\u001b[0mself\u001b[0m\u001b[0;34m.\u001b[0m\u001b[0m_jsc\u001b[0m\u001b[0;34m.\u001b[0m\u001b[0msc\u001b[0m\u001b[0;34m(\u001b[0m\u001b[0;34m)\u001b[0m\u001b[0;34m,\u001b[0m \u001b[0mmappedRDD\u001b[0m\u001b[0;34m.\u001b[0m\u001b[0m_jrdd\u001b[0m\u001b[0;34m,\u001b[0m \u001b[0mpartitions\u001b[0m\u001b[0;34m)\u001b[0m\u001b[0;34m\u001b[0m\u001b[0;34m\u001b[0m\u001b[0m\n\u001b[0m\u001b[1;32m   1119\u001b[0m         \u001b[0;32mreturn\u001b[0m \u001b[0mlist\u001b[0m\u001b[0;34m(\u001b[0m\u001b[0m_load_from_socket\u001b[0m\u001b[0;34m(\u001b[0m\u001b[0msock_info\u001b[0m\u001b[0;34m,\u001b[0m \u001b[0mmappedRDD\u001b[0m\u001b[0;34m.\u001b[0m\u001b[0m_jrdd_deserializer\u001b[0m\u001b[0;34m)\u001b[0m\u001b[0;34m)\u001b[0m\u001b[0;34m\u001b[0m\u001b[0;34m\u001b[0m\u001b[0m\n\u001b[1;32m   1120\u001b[0m \u001b[0;34m\u001b[0m\u001b[0m\n",
            "\u001b[0;32m/content/spark-3.0.1-bin-hadoop3.2/python/lib/py4j-0.10.9-src.zip/py4j/java_gateway.py\u001b[0m in \u001b[0;36m__call__\u001b[0;34m(self, *args)\u001b[0m\n\u001b[1;32m   1301\u001b[0m             \u001b[0mproto\u001b[0m\u001b[0;34m.\u001b[0m\u001b[0mEND_COMMAND_PART\u001b[0m\u001b[0;34m\u001b[0m\u001b[0;34m\u001b[0m\u001b[0m\n\u001b[1;32m   1302\u001b[0m \u001b[0;34m\u001b[0m\u001b[0m\n\u001b[0;32m-> 1303\u001b[0;31m         \u001b[0manswer\u001b[0m \u001b[0;34m=\u001b[0m \u001b[0mself\u001b[0m\u001b[0;34m.\u001b[0m\u001b[0mgateway_client\u001b[0m\u001b[0;34m.\u001b[0m\u001b[0msend_command\u001b[0m\u001b[0;34m(\u001b[0m\u001b[0mcommand\u001b[0m\u001b[0;34m)\u001b[0m\u001b[0;34m\u001b[0m\u001b[0;34m\u001b[0m\u001b[0m\n\u001b[0m\u001b[1;32m   1304\u001b[0m         return_value = get_return_value(\n\u001b[1;32m   1305\u001b[0m             answer, self.gateway_client, self.target_id, self.name)\n",
            "\u001b[0;32m/content/spark-3.0.1-bin-hadoop3.2/python/lib/py4j-0.10.9-src.zip/py4j/java_gateway.py\u001b[0m in \u001b[0;36msend_command\u001b[0;34m(self, command, retry, binary)\u001b[0m\n\u001b[1;32m   1031\u001b[0m         \u001b[0mconnection\u001b[0m \u001b[0;34m=\u001b[0m \u001b[0mself\u001b[0m\u001b[0;34m.\u001b[0m\u001b[0m_get_connection\u001b[0m\u001b[0;34m(\u001b[0m\u001b[0;34m)\u001b[0m\u001b[0;34m\u001b[0m\u001b[0;34m\u001b[0m\u001b[0m\n\u001b[1;32m   1032\u001b[0m         \u001b[0;32mtry\u001b[0m\u001b[0;34m:\u001b[0m\u001b[0;34m\u001b[0m\u001b[0;34m\u001b[0m\u001b[0m\n\u001b[0;32m-> 1033\u001b[0;31m             \u001b[0mresponse\u001b[0m \u001b[0;34m=\u001b[0m \u001b[0mconnection\u001b[0m\u001b[0;34m.\u001b[0m\u001b[0msend_command\u001b[0m\u001b[0;34m(\u001b[0m\u001b[0mcommand\u001b[0m\u001b[0;34m)\u001b[0m\u001b[0;34m\u001b[0m\u001b[0;34m\u001b[0m\u001b[0m\n\u001b[0m\u001b[1;32m   1034\u001b[0m             \u001b[0;32mif\u001b[0m \u001b[0mbinary\u001b[0m\u001b[0;34m:\u001b[0m\u001b[0;34m\u001b[0m\u001b[0;34m\u001b[0m\u001b[0m\n\u001b[1;32m   1035\u001b[0m                 \u001b[0;32mreturn\u001b[0m \u001b[0mresponse\u001b[0m\u001b[0;34m,\u001b[0m \u001b[0mself\u001b[0m\u001b[0;34m.\u001b[0m\u001b[0m_create_connection_guard\u001b[0m\u001b[0;34m(\u001b[0m\u001b[0mconnection\u001b[0m\u001b[0;34m)\u001b[0m\u001b[0;34m\u001b[0m\u001b[0;34m\u001b[0m\u001b[0m\n",
            "\u001b[0;32m/content/spark-3.0.1-bin-hadoop3.2/python/lib/py4j-0.10.9-src.zip/py4j/java_gateway.py\u001b[0m in \u001b[0;36msend_command\u001b[0;34m(self, command)\u001b[0m\n\u001b[1;32m   1198\u001b[0m \u001b[0;34m\u001b[0m\u001b[0m\n\u001b[1;32m   1199\u001b[0m         \u001b[0;32mtry\u001b[0m\u001b[0;34m:\u001b[0m\u001b[0;34m\u001b[0m\u001b[0;34m\u001b[0m\u001b[0m\n\u001b[0;32m-> 1200\u001b[0;31m             \u001b[0manswer\u001b[0m \u001b[0;34m=\u001b[0m \u001b[0msmart_decode\u001b[0m\u001b[0;34m(\u001b[0m\u001b[0mself\u001b[0m\u001b[0;34m.\u001b[0m\u001b[0mstream\u001b[0m\u001b[0;34m.\u001b[0m\u001b[0mreadline\u001b[0m\u001b[0;34m(\u001b[0m\u001b[0;34m)\u001b[0m\u001b[0;34m[\u001b[0m\u001b[0;34m:\u001b[0m\u001b[0;34m-\u001b[0m\u001b[0;36m1\u001b[0m\u001b[0;34m]\u001b[0m\u001b[0;34m)\u001b[0m\u001b[0;34m\u001b[0m\u001b[0;34m\u001b[0m\u001b[0m\n\u001b[0m\u001b[1;32m   1201\u001b[0m             \u001b[0mlogger\u001b[0m\u001b[0;34m.\u001b[0m\u001b[0mdebug\u001b[0m\u001b[0;34m(\u001b[0m\u001b[0;34m\"Answer received: {0}\"\u001b[0m\u001b[0;34m.\u001b[0m\u001b[0mformat\u001b[0m\u001b[0;34m(\u001b[0m\u001b[0manswer\u001b[0m\u001b[0;34m)\u001b[0m\u001b[0;34m)\u001b[0m\u001b[0;34m\u001b[0m\u001b[0;34m\u001b[0m\u001b[0m\n\u001b[1;32m   1202\u001b[0m             \u001b[0;32mif\u001b[0m \u001b[0manswer\u001b[0m\u001b[0;34m.\u001b[0m\u001b[0mstartswith\u001b[0m\u001b[0;34m(\u001b[0m\u001b[0mproto\u001b[0m\u001b[0;34m.\u001b[0m\u001b[0mRETURN_MESSAGE\u001b[0m\u001b[0;34m)\u001b[0m\u001b[0;34m:\u001b[0m\u001b[0;34m\u001b[0m\u001b[0;34m\u001b[0m\u001b[0m\n",
            "\u001b[0;32m/usr/lib/python3.7/socket.py\u001b[0m in \u001b[0;36mreadinto\u001b[0;34m(self, b)\u001b[0m\n\u001b[1;32m    587\u001b[0m         \u001b[0;32mwhile\u001b[0m \u001b[0;32mTrue\u001b[0m\u001b[0;34m:\u001b[0m\u001b[0;34m\u001b[0m\u001b[0;34m\u001b[0m\u001b[0m\n\u001b[1;32m    588\u001b[0m             \u001b[0;32mtry\u001b[0m\u001b[0;34m:\u001b[0m\u001b[0;34m\u001b[0m\u001b[0;34m\u001b[0m\u001b[0m\n\u001b[0;32m--> 589\u001b[0;31m                 \u001b[0;32mreturn\u001b[0m \u001b[0mself\u001b[0m\u001b[0;34m.\u001b[0m\u001b[0m_sock\u001b[0m\u001b[0;34m.\u001b[0m\u001b[0mrecv_into\u001b[0m\u001b[0;34m(\u001b[0m\u001b[0mb\u001b[0m\u001b[0;34m)\u001b[0m\u001b[0;34m\u001b[0m\u001b[0;34m\u001b[0m\u001b[0m\n\u001b[0m\u001b[1;32m    590\u001b[0m             \u001b[0;32mexcept\u001b[0m \u001b[0mtimeout\u001b[0m\u001b[0;34m:\u001b[0m\u001b[0;34m\u001b[0m\u001b[0;34m\u001b[0m\u001b[0m\n\u001b[1;32m    591\u001b[0m                 \u001b[0mself\u001b[0m\u001b[0;34m.\u001b[0m\u001b[0m_timeout_occurred\u001b[0m \u001b[0;34m=\u001b[0m \u001b[0;32mTrue\u001b[0m\u001b[0;34m\u001b[0m\u001b[0;34m\u001b[0m\u001b[0m\n",
            "\u001b[0;31mKeyboardInterrupt\u001b[0m: "
          ]
        }
      ]
    }
  ]
}