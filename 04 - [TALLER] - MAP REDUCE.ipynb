{
  "nbformat": 4,
  "nbformat_minor": 0,
  "metadata": {
    "colab": {
      "name": "04 - [TALLER] - MAP REDUCE.ipynb",
      "provenance": [],
      "collapsed_sections": [],
      "include_colab_link": true
    },
    "kernelspec": {
      "name": "python3",
      "display_name": "Python 3"
    }
  },
  "cells": [
    {
      "cell_type": "markdown",
      "metadata": {
        "id": "view-in-github",
        "colab_type": "text"
      },
      "source": [
        "<a href=\"https://colab.research.google.com/github/MateoUsme/Esp_Analitica/blob/main/04%20-%20%5BTALLER%5D%20-%20MAP%20REDUCE.ipynb\" target=\"_parent\"><img src=\"https://colab.research.google.com/assets/colab-badge.svg\" alt=\"Open In Colab\"/></a>"
      ]
    },
    {
      "cell_type": "code",
      "metadata": {
        "id": "Z7rbDx_-JApm",
        "colab": {
          "base_uri": "https://localhost:8080/"
        },
        "outputId": "2eaafdca-2abd-488c-e5f4-def8382af60d"
      },
      "source": [
        "!wget --no-cache -O init.py -q https://raw.githubusercontent.com/UDEA-Esp-Analitica-y-Ciencia-de-Datos/EACD-03-BIGDATA/master/init.py\n",
        "import init; init.init(force_download=False); \n",
        "from IPython.display import Image"
      ],
      "execution_count": 1,
      "outputs": [
        {
          "output_type": "stream",
          "name": "stdout",
          "text": [
            "replicating local resources\n"
          ]
        }
      ]
    },
    {
      "cell_type": "code",
      "metadata": {
        "id": "hDzn_xcpJRWR"
      },
      "source": [
        "Image(\"local/imgs/udea-datascience.png\")"
      ],
      "execution_count": null,
      "outputs": []
    },
    {
      "cell_type": "markdown",
      "metadata": {
        "id": "myHD-jFLKEal"
      },
      "source": [
        "# **TALLER 1: MAP REDUCE**\n",
        "## Desarrollado por: Mg. Efraín Alberto Oviedo\n",
        "## Universidad de Antioquia"
      ]
    },
    {
      "cell_type": "markdown",
      "metadata": {
        "id": "4GK6iJ1CKS8o"
      },
      "source": [
        "Por favor, ingrese la información de cada integrante del grupo de trabajo\n",
        "\n",
        "**Nombre Completo:**\n",
        "\n",
        "**Cédula:**\n",
        "\n",
        "**Correo Institucional:**\n",
        "\n",
        "**Nombre Completo:**\n",
        "\n",
        "**Cédula:**\n",
        "\n",
        "**Correo Institucional:**\n",
        "\n",
        "**Nombre Completo:**\n",
        "\n",
        "**Cédula:**\n",
        "\n",
        "**Correo Institucional:**\n",
        "\n",
        "**Nombre Completo:**\n",
        "\n",
        "**Cédula:**\n",
        "\n",
        "**Correo Institucional:**"
      ]
    },
    {
      "cell_type": "markdown",
      "metadata": {
        "id": "UlYY1g0lKhz_"
      },
      "source": [
        "#**Análisis de Accidentalidad en la ciudad de Medellín**\n",
        "\n",
        "La secretaría de movilidad de la alcaldía de Medellín ha recolectado datos relacionados con la accidentalidad vial del año 2017 (Disponible en https://www.datos.gov.co) registrando en cada accidente la siguiente información: \n",
        "* Fecha\n",
        "* Hora\n",
        "* Día de la semana\n",
        "* Clase de accidente\n",
        "* Dirección\n",
        "* Gravedad\n",
        "* Barrio\n",
        "* Comuna\n",
        "\n",
        "Con el fin de adelantar programas que permitan disminuir la accidentalidad vial en la ciudad, se requiere de su ayuda para generar un informe que contenga la siguiente información:\n",
        "\n"
      ]
    },
    {
      "cell_type": "code",
      "metadata": {
        "id": "NDof2Tdy_YLQ"
      },
      "source": [
        "!apt-get install openjdk-11-jdk-headless -qq > /dev/null\n",
        "!wget -q http://archive.apache.org/dist/spark/spark-3.0.1/spark-3.0.1-bin-hadoop3.2.tgz\n",
        "!tar xf spark-3.0.1-bin-hadoop3.2.tgz \n",
        "!pip install -q findspark"
      ],
      "execution_count": 2,
      "outputs": []
    },
    {
      "cell_type": "code",
      "metadata": {
        "id": "QfoXDIex_crO"
      },
      "source": [
        "import os\n",
        "os.environ[\"JAVA_HOME\"] = \"/usr/lib/jvm/java-11-openjdk-amd64\"\n",
        "os.environ[\"SPARK_HOME\"] = \"/content/spark-3.0.1-bin-hadoop3.2\""
      ],
      "execution_count": 3,
      "outputs": []
    },
    {
      "cell_type": "code",
      "metadata": {
        "id": "61sb4h_B_fWc"
      },
      "source": [
        "import findspark\n",
        "findspark.init()\n",
        "from pyspark.sql import SparkSession\n",
        "from pyspark import SparkContext\n",
        "spark = SparkSession.builder.master(\"local[*]\").getOrCreate()\n",
        "sc = SparkContext.getOrCreate()"
      ],
      "execution_count": 4,
      "outputs": []
    },
    {
      "cell_type": "markdown",
      "metadata": {
        "id": "GAyH6mgGK3VA"
      },
      "source": [
        "##**A) Porcentaje de accidentes en cada día de la semana**\n"
      ]
    },
    {
      "cell_type": "code",
      "metadata": {
        "colab": {
          "base_uri": "https://localhost:8080/"
        },
        "id": "GtEr7t6a_y4G",
        "outputId": "fccabba9-7461-4edd-b4fe-9d4c744e51bc"
      },
      "source": [
        "data = sc.textFile(\"local/data/accidentalidad.csv\").map(lambda x:x.split(\",\"))\n",
        "data_hdr = data.first()\n",
        "data = data.filter(lambda x: x!=data_hdr)\n",
        "data.take(5)"
      ],
      "execution_count": 5,
      "outputs": [
        {
          "output_type": "execute_result",
          "data": {
            "text/plain": [
              "[['1565221',\n",
              "  '01/01/2017',\n",
              "  '00:10:00',\n",
              "  'DOMINGO  ',\n",
              "  'Atropello',\n",
              "  'CL 68 CR 87',\n",
              "  'EPM con Interior',\n",
              "  'HERIDO',\n",
              "  'Palenque',\n",
              "  'Robledo',\n",
              "  'Tramo de via'],\n",
              " ['1565189',\n",
              "  '01/01/2017',\n",
              "  '00:20:00',\n",
              "  'DOMINGO  ',\n",
              "  'Choque',\n",
              "  'CL 44 CR 93',\n",
              "  'EPM sin Interior',\n",
              "  'HERIDO',\n",
              "  'Campo Alegre',\n",
              "  'La América',\n",
              "  'Tramo de via'],\n",
              " ['1565182',\n",
              "  '01/01/2017',\n",
              "  '00:20:00',\n",
              "  'DOMINGO  ',\n",
              "  'Choque',\n",
              "  'CR 16 CL 56',\n",
              "  'Malla vial',\n",
              "  'HERIDO',\n",
              "  'Villatina',\n",
              "  'Villa Hermosa',\n",
              "  'Tramo de via'],\n",
              " ['1565404',\n",
              "  '01/01/2017',\n",
              "  '01:25:00',\n",
              "  'DOMINGO  ',\n",
              "  'Choque',\n",
              "  'CR 41 CL 85',\n",
              "  'Malla vial',\n",
              "  'SOLO DAÑOS',\n",
              "  'Las Granjas',\n",
              "  'Manrique',\n",
              "  'Interseccion'],\n",
              " ['1565185',\n",
              "  '01/01/2017',\n",
              "  '01:30:00',\n",
              "  'DOMINGO  ',\n",
              "  'Choque',\n",
              "  'CR 76 CL 91',\n",
              "  'Malla vial',\n",
              "  'HERIDO',\n",
              "  'Kennedy',\n",
              "  'Doce de Octubre',\n",
              "  'Tramo de via']]"
            ]
          },
          "metadata": {},
          "execution_count": 5
        }
      ]
    },
    {
      "cell_type": "code",
      "metadata": {
        "id": "BNGOkDt5PPSJ",
        "outputId": "941588ad-e561-4cf9-8f29-7a60519e35bc",
        "colab": {
          "base_uri": "https://localhost:8080/"
        }
      },
      "source": [
        "data_hdr"
      ],
      "execution_count": 6,
      "outputs": [
        {
          "output_type": "execute_result",
          "data": {
            "text/plain": [
              "['RADICADO',\n",
              " 'FECHA',\n",
              " 'HORA',\n",
              " 'DIA',\n",
              " 'CLASE',\n",
              " 'DIRECCION',\n",
              " 'TIPO_GEOCOD',\n",
              " 'GRAVEDAD',\n",
              " 'BARRIO',\n",
              " 'COMUNA',\n",
              " 'DISENO']"
            ]
          },
          "metadata": {},
          "execution_count": 6
        }
      ]
    },
    {
      "cell_type": "code",
      "metadata": {
        "colab": {
          "base_uri": "https://localhost:8080/"
        },
        "id": "UFrxJPvaCCZt",
        "outputId": "4f9ea1d8-57e7-42da-bebe-d04c02f26e28"
      },
      "source": [
        "ans2 = data.map(lambda x: (x[3],1)).reduceByKey(lambda a,b: a+b)\n",
        "totaaal = (ans2.values().sum())**-1\n",
        "totalito = ans2.mapValues(lambda x: float(f\"{x*totaaal*100:.1f}\"))\n",
        "totalito.takeOrdered(10,key=lambda x:-x[1])"
      ],
      "execution_count": 54,
      "outputs": [
        {
          "output_type": "execute_result",
          "data": {
            "text/plain": [
              "[('VIERNES  ', 16.2),\n",
              " ('MARTES   ', 16.0),\n",
              " ('MIÉRCOLES', 15.5),\n",
              " ('JUEVES   ', 14.7),\n",
              " ('SÁBADO   ', 14.2),\n",
              " ('LUNES    ', 14.1),\n",
              " ('DOMINGO  ', 9.2)]"
            ]
          },
          "metadata": {},
          "execution_count": 54
        }
      ]
    },
    {
      "cell_type": "markdown",
      "metadata": {
        "id": "HGwierHTLFt3"
      },
      "source": [
        "##**B) Barrio en el que se presenta el mayor y el menor número de accidentes**"
      ]
    },
    {
      "cell_type": "code",
      "metadata": {
        "colab": {
          "base_uri": "https://localhost:8080/"
        },
        "id": "v9KKXxSsArT4",
        "outputId": "6c7a0d8f-a557-4529-e3fc-d0e910f3888f"
      },
      "source": [
        "ans1 = data.map(lambda x: (x[-3],1)).reduceByKey(lambda a,b: a+b)\n",
        "print(f\"Barrio con mayor nro: {ans1.max(lambda x:x[1])}\\n\\nBarrio con menor nro: {ans1.min(lambda x:x[1])}\")"
      ],
      "execution_count": 8,
      "outputs": [
        {
          "output_type": "stream",
          "name": "stdout",
          "text": [
            "Barrio con mayor nro: ('La Candelaria', 944)\n",
            "\n",
            "Barrio con menor nro: ('Villa Lilliam', 1)\n"
          ]
        }
      ]
    },
    {
      "cell_type": "markdown",
      "metadata": {
        "id": "pDX41ab4LO7g"
      },
      "source": [
        "##**C) Comuna en la que se presenta mayor número de accidentes con muertos**"
      ]
    },
    {
      "cell_type": "code",
      "metadata": {
        "colab": {
          "base_uri": "https://localhost:8080/"
        },
        "id": "qS_3Y9-fEbHS",
        "outputId": "51453245-0748-498d-b69d-0807086f2fd2"
      },
      "source": [
        "ans3 = data.filter(lambda x: x[7].upper() == \"MUERTO\").map(lambda x: (x[-2],1)).reduceByKey(lambda a,b: a+b)\n",
        "ans3.takeOrdered(3,key=lambda x:-x[1])"
      ],
      "execution_count": 9,
      "outputs": [
        {
          "output_type": "execute_result",
          "data": {
            "text/plain": [
              "[('La Candelaria', 14), ('Guayabal', 11), ('Castilla', 10)]"
            ]
          },
          "metadata": {},
          "execution_count": 9
        }
      ]
    },
    {
      "cell_type": "markdown",
      "metadata": {
        "id": "T89Y60StLUuh"
      },
      "source": [
        "##**D)\tDía de la semana en que se presentaron mayor cantidad de accidentes con muertos**"
      ]
    },
    {
      "cell_type": "code",
      "metadata": {
        "colab": {
          "base_uri": "https://localhost:8080/"
        },
        "id": "vPY9NuYfGsJZ",
        "outputId": "6a6a3bd6-d023-4082-a7e6-f25d1b9d2816"
      },
      "source": [
        "ans4 = data.filter(lambda x: x[7].upper() == \"MUERTO\").map(lambda x: (x[3].replace(\" \",\"\"),1)).reduceByKey(lambda a,b: a+b)\n",
        "ans4.takeOrdered(7,key=lambda x:-x[1])"
      ],
      "execution_count": 26,
      "outputs": [
        {
          "output_type": "execute_result",
          "data": {
            "text/plain": [
              "[('DOMINGO', 31),\n",
              " ('SÁBADO', 28),\n",
              " ('LUNES', 24),\n",
              " ('MARTES', 22),\n",
              " ('JUEVES', 21),\n",
              " ('MIÉRCOLES', 12),\n",
              " ('VIERNES', 11)]"
            ]
          },
          "metadata": {},
          "execution_count": 26
        }
      ]
    },
    {
      "cell_type": "markdown",
      "metadata": {
        "id": "WlI7cjLXLdlQ"
      },
      "source": [
        "##**E)\tHora exacta y rango de hora en la que se presentó mayor cantidad de accidentes con heridos**"
      ]
    },
    {
      "cell_type": "code",
      "metadata": {
        "id": "PJhHVxNQPb9C",
        "outputId": "ff5b63c0-3191-4367-c24d-7c1db78e72a4",
        "colab": {
          "base_uri": "https://localhost:8080/"
        }
      },
      "source": [
        "ans6 = data.filter(lambda x: x[7].upper() == \"HERIDO\").map(lambda x: (x[2],1)).reduceByKey(lambda a,b: a+b)\n",
        "ans6.takeOrdered(10,key=lambda x:-x[1])"
      ],
      "execution_count": 116,
      "outputs": [
        {
          "output_type": "execute_result",
          "data": {
            "text/plain": [
              "[('18:00:00', 447),\n",
              " ('19:00:00', 406),\n",
              " ('17:00:00', 401),\n",
              " ('16:00:00', 396),\n",
              " ('20:00:00', 384),\n",
              " ('07:00:00', 384),\n",
              " ('08:00:00', 374),\n",
              " ('15:00:00', 361),\n",
              " ('17:30:00', 356),\n",
              " ('14:00:00', 345)]"
            ]
          },
          "metadata": {},
          "execution_count": 116
        }
      ]
    },
    {
      "cell_type": "code",
      "metadata": {
        "id": "cavk1NEhH3K7",
        "colab": {
          "base_uri": "https://localhost:8080/"
        },
        "outputId": "293fc9a6-d24f-45c2-992c-dc87f7e5df84"
      },
      "source": [
        "ans5 = data.filter(lambda x: x[7].upper() == \"HERIDO\").map(lambda x: (x[2].split(\":\")[0],1)).reduceByKey(lambda a,b: a+b)\n",
        "ans5.takeOrdered(10,key=lambda x:-x[1])"
      ],
      "execution_count": 119,
      "outputs": [
        {
          "output_type": "execute_result",
          "data": {
            "text/plain": [
              "[('07', 1537),\n",
              " ('17', 1532),\n",
              " ('18', 1515),\n",
              " ('06', 1485),\n",
              " ('12', 1370),\n",
              " ('16', 1331),\n",
              " ('19', 1310),\n",
              " ('13', 1273),\n",
              " ('14', 1234),\n",
              " ('15', 1233)]"
            ]
          },
          "metadata": {},
          "execution_count": 119
        }
      ]
    },
    {
      "cell_type": "markdown",
      "metadata": {
        "id": "j1LlOYfTNVsn"
      },
      "source": [
        "#**Propuesta para disminuir la accidentalidad de la ciudad**"
      ]
    },
    {
      "cell_type": "markdown",
      "metadata": {
        "id": "Z-rPhr5tNezH"
      },
      "source": [
        "A la luz de los resultados obtenidos anteriormente, presente una propuesta orientada a mejorar las cifras de la accidentalidad en la ciudad."
      ]
    },
    {
      "cell_type": "markdown",
      "metadata": {
        "id": "wldQoTkQbXa-"
      },
      "source": [
        "##**1** Inicialmente partiremos de las comunas que acaparen por lo menos la mitad de los accidentes totales registrados"
      ]
    },
    {
      "cell_type": "code",
      "metadata": {
        "id": "kO8j494tQKD5",
        "outputId": "39fb1fc0-6751-4044-d923-0cc626a32729",
        "colab": {
          "base_uri": "https://localhost:8080/"
        }
      },
      "source": [
        "ans7 = data.map(lambda x: (x[-2],1)).reduceByKey(lambda a,b: a+b)\n",
        "ans8 = data.filter(lambda x: (x[-2].startswith(\"La Can\")) | (x[-2].startswith(\"Lau\")) | (x[-2].startswith(\"Cast\")) | (x[-2].startswith(\"El Po\")))\n",
        "ans9 = ans8.map(lambda x: (f\"{x[-2]} - {x[7]}\",1)).reduceByKey(lambda a,b: a+b)\n",
        "sum_ans7 = (ans7.values().sum())**-1\n",
        "sum_ans8 = (ans9.values().sum())**-1\n",
        "total_1 = ans7.mapValues(lambda x: float(f\"{x*sum_ans7*100:.0f}\"))\n",
        "total_2 = ans9.mapValues(lambda x: float(f\"{x*sum_ans8*100:.0f}\"))\n",
        "total_1.takeOrdered(5,key=lambda x:-x[1])"
      ],
      "execution_count": 107,
      "outputs": [
        {
          "output_type": "execute_result",
          "data": {
            "text/plain": [
              "[('La Candelaria', 20.0),\n",
              " ('Laureles Estadio', 12.0),\n",
              " ('Castilla', 10.0),\n",
              " ('El Poblado', 9.0),\n",
              " ('Guayabal', 8.0)]"
            ]
          },
          "metadata": {},
          "execution_count": 107
        }
      ]
    },
    {
      "cell_type": "markdown",
      "metadata": {
        "id": "PCgZSywybpuW"
      },
      "source": [
        "Las primeras **cuatro comunas** en la lista contemplan ya más del **50%** de las comunas con alta tasa de accidentalidad en la ciudad, se concentra el análisis sobre estas comunas primordialmente\n",
        "\n",
        "\n",
        "##**2** Entre las comunas con mayor accidentalidad, ¿de qué gravedad son los accidentes en porcentaje?"
      ]
    },
    {
      "cell_type": "code",
      "metadata": {
        "id": "UBUYNSncXaeh",
        "outputId": "574769ca-6385-4941-fa43-bdb0920d164f",
        "colab": {
          "base_uri": "https://localhost:8080/"
        }
      },
      "source": [
        "total_2.takeOrdered(10,key=lambda x:-x[1])"
      ],
      "execution_count": 109,
      "outputs": [
        {
          "output_type": "execute_result",
          "data": {
            "text/plain": [
              "[('La Candelaria - SOLO DAÑOS', 22.0),\n",
              " ('La Candelaria - HERIDO', 17.0),\n",
              " ('Laureles Estadio - SOLO DAÑOS', 12.0),\n",
              " ('El Poblado - SOLO DAÑOS', 12.0),\n",
              " ('Castilla - HERIDO', 12.0),\n",
              " ('Laureles Estadio - HERIDO', 11.0),\n",
              " ('Castilla - SOLO DAÑOS', 8.0),\n",
              " ('El Poblado - HERIDO', 6.0),\n",
              " ('Castilla - MUERTO', 0.0),\n",
              " ('Laureles Estadio - MUERTO', 0.0)]"
            ]
          },
          "metadata": {},
          "execution_count": 109
        }
      ]
    },
    {
      "cell_type": "markdown",
      "metadata": {
        "id": "ljn7c0vIcncH"
      },
      "source": [
        "Si se analizan los datos de gravedad de accidente **podemos empezar a tener en cuenta tres cosas**:\n",
        "\n",
        "\n",
        "\n",
        "*   Los accidentes fatales están por debajo del 1% entre los barrios con mayor accidentalidad\n",
        "*   Los accidentes con consecuencia de solo daños materiales predominan en los barrios con mayor accidentalidad\n",
        "*   La comuna *La Candelaria* es, entre accidentes con solo daños y heridos, la que más porcentaje de ellos tiene ameritando una intervención más drástica que en otras comunas\n",
        "\n",
        "##**3** ¿Qué días de la semana tiene estas comunas la mayor cifra de accidentalidad?"
      ]
    },
    {
      "cell_type": "code",
      "metadata": {
        "id": "0a6HubR_ZECi",
        "outputId": "551261a7-53b2-4edc-ea9f-074f940a731a",
        "colab": {
          "base_uri": "https://localhost:8080/"
        }
      },
      "source": [
        "ans10 = ans8.map(lambda x: (f\"{x[-2]} - {x[3]}\",1)).reduceByKey(lambda a,b: a+b)\n",
        "total_3 = ans10.mapValues(lambda x: float(f\"{x*sum_ans8*100:.0f}\"))\n",
        "total_3.takeOrdered(15,key=lambda x:-x[1])"
      ],
      "execution_count": 113,
      "outputs": [
        {
          "output_type": "execute_result",
          "data": {
            "text/plain": [
              "[('La Candelaria - VIERNES  ', 7.0),\n",
              " ('La Candelaria - MARTES   ', 7.0),\n",
              " ('La Candelaria - MIÉRCOLES', 6.0),\n",
              " ('La Candelaria - JUEVES   ', 6.0),\n",
              " ('La Candelaria - LUNES    ', 5.0),\n",
              " ('La Candelaria - SÁBADO   ', 5.0),\n",
              " ('Laureles Estadio - MIÉRCOLES', 4.0),\n",
              " ('Laureles Estadio - MARTES   ', 4.0),\n",
              " ('Laureles Estadio - VIERNES  ', 4.0),\n",
              " ('Laureles Estadio - LUNES    ', 3.0),\n",
              " ('Castilla - MARTES   ', 3.0),\n",
              " ('El Poblado - MIÉRCOLES', 3.0),\n",
              " ('Castilla - MIÉRCOLES', 3.0),\n",
              " ('Laureles Estadio - JUEVES   ', 3.0),\n",
              " ('Castilla - SÁBADO   ', 3.0)]"
            ]
          },
          "metadata": {},
          "execution_count": 113
        }
      ]
    },
    {
      "cell_type": "markdown",
      "metadata": {
        "id": "oMswZ3WCezUL"
      },
      "source": [
        "La comuna *La Candelaria* tiene un registro de accidentes similares cada día de la semana entera, a diferencia de *Laureles Estadio* que dichos registros se sitúan entre los días comúnmente laborales al igual que *El Poblado* y *Castilla*."
      ]
    },
    {
      "cell_type": "markdown",
      "metadata": {
        "id": "YrX7wbLaf_rC"
      },
      "source": [
        "##**Conclusiones**\n",
        "\n",
        "Considerando los anteriores resultados generales y los enfocados en los barrios que representan la mitad de accidentes en toda la ciudad, se puede determinar el paso a seguir para atenuar el índice de accidentalidad:\n",
        "\n",
        "\n",
        "\n",
        "*   Se encuentra a las comunas *La candelaria* y *Laureles Estadio* como las que más apoyo en cuanto a movilidad necesitan.\n",
        "*   La comuna *La Candelaria* tiene un índice de accidentalidad similar en todos los días de la semana incluyendo sábado.\n",
        "*   Principalmente los accidentes no son lo suficientemente graves para tener heridos pero sí son casi en su totalidad productores de daños materiales. Lo anterior puede verse reflejado en la imprudencia de las personas al frecuentar señales de PARE o semáforos y no acatarlas o por maniobras indebidas.\n",
        "*   A lo largo de las horas pico se sitúan la mayor cantidad de accidentes, en la franja de 7:00 AM a 8:00 AM es donde más ocurren accidentes con heridos sin mucha diferencia a las franjas de 5:00 PM - 6:00 PM y 6:00 PM - 7:00 PM.\n",
        "*   Aún así, revisando la hora exacta de accidentes, alrededor de las 6:00 PM es donde se tiene por gran diferencia el mayor registro de accidentes y esto debido a factores comunes como la congestión vehicular, el estrés, el cansancio al finalizar la jornada laboral, entre otros.\n",
        "\n"
      ]
    }
  ]
}