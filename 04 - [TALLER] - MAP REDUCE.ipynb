{
  "nbformat": 4,
  "nbformat_minor": 0,
  "metadata": {
    "colab": {
      "name": "04 - [TALLER] - MAP REDUCE.ipynb",
      "provenance": [],
      "collapsed_sections": [],
      "include_colab_link": true
    },
    "kernelspec": {
      "name": "python3",
      "display_name": "Python 3"
    }
  },
  "cells": [
    {
      "cell_type": "markdown",
      "metadata": {
        "id": "view-in-github",
        "colab_type": "text"
      },
      "source": [
        "<a href=\"https://colab.research.google.com/github/MateoUsme/Esp_Analitica/blob/main/04%20-%20%5BTALLER%5D%20-%20MAP%20REDUCE.ipynb\" target=\"_parent\"><img src=\"https://colab.research.google.com/assets/colab-badge.svg\" alt=\"Open In Colab\"/></a>"
      ]
    },
    {
      "cell_type": "code",
      "metadata": {
        "id": "Z7rbDx_-JApm",
        "outputId": "ebe27875-e9d7-42f4-8eef-70144136e61c",
        "colab": {
          "base_uri": "https://localhost:8080/"
        }
      },
      "source": [
        "!wget --no-cache -O init.py -q https://raw.githubusercontent.com/UDEA-Esp-Analitica-y-Ciencia-de-Datos/EACD-03-BIGDATA/master/init.py\n",
        "import init; init.init(force_download=False); \n",
        "from IPython.display import Image"
      ],
      "execution_count": 1,
      "outputs": [
        {
          "output_type": "stream",
          "name": "stdout",
          "text": [
            "replicating local resources\n"
          ]
        }
      ]
    },
    {
      "cell_type": "code",
      "metadata": {
        "id": "hDzn_xcpJRWR"
      },
      "source": [
        "Image(\"local/imgs/udea-datascience.png\")"
      ],
      "execution_count": null,
      "outputs": []
    },
    {
      "cell_type": "markdown",
      "metadata": {
        "id": "myHD-jFLKEal"
      },
      "source": [
        "# **TALLER 1: MAP REDUCE**\n",
        "## Desarrollado por: Mg. Efraín Alberto Oviedo\n",
        "## Universidad de Antioquia"
      ]
    },
    {
      "cell_type": "markdown",
      "metadata": {
        "id": "4GK6iJ1CKS8o"
      },
      "source": [
        "Por favor, ingrese la información de cada integrante del grupo de trabajo\n",
        "\n",
        "**Nombre Completo:**\n",
        "\n",
        "**Cédula:**\n",
        "\n",
        "**Correo Institucional:**\n",
        "\n",
        "**Nombre Completo:**\n",
        "\n",
        "**Cédula:**\n",
        "\n",
        "**Correo Institucional:**\n",
        "\n",
        "**Nombre Completo:**\n",
        "\n",
        "**Cédula:**\n",
        "\n",
        "**Correo Institucional:**\n",
        "\n",
        "**Nombre Completo:**\n",
        "\n",
        "**Cédula:**\n",
        "\n",
        "**Correo Institucional:**"
      ]
    },
    {
      "cell_type": "markdown",
      "metadata": {
        "id": "UlYY1g0lKhz_"
      },
      "source": [
        "#**Análisis de Accidentalidad en la ciudad de Medellín**\n",
        "\n",
        "La secretaría de movilidad de la alcaldía de Medellín ha recolectado datos relacionados con la accidentalidad vial del año 2017 (Disponible en https://www.datos.gov.co) registrando en cada accidente la siguiente información: \n",
        "* Fecha\n",
        "* Hora\n",
        "* Día de la semana\n",
        "* Clase de accidente\n",
        "* Dirección\n",
        "* Gravedad\n",
        "* Barrio\n",
        "* Comuna\n",
        "\n",
        "Con el fin de adelantar programas que permitan disminuir la accidentalidad vial en la ciudad, se requiere de su ayuda para generar un informe que contenga la siguiente información:\n",
        "\n"
      ]
    },
    {
      "cell_type": "code",
      "metadata": {
        "id": "NDof2Tdy_YLQ"
      },
      "source": [
        "!apt-get install openjdk-11-jdk-headless -qq > /dev/null\n",
        "!wget -q http://archive.apache.org/dist/spark/spark-3.0.1/spark-3.0.1-bin-hadoop3.2.tgz\n",
        "!tar xf spark-3.0.1-bin-hadoop3.2.tgz \n",
        "!pip install -q findspark"
      ],
      "execution_count": 5,
      "outputs": []
    },
    {
      "cell_type": "code",
      "metadata": {
        "id": "QfoXDIex_crO"
      },
      "source": [
        "import os\n",
        "os.environ[\"JAVA_HOME\"] = \"/usr/lib/jvm/java-11-openjdk-amd64\"\n",
        "os.environ[\"SPARK_HOME\"] = \"/content/spark-3.0.1-bin-hadoop3.2\""
      ],
      "execution_count": 6,
      "outputs": []
    },
    {
      "cell_type": "code",
      "metadata": {
        "id": "61sb4h_B_fWc"
      },
      "source": [
        "import findspark\n",
        "findspark.init()\n",
        "from pyspark.sql import SparkSession\n",
        "from pyspark import SparkContext\n",
        "spark = SparkSession.builder.master(\"local[*]\").getOrCreate()\n",
        "sc = SparkContext.getOrCreate()"
      ],
      "execution_count": 7,
      "outputs": []
    },
    {
      "cell_type": "markdown",
      "metadata": {
        "id": "GAyH6mgGK3VA"
      },
      "source": [
        "##**A) Porcentaje de accidentes en cada día de la semana**\n"
      ]
    },
    {
      "cell_type": "code",
      "metadata": {
        "id": "GtEr7t6a_y4G",
        "outputId": "5ce218d7-c1c8-4dfa-dc0f-7fc4fc564982",
        "colab": {
          "base_uri": "https://localhost:8080/"
        }
      },
      "source": [
        "data = sc.textFile(\"local/data/accidentalidad.csv\").map(lambda x:x.split(\",\"))\n",
        "data_hdr = data.first()\n",
        "data = data.filter(lambda x: x!=data_hdr)\n",
        "data.take(5)"
      ],
      "execution_count": 9,
      "outputs": [
        {
          "output_type": "execute_result",
          "data": {
            "text/plain": [
              "[['1565221',\n",
              "  '01/01/2017',\n",
              "  '00:10:00',\n",
              "  'DOMINGO  ',\n",
              "  'Atropello',\n",
              "  'CL 68 CR 87',\n",
              "  'EPM con Interior',\n",
              "  'HERIDO',\n",
              "  'Palenque',\n",
              "  'Robledo',\n",
              "  'Tramo de via'],\n",
              " ['1565189',\n",
              "  '01/01/2017',\n",
              "  '00:20:00',\n",
              "  'DOMINGO  ',\n",
              "  'Choque',\n",
              "  'CL 44 CR 93',\n",
              "  'EPM sin Interior',\n",
              "  'HERIDO',\n",
              "  'Campo Alegre',\n",
              "  'La América',\n",
              "  'Tramo de via'],\n",
              " ['1565182',\n",
              "  '01/01/2017',\n",
              "  '00:20:00',\n",
              "  'DOMINGO  ',\n",
              "  'Choque',\n",
              "  'CR 16 CL 56',\n",
              "  'Malla vial',\n",
              "  'HERIDO',\n",
              "  'Villatina',\n",
              "  'Villa Hermosa',\n",
              "  'Tramo de via'],\n",
              " ['1565404',\n",
              "  '01/01/2017',\n",
              "  '01:25:00',\n",
              "  'DOMINGO  ',\n",
              "  'Choque',\n",
              "  'CR 41 CL 85',\n",
              "  'Malla vial',\n",
              "  'SOLO DAÑOS',\n",
              "  'Las Granjas',\n",
              "  'Manrique',\n",
              "  'Interseccion'],\n",
              " ['1565185',\n",
              "  '01/01/2017',\n",
              "  '01:30:00',\n",
              "  'DOMINGO  ',\n",
              "  'Choque',\n",
              "  'CR 76 CL 91',\n",
              "  'Malla vial',\n",
              "  'HERIDO',\n",
              "  'Kennedy',\n",
              "  'Doce de Octubre',\n",
              "  'Tramo de via']]"
            ]
          },
          "metadata": {},
          "execution_count": 9
        }
      ]
    },
    {
      "cell_type": "markdown",
      "metadata": {
        "id": "HGwierHTLFt3"
      },
      "source": [
        "##**B) Barrio en el que se presenta el mayor y el menor número de accidentes**"
      ]
    },
    {
      "cell_type": "markdown",
      "metadata": {
        "id": "PfNZA5UdNPbv"
      },
      "source": [
        "Presente aquí el código desarrollado y el resultado obtenido"
      ]
    },
    {
      "cell_type": "markdown",
      "metadata": {
        "id": "pDX41ab4LO7g"
      },
      "source": [
        "##**C) Comuna en la que se presenta mayor número de accidentes con muertos**"
      ]
    },
    {
      "cell_type": "markdown",
      "metadata": {
        "id": "bSlgm0j-NQjn"
      },
      "source": [
        "Presente aquí el código desarrollado y el resultado obtenido"
      ]
    },
    {
      "cell_type": "markdown",
      "metadata": {
        "id": "T89Y60StLUuh"
      },
      "source": [
        "##**D)\tDía de la semana en que se presentaron mayor cantidad de accidentes con muertos**"
      ]
    },
    {
      "cell_type": "markdown",
      "metadata": {
        "id": "xWQkDcDZNRVa"
      },
      "source": [
        "Presente aquí el código desarrollado y el resultado obtenido"
      ]
    },
    {
      "cell_type": "markdown",
      "metadata": {
        "id": "WlI7cjLXLdlQ"
      },
      "source": [
        "##**E)\tHora exacta y rango de hora en la que se presentó mayor cantidad de accidentes con heridos**"
      ]
    },
    {
      "cell_type": "markdown",
      "metadata": {
        "id": "xHtI3jGcNTNn"
      },
      "source": [
        "Presente aquí el código desarrollado y el resultado obtenido"
      ]
    },
    {
      "cell_type": "markdown",
      "metadata": {
        "id": "j1LlOYfTNVsn"
      },
      "source": [
        "#**Propuesta para disminuir la accidentalidad de la ciudad**"
      ]
    },
    {
      "cell_type": "markdown",
      "metadata": {
        "id": "Z-rPhr5tNezH"
      },
      "source": [
        "A la luz de los resultados obtenidos anteriormente, presente una propuesta orientada a mejorar las cifras de la accidentalidad en la ciudad."
      ]
    }
  ]
}