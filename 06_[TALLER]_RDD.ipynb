{
  "nbformat": 4,
  "nbformat_minor": 0,
  "metadata": {
    "colab": {
      "name": "06 - [TALLER] - RDD.ipynb",
      "provenance": [],
      "collapsed_sections": []
    },
    "kernelspec": {
      "name": "python3",
      "display_name": "Python 3"
    }
  },
  "cells": [
    {
      "cell_type": "code",
      "metadata": {
        "id": "Z7rbDx_-JApm"
      },
      "source": [
        "!wget --no-cache -O init.py -q https://raw.githubusercontent.com/UDEA-Esp-Analitica-y-Ciencia-de-Datos/EACD-03-BIGDATA/master/init.py\n",
        "import init; init.init(force_download=False); \n",
        "from IPython.display import Image"
      ],
      "execution_count": 1,
      "outputs": []
    },
    {
      "cell_type": "code",
      "metadata": {
        "id": "hDzn_xcpJRWR",
        "colab": {
          "base_uri": "https://localhost:8080/",
          "height": 251
        },
        "outputId": "3c82fbd8-7999-4706-baac-3b494d3f991d"
      },
      "source": [
        "Image(\"local/imgs/udea-datascience.png\")"
      ],
      "execution_count": 2,
      "outputs": [
        {
          "output_type": "execute_result",
          "data": {
            "image/png": "[encoded data removed]",
            "text/plain": [
              "<IPython.core.display.Image object>"
            ]
          },
          "metadata": {},
          "execution_count": 2
        }
      ]
    },
    {
      "cell_type": "markdown",
      "metadata": {
        "id": "myHD-jFLKEal"
      },
      "source": [
        "# **TALLER 2: RDD**\n",
        "## Desarrollado por: Mg. Efraín Alberto Oviedo; Ing. Kevin Martínez Gallego\n",
        "## Universidad de Antioquia"
      ]
    },
    {
      "cell_type": "markdown",
      "metadata": {
        "id": "4GK6iJ1CKS8o"
      },
      "source": [
        "Por favor, ingrese la información de cada integrante del grupo de trabajo\n",
        "\n",
        "**Nombre Completo:**\n",
        "\n",
        "**Cédula:**\n",
        "\n",
        "**Correo Institucional:**\n",
        "\n",
        "**Nombre Completo:**\n",
        "\n",
        "**Cédula:**\n",
        "\n",
        "**Correo Institucional:**\n",
        "\n",
        "**Nombre Completo:**\n",
        "\n",
        "**Cédula:**\n",
        "\n",
        "**Correo Institucional:**\n",
        "\n",
        "**Nombre Completo:**\n",
        "\n",
        "**Cédula:**\n",
        "\n",
        "**Correo Institucional:**"
      ]
    },
    {
      "cell_type": "code",
      "metadata": {
        "id": "s3OVxdtz-6Jc"
      },
      "source": [
        "#Instalación\n",
        "!apt-get install openjdk-11-jdk-headless -qq > /dev/null\n",
        "!wget -q http://archive.apache.org/dist/spark/spark-3.0.1/spark-3.0.1-bin-hadoop3.2.tgz\n",
        "!tar xf spark-3.0.1-bin-hadoop3.2.tgz \n",
        "!pip install -q findspark\n",
        "\n",
        "#Variables de Entorno\n",
        "import os\n",
        "os.environ[\"JAVA_HOME\"] = \"/usr/lib/jvm/java-11-openjdk-amd64\"\n",
        "os.environ[\"SPARK_HOME\"] = \"/content/spark-3.0.1-bin-hadoop3.2\"\n",
        "\n",
        "#SparkContext\n",
        "import findspark\n",
        "findspark.init()\n",
        "from pyspark.sql import SparkSession\n",
        "from pyspark import SparkContext\n",
        "spark = SparkSession.builder.master(\"local[*]\").getOrCreate()\n",
        "sc = SparkContext.getOrCreate()"
      ],
      "execution_count": 3,
      "outputs": []
    },
    {
      "cell_type": "markdown",
      "metadata": {
        "id": "UlYY1g0lKhz_"
      },
      "source": [
        "#**Análisis de becas académicas para estudiantes Colombianos**\n",
        "\n",
        "El ICETEX ha dispuesto un histórico de becas ofrecidas para estudios de nivel de pregrado y posgrado, presenciales o virtuales, que han sido propuestas para fortalecer la formación académica de ciudadanos colombianos en el exterior.\n",
        "\n",
        "(Disponible en https://www.datos.gov.co/Educaci-n/Icetex-Hist-rico-de-Becas/eb6r-dfgr)\n",
        "\n",
        "Para cada caso se reportan los siguientes datos:\n",
        "\n",
        "* Código Convocatoria\n",
        "* Nombre del Oferente: Nombre del gobierno que ofrece la beca.\n",
        "* Área del Conocimiento\n",
        "* Nombre del Programa\n",
        "* Nombre del País\n",
        "* Fecha de Recepción -mm/dd/aaaa\n",
        "* Perfil del Aplicante\n",
        "* Objetivo del Programa: Breve descripción del programa académico.\n",
        "\n",
        "Se solicita de su ayuda para responder a los siguientes interrogantes:"
      ]
    },
    {
      "cell_type": "markdown",
      "metadata": {
        "id": "GAyH6mgGK3VA"
      },
      "source": [
        "##**A) Calidad de datos**\n",
        "\n",
        "Revise cada una de las variables disponibles y resuelva los problemas de calidad de datos que puedan afectar el desarrollo de este taller, justificando las razones de su decisión para cada caso\n"
      ]
    },
    {
      "cell_type": "markdown",
      "metadata": {
        "id": "F-njqbnTM2To"
      },
      "source": [
        "Presente aquí el código desarrollado y el resultado obtenido"
      ]
    },
    {
      "cell_type": "code",
      "metadata": {
        "colab": {
          "base_uri": "https://localhost:8080/"
        },
        "id": "rnvM-79Y_EH2",
        "outputId": "0f30f97b-d074-44f2-d3c0-f3ce10a032fa"
      },
      "source": [
        "raw = sc.textFile(\"local/data/icetex_becas.csv\")\n",
        "raw.take(5)"
      ],
      "execution_count": 4,
      "outputs": [
        {
          "output_type": "execute_result",
          "data": {
            "text/plain": [
              "['Codigo Convocatoria,Nombre del Oferente,Area del Conocimiento,Nombre del programa,Nombre del País,Fecha de Recepción -mm/dd/aaaa,Perfil del Aplicante,Objetivo del Programa',\n",
              " '2127916.0,OEA - TOP - ARGENTINA,ADMINISTRACIÓN,POLÍTICAS DE GOBIERNO ABIERTO Y ACCESO A DATOS PÚBLICOS,PLATAFORMA DE EDUCACIÓN A DISTANCIA TOP - OEA,05/27/2016 12:00:00 AM,El programa está dirigido a profesionales universitarios en administración- economía- derecho- ciencias políticas o en áreas directamente relacionadas con el tema del curso que se desempeñen en entidades públicas o privadas- desarrollando actividades inherentes a las políticas de gobierno abierto y acceso a datos públicos. REQUISITOS: El candidato debe ser mayor de 23 años y menor de 65 años- tener un promedio mínimo de notas de pregrado de 3-7/5-0  contar con mínimo 2 años de experiencia profesional en el área del programa y gozar de buena salud física y mental.,a) Proporcionar a los participantes un panorama actualizado del concepto de Gobierno Abierto.b) Analizar las principales tendencias con un abordaje teórico y práctico.c) Desarrollar y compartir conocimientos y habilidades sobre el impacto que pueden tener la implementación de políticas de transparencia en nuestros países.',\n",
              " '3101616.0,ALIANZA DEL PACÍFICO-CHILE-MÉXICO-PERÚ,DIFERENTES AREAS,PLATAFORMA DE MOVILIDAD ESTUDIANTIL Y ACADÉMICA DE LA ALIANZA DEL PACÍFICO - DOCTORADO INTERCAMBIO DE PROFESORES O INVESTIGADORES - CHILE,Chile (República de Chile),,El programa está dirigido a profesionales universitarios con maestría o a profesores o investigadores que cuenten con admisión definitiva al nivel de estudios que vayan a adelantar (doctorado- investigación o profesores invitados) en Chile- en las siguientes áreas:  1. NEGOCIOS. 2. FINANZAS. 3. COMERCIO INTERNACIONAL. 4. ADMINISTRACIÓN PÚBLICA. 5. CIENCIA POLÍTICA. 6. TURISMO. 7. ECONOMÍA. 8. RELACIONES INTERNACIONALES. 9. MEDIO AMBIENTE Y CAMBIO CLIMÁTICO. 10. INNOVACIÓN- CIENCIA Y TECNOLOGÍA. 11. INGENIERÍAS.   - Para obtener mayor información- visite: http://www.agci.cl/index.php/becas/becas-para-extranjeros/105-encuentra-tu-beca/1522-infobecaextr/?tipo=2&idNew=119   NOTA: SE EXCLUYEN ÁREAS DISTINTAS A LAS SEÑALADAS EN LA PRESENTE CONVOCATORIA.  REQUISITOS: El aspirante debe tener un promedio de notas de posgrado de 4-0/5-0 y deben gozar de excelente salud física y mental.  INFORMACIÓN IMPORTANTE:   1. La duración mínima será de tres semanas y máximo de un año académico (10 meses)- la movilidad en estudiantes de doctorado- investigadores y profesores invitados se deberá realizar con base en el calendario aprobado por la Universidad o Institución de Educación Superior receptora de cada país.  2. Los estudiantes de doctorado podrán realizar con esta beca: cursos- pasantías de co-tutela- estancias de investigación en el marco de su programa de postgrado en la universidad de origen.   3. Los docentes podrán ocupar esta beca para impartir clases como profesor invitado- para ello deberán presentar un programa de trabajo con las materias que dictarán- el nivel y deberán dar al menos cuatro (4) horas a la semana si son programas de pregrado y al menos tres (3) horas a la semana si son clases en programas de postgrado en general.   4. Los investigadores podrán integrarse a equipos de investigación en las instituciones académicas de destino y deberán presentar un Plan de Trabajo con los detalles de la investigación a realizar.  5. Los candidatos seleccionados por AGCID deberán: 1. Viajar a Chile- o encontrarse en él- con una anticipación suficiente a la fecha de inicio del respectivo programa de estudio. Se sugiere entre 3 y 5 días antes del inicio de las clases. 2. Obtener- con la debida anticipación- la Visa respectiva para estar en Chile en calidad de estudiante. 3. Obtener- con la debida anticipación- los permisos correspondientes en la universidad de origen. 4. Presentarse personalmente en las oficinas de AGCID para firmar el convenio que materializa la beca y entregar toda documentación original requerida que fuese solicitada. 5. Suscribir una Declaración Jurada que confirma haber leído el convenio que materializará la beca y entregar ese original.   6. TODA LA DOCUMENTACIÓN REQUERIDA EN ESTA CONVOCATORIA SE DEBE PRESENTAR EN FÍSICO Y EN UN (1) CD (ROTULADO CON EL NOMBRE DEL POSTULANTE Y AÑO DE REALIZACIÓN PARA LA CORRESPONDIENTE OFICIALIZACIÓN)- ÚNICAMENTE EN LOS PUNTOS DE ATENCIÓN DE ICETEX A NIVEL NACIONAL. EN EL CD- SE DEBEN INCLUIR TODOS LOS DOCUMENTOS REQUERIDOS EN ESTA CONVOCATORIA. LOS ARCHIVOS DEBEN ADJUNTARSE DE FORMA INDIVIDUAL EN FORMATO PDF- ES DECIR- POR CADA DOCUMENTO- UN (1) ARCHIVO QUE NO SUPERE 15 MEGAS. No presentar documentación en carpeta ni con separadores- ÚNICAMENTE legajados en el lado izquierdo.,El objetivo del Programa de Becas de Movilidad Estudiantil y Académica de la Alianza del Pacífico es contribuir a la formación de capital humano avanzado de los nacionales de los países miembros de la Alianza del Pacífico a través del intercambio académico de estudiantes de doctorado- profesores o investigadores en universidades chilenas.',\n",
              " '2221414.0,GOBIERNO DE LA INDIA,INGENIERIA Y AFINES,DATA COMMUNICATION & IP TECHNOLOGIES,India (República de India),07/30/2014 12:00:00 AM,\"El Programa \"\"Comunicación de información y tecnologías IP\"\"- está dirigido a profesionales en Ingeniería de Sistemas- con experiencia laboral mínima de un año en el área del curso- y que se desempeñen en entidades públicas ó privadas. REQUISITOS: Los aspirantes deben ser menores de 45 años de edad- tener un promedio de notas universitarias de 3-7/5-0  conocimientos de idioma inglés con puntaje mínimo: TOEFL: por Internet (IBT) 65 puntos- Prueba por computador: 183 puntos- IELTS: 5.5- Michigan: 70%- English Test (MET): B2: 53 a 63 puntos)- u otra prueba de instituciones que estén avaladas oficialmente- que describa porcentual o numéricamente la habilidad en expresión oral- comprensión auditiva y capacidad de escritura- con nivel mínimo de B2. Las personas que hayan cursado estudios de bachillerato- pregrado o posgrado en países de habla inglesa podrán adjuntar copia de su diploma. No se recibirán constancias de cursos de inglés. El aspirante no debe haber recibido capacitación a través del Programa ITEC del Gobierno de la India anteriormente. Deben gozar de buena salud física y mental. Los candidatos Preseleccionados serán llamados a entrevista ante la Embajada de la India- si ellos lo estiman conveniente. NOTA: Los documentos deben ser entregados en 3 copias por separado.\",Ofrecer a los participantes entrenamiento y actualización en el campo de redes de telecomunicaciones.',\n",
              " \"3001315.0,MINISTÈRE DE L'ENSEIGNEMENT SUPÈRIEUR - CANADÁ,MAESTRÍAS Y DOCTORADOS EN DIFERENTES ÁREAS,REDUCCIÓN DE COLEGIATURA EN UNIVERSIDADES QUEBEQUENSES PARA PROGRAMAS DE POSGRADO,Canadá (Canadá),,El programa está dirigido a profesionales en diferentes áreas que deseen realizar estudios de maestría o doctorado en Canadá.  REQUISITOS: El candidato debe ser mayor de 22 años y menor de 60 años- tener promedio académico de 3-7/5-0 en estudios de pregrado y maestría (para los que vayan a realizar el doctorado)- contar con mínimo 1 año de experiencia profesional presentados por una universidad- centro de investigación científica- un centro de desarrollo tecnológico o una empresa colombiana- que cuenten con ADMISIÓN DEFINITIVA en un programa de maestría o doctorado- en una universidad quebequense para el trimestre de otoño de 2015 y posean excelentes conocimientos de francés (de acuerdo con los niveles exigidos por las diferentes universidades). El candidato debe gozar de buena salud física y mental.,En la presente convocatoria se ofrece la posibilidad a profesionales colombianos que hayan obtenido admisión en universidades quebequenses para el trimestre de otoño de 2015- de obtener una exención de derechos suplementarios de enseñanza- igual al otorgado a los estudiantes quebequenses- en campos considerados como de alto desarrollo científico y tecnológico en Quebec y en aquellos señalados como prioritarios para el desarrollo de nuestro país. Las becas de exención de derechos suplementarios de enseñanza (reducción de colegiatura) serán otorgadas principalmente para realizar estudios en establecimientos francófonos (80% de las becas). El número de becas otorgadas a estudiantes admitidos en establecimientos anglófonos no podrá superar el 20% del número total de becas efectivamente otorgadas.\"]"
            ]
          },
          "metadata": {},
          "execution_count": 4
        }
      ]
    },
    {
      "cell_type": "code",
      "metadata": {
        "colab": {
          "base_uri": "https://localhost:8080/"
        },
        "id": "_Y9Bucu7_mjL",
        "outputId": "85076949-0920-4e7e-aef1-9a41e6060c6f"
      },
      "source": [
        "header = raw.first()\n",
        "cols = header.split(\",\")\n",
        "becas = raw.filter(lambda x: x!=header).map(lambda x: x.strip(',').split(','))\n",
        "becas.take(2)"
      ],
      "execution_count": 5,
      "outputs": [
        {
          "output_type": "execute_result",
          "data": {
            "text/plain": [
              "[['2127916.0',\n",
              "  'OEA - TOP - ARGENTINA',\n",
              "  'ADMINISTRACIÓN',\n",
              "  'POLÍTICAS DE GOBIERNO ABIERTO Y ACCESO A DATOS PÚBLICOS',\n",
              "  'PLATAFORMA DE EDUCACIÓN A DISTANCIA TOP - OEA',\n",
              "  '05/27/2016 12:00:00 AM',\n",
              "  'El programa está dirigido a profesionales universitarios en administración- economía- derecho- ciencias políticas o en áreas directamente relacionadas con el tema del curso que se desempeñen en entidades públicas o privadas- desarrollando actividades inherentes a las políticas de gobierno abierto y acceso a datos públicos. REQUISITOS: El candidato debe ser mayor de 23 años y menor de 65 años- tener un promedio mínimo de notas de pregrado de 3-7/5-0  contar con mínimo 2 años de experiencia profesional en el área del programa y gozar de buena salud física y mental.',\n",
              "  'a) Proporcionar a los participantes un panorama actualizado del concepto de Gobierno Abierto.b) Analizar las principales tendencias con un abordaje teórico y práctico.c) Desarrollar y compartir conocimientos y habilidades sobre el impacto que pueden tener la implementación de políticas de transparencia en nuestros países.'],\n",
              " ['3101616.0',\n",
              "  'ALIANZA DEL PACÍFICO-CHILE-MÉXICO-PERÚ',\n",
              "  'DIFERENTES AREAS',\n",
              "  'PLATAFORMA DE MOVILIDAD ESTUDIANTIL Y ACADÉMICA DE LA ALIANZA DEL PACÍFICO - DOCTORADO INTERCAMBIO DE PROFESORES O INVESTIGADORES - CHILE',\n",
              "  'Chile (República de Chile)',\n",
              "  '',\n",
              "  'El programa está dirigido a profesionales universitarios con maestría o a profesores o investigadores que cuenten con admisión definitiva al nivel de estudios que vayan a adelantar (doctorado- investigación o profesores invitados) en Chile- en las siguientes áreas:  1. NEGOCIOS. 2. FINANZAS. 3. COMERCIO INTERNACIONAL. 4. ADMINISTRACIÓN PÚBLICA. 5. CIENCIA POLÍTICA. 6. TURISMO. 7. ECONOMÍA. 8. RELACIONES INTERNACIONALES. 9. MEDIO AMBIENTE Y CAMBIO CLIMÁTICO. 10. INNOVACIÓN- CIENCIA Y TECNOLOGÍA. 11. INGENIERÍAS.   - Para obtener mayor información- visite: http://www.agci.cl/index.php/becas/becas-para-extranjeros/105-encuentra-tu-beca/1522-infobecaextr/?tipo=2&idNew=119   NOTA: SE EXCLUYEN ÁREAS DISTINTAS A LAS SEÑALADAS EN LA PRESENTE CONVOCATORIA.  REQUISITOS: El aspirante debe tener un promedio de notas de posgrado de 4-0/5-0 y deben gozar de excelente salud física y mental.  INFORMACIÓN IMPORTANTE:   1. La duración mínima será de tres semanas y máximo de un año académico (10 meses)- la movilidad en estudiantes de doctorado- investigadores y profesores invitados se deberá realizar con base en el calendario aprobado por la Universidad o Institución de Educación Superior receptora de cada país.  2. Los estudiantes de doctorado podrán realizar con esta beca: cursos- pasantías de co-tutela- estancias de investigación en el marco de su programa de postgrado en la universidad de origen.   3. Los docentes podrán ocupar esta beca para impartir clases como profesor invitado- para ello deberán presentar un programa de trabajo con las materias que dictarán- el nivel y deberán dar al menos cuatro (4) horas a la semana si son programas de pregrado y al menos tres (3) horas a la semana si son clases en programas de postgrado en general.   4. Los investigadores podrán integrarse a equipos de investigación en las instituciones académicas de destino y deberán presentar un Plan de Trabajo con los detalles de la investigación a realizar.  5. Los candidatos seleccionados por AGCID deberán: 1. Viajar a Chile- o encontrarse en él- con una anticipación suficiente a la fecha de inicio del respectivo programa de estudio. Se sugiere entre 3 y 5 días antes del inicio de las clases. 2. Obtener- con la debida anticipación- la Visa respectiva para estar en Chile en calidad de estudiante. 3. Obtener- con la debida anticipación- los permisos correspondientes en la universidad de origen. 4. Presentarse personalmente en las oficinas de AGCID para firmar el convenio que materializa la beca y entregar toda documentación original requerida que fuese solicitada. 5. Suscribir una Declaración Jurada que confirma haber leído el convenio que materializará la beca y entregar ese original.   6. TODA LA DOCUMENTACIÓN REQUERIDA EN ESTA CONVOCATORIA SE DEBE PRESENTAR EN FÍSICO Y EN UN (1) CD (ROTULADO CON EL NOMBRE DEL POSTULANTE Y AÑO DE REALIZACIÓN PARA LA CORRESPONDIENTE OFICIALIZACIÓN)- ÚNICAMENTE EN LOS PUNTOS DE ATENCIÓN DE ICETEX A NIVEL NACIONAL. EN EL CD- SE DEBEN INCLUIR TODOS LOS DOCUMENTOS REQUERIDOS EN ESTA CONVOCATORIA. LOS ARCHIVOS DEBEN ADJUNTARSE DE FORMA INDIVIDUAL EN FORMATO PDF- ES DECIR- POR CADA DOCUMENTO- UN (1) ARCHIVO QUE NO SUPERE 15 MEGAS. No presentar documentación en carpeta ni con separadores- ÚNICAMENTE legajados en el lado izquierdo.',\n",
              "  'El objetivo del Programa de Becas de Movilidad Estudiantil y Académica de la Alianza del Pacífico es contribuir a la formación de capital humano avanzado de los nacionales de los países miembros de la Alianza del Pacífico a través del intercambio académico de estudiantes de doctorado- profesores o investigadores en universidades chilenas.']]"
            ]
          },
          "metadata": {},
          "execution_count": 5
        }
      ]
    },
    {
      "cell_type": "code",
      "metadata": {
        "colab": {
          "base_uri": "https://localhost:8080/"
        },
        "id": "5AmplYlZfWzg",
        "outputId": "5ad3d656-5905-4948-bc77-e0d4e23b3dcd"
      },
      "source": [
        "for i in range(8):\n",
        "   num = becas.filter(lambda x:x[i]=='').count()\n",
        "   val_distintos = becas.map(lambda x:x[i] if x[i]!='' else None).distinct().count()\n",
        "   print(f\"{cols[i]} - {num} nulos - {val_distintos} distintos\")"
      ],
      "execution_count": 6,
      "outputs": [
        {
          "output_type": "stream",
          "name": "stdout",
          "text": [
            "Codigo Convocatoria - 0 nulos - 1471 distintos\n",
            "Nombre del Oferente - 0 nulos - 207 distintos\n",
            "Area del Conocimiento - 0 nulos - 38 distintos\n",
            "Nombre del programa - 0 nulos - 768 distintos\n",
            "Nombre del País - 0 nulos - 55 distintos\n",
            "Fecha de Recepción -mm/dd/aaaa - 647 nulos - 349 distintos\n",
            "Perfil del Aplicante - 0 nulos - 1418 distintos\n",
            "Objetivo del Programa - 0 nulos - 1024 distintos\n"
          ]
        }
      ]
    },
    {
      "cell_type": "code",
      "metadata": {
        "id": "QJLlwd-aBypP"
      },
      "source": [
        "# Se ven alianzas y demás.\n",
        "from datetime import datetime"
      ],
      "execution_count": 7,
      "outputs": []
    },
    {
      "cell_type": "code",
      "metadata": {
        "colab": {
          "base_uri": "https://localhost:8080/"
        },
        "id": "BfBn-TU4fOR_",
        "outputId": "6cef4836-1081-4e0d-d703-52f9da6ff6a2"
      },
      "source": [
        "!pip install Unidecode"
      ],
      "execution_count": 8,
      "outputs": [
        {
          "output_type": "stream",
          "name": "stdout",
          "text": [
            "Requirement already satisfied: Unidecode in /usr/local/lib/python3.7/dist-packages (1.3.2)\n"
          ]
        }
      ]
    },
    {
      "cell_type": "code",
      "metadata": {
        "id": "pO9q8r-RfP_8"
      },
      "source": [
        "import unidecode\n",
        "def normalize_accent(x):\n",
        "  return unidecode.unidecode(x)"
      ],
      "execution_count": 9,
      "outputs": []
    },
    {
      "cell_type": "code",
      "metadata": {
        "id": "mzl2_Ymr_msj"
      },
      "source": [
        "def convert(x):\n",
        "\n",
        "  date = x.pop(5)\n",
        "  pais = [i.strip().upper() for i in x.pop(4).strip(')').split('(')]\n",
        "  id_conv = float(x.pop(0))\n",
        "  objetivo = normalize_accent(x.pop(-1)).lower()\n",
        "  perfil = normalize_accent(x.pop(-1)).lower()\n",
        "  \n",
        "  if date!='':\n",
        "    try:\n",
        "      date = datetime.strptime(date,r\"%d/%m/%Y %H:%M:%S %p\")\n",
        "    except:\n",
        "      date = datetime.strptime(date,r\"%m/%d/%Y %H:%M:%S %p\") \n",
        "\n",
        "  return [id_conv] + x + [pais] + [date]  + [perfil] + [objetivo]\n",
        "\n",
        "becas_clean = becas.map(lambda x: convert(x))"
      ],
      "execution_count": 10,
      "outputs": []
    },
    {
      "cell_type": "code",
      "metadata": {
        "colab": {
          "base_uri": "https://localhost:8080/"
        },
        "id": "vXRFEYScINbj",
        "outputId": "d8063533-0faf-4911-aedc-a94b37cfed33"
      },
      "source": [
        "becas_clean.take(3)"
      ],
      "execution_count": 11,
      "outputs": [
        {
          "output_type": "execute_result",
          "data": {
            "text/plain": [
              "[[2127916.0,\n",
              "  'OEA - TOP - ARGENTINA',\n",
              "  'ADMINISTRACIÓN',\n",
              "  'POLÍTICAS DE GOBIERNO ABIERTO Y ACCESO A DATOS PÚBLICOS',\n",
              "  ['PLATAFORMA DE EDUCACIÓN A DISTANCIA TOP - OEA'],\n",
              "  datetime.datetime(2016, 5, 27, 12, 0),\n",
              "  'el programa esta dirigido a profesionales universitarios en administracion- economia- derecho- ciencias politicas o en areas directamente relacionadas con el tema del curso que se desempenen en entidades publicas o privadas- desarrollando actividades inherentes a las politicas de gobierno abierto y acceso a datos publicos. requisitos: el candidato debe ser mayor de 23 anos y menor de 65 anos- tener un promedio minimo de notas de pregrado de 3-7/5-0  contar con minimo 2 anos de experiencia profesional en el area del programa y gozar de buena salud fisica y mental.',\n",
              "  'a) proporcionar a los participantes un panorama actualizado del concepto de gobierno abierto.b) analizar las principales tendencias con un abordaje teorico y practico.c) desarrollar y compartir conocimientos y habilidades sobre el impacto que pueden tener la implementacion de politicas de transparencia en nuestros paises.'],\n",
              " [3101616.0,\n",
              "  'ALIANZA DEL PACÍFICO-CHILE-MÉXICO-PERÚ',\n",
              "  'DIFERENTES AREAS',\n",
              "  'PLATAFORMA DE MOVILIDAD ESTUDIANTIL Y ACADÉMICA DE LA ALIANZA DEL PACÍFICO - DOCTORADO INTERCAMBIO DE PROFESORES O INVESTIGADORES - CHILE',\n",
              "  ['CHILE', 'REPÚBLICA DE CHILE'],\n",
              "  '',\n",
              "  'el programa esta dirigido a profesionales universitarios con maestria o a profesores o investigadores que cuenten con admision definitiva al nivel de estudios que vayan a adelantar (doctorado- investigacion o profesores invitados) en chile- en las siguientes areas:  1. negocios. 2. finanzas. 3. comercio internacional. 4. administracion publica. 5. ciencia politica. 6. turismo. 7. economia. 8. relaciones internacionales. 9. medio ambiente y cambio climatico. 10. innovacion- ciencia y tecnologia. 11. ingenierias.   - para obtener mayor informacion- visite: http://www.agci.cl/index.php/becas/becas-para-extranjeros/105-encuentra-tu-beca/1522-infobecaextr/?tipo=2&idnew=119   nota: se excluyen areas distintas a las senaladas en la presente convocatoria.  requisitos: el aspirante debe tener un promedio de notas de posgrado de 4-0/5-0 y deben gozar de excelente salud fisica y mental.  informacion importante:   1. la duracion minima sera de tres semanas y maximo de un ano academico (10 meses)- la movilidad en estudiantes de doctorado- investigadores y profesores invitados se debera realizar con base en el calendario aprobado por la universidad o institucion de educacion superior receptora de cada pais.  2. los estudiantes de doctorado podran realizar con esta beca: cursos- pasantias de co-tutela- estancias de investigacion en el marco de su programa de postgrado en la universidad de origen.   3. los docentes podran ocupar esta beca para impartir clases como profesor invitado- para ello deberan presentar un programa de trabajo con las materias que dictaran- el nivel y deberan dar al menos cuatro (4) horas a la semana si son programas de pregrado y al menos tres (3) horas a la semana si son clases en programas de postgrado en general.   4. los investigadores podran integrarse a equipos de investigacion en las instituciones academicas de destino y deberan presentar un plan de trabajo con los detalles de la investigacion a realizar.  5. los candidatos seleccionados por agcid deberan: 1. viajar a chile- o encontrarse en el- con una anticipacion suficiente a la fecha de inicio del respectivo programa de estudio. se sugiere entre 3 y 5 dias antes del inicio de las clases. 2. obtener- con la debida anticipacion- la visa respectiva para estar en chile en calidad de estudiante. 3. obtener- con la debida anticipacion- los permisos correspondientes en la universidad de origen. 4. presentarse personalmente en las oficinas de agcid para firmar el convenio que materializa la beca y entregar toda documentacion original requerida que fuese solicitada. 5. suscribir una declaracion jurada que confirma haber leido el convenio que materializara la beca y entregar ese original.   6. toda la documentacion requerida en esta convocatoria se debe presentar en fisico y en un (1) cd (rotulado con el nombre del postulante y ano de realizacion para la correspondiente oficializacion)- unicamente en los puntos de atencion de icetex a nivel nacional. en el cd- se deben incluir todos los documentos requeridos en esta convocatoria. los archivos deben adjuntarse de forma individual en formato pdf- es decir- por cada documento- un (1) archivo que no supere 15 megas. no presentar documentacion en carpeta ni con separadores- unicamente legajados en el lado izquierdo.',\n",
              "  'el objetivo del programa de becas de movilidad estudiantil y academica de la alianza del pacifico es contribuir a la formacion de capital humano avanzado de los nacionales de los paises miembros de la alianza del pacifico a traves del intercambio academico de estudiantes de doctorado- profesores o investigadores en universidades chilenas.'],\n",
              " [2221414.0,\n",
              "  'GOBIERNO DE LA INDIA',\n",
              "  'INGENIERIA Y AFINES',\n",
              "  'DATA COMMUNICATION & IP TECHNOLOGIES',\n",
              "  ['INDIA', 'REPÚBLICA DE INDIA'],\n",
              "  datetime.datetime(2014, 7, 30, 12, 0),\n",
              "  '\"el programa \"\"comunicacion de informacion y tecnologias ip\"\"- esta dirigido a profesionales en ingenieria de sistemas- con experiencia laboral minima de un ano en el area del curso- y que se desempenen en entidades publicas o privadas. requisitos: los aspirantes deben ser menores de 45 anos de edad- tener un promedio de notas universitarias de 3-7/5-0  conocimientos de idioma ingles con puntaje minimo: toefl: por internet (ibt) 65 puntos- prueba por computador: 183 puntos- ielts: 5.5- michigan: 70%- english test (met): b2: 53 a 63 puntos)- u otra prueba de instituciones que esten avaladas oficialmente- que describa porcentual o numericamente la habilidad en expresion oral- comprension auditiva y capacidad de escritura- con nivel minimo de b2. las personas que hayan cursado estudios de bachillerato- pregrado o posgrado en paises de habla inglesa podran adjuntar copia de su diploma. no se recibiran constancias de cursos de ingles. el aspirante no debe haber recibido capacitacion a traves del programa itec del gobierno de la india anteriormente. deben gozar de buena salud fisica y mental. los candidatos preseleccionados seran llamados a entrevista ante la embajada de la india- si ellos lo estiman conveniente. nota: los documentos deben ser entregados en 3 copias por separado.\"',\n",
              "  'ofrecer a los participantes entrenamiento y actualizacion en el campo de redes de telecomunicaciones.']]"
            ]
          },
          "metadata": {},
          "execution_count": 11
        }
      ]
    },
    {
      "cell_type": "markdown",
      "metadata": {
        "id": "pDX41ab4LO7g"
      },
      "source": [
        "##**B) Aumento de ofertas de becas**\n",
        "\n",
        "Identifique si la cantidad de becas ofrecidas para ciudadanos colombianos se ha incrementado con los años"
      ]
    },
    {
      "cell_type": "markdown",
      "metadata": {
        "id": "bSlgm0j-NQjn"
      },
      "source": [
        "Presente aquí el código desarrollado y el resultado obtenido"
      ]
    },
    {
      "cell_type": "code",
      "metadata": {
        "id": "rG0k68PWflbo"
      },
      "source": [
        "from operator import add\n",
        "import matplotlib.pyplot as plt\n",
        "import pandas as pd"
      ],
      "execution_count": 12,
      "outputs": []
    },
    {
      "cell_type": "code",
      "metadata": {
        "colab": {
          "base_uri": "https://localhost:8080/"
        },
        "id": "WGFKjaCy_FKd",
        "outputId": "db954e33-235a-45e3-e065-ebbbe45d2fd2"
      },
      "source": [
        "ofertas_año = becas.filter(lambda x:x[5]!='').map(lambda x:(x[5][6:10], 1)).reduceByKey(add).sortBy(lambda x:x[0]).collect()\n",
        "ofertas_año"
      ],
      "execution_count": 13,
      "outputs": [
        {
          "output_type": "execute_result",
          "data": {
            "text/plain": [
              "[('2011', 126),\n",
              " ('2012', 135),\n",
              " ('2013', 121),\n",
              " ('2014', 165),\n",
              " ('2015', 114),\n",
              " ('2016', 177)]"
            ]
          },
          "metadata": {},
          "execution_count": 13
        }
      ]
    },
    {
      "cell_type": "code",
      "metadata": {
        "colab": {
          "base_uri": "https://localhost:8080/",
          "height": 463
        },
        "id": "djiNW6BQfqWp",
        "outputId": "4d8280ac-4512-46d2-e171-4ec8ca7e4de9"
      },
      "source": [
        "pd.Series(dict(ofertas_año)).plot(ls = '--', \n",
        "                                  marker = 'o', \n",
        "                                  xlabel = 'Año', \n",
        "                                  ylabel = 'Num de Becas', figsize = (10,7))"
      ],
      "execution_count": 14,
      "outputs": [
        {
          "output_type": "execute_result",
          "data": {
            "text/plain": [
              "<matplotlib.axes._subplots.AxesSubplot at 0x7fe6a5d83c90>"
            ]
          },
          "metadata": {},
          "execution_count": 14
        },
        {
          "output_type": "display_data",
          "data": {
            "image/png": "[encoded data removed]",
            "text/plain": [
              "<Figure size 720x504 with 1 Axes>"
            ]
          },
          "metadata": {
            "needs_background": "light"
          }
        }
      ]
    },
    {
      "cell_type": "markdown",
      "metadata": {
        "id": "T89Y60StLUuh"
      },
      "source": [
        "##**C) Paises que han ofrecido becas**\n",
        "\n",
        "Presente un listado con todos los países (diferentes de Colombia) de los que se tiene reporte que han ofrecido becas para estudiantes colombianos (*solamente presentar nombres de países, y estos solo deben aparecer una única vez en la lista*)"
      ]
    },
    {
      "cell_type": "markdown",
      "metadata": {
        "id": "xWQkDcDZNRVa"
      },
      "source": [
        "Presente aquí el código desarrollado y el resultado obtenido"
      ]
    },
    {
      "cell_type": "code",
      "metadata": {
        "id": "9bag091JfvUp"
      },
      "source": [
        "reemplazo_dict = {'BARBADOS JAMAICA & TRINIDAD Y TOBAGO':'BARBADOS,JAMAICA,TRINIDAD Y TOBAGO', \n",
        "             'ESTADOS UNIDOS MEXICANOS ESPAÑA Y ALEMANIA':'ESTADOS UNIDOS MEXICANOS,ESPAÑA,ALEMANIA',\n",
        "             'ESTADOS UNIDOS REINO UNIDO EMIRATOS ÁRABES CHINA.':'ESTADOS UNIDOS,REINO UNIDO,EMIRATOS ÁRABES,CHINA'}\n",
        "\n",
        "broadcastReemplazo = sc.broadcast(reemplazo_dict)\n",
        "\n",
        "def reemplazo(code):\n",
        "    return broadcastReemplazo.value.get(code,code)"
      ],
      "execution_count": 15,
      "outputs": []
    },
    {
      "cell_type": "code",
      "metadata": {
        "colab": {
          "base_uri": "https://localhost:8080/"
        },
        "id": "HL346LExfxrB",
        "outputId": "1ce62a27-b65e-4aa7-e4d1-6c47f1f362da"
      },
      "source": [
        "paises = becas_clean \\\n",
        "          .filter(lambda x: all(i not in ' '.join(x[4]) for i in ['PLATAFORMA','COLOMBIA'])) \\\n",
        "          .map(lambda x: x[4][0]) \\\n",
        "          .map(lambda x: reemplazo(x)) \\\n",
        "          .flatMap(lambda x:x.split(\",\")) \\\n",
        "          .map(lambda x: (x,1)) \\\n",
        "          .reduceByKey(lambda a,b: a+b) \n",
        "             \n",
        "paises = paises.sortBy(lambda x:-x[1]).collect()\n",
        "\n",
        "_ = [print(i+1,pais) for i,pais in enumerate(paises)]\n",
        "\n",
        "# paises.take(5)"
      ],
      "execution_count": 16,
      "outputs": [
        {
          "output_type": "stream",
          "name": "stdout",
          "text": [
            "1 ('INDIA', 223)\n",
            "2 ('ISRAEL', 184)\n",
            "3 ('ESPAÑA', 168)\n",
            "4 ('PERÚ', 91)\n",
            "5 ('COREA DEL SUR', 86)\n",
            "6 ('REINO UNIDO', 53)\n",
            "7 ('EGIPTO', 48)\n",
            "8 ('JAPÓN', 46)\n",
            "9 ('ARGENTINA', 42)\n",
            "10 ('ESTADOS UNIDOS', 40)\n",
            "11 ('MÉXICO', 35)\n",
            "12 ('DIFERENTES PAÍSES', 33)\n",
            "13 ('CHILE', 24)\n",
            "14 ('RUSIA', 22)\n",
            "15 ('BRASIL', 20)\n",
            "16 ('TAILANDIA', 20)\n",
            "17 ('CHINA', 18)\n",
            "18 ('CANADÁ', 16)\n",
            "19 ('SINGAPUR', 16)\n",
            "20 ('ITALIA', 16)\n",
            "21 ('PANAMÁ', 13)\n",
            "22 ('SUECIA', 13)\n",
            "23 ('AUSTRALIA', 9)\n",
            "24 ('MALASIA', 9)\n",
            "25 ('URUGUAY', 7)\n",
            "26 ('INDONESIA', 7)\n",
            "27 ('ECUADOR', 6)\n",
            "28 ('CHECA REP.', 6)\n",
            "29 ('HUNGRÍA', 6)\n",
            "30 ('TAIWÁN', 6)\n",
            "31 ('FRANCIA', 6)\n",
            "32 ('TURQUÍA', 6)\n",
            "33 ('POLONIA', 5)\n",
            "34 ('COSTA RICA', 5)\n",
            "35 ('SUIZA', 5)\n",
            "36 ('PARAGUAY', 5)\n",
            "37 ('BÉLGICA', 5)\n",
            "38 ('TRINIDAD Y TOBAGO', 4)\n",
            "39 ('BARBADOS', 3)\n",
            "40 ('JAMAICA', 3)\n",
            "41 ('NUEVA ZELANDA', 2)\n",
            "42 ('BELICE', 2)\n",
            "43 ('BRUNÉI', 2)\n",
            "44 ('ESTADOS UNIDOS MEXICANOS', 2)\n",
            "45 ('ALEMANIA', 2)\n",
            "46 ('EMIRATOS ÁRABES', 2)\n",
            "47 ('HONDURAS', 1)\n",
            "48 ('PUERTO RICO', 1)\n",
            "49 ('NICARAGUA', 1)\n"
          ]
        }
      ]
    },
    {
      "cell_type": "markdown",
      "metadata": {
        "id": "WlI7cjLXLdlQ"
      },
      "source": [
        "##**D) Áreas del conocimiento y Posgrados**\n",
        "\n",
        "Se desea averiguar cúal es el área de conocimiento predominante por país. Además, queremos conocer qué porcentaje de los programas ofrecidos (**de acuerdo al nombre del programa**) corresponden a estudios de posgrado."
      ]
    },
    {
      "cell_type": "markdown",
      "metadata": {
        "id": "gaYRRcaPlN9w"
      },
      "source": [
        "Presente aquí el código desarrollado y el resultado obtenido"
      ]
    },
    {
      "cell_type": "code",
      "metadata": {
        "id": "qxrUa3XHU7Ei"
      },
      "source": [
        "import re\n",
        "from operator import add\n",
        "def normalize_area(x):\n",
        "  if re.match(\".*(ADMIN|ECONOM).*\", x):\n",
        "    return \"ADMINISTRACIÓN, ECONOMÍA Y AFINES\"\n",
        "  elif re.match(\".*(DOCTORADO|MAESTR|POSGRADO).*\", x):\n",
        "    return \"POSGRADO DIFERENTES AREAS\"\n",
        "  elif re.match(\".*(CIENCIAS NATURALES).*\", x):\n",
        "    return \"CIENCIAS NATURALES\"\n",
        "  elif re.match(\".*(SOCIALES|HUMAN|IDIOM|DERECH).*\", x):\n",
        "    return \"CIENCIAS SOCIALES Y HUMANAS\"\n",
        "  elif re.match(\".*(ARTE).*\", x):\n",
        "    return \"BELLAS ARTES\"\n",
        "  elif re.match(\".*(INGENIE|URBANIS).*\", x,re.I):\n",
        "    return \"INGENIERÍA, ARQUITECTURA Y URBANISMO\"\n",
        "  else:\n",
        "    return x"
      ],
      "execution_count": 17,
      "outputs": []
    },
    {
      "cell_type": "code",
      "metadata": {
        "colab": {
          "base_uri": "https://localhost:8080/"
        },
        "id": "AMFtY9FwWDu7",
        "outputId": "d9850cc3-38a4-4bd7-a190-721c4aff09d4"
      },
      "source": [
        "areasXPais = becas_clean.filter(lambda x: all(i not in ' '.join(x[4]) for i in ['PLATAFORMA'])) \\\n",
        "                        .map(lambda x: (x[4][0] + '|' + normalize_area(x[2]),1)) \\\n",
        "                        .reduceByKey(lambda a,b: a+b) \\\n",
        "                        .map(lambda x: (x[0].split('|')[0],(x[0].split('|')[1], x[1])))\n",
        "areasXPais.take(5)"
      ],
      "execution_count": 18,
      "outputs": [
        {
          "output_type": "execute_result",
          "data": {
            "text/plain": [
              "[('CHINA', ('DIFERENTES AREAS', 2)),\n",
              " ('ESPAÑA', ('POSGRADO DIFERENTES AREAS', 33)),\n",
              " ('BRASIL', ('CIENCIAS SOCIALES Y HUMANAS', 7)),\n",
              " ('INDIA', ('CIENCIAS NATURALES', 4)),\n",
              " ('SUIZA', ('POSGRADO DIFERENTES AREAS', 5))]"
            ]
          },
          "metadata": {},
          "execution_count": 18
        }
      ]
    },
    {
      "cell_type": "code",
      "metadata": {
        "colab": {
          "base_uri": "https://localhost:8080/"
        },
        "id": "yUXYXeZ_NVpe",
        "outputId": "00a4b873-f476-4bb4-9ed6-fcb60020a867"
      },
      "source": [
        "areasXPais \\\n",
        "  .reduceByKey(lambda a,b: max((a,b), key=lambda x: x[1])) \\\n",
        "  .sortBy(lambda x: x[1][1], ascending=False) \\\n",
        "  .collect()"
      ],
      "execution_count": 19,
      "outputs": [
        {
          "output_type": "execute_result",
          "data": {
            "text/plain": [
              "[('INDIA', ('INGENIERÍA, ARQUITECTURA Y URBANISMO', 94)),\n",
              " ('ESPAÑA', ('ADMINISTRACIÓN, ECONOMÍA Y AFINES', 77)),\n",
              " ('EGIPTO', ('CIENCIAS AGROPECUARIAS', 48)),\n",
              " ('COREA DEL SUR', ('ADMINISTRACIÓN, ECONOMÍA Y AFINES', 40)),\n",
              " ('ISRAEL', ('CIENCIAS DE LA EDUCACION', 39)),\n",
              " ('PERÚ', ('INGENIERÍA, ARQUITECTURA Y URBANISMO', 31)),\n",
              " ('ARGENTINA', ('ADMINISTRACIÓN, ECONOMÍA Y AFINES', 23)),\n",
              " ('MÉXICO', ('DIFERENTES AREAS', 18)),\n",
              " ('REINO UNIDO', ('DIFERENTES AREAS', 18)),\n",
              " ('JAPÓN', ('DIFERENTES AREAS', 18)),\n",
              " ('CHILE', ('DIFERENTES AREAS', 15)),\n",
              " ('RUSIA', ('POSGRADO DIFERENTES AREAS', 11)),\n",
              " ('ESTADOS UNIDOS', ('INGENIERÍA, ARQUITECTURA Y URBANISMO', 10)),\n",
              " ('TAILANDIA', ('CIENCIAS AGROPECUARIAS', 10)),\n",
              " ('ITALIA', ('POSGRADO DIFERENTES AREAS', 9)),\n",
              " ('CANADÁ', ('POSGRADO DIFERENTES AREAS', 8)),\n",
              " ('CHINA', ('POSGRADO DIFERENTES AREAS', 8)),\n",
              " ('SINGAPUR', ('ADMINISTRACIÓN, ECONOMÍA Y AFINES', 8)),\n",
              " ('BRASIL', ('CIENCIAS SOCIALES Y HUMANAS', 7)),\n",
              " ('DIFERENTES PAÍSES', ('POSGRADO DIFERENTES AREAS', 7)),\n",
              " ('AUSTRALIA', ('POSGRADO DIFERENTES AREAS', 7)),\n",
              " ('URUGUAY', ('INGENIERÍA, ARQUITECTURA Y URBANISMO', 7)),\n",
              " ('MALASIA', ('CIENCIAS SOCIALES Y HUMANAS', 7)),\n",
              " ('SUECIA', ('CIENCIAS SOCIALES Y HUMANAS', 7)),\n",
              " ('PANAMÁ', ('INGENIERÍA, ARQUITECTURA Y URBANISMO', 6)),\n",
              " ('TURQUÍA', ('POSGRADO DIFERENTES AREAS', 6)),\n",
              " ('CHECA REP.', ('CIENCIAS SOCIALES Y HUMANAS', 5)),\n",
              " ('POLONIA', ('INGENIERÍA, ARQUITECTURA Y URBANISMO', 5)),\n",
              " ('SUIZA', ('POSGRADO DIFERENTES AREAS', 5)),\n",
              " ('COLOMBIA', ('CIENCIAS NATURALES', 5)),\n",
              " ('TAIWÁN', ('POSGRADO DIFERENTES AREAS', 5)),\n",
              " ('PARAGUAY', ('INGENIERÍA, ARQUITECTURA Y URBANISMO', 5)),\n",
              " ('FRANCIA', ('CIENCIAS DE LA EDUCACION', 5)),\n",
              " ('BÉLGICA', ('INGENIERÍA, ARQUITECTURA Y URBANISMO', 4)),\n",
              " ('COSTA RICA', ('ADMINISTRACIÓN, ECONOMÍA Y AFINES', 3)),\n",
              " ('INDONESIA', ('DIFERENTES AREAS', 3)),\n",
              " ('BARBADOS JAMAICA & TRINIDAD Y TOBAGO', ('CIENCIAS DE LA EDUCACION', 3)),\n",
              " ('ECUADOR', ('DIFERENTES AREAS', 2)),\n",
              " ('ESTADOS UNIDOS MEXICANOS ESPAÑA Y ALEMANIA', ('DIFERENTES AREAS', 2)),\n",
              " ('NUEVA ZELANDA', ('CIENCIAS SOCIALES Y HUMANAS', 2)),\n",
              " ('BELICE', ('CIENCIAS SOCIALES Y HUMANAS', 2)),\n",
              " ('HUNGRÍA', ('PREGRADO EN DIFERENTES AREAS', 2)),\n",
              " ('ESTADOS UNIDOS REINO UNIDO EMIRATOS ÁRABES CHINA.',\n",
              "  ('POSGRADO DIFERENTES AREAS', 1)),\n",
              " ('TRINIDAD Y TOBAGO', ('ADMINISTRACIÓN, ECONOMÍA Y AFINES', 1)),\n",
              " ('HONDURAS', ('CIENCIAS NATURALES', 1)),\n",
              " ('PUERTO RICO', ('ADMINISTRACIÓN, ECONOMÍA Y AFINES', 1)),\n",
              " ('BRUNÉI', ('DIFERENTES AREAS', 1)),\n",
              " ('NICARAGUA', ('ADMINISTRACIÓN, ECONOMÍA Y AFINES', 1))]"
            ]
          },
          "metadata": {},
          "execution_count": 19
        }
      ]
    },
    {
      "cell_type": "code",
      "metadata": {
        "id": "Y-OiC3hRUSOT"
      },
      "source": [
        "nombresXPais = becas_clean.filter(lambda x: all(i not in ' '.join(x[4]) for i in ['PLATAFORMA'])) \\\n",
        "                        .map(lambda x: (x[4][0] + '|' + normalize_area(x[3]),1)) \\\n",
        "                        .reduceByKey(lambda a,b: a+b) \\\n",
        "                        .map(lambda x: (x[0].split('|')[0],(x[0].split('|')[1], x[1])))\n",
        "nombresXPais.take(5)\n",
        "totalXPais = nombresXPais.map(lambda x: (x[0], x[1][1])).reduceByKey(add)\n",
        "totalXPais = dict(totalXPais.collect())"
      ],
      "execution_count": 20,
      "outputs": []
    },
    {
      "cell_type": "code",
      "metadata": {
        "colab": {
          "base_uri": "https://localhost:8080/"
        },
        "id": "c1mT7g_CP7MF",
        "outputId": "7ee1ed7e-bce4-43dc-c3f9-4bfb7f37ca7d"
      },
      "source": [
        "program_name = becas_clean.filter(lambda x: all(i not in ' '.join(x[4]) for i in ['PLATAFORMA','DIFERENT'])) \\\n",
        "                   .map(lambda x: (x[4][0], 1 if re.match(\".*(POSGRADO|POSTGRADO|DOCTORA|MASTER|MAESTR|SPECIALI).*\", x[3], re.I) else 0))\\\n",
        "                   .reduceByKey(lambda a,b: a+b) \\\n",
        "                   .map(lambda x: (x[0], round((x[1]/totalXPais[x[0]])*100,2)))\n",
        "\n",
        "program_name.sortBy(lambda x: -x[1]).map(lambda x: (x[0], f'{x[1]:.0f} %')).collect()"
      ],
      "execution_count": 21,
      "outputs": [
        {
          "output_type": "execute_result",
          "data": {
            "text/plain": [
              "[('ESTADOS UNIDOS MEXICANOS ESPAÑA Y ALEMANIA', '100 %'),\n",
              " ('PUERTO RICO', '100 %'),\n",
              " ('SUIZA', '100 %'),\n",
              " ('BÉLGICA', '100 %'),\n",
              " ('TURQUÍA', '100 %'),\n",
              " ('NICARAGUA', '100 %'),\n",
              " ('AUSTRALIA', '89 %'),\n",
              " ('COREA DEL SUR', '85 %'),\n",
              " ('ESPAÑA', '84 %'),\n",
              " ('TAIWÁN', '83 %'),\n",
              " ('REINO UNIDO', '78 %'),\n",
              " ('CHINA', '75 %'),\n",
              " ('COSTA RICA', '60 %'),\n",
              " ('MÉXICO', '57 %'),\n",
              " ('INDONESIA', '57 %'),\n",
              " ('CANADÁ', '56 %'),\n",
              " ('RUSIA', '50 %'),\n",
              " ('ESTADOS UNIDOS REINO UNIDO EMIRATOS ÁRABES CHINA.', '50 %'),\n",
              " ('HUNGRÍA', '50 %'),\n",
              " ('BRUNÉI', '50 %'),\n",
              " ('CHILE', '46 %'),\n",
              " ('ITALIA', '38 %'),\n",
              " ('ESTADOS UNIDOS', '18 %'),\n",
              " ('ECUADOR', '17 %'),\n",
              " ('FRANCIA', '17 %'),\n",
              " ('URUGUAY', '14 %'),\n",
              " ('JAPÓN', '13 %'),\n",
              " ('BRASIL', '10 %'),\n",
              " ('PERÚ', '8 %'),\n",
              " ('ARGENTINA', '7 %'),\n",
              " ('INDIA', '4 %'),\n",
              " ('ISRAEL', '2 %'),\n",
              " ('POLONIA', '0 %'),\n",
              " ('EGIPTO', '0 %'),\n",
              " ('PANAMÁ', '0 %'),\n",
              " ('HONDURAS', '0 %'),\n",
              " ('TRINIDAD Y TOBAGO', '0 %'),\n",
              " ('CHECA REP.', '0 %'),\n",
              " ('NUEVA ZELANDA', '0 %'),\n",
              " ('SINGAPUR', '0 %'),\n",
              " ('BELICE', '0 %'),\n",
              " ('COLOMBIA', '0 %'),\n",
              " ('TAILANDIA', '0 %'),\n",
              " ('PARAGUAY', '0 %'),\n",
              " ('BARBADOS JAMAICA & TRINIDAD Y TOBAGO', '0 %'),\n",
              " ('MALASIA', '0 %'),\n",
              " ('SUECIA', '0 %')]"
            ]
          },
          "metadata": {},
          "execution_count": 21
        }
      ]
    },
    {
      "cell_type": "markdown",
      "metadata": {
        "id": "HGwierHTLFt3"
      },
      "source": [
        "##**E) ¿Qué podemos concluir a partir del Perfil del Aspirante y el Objetivo del Programa?**\n",
        "\n",
        "Se dispone de dos campos de descripción, que no emplean un formato claro que permita analizar los perfiles de los aspirantes con respecto al objetivo del programa.\n",
        "\n",
        "Plantee una forma de analizar esta información para conocer las relaciones entre los perfiles y lo objetivos."
      ]
    },
    {
      "cell_type": "markdown",
      "metadata": {
        "id": "xHtI3jGcNTNn"
      },
      "source": [
        "Presente aquí el código desarrollado y el resultado obtenido"
      ]
    },
    {
      "cell_type": "code",
      "metadata": {
        "colab": {
          "base_uri": "https://localhost:8080/"
        },
        "id": "9jbcrFtBdCVB",
        "outputId": "2962f9e5-3335-4154-b40f-61d1920b8641"
      },
      "source": [
        "becas_clean.filter(lambda x: all([i not in x[-2].lower() for i  in ['esta dirigido','esta orientado','estan dirigidos', 'esta disenado', 'está dirigido', 'estan dirigidas']])).count()"
      ],
      "execution_count": 22,
      "outputs": [
        {
          "output_type": "execute_result",
          "data": {
            "text/plain": [
              "5"
            ]
          },
          "metadata": {},
          "execution_count": 22
        }
      ]
    },
    {
      "cell_type": "code",
      "metadata": {
        "id": "c5hu_XpXeeDV"
      },
      "source": [
        "# removeObjetives = 'el,ella,de,es,su,al,y,en,un,una,uno,la,las,a,los,sus,o,se,del,como,\\\n",
        "# que,con,para,mas,esta,este,esto,ya,e,mediante,por,entre,sobre,tal,lo,era,\\\n",
        "# conocimientos,profesionales,habilidades,desarrollo,ofrecer,\\\n",
        "# herramientas,oportunidad'.split(',')\n",
        "\n",
        "# removePerfil = 'el,ella,de,es,su,al,y,en,un,una,uno,esten,la,las,los,sus,o,se,del\\\n",
        "# ,como,que,con,para,mas,este,esto,ya,e,mediante,por,entre,sobre,tal,lo,era,fue'\\\n",
        "# .split(',')\n",
        "\n",
        "aux_remove_articles = r'\\b{}\\b'\n",
        "aux_split_perfil = '.*({}).*'\n",
        "keyPhrases = ['esta dirigido','esta orientado','estan dirigidos',\n",
        "              'esta disenado', 'esta dirigido', 'estan dirigidas']\n",
        "\n",
        "def split_perfil(x, vslice=slice(2,4,1)):\n",
        "  x = re.sub('[^A-Za-z\\s]+', '', x)\n",
        "  for i in removePerfil:\n",
        "    x = re.sub(aux_remove_articles.format(i),'',x)\n",
        "  x = re.sub(' +', ' ', x)\n",
        "  if re.match(aux_split_perfil.format(keyPhrases[0]), x):\n",
        "    return ' '.join(x.split(keyPhrases[0])[1].split(' ')[vslice])\n",
        "  elif re.match(aux_split_perfil.format(keyPhrases[1]), x):\n",
        "    return ' '.join(x.split(keyPhrases[1])[1].split(' ')[vslice])\n",
        "  elif re.match(aux_split_perfil.format(keyPhrases[2]), x):\n",
        "    return ' '.join(x.split(keyPhrases[2])[1].split(' ')[vslice])\n",
        "  elif re.match(aux_split_perfil.format(keyPhrases[3]), x):\n",
        "    return ' '.join(x.split(keyPhrases[3])[1].split(' ')[vslice])\n",
        "  elif re.match(aux_split_perfil.format(keyPhrases[4]), x):\n",
        "    return ' '.join(x.split(keyPhrases[4])[1].split(' ')[vslice])\n",
        "  elif re.match(aux_split_perfil.format(keyPhrases[5]), x):\n",
        "    return ' '.join(x.split(keyPhrases[5])[1].split(' ')[vslice])\n",
        "  else:\n",
        "    return x\n",
        "\n",
        "def remove_articles(x):\n",
        "  x = re.sub('[^A-Za-z0-9\\s]+', '', x)\n",
        "  for i in removeObjetives:\n",
        "    x = re.sub(aux_remove_articles.format(i),'',x)\n",
        "  x = re.sub(' +', ' ', x)\n",
        "  return x.strip().split(' ')"
      ],
      "execution_count": 23,
      "outputs": []
    },
    {
      "cell_type": "code",
      "metadata": {
        "id": "-3pzBFSArbMq"
      },
      "source": [
        "from collections import defaultdict"
      ],
      "execution_count": 24,
      "outputs": []
    },
    {
      "cell_type": "code",
      "metadata": {
        "id": "JAsz2Mq95aUN"
      },
      "source": [
        "import time"
      ],
      "execution_count": 25,
      "outputs": []
    },
    {
      "cell_type": "code",
      "metadata": {
        "id": "NBxDj55UkGJy"
      },
      "source": [
        "removeObjetives = 'el,ella,de,es,su,al,y,en,un,una,uno,la,las,a,los,sus,o,se,del,como,\\\n",
        "que,con,para,mas,esta,este,esto,ya,e,mediante,por,entre,sobre,tal,lo,era'.split(',')\n",
        "\n",
        "removePerfil = 'el,ella,de,es,su,al,y,en,un,una,uno,esten,la,las,los,sus,o,se,del\\\n",
        ",como,que,con,para,mas,este,esto,ya,e,mediante,por,entre,sobre,tal,lo,era,fue'\\\n",
        ".split(',')\n",
        "\n",
        "perfilXObjetivo = becas_clean \\\n",
        "    .filter(lambda x: any([i in x[-2].lower() for i in keyPhrases])) \\\n",
        "    .map(lambda x: (split_perfil(x[-2].lower(),vslice=slice(3)),remove_articles(x[-1]))) \\\n",
        "    .flatMapValues(lambda x: x) \\\n",
        "    .map(lambda x: (x[0]+'|'+x[1], 1)) \\\n",
        "    .reduceByKey(lambda a,b: a+b) \\\n",
        "    .map(lambda x: (x[0].split('|')[0],(x[0].split('|')[1], x[1]))) \\\n",
        "    .reduceByKey(lambda a,b: str(a)+'|'+str(b)) \\"
      ],
      "execution_count": 26,
      "outputs": []
    },
    {
      "cell_type": "code",
      "metadata": {
        "id": "G9FJrcjU0Dgu"
      },
      "source": [
        "\n",
        "def get_top_objetive_words(n):  \n",
        "  dicc = defaultdict(dict)\n",
        "\n",
        "  for a in perfilXObjetivo.collect():\n",
        "    for b in a[1].split('|'):\n",
        "      dicc[a[0]][b.split(',')[0].strip('(').strip('\\'')] = float(b.split(',')[1].strip(')'))\n",
        "  final_list = []\n",
        "  for d in dicc.items():\n",
        "    final_list.append([d[0],sorted(d[1], key=d[1].get, reverse=True)[:n]])\n",
        "  return final_list\n"
      ],
      "execution_count": 27,
      "outputs": []
    },
    {
      "cell_type": "code",
      "metadata": {
        "colab": {
          "base_uri": "https://localhost:8080/"
        },
        "id": "bNlUkct058TK",
        "outputId": "19ec5638-fcf5-4cf4-d924-38143be9be9c"
      },
      "source": [
        "perfilXObjetivo.cache()\n",
        "\n",
        "start_time = time.time()\n",
        "get_top_objetive_words(6)\n",
        "print('first evaluation   >>>>>>>>', time.time()-start_time)\n",
        "\n",
        "perfilXObjetivo.unpersist();\n",
        "\n",
        "start_time = time.time()\n",
        "top5words = get_top_objetive_words(6)\n",
        "print('second evaluation  >>>>>>>>', time.time()-start_time)\n",
        "\n"
      ],
      "execution_count": 28,
      "outputs": [
        {
          "output_type": "stream",
          "name": "stdout",
          "text": [
            "first evaluation   >>>>>>>> 3.3224682807922363\n",
            "second evaluation  >>>>>>>> 0.09209966659545898\n"
          ]
        }
      ]
    },
    {
      "cell_type": "code",
      "metadata": {
        "colab": {
          "base_uri": "https://localhost:8080/"
        },
        "id": "r4O15d14m431",
        "outputId": "dd385384-de0c-496b-b665-f007fd510137"
      },
      "source": [
        "totalProfiles = becas_clean \\\n",
        "    .filter(lambda x: any([i in x[-2].lower() for i in keyPhrases])) \\\n",
        "    .map(lambda x: (split_perfil(x[-2].lower(),vslice=slice(1,3)),1)) \\\n",
        "    .reduceByKey(lambda a,b: a+b) \\\n",
        "    .sortBy(lambda x: x[1], ascending=False)\n",
        "\n",
        "totalProfiles.collect()"
      ],
      "execution_count": 29,
      "outputs": [
        {
          "output_type": "execute_result",
          "data": {
            "text/plain": [
              "[('a profesionales', 1274),\n",
              " ('a bachilleres', 50),\n",
              " ('a estudiantes', 45),\n",
              " ('a licenciados', 19),\n",
              " ('a tecnicos', 12),\n",
              " ('a profesores', 9),\n",
              " ('a funcionarios', 8),\n",
              " ('a ingenieros', 8),\n",
              " ('unicamente a', 6),\n",
              " ('a jovenes', 6),\n",
              " ('a mujeres', 6),\n",
              " ('a ciudadanas', 4),\n",
              " ('a integrantes', 4),\n",
              " ('a medicos', 3),\n",
              " ('a investigadores', 3),\n",
              " ('profesionales colombianos', 2),\n",
              " ('tecnicos profesionales', 2),\n",
              " ('profesionales universitarios', 2),\n",
              " ('a a', 2),\n",
              " ('a personas', 2),\n",
              " ('principalmente a', 2),\n",
              " ('a oficiales', 2),\n",
              " ('a agentes', 1),\n",
              " ('a lideres', 1),\n",
              " ('a ciudadanos', 1),\n",
              " ('a artistas', 1),\n",
              " ('a abogados', 1),\n",
              " ('a planificadores', 1),\n",
              " ('profesionales consultores', 1),\n",
              " ('a formuladores', 1),\n",
              " ('a jefes', 1)]"
            ]
          },
          "metadata": {},
          "execution_count": 29
        }
      ]
    },
    {
      "cell_type": "markdown",
      "metadata": {
        "id": "4JYIy6EaEISf"
      },
      "source": [
        "##**Análisis de los resultados**\n",
        "\n",
        "Teniendo en cuenta los resultados obtenidos en los puntos anteriores, presente sus impresiones sobre las becas académicas disponibles para los estudiantes colombianos.\n"
      ]
    },
    {
      "cell_type": "markdown",
      "metadata": {
        "id": "ANXTzC_ii30p"
      },
      "source": [
        "\n",
        "\n"
      ]
    },
    {
      "cell_type": "markdown",
      "metadata": {
        "id": "FIWNCDYECHFb"
      },
      "source": [
        "**Notas**\n",
        "\n",
        "1. Utilice el concepto de persistencia al menos una vez, justificando porque considera que aplicarlo donde lo propone, puede aportar en la solución del taller.\n",
        "\n",
        "2. Identifique si vale la pena aplicar el concepto de variables compartidas en alguno de los puntos a resolver, justifique su respuesta y en caso de aplicarlo, indique porque considera que puede aportar a la solución del taller"
      ]
    }
  ]
}