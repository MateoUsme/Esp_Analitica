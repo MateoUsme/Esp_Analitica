{
  "nbformat": 4,
  "nbformat_minor": 0,
  "metadata": {
    "colab": {
      "name": "00-INSTRUCCIONES.ipynb",
      "provenance": []
    },
    "kernelspec": {
      "name": "python3",
      "display_name": "Python 3"
    },
    "language_info": {
      "name": "python"
    }
  },
  "cells": [
    {
      "cell_type": "markdown",
      "source": [
        "# INSTRUCCIONES PARA LA EJECUCIÓN DE LOS NOTEBOOKS\n",
        "\n",
        "Los siguientes son los notebooks que hacen parte de la monografía, los cuales se encuentran en el repositorio junto a los datasets utilizados:\n",
        "\n",
        "\n",
        "\n",
        "*   01_carga_limpieza_y_transformacion_de_datos_primera_iteracion.ipynb\n",
        "*   02_entrenamiento_y_prediccion_del_modelo_primera_iteracion.ipynb\n",
        "*   03_entrenamiento_y_prediccion_del_modelo_segunda_iteracion.ipynb\n",
        "\n",
        "Los datos necesarios para ejecutar estos notebooks están cargados en un repositorio de acceso público el cual se puede acceder al dar [clic acá](https://github.com/MateoUsme/Esp_Analitica).\n",
        "\n",
        "No se requieren archivos externos para ejecutar y recrear el análisis del modelo, al utilizar de insumo datos que son públicos y accesibles con ejecutar celda por celda o al ejecutar todo el notebook será reproducible sin problemas.\n",
        "\n"
      ],
      "metadata": {
        "id": "j_xQFV0gthDf"
      }
    }
  ]
}