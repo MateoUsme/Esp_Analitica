{
  "nbformat": 4,
  "nbformat_minor": 0,
  "metadata": {
    "colab": {
      "name": "08 - [TALLER] - DATAFRAME.ipynb",
      "provenance": [],
      "collapsed_sections": [],
      "include_colab_link": true
    },
    "kernelspec": {
      "name": "python3",
      "display_name": "Python 3"
    }
  },
  "cells": [
    {
      "cell_type": "markdown",
      "metadata": {
        "id": "view-in-github",
        "colab_type": "text"
      },
      "source": [
        "<a href=\"https://colab.research.google.com/github/MateoUsme/Esp_Analitica/blob/main/08_%5BTALLER%5D_DATAFRAME.ipynb\" target=\"_parent\"><img src=\"https://colab.research.google.com/assets/colab-badge.svg\" alt=\"Open In Colab\"/></a>"
      ]
    },
    {
      "cell_type": "code",
      "metadata": {
        "id": "Z7rbDx_-JApm"
      },
      "source": [
        "!wget --no-cache -O init.py -q https://raw.githubusercontent.com/UDEA-Esp-Analitica-y-Ciencia-de-Datos/EACD-03-BIGDATA/master/init.py\n",
        "import init; init.init(force_download=False); \n",
        "from IPython.display import Image"
      ],
      "execution_count": 49,
      "outputs": []
    },
    {
      "cell_type": "code",
      "metadata": {
        "id": "hDzn_xcpJRWR",
        "colab": {
          "base_uri": "https://localhost:8080/",
          "height": 251
        },
        "outputId": "9da37139-9997-4f0b-bdb3-81a678276b05"
      },
      "source": [
        "Image(\"local/imgs/udea-datascience.png\")"
      ],
      "execution_count": 50,
      "outputs": [
        {
          "output_type": "execute_result",
          "data": {
            "image/png": "[encoded data removed]",
            "text/plain": [
              "<IPython.core.display.Image object>"
            ]
          },
          "metadata": {},
          "execution_count": 50
        }
      ]
    },
    {
      "cell_type": "code",
      "metadata": {
        "id": "vn53Mwxqze4U"
      },
      "source": [
        "#Instalación\n",
        "!apt-get install openjdk-11-jdk-headless -qq > /dev/null\n",
        "!wget -q http://archive.apache.org/dist/spark/spark-3.0.1/spark-3.0.1-bin-hadoop3.2.tgz\n",
        "!tar xf spark-3.0.1-bin-hadoop3.2.tgz \n",
        "!pip install -q findspark\n",
        "\n",
        "#Variables de Entorno\n",
        "import os\n",
        "os.environ[\"JAVA_HOME\"] = \"/usr/lib/jvm/java-11-openjdk-amd64\"\n",
        "os.environ[\"SPARK_HOME\"] = \"/content/spark-3.0.1-bin-hadoop3.2\"\n",
        "\n",
        "#SparkContext\n",
        "import findspark\n",
        "findspark.init()\n",
        "from pyspark.sql import SparkSession\n",
        "from pyspark import SparkContext\n",
        "spark = SparkSession.builder.master(\"local[*]\").getOrCreate()\n",
        "sc = SparkContext.getOrCreate()"
      ],
      "execution_count": 51,
      "outputs": []
    },
    {
      "cell_type": "markdown",
      "metadata": {
        "id": "myHD-jFLKEal"
      },
      "source": [
        "# **TALLER 3: DATAFRAME**\n",
        "## Desarrollado por: Mg. Efraín Alberto Oviedo\n",
        "## Universidad de Antioquia"
      ]
    },
    {
      "cell_type": "markdown",
      "metadata": {
        "id": "4GK6iJ1CKS8o"
      },
      "source": [
        "Por favor, ingrese la siguiente información:\n",
        "\n",
        "**Nombre Completo:**\n",
        "\n",
        "**Cédula:**\n",
        "\n",
        "**Correo Institucional:**\n",
        "\n",
        "**Nombre Completo:**\n",
        "\n",
        "**Cédula:**\n",
        "\n",
        "**Correo Institucional:**\n",
        "\n",
        "**Nombre Completo:**\n",
        "\n",
        "**Cédula:**\n",
        "\n",
        "**Correo Institucional:**\n",
        "\n",
        "**Nombre Completo:**\n",
        "\n",
        "**Cédula:**\n",
        "\n",
        "**Correo Institucional:**"
      ]
    },
    {
      "cell_type": "markdown",
      "metadata": {
        "id": "UlYY1g0lKhz_"
      },
      "source": [
        "#**Pacientes sometidos a cirugías por tumores malignos**\n",
        "\n",
        "Se dispone de un conjunto de datos (pacientes.json) que contiene datos socio demográficos de pacientes que fueron sometidos a procedimientos quirúrgicos durante los años 2007 a 2018 y cuyos Códigos Internacionales de Enfermedades (CIE-10) correspondía a tumores malignos. Tomado de: https://www.datos.gov.co/Salud-y-Protecci-n-Social/Perfil-socio-demogr-fico-pacientes-sometidos-a-cir/i45c-f4fs\n",
        "\n",
        "\n",
        "Por cada paciente, se dispone de los siguientes atributos:\n",
        " \n",
        "* DiagnosticoAgrupado: Nombre del Grupo de Diagnóstico Agrupado\n",
        "* Cirugia: Descripción del Procedimiento Quirúrgico\n",
        "* TipoAtencion: Tipo de atención que generó el procedimiento (Urgencia-Programada)\n",
        "* Edad: Edad en años del paciente\n",
        "* Subregion: Subregión del departamento de la cual proviene el paciente\n",
        "* Regimen: Régimen de salud al cual pertenecía el paciente al momento del procedimiento\n",
        "* Genero: Genero del paciente\n",
        "* Estado_Civil: Estado civil del paciente al momento del procedimiento quirúrgico\n",
        "* Etnia: Etnia a la cual pertenecía el paciente al momento del procedimiento quirúrgico\n",
        "* Estrato: Nivel socio económico del paciente al momento del procedimiento quirúrgico\n",
        "* Año en el cual fue realizado el procedimiento quirúrgico\n",
        "\n",
        "Se requiere de su apoyo para comprender el comportamiento de esta enfermedad, respondiendo las siguientes inquietudes:\n",
        "\n"
      ]
    },
    {
      "cell_type": "markdown",
      "metadata": {
        "id": "GAyH6mgGK3VA"
      },
      "source": [
        "##**A) Calidad de datos**\n",
        "\n",
        "Revise cada una de las variables disponibles y solucione los posibles problemas presentes respecto a registros nulos y atípicos.\n",
        "\n",
        "Analice el tipo de dato utilizado para cada variable y realice los ajustes que considere necesarios para optimizar el almacenamiento\n",
        "\n",
        "Justificando las decisiones tomadas en cada caso "
      ]
    },
    {
      "cell_type": "code",
      "metadata": {
        "id": "FwAndvQRz-GZ"
      },
      "source": [
        "from pyspark.sql import SQLContext\n",
        "from pyspark.sql.types import *\n",
        "from pyspark.sql import functions\n",
        "from pyspark.sql.functions import isnan, when, count, col, col, countDistinct, trim\n",
        "sqlCtx = SQLContext(sc)"
      ],
      "execution_count": 52,
      "outputs": []
    },
    {
      "cell_type": "code",
      "metadata": {
        "id": "H4j93oAhz_GY"
      },
      "source": [
        "raw = sqlCtx.read.json('local/data/pacientes.json')"
      ],
      "execution_count": 53,
      "outputs": []
    },
    {
      "cell_type": "code",
      "metadata": {
        "id": "QXzhOMjSz_O8",
        "colab": {
          "base_uri": "https://localhost:8080/"
        },
        "outputId": "32c72e8a-b669-460c-bfbf-eb45ac787853"
      },
      "source": [
        "print('No. Registros', raw.count())\n",
        "raw.printSchema()\n",
        "raw.show(2)"
      ],
      "execution_count": 54,
      "outputs": [
        {
          "output_type": "stream",
          "name": "stdout",
          "text": [
            "No. Registros 14252\n",
            "root\n",
            " |-- Año: long (nullable = true)\n",
            " |-- Cirugia: string (nullable = true)\n",
            " |-- DiagnosticoAgrupado: string (nullable = true)\n",
            " |-- Edad: long (nullable = true)\n",
            " |-- Estado_Civil: string (nullable = true)\n",
            " |-- Estrato: string (nullable = true)\n",
            " |-- Etnia: string (nullable = true)\n",
            " |-- Genero: string (nullable = true)\n",
            " |-- Regimen: string (nullable = true)\n",
            " |-- Subregion: string (nullable = true)\n",
            " |-- TipoAtencion: string (nullable = true)\n",
            "\n",
            "+----+-----------------+--------------------+----+------------+---------+--------+------+----------+----------+------------+\n",
            "| Año|          Cirugia| DiagnosticoAgrupado|Edad|Estado_Civil|  Estrato|   Etnia|Genero|   Regimen| Subregion|TipoAtencion|\n",
            "+----+-----------------+--------------------+----+------------+---------+--------+------+----------+----------+------------+\n",
            "|2007|TRAQUEOSTOMIA SOD|CARCINOMA IN SITU...|  77|      Casado|Estrato 4|Indigena|     M|PARTICULAR|Centro Sur|    Urgencia|\n",
            "|2007|TRAQUEOSTOMIA SOD|CARCINOMA IN SITU...|  77|      Casado|Estrato 4|Indigena|     M|PARTICULAR|Centro Sur|    Urgencia|\n",
            "+----+-----------------+--------------------+----+------------+---------+--------+------+----------+----------+------------+\n",
            "only showing top 2 rows\n",
            "\n"
          ]
        }
      ]
    },
    {
      "cell_type": "code",
      "metadata": {
        "id": "u3t4Vmcc0ok-"
      },
      "source": [
        "schema = StructType()\\\n",
        "      .add(\"Año\",ShortType(),True) \\\n",
        "      .add(\"Cirugia\",StringType(),True) \\\n",
        "      .add(\"DiagnosticoAgrupado\",StringType(),True) \\\n",
        "      .add(\"Edad\",ByteType(),True) \\\n",
        "      .add(\"Estado_Civil\",StringType(),True) \\\n",
        "      .add(\"Estrato\",StringType(),True) \\\n",
        "      .add(\"Etnia\",StringType(),True) \\\n",
        "      .add(\"Genero\",StringType(),True) \\\n",
        "      .add(\"Regimen\",StringType(),True) \\\n",
        "      .add(\"Subregion\",StringType(),True) \\\n",
        "      .add(\"TipoAtencion\",StringType(),True)"
      ],
      "execution_count": 55,
      "outputs": []
    },
    {
      "cell_type": "code",
      "metadata": {
        "id": "EysHMC_C2xyy",
        "colab": {
          "base_uri": "https://localhost:8080/"
        },
        "outputId": "85e35d0c-6f23-4fd0-9c8e-8b255ea62474"
      },
      "source": [
        "df = sqlCtx.read.json('local/data/pacientes.json',schema)\n",
        "str_cols = [f.name for f in df.schema.fields if isinstance(f.dataType, StringType)]\n",
        "\n",
        "for col_str in str_cols:\n",
        "  df = df.withColumn(col_str, trim(df[col_str]))\n",
        "\n",
        "df.printSchema()\n",
        "df.show(4)"
      ],
      "execution_count": 56,
      "outputs": [
        {
          "output_type": "stream",
          "name": "stdout",
          "text": [
            "root\n",
            " |-- Año: short (nullable = true)\n",
            " |-- Cirugia: string (nullable = true)\n",
            " |-- DiagnosticoAgrupado: string (nullable = true)\n",
            " |-- Edad: byte (nullable = true)\n",
            " |-- Estado_Civil: string (nullable = true)\n",
            " |-- Estrato: string (nullable = true)\n",
            " |-- Etnia: string (nullable = true)\n",
            " |-- Genero: string (nullable = true)\n",
            " |-- Regimen: string (nullable = true)\n",
            " |-- Subregion: string (nullable = true)\n",
            " |-- TipoAtencion: string (nullable = true)\n",
            "\n",
            "+----+--------------------+--------------------+----+------------+---------+--------+------+----------+----------+------------+\n",
            "| Año|             Cirugia| DiagnosticoAgrupado|Edad|Estado_Civil|  Estrato|   Etnia|Genero|   Regimen| Subregion|TipoAtencion|\n",
            "+----+--------------------+--------------------+----+------------+---------+--------+------+----------+----------+------------+\n",
            "|2007|   TRAQUEOSTOMIA SOD|CARCINOMA IN SITU...|  77|      Casado|Estrato 4|Indigena|     M|PARTICULAR|Centro Sur|    Urgencia|\n",
            "|2007|   TRAQUEOSTOMIA SOD|CARCINOMA IN SITU...|  77|      Casado|Estrato 4|Indigena|     M|PARTICULAR|Centro Sur|    Urgencia|\n",
            "|2007|MICROENDOSCOPIA L...|CARCINOMA IN SITU...|  77|      Casado|Estrato 4|Indigena|     M|PARTICULAR|Centro Sur|    Urgencia|\n",
            "|2007|MICROENDOSCOPIA L...|CARCINOMA IN SITU...|  77|      Casado|Estrato 4| Ninguna|     M|PARTICULAR|Centro Sur|    Urgencia|\n",
            "+----+--------------------+--------------------+----+------------+---------+--------+------+----------+----------+------------+\n",
            "only showing top 4 rows\n",
            "\n"
          ]
        }
      ]
    },
    {
      "cell_type": "code",
      "metadata": {
        "id": "tp91DdGv7Nwt",
        "colab": {
          "base_uri": "https://localhost:8080/"
        },
        "outputId": "fe69c9c9-e343-4632-c58f-b772f446e3d3"
      },
      "source": [
        "print(\"Valores distintos por columna\")\n",
        "df.agg(*(countDistinct(col(c)).alias(c) for c in df.columns)).show()"
      ],
      "execution_count": 57,
      "outputs": [
        {
          "output_type": "stream",
          "name": "stdout",
          "text": [
            "Valores distintos por columna\n",
            "+---+-------+-------------------+----+------------+-------+-----+------+-------+---------+------------+\n",
            "|Año|Cirugia|DiagnosticoAgrupado|Edad|Estado_Civil|Estrato|Etnia|Genero|Regimen|Subregion|TipoAtencion|\n",
            "+---+-------+-------------------+----+------------+-------+-----+------+-------+---------+------------+\n",
            "| 12|    675|                 82|  82|           7|      8|    3|     3|      6|        7|           3|\n",
            "+---+-------+-------------------+----+------------+-------+-----+------+-------+---------+------------+\n",
            "\n"
          ]
        }
      ]
    },
    {
      "cell_type": "code",
      "metadata": {
        "id": "ZhLNu0Ii5gS6",
        "colab": {
          "base_uri": "https://localhost:8080/"
        },
        "outputId": "cb7207c7-6c99-4a0c-9284-20ef6080eca2"
      },
      "source": [
        "print(\"Estadisticas columnas numericas\")\n",
        "df[['Edad', 'Año']].summary(\"count\", \"min\", \"25%\", \"mean\", \"50%\", \"75%\", \"max\").show()"
      ],
      "execution_count": 58,
      "outputs": [
        {
          "output_type": "stream",
          "name": "stdout",
          "text": [
            "Estadisticas columnas numericas\n",
            "+-------+------------------+------------------+\n",
            "|summary|              Edad|               Año|\n",
            "+-------+------------------+------------------+\n",
            "|  count|             14127|             14127|\n",
            "|    min|                10|              2007|\n",
            "|    25%|                50|              2010|\n",
            "|   mean|59.667232958165215|2012.7959934876478|\n",
            "|    50%|                61|              2013|\n",
            "|    75%|                71|              2016|\n",
            "|    max|                95|              2018|\n",
            "+-------+------------------+------------------+\n",
            "\n"
          ]
        }
      ]
    },
    {
      "cell_type": "code",
      "metadata": {
        "id": "LDM8j_Jk9Kn6",
        "colab": {
          "base_uri": "https://localhost:8080/"
        },
        "outputId": "deb60e6a-fa87-46e4-c2da-2768af3f1c05"
      },
      "source": [
        "df = df.select([when(col(c)==\"\",None).otherwise(col(c)).alias(c) for c in df.columns])\n",
        "\n",
        "print(\"Nulos por columna\")\n",
        "df.select([count(when(isnan(c) | col(c).isNull(), c)).alias(c) for c in df.columns]).show()"
      ],
      "execution_count": 59,
      "outputs": [
        {
          "output_type": "stream",
          "name": "stdout",
          "text": [
            "Nulos por columna\n",
            "+---+-------+-------------------+----+------------+-------+-----+------+-------+---------+------------+\n",
            "|Año|Cirugia|DiagnosticoAgrupado|Edad|Estado_Civil|Estrato|Etnia|Genero|Regimen|Subregion|TipoAtencion|\n",
            "+---+-------+-------------------+----+------------+-------+-----+------+-------+---------+------------+\n",
            "|125|      0|                  0| 125|         125|    125|  125|   125|    125|      125|         125|\n",
            "+---+-------+-------------------+----+------------+-------+-----+------+-------+---------+------------+\n",
            "\n"
          ]
        }
      ]
    },
    {
      "cell_type": "code",
      "metadata": {
        "id": "DUfU-6PWx_Eq"
      },
      "source": [
        "df = df.replace([\"P\",\"M\"],\"Otros\",subset=[\"Estado_Civil\"])"
      ],
      "execution_count": 60,
      "outputs": []
    },
    {
      "cell_type": "code",
      "metadata": {
        "id": "TwdQ4jaL_suz",
        "colab": {
          "base_uri": "https://localhost:8080/"
        },
        "outputId": "a0533d01-541a-4306-8441-b74975ce1b3b"
      },
      "source": [
        "df.groupBy(['Estrato']).count().show(), df.groupBy(['Estado_Civil']).count().show(), df.groupBy(['Genero']).count().show()"
      ],
      "execution_count": 61,
      "outputs": [
        {
          "output_type": "stream",
          "name": "stdout",
          "text": [
            "+---------+-----+\n",
            "|  Estrato|count|\n",
            "+---------+-----+\n",
            "|Estrato 3| 2169|\n",
            "|     null|  125|\n",
            "|Estrato 2| 1983|\n",
            "|Estrato 6|   17|\n",
            "|Estrato 4|  226|\n",
            "|Estrato 0| 5014|\n",
            "|Estrato 1| 4678|\n",
            "|Estrato 5|   40|\n",
            "+---------+-----+\n",
            "\n",
            "+------------+-----+\n",
            "|Estado_Civil|count|\n",
            "+------------+-----+\n",
            "|        null|  125|\n",
            "|       Viudo|  914|\n",
            "|      Casado| 8695|\n",
            "|     Soltero| 3358|\n",
            "| Union Libre|  784|\n",
            "|       Otros|  376|\n",
            "+------------+-----+\n",
            "\n",
            "+------+-----+\n",
            "|Genero|count|\n",
            "+------+-----+\n",
            "|     F| 7784|\n",
            "|  null|  125|\n",
            "|     M| 6343|\n",
            "+------+-----+\n",
            "\n"
          ]
        },
        {
          "output_type": "execute_result",
          "data": {
            "text/plain": [
              "(None, None, None)"
            ]
          },
          "metadata": {},
          "execution_count": 61
        }
      ]
    },
    {
      "cell_type": "code",
      "metadata": {
        "id": "G3c6gssSS2XE",
        "colab": {
          "base_uri": "https://localhost:8080/"
        },
        "outputId": "241c4bb0-f950-4fc7-cf6b-e1284803559c"
      },
      "source": [
        "print(\"\"\"\n",
        ">>>>>>>>>>>> WARNING <<<<<<<<<<<<<\n",
        "ESTADO_CIVIL TIENE VALORES INCOHERENTES\n",
        "\"\"\")"
      ],
      "execution_count": 62,
      "outputs": [
        {
          "output_type": "stream",
          "name": "stdout",
          "text": [
            "\n",
            ">>>>>>>>>>>> WARNING <<<<<<<<<<<<<\n",
            "ESTADO_CIVIL TIENE VALORES INCOHERENTES\n",
            "\n"
          ]
        }
      ]
    },
    {
      "cell_type": "markdown",
      "metadata": {
        "id": "F-njqbnTM2To"
      },
      "source": [
        "Presente aquí el código desarrollado y el resultado obtenido"
      ]
    },
    {
      "cell_type": "markdown",
      "metadata": {
        "id": "HGwierHTLFt3"
      },
      "source": [
        "##**B) Análisis por rango de edad**\n",
        "\n",
        "Identifique las 5 cirugías mas frecuentes para los mayores de 80 años y para los menores de 20 años, indicando la influencia del género para cada grupo de edad "
      ]
    },
    {
      "cell_type": "code",
      "metadata": {
        "id": "SDe9kRi-Ej-l",
        "colab": {
          "base_uri": "https://localhost:8080/"
        },
        "outputId": "0a342432-db69-4bea-d9cb-396bce0adb4a"
      },
      "source": [
        "df.groupBy('Genero').count().show()"
      ],
      "execution_count": 63,
      "outputs": [
        {
          "output_type": "stream",
          "name": "stdout",
          "text": [
            "+------+-----+\n",
            "|Genero|count|\n",
            "+------+-----+\n",
            "|     F| 7784|\n",
            "|  null|  125|\n",
            "|     M| 6343|\n",
            "+------+-----+\n",
            "\n"
          ]
        }
      ]
    },
    {
      "cell_type": "code",
      "metadata": {
        "id": "T3u1kpfT881C",
        "colab": {
          "base_uri": "https://localhost:8080/"
        },
        "outputId": "29e53156-9f25-45a0-9f7e-3ea2cb6063db"
      },
      "source": [
        "def esHombre(x):\n",
        "  return int(x==\"M\")\n",
        "\n",
        "sqlCtx.registerFunction(\"esHombre\",esHombre)\n",
        "df.registerTempTable(\"Pacientes\")\n",
        "\n",
        "q4 = sqlCtx.sql(\"\"\"\n",
        "    SELECT Cirugia,COUNT(*) as conteo, ROUND(AVG(esHombre(Genero))*100,2) AS PorcentajeHombres\n",
        "\t\tFROM Pacientes\n",
        "    WHERE Edad > 80\n",
        "    GROUP BY Cirugia\n",
        "    ORDER BY conteo DESC\n",
        "    LIMIT 5\n",
        "\t\t\"\"\")\n",
        "\n",
        "q4.show(5, truncate=False)"
      ],
      "execution_count": 64,
      "outputs": [
        {
          "output_type": "stream",
          "name": "stdout",
          "text": [
            "+------------------------------------------------------------------------------------------------------------------------+------+-----------------+\n",
            "|Cirugia                                                                                                                 |conteo|PorcentajeHombres|\n",
            "+------------------------------------------------------------------------------------------------------------------------+------+-----------------+\n",
            "|RESECCION DE TUMOR BENIGNO O MALIGNO DE PIEL Y/O TEJIDO CELULAR SUBCUTANEO DE AREA ESPECIAL ENTRE DOS A TRES CENTIMETROS|81    |53.09            |\n",
            "|COLGAJO LOCAL DE PIEL COMPUESTO DE VECINDAD ENTRE CINCO A DIEZ CENTIMETROS CUADRADOS                                    |70    |51.43            |\n",
            "|ANASTOMOSIS DE INTESTINO DELGADO A INTESTINO DELGADO SOD                                                                |59    |69.49            |\n",
            "|RESECCION DE TUMOR MALIGNO  DE PIEL Y/O TEJIDO CELULAR SUBCUTANEO AREA GENERAL CON REPARACION (COLGAJO Y/O INJERTO)     |38    |21.05            |\n",
            "|TRAQUEOSTOMIA SOD                                                                                                       |26    |57.69            |\n",
            "+------------------------------------------------------------------------------------------------------------------------+------+-----------------+\n",
            "\n"
          ]
        }
      ]
    },
    {
      "cell_type": "code",
      "metadata": {
        "id": "RMxanbQD_WE3",
        "colab": {
          "base_uri": "https://localhost:8080/"
        },
        "outputId": "5bb181ed-1d3a-44a9-fa90-d8db15e45857"
      },
      "source": [
        "q = sqlCtx.sql(\"\"\"\n",
        "    SELECT Cirugia,COUNT(*) as conteo, ROUND(AVG(esHombre(Genero))*100,2) AS PorcentajeHombres\n",
        "\t\tFROM Pacientes\n",
        "    WHERE Edad < 20\n",
        "    GROUP BY Cirugia\n",
        "    ORDER BY conteo DESC\n",
        "    LIMIT 5\n",
        "\t\t\"\"\")\n",
        "\n",
        "q.show(5, truncate=False)"
      ],
      "execution_count": 65,
      "outputs": [
        {
          "output_type": "stream",
          "name": "stdout",
          "text": [
            "+----------------------------------------------------------------+------+-----------------+\n",
            "|Cirugia                                                         |conteo|PorcentajeHombres|\n",
            "+----------------------------------------------------------------+------+-----------------+\n",
            "|LAPAROTOMIA EXPLORATORIA SOD                                    |10    |40.0             |\n",
            "|RESECCION DE TUMOR DE LINEA MEDIA SUPRATENTORIAL POR CRANEOTOMIA|9     |55.56            |\n",
            "|LOBECTOMIA POR CRANEOTOMIA SOD                                  |9     |100.0            |\n",
            "|BIOPSIA DE GANGLIO LINFATICO PROFUNDO                           |8     |100.0            |\n",
            "|PLASTIA O INJERTO DE MENINGE ESPINAL                            |7     |42.86            |\n",
            "+----------------------------------------------------------------+------+-----------------+\n",
            "\n"
          ]
        }
      ]
    },
    {
      "cell_type": "markdown",
      "metadata": {
        "id": "WlI7cjLXLdlQ"
      },
      "source": [
        "##**C) Análisis por diagnóstico**\n",
        "\n",
        "Identifique los cinco tipos de diagnóstico más comunes y para ellos presente el promedio de edad por género y Subregión"
      ]
    },
    {
      "cell_type": "code",
      "metadata": {
        "id": "Z7QV8-GBG9uq",
        "colab": {
          "base_uri": "https://localhost:8080/"
        },
        "outputId": "3c00b09d-09b2-408a-ccf0-7d71505b5f44"
      },
      "source": [
        "top5Diag = df.groupBy('DiagnosticoAgrupado')\\\n",
        "         .count()\\\n",
        "         .orderBy('count', ascending=False)\\\n",
        "         .limit(5)\n",
        "\n",
        "top5Diag = top5Diag.select('DiagnosticoAgrupado').rdd.flatMap(lambda x:x).collect()\n",
        "top5Diag"
      ],
      "execution_count": 66,
      "outputs": [
        {
          "output_type": "execute_result",
          "data": {
            "text/plain": [
              "['OTROS TUMORES MALIGNOS DE LA PIEL.',\n",
              " 'TUMOR MALIGNO DEL ESTOMAGO',\n",
              " 'TUMOR MALIGNO DE LA GLANDULA TIROIDES',\n",
              " 'TUMOR MALIGNO DEL COLON',\n",
              " 'TUMOR MALIGNO DE LA MAMA']"
            ]
          },
          "metadata": {},
          "execution_count": 66
        }
      ]
    },
    {
      "cell_type": "code",
      "metadata": {
        "id": "FsIu80YOCE3Y",
        "colab": {
          "base_uri": "https://localhost:8080/"
        },
        "outputId": "4487bfc4-439c-42bc-a6c4-090d3b05b4e1"
      },
      "source": [
        "columns = \"F_avg(CAST(Edad AS BIGINT)),F_count(1),M_avg(CAST(Edad AS BIGINT)),M_count(1)\".split(',')\n",
        "translateTo = \"Edad media mujeres,Num casos mujeres,Edad media hombres,Num casos hombres\".split(',')\n",
        "wrapper = dict(zip(columns,translateTo))\n",
        "\n",
        "expr = \"DiagnosticoAgrupado,Subregion\".split(',')+\\\n",
        "[functions.format_number(col(c),0).alias(wrapper[c]) for c in columns]\n",
        "\n",
        "\n",
        "dfSubEdad = df.filter((~df.Edad.isNull())&(df.DiagnosticoAgrupado.isin(top5Diag)))\\\n",
        "              .groupBy('DiagnosticoAgrupado','Subregion')\\\n",
        "              .pivot('Genero')\\\n",
        "              .agg({'Edad':'avg','*':'count'})\\\n",
        "              .orderBy('DiagnosticoAgrupado','Subregion')\n",
        "  \n",
        "dfSubEdad.select(expr)\\\n",
        "         .fillna('-----')\\\n",
        "         .show(30, truncate=False)"
      ],
      "execution_count": 67,
      "outputs": [
        {
          "output_type": "stream",
          "name": "stdout",
          "text": [
            "+-------------------------------------+------------------+------------------+-----------------+------------------+-----------------+\n",
            "|DiagnosticoAgrupado                  |Subregion         |Edad media mujeres|Num casos mujeres|Edad media hombres|Num casos hombres|\n",
            "+-------------------------------------+------------------+------------------+-----------------+------------------+-----------------+\n",
            "|OTROS TUMORES MALIGNOS DE LA PIEL.   |Alto Occidente    |66                |113              |66                |145              |\n",
            "|OTROS TUMORES MALIGNOS DE LA PIEL.   |Alto Oriente      |82                |8                |60                |58               |\n",
            "|OTROS TUMORES MALIGNOS DE LA PIEL.   |Bajo Occidente    |65                |61               |70                |42               |\n",
            "|OTROS TUMORES MALIGNOS DE LA PIEL.   |Centro Sur        |64                |647              |65                |661              |\n",
            "|OTROS TUMORES MALIGNOS DE LA PIEL.   |Magdalena Caldense|67                |31               |66                |65               |\n",
            "|OTROS TUMORES MALIGNOS DE LA PIEL.   |Norte             |68                |124              |66                |122              |\n",
            "|TUMOR MALIGNO DE LA GLANDULA TIROIDES|Alto Occidente    |46                |82               |52                |8                |\n",
            "|TUMOR MALIGNO DE LA GLANDULA TIROIDES|Alto Oriente      |54                |69               |-----             |-----            |\n",
            "|TUMOR MALIGNO DE LA GLANDULA TIROIDES|Bajo Occidente    |59                |31               |-----             |-----            |\n",
            "|TUMOR MALIGNO DE LA GLANDULA TIROIDES|Centro Sur        |54                |821              |50                |82               |\n",
            "|TUMOR MALIGNO DE LA GLANDULA TIROIDES|Magdalena Caldense|51                |31               |66                |8                |\n",
            "|TUMOR MALIGNO DE LA GLANDULA TIROIDES|Norte             |46                |68               |-----             |-----            |\n",
            "|TUMOR MALIGNO DE LA MAMA             |Alto Occidente    |59                |112              |-----             |-----            |\n",
            "|TUMOR MALIGNO DE LA MAMA             |Alto Oriente      |65                |21               |-----             |-----            |\n",
            "|TUMOR MALIGNO DE LA MAMA             |Bajo Occidente    |59                |47               |-----             |-----            |\n",
            "|TUMOR MALIGNO DE LA MAMA             |Centro Sur        |60                |584              |22                |3                |\n",
            "|TUMOR MALIGNO DE LA MAMA             |Magdalena Caldense|57                |31               |-----             |-----            |\n",
            "|TUMOR MALIGNO DE LA MAMA             |Norte             |47                |68               |-----             |-----            |\n",
            "|TUMOR MALIGNO DEL COLON              |Alto Occidente    |66                |48               |67                |41               |\n",
            "|TUMOR MALIGNO DEL COLON              |Alto Oriente      |65                |11               |68                |16               |\n",
            "|TUMOR MALIGNO DEL COLON              |Bajo Occidente    |34                |9                |-----             |-----            |\n",
            "|TUMOR MALIGNO DEL COLON              |Centro Sur        |62                |408              |64                |333              |\n",
            "|TUMOR MALIGNO DEL COLON              |Magdalena Caldense|57                |41               |59                |66               |\n",
            "|TUMOR MALIGNO DEL COLON              |Norte             |65                |61               |-----             |-----            |\n",
            "|TUMOR MALIGNO DEL ESTOMAGO           |Alto Occidente    |69                |36               |62                |93               |\n",
            "|TUMOR MALIGNO DEL ESTOMAGO           |Alto Oriente      |42                |18               |66                |42               |\n",
            "|TUMOR MALIGNO DEL ESTOMAGO           |Bajo Occidente    |49                |13               |63                |79               |\n",
            "|TUMOR MALIGNO DEL ESTOMAGO           |Centro Sur        |63                |349              |62                |683              |\n",
            "|TUMOR MALIGNO DEL ESTOMAGO           |Magdalena Caldense|70                |24               |65                |52               |\n",
            "|TUMOR MALIGNO DEL ESTOMAGO           |Norte             |57                |45               |64                |31               |\n",
            "+-------------------------------------+------------------+------------------+-----------------+------------------+-----------------+\n",
            "\n"
          ]
        }
      ]
    },
    {
      "cell_type": "markdown",
      "metadata": {
        "id": "pDX41ab4LO7g"
      },
      "source": [
        "##**D) Análisis por estrato y estado civil**\n",
        "\n",
        "Identifique para el total de pacientes, cuáles son los 5 tipos de cirugías más frecuentes. Para cada tipo de cirugía calcule el porcentaje de ocurrencia para las variables estrato y estado civil"
      ]
    },
    {
      "cell_type": "code",
      "metadata": {
        "id": "lh69xRiaJayH"
      },
      "source": [
        "from pyspark.sql.functions import broadcast"
      ],
      "execution_count": 68,
      "outputs": []
    },
    {
      "cell_type": "code",
      "metadata": {
        "id": "gZpk6rSqL412",
        "colab": {
          "base_uri": "https://localhost:8080/"
        },
        "outputId": "113fb74c-53ef-43c0-dc6e-b452170a5708"
      },
      "source": [
        "top5DF = df.groupBy('Cirugia')\\\n",
        "           .count()\\\n",
        "           .orderBy('count', ascending=False)\\\n",
        "           .limit(5)\n",
        "\n",
        "top5 = top5DF.select('Cirugia').rdd.flatMap(lambda x:x).collect()\n",
        "top5 = sc.broadcast(top5)\n",
        "top5.value"
      ],
      "execution_count": 69,
      "outputs": [
        {
          "output_type": "execute_result",
          "data": {
            "text/plain": [
              "['COLGAJO LOCAL DE PIEL COMPUESTO DE VECINDAD ENTRE CINCO A DIEZ CENTIMETROS CUADRADOS',\n",
              " 'TIROIDECTOMIA TOTAL SOD',\n",
              " 'RESECCION DE TUMOR BENIGNO O MALIGNO DE PIEL Y/O TEJIDO CELULAR SUBCUTANEO DE AREA ESPECIAL ENTRE DOS A TRES CENTIMETROS',\n",
              " 'VACIAMIENTO RADICAL SUPRAHIOIDEO DE CUELLO SOD',\n",
              " 'ANASTOMOSIS DE INTESTINO DELGADO A INTESTINO DELGADO SOD']"
            ]
          },
          "metadata": {},
          "execution_count": 69
        }
      ]
    },
    {
      "cell_type": "code",
      "metadata": {
        "id": "I68maoRQPuiv",
        "colab": {
          "base_uri": "https://localhost:8080/"
        },
        "outputId": "0c5ce24a-648a-4424-b12f-9fe1e3198d2f"
      },
      "source": [
        "dfEstrato = df.filter(df.Cirugia.isin(top5.value))\\\n",
        "              .groupBy('Cirugia')\\\n",
        "              .pivot('Estrato')\\\n",
        "              .count()\n",
        "\n",
        "dfJoined = dfEstrato.join(broadcast(top5DF), on='Cirugia')\n",
        "\n",
        "expr = [\"Cirugia\"]+[(functions.format_number(col(c)/col('count')*100,2)).alias(c) for c in dfEstrato.columns[1:]]\n",
        "\n",
        "dfJoined.select(expr)\\\n",
        "        .fillna('-----')\\\n",
        "        .show(truncate=False)"
      ],
      "execution_count": 70,
      "outputs": [
        {
          "output_type": "stream",
          "name": "stdout",
          "text": [
            "+------------------------------------------------------------------------------------------------------------------------+---------+---------+---------+---------+---------+\n",
            "|Cirugia                                                                                                                 |Estrato 0|Estrato 1|Estrato 2|Estrato 3|Estrato 4|\n",
            "+------------------------------------------------------------------------------------------------------------------------+---------+---------+---------+---------+---------+\n",
            "|VACIAMIENTO RADICAL SUPRAHIOIDEO DE CUELLO SOD                                                                          |32.45    |25.72    |11.06    |30.53    |0.24     |\n",
            "|COLGAJO LOCAL DE PIEL COMPUESTO DE VECINDAD ENTRE CINCO A DIEZ CENTIMETROS CUADRADOS                                    |47.50    |23.40    |12.27    |16.26    |0.57     |\n",
            "|ANASTOMOSIS DE INTESTINO DELGADO A INTESTINO DELGADO SOD                                                                |31.67    |42.50    |18.06    |6.11     |1.67     |\n",
            "|RESECCION DE TUMOR BENIGNO O MALIGNO DE PIEL Y/O TEJIDO CELULAR SUBCUTANEO DE AREA ESPECIAL ENTRE DOS A TRES CENTIMETROS|50.11    |22.17    |10.20    |17.52    |-----    |\n",
            "|TIROIDECTOMIA TOTAL SOD                                                                                                 |35.25    |21.34    |13.17    |30.24    |-----    |\n",
            "+------------------------------------------------------------------------------------------------------------------------+---------+---------+---------+---------+---------+\n",
            "\n"
          ]
        }
      ]
    },
    {
      "cell_type": "code",
      "metadata": {
        "id": "g--DMxGPR6AJ",
        "colab": {
          "base_uri": "https://localhost:8080/"
        },
        "outputId": "e0c10255-9b4a-4e08-a157-df9d469da97a"
      },
      "source": [
        "dfEstadoCivil = df.filter(df.Cirugia.isin(top5.value))\\\n",
        "                  .groupBy('Cirugia')\\\n",
        "                  .pivot('Estado_Civil')\\\n",
        "                  .count()\n",
        "\n",
        "dfJoined = dfEstadoCivil.join(broadcast(top5DF), on='Cirugia')\n",
        "\n",
        "expr = [\"Cirugia\"]+[(functions.format_number(col(c)/col('count')*100,2)).alias(c) for c in dfEstadoCivil.columns[1:]]\n",
        "\n",
        "dfJoined.select(expr)\\\n",
        "        .fillna('-----')\\\n",
        "        .show(truncate=False)"
      ],
      "execution_count": 71,
      "outputs": [
        {
          "output_type": "stream",
          "name": "stdout",
          "text": [
            "+------------------------------------------------------------------------------------------------------------------------+------+-----+-------+-----------+-----+\n",
            "|Cirugia                                                                                                                 |Casado|Otros|Soltero|Union Libre|Viudo|\n",
            "+------------------------------------------------------------------------------------------------------------------------+------+-----+-------+-----------+-----+\n",
            "|VACIAMIENTO RADICAL SUPRAHIOIDEO DE CUELLO SOD                                                                          |56.25 |2.88 |28.61  |3.85       |8.41 |\n",
            "|COLGAJO LOCAL DE PIEL COMPUESTO DE VECINDAD ENTRE CINCO A DIEZ CENTIMETROS CUADRADOS                                    |62.48 |1.85 |19.54  |5.14       |10.98|\n",
            "|ANASTOMOSIS DE INTESTINO DELGADO A INTESTINO DELGADO SOD                                                                |69.72 |1.11 |18.06  |2.78       |8.33 |\n",
            "|RESECCION DE TUMOR BENIGNO O MALIGNO DE PIEL Y/O TEJIDO CELULAR SUBCUTANEO DE AREA ESPECIAL ENTRE DOS A TRES CENTIMETROS|68.51 |0.67 |14.19  |4.66       |11.97|\n",
            "|TIROIDECTOMIA TOTAL SOD                                                                                                 |57.14 |1.67 |26.90  |6.31       |7.98 |\n",
            "+------------------------------------------------------------------------------------------------------------------------+------+-----+-------+-----------+-----+\n",
            "\n"
          ]
        }
      ]
    },
    {
      "cell_type": "markdown",
      "metadata": {
        "id": "xWQkDcDZNRVa"
      },
      "source": [
        "Presente aquí el código desarrollado y el resultado obtenido"
      ]
    },
    {
      "cell_type": "markdown",
      "metadata": {
        "id": "T89Y60StLUuh"
      },
      "source": [
        "##**E) Seguimiento de las cirugías en el tiempo**\n",
        "\n",
        "Para los cinco tipos de cirugías más frecuentes, verifique si los casos han aumentado o disminuido en los últimos cinco años.\n",
        "Para cada cirugía presente el promedio de edad de los pacientes por género en cada año"
      ]
    },
    {
      "cell_type": "code",
      "metadata": {
        "id": "Q43gvpg9R7rs",
        "colab": {
          "base_uri": "https://localhost:8080/"
        },
        "outputId": "b4a04f54-6875-4269-cc28-94b89c7e3ac0"
      },
      "source": [
        "df.filter((df.Cirugia.isin(top5.value))&(col('Año')>2013))\\\n",
        "  .groupBy('Cirugia')\\\n",
        "  .pivot('Año')\\\n",
        "  .count()\\\n",
        "  .show(truncate=False)"
      ],
      "execution_count": 72,
      "outputs": [
        {
          "output_type": "stream",
          "name": "stdout",
          "text": [
            "+------------------------------------------------------------------------------------------------------------------------+----+----+----+----+----+\n",
            "|Cirugia                                                                                                                 |2014|2015|2016|2017|2018|\n",
            "+------------------------------------------------------------------------------------------------------------------------+----+----+----+----+----+\n",
            "|VACIAMIENTO RADICAL SUPRAHIOIDEO DE CUELLO SOD                                                                          |26  |63  |72  |72  |81  |\n",
            "|COLGAJO LOCAL DE PIEL COMPUESTO DE VECINDAD ENTRE CINCO A DIEZ CENTIMETROS CUADRADOS                                    |85  |78  |77  |95  |109 |\n",
            "|ANASTOMOSIS DE INTESTINO DELGADO A INTESTINO DELGADO SOD                                                                |34  |36  |9   |29  |12  |\n",
            "|RESECCION DE TUMOR BENIGNO O MALIGNO DE PIEL Y/O TEJIDO CELULAR SUBCUTANEO DE AREA ESPECIAL ENTRE DOS A TRES CENTIMETROS|52  |56  |58  |63  |111 |\n",
            "|TIROIDECTOMIA TOTAL SOD                                                                                                 |40  |78  |87  |75  |105 |\n",
            "+------------------------------------------------------------------------------------------------------------------------+----+----+----+----+----+\n",
            "\n"
          ]
        }
      ]
    },
    {
      "cell_type": "code",
      "metadata": {
        "id": "q5zg8wb9M480",
        "colab": {
          "base_uri": "https://localhost:8080/"
        },
        "outputId": "63393e27-f815-41f0-c60e-16bc612931f9"
      },
      "source": [
        "dfGenYear = df.filter(df.Cirugia.isin(top5.value))\\\n",
        "              .groupBy('Cirugia', 'Genero')\\\n",
        "              .pivot('Año')\\\n",
        "              .agg({'Edad': 'avg'})\\\n",
        "              .orderBy('Cirugia','Genero')\n",
        "\n",
        "\n",
        "expr = [\"Cirugia\", \"Genero\"]+\\\n",
        "       [functions.format_number(col(c),0).alias(c) for c in dfGenYear.columns[2:]]\n",
        "\n",
        "\n",
        "dfGenYear.select(expr)\\\n",
        "         .fillna('-----')\\\n",
        "         .show(truncate=False)"
      ],
      "execution_count": 73,
      "outputs": [
        {
          "output_type": "stream",
          "name": "stdout",
          "text": [
            "+------------------------------------------------------------------------------------------------------------------------+------+-----+-----+-----+----+-----+----+----+-----+----+-----+-----+-----+\n",
            "|Cirugia                                                                                                                 |Genero|2007 |2008 |2009 |2010|2011 |2012|2013|2014 |2015|2016 |2017 |2018 |\n",
            "+------------------------------------------------------------------------------------------------------------------------+------+-----+-----+-----+----+-----+----+----+-----+----+-----+-----+-----+\n",
            "|ANASTOMOSIS DE INTESTINO DELGADO A INTESTINO DELGADO SOD                                                                |F     |61   |63   |62   |46  |-----|58  |65  |68   |64  |81   |50   |71   |\n",
            "|ANASTOMOSIS DE INTESTINO DELGADO A INTESTINO DELGADO SOD                                                                |M     |65   |63   |63   |68  |50   |69  |63  |76   |54  |-----|65   |69   |\n",
            "|COLGAJO LOCAL DE PIEL COMPUESTO DE VECINDAD ENTRE CINCO A DIEZ CENTIMETROS CUADRADOS                                    |F     |-----|-----|51   |70  |73   |66  |63  |60   |59  |63   |62   |65   |\n",
            "|COLGAJO LOCAL DE PIEL COMPUESTO DE VECINDAD ENTRE CINCO A DIEZ CENTIMETROS CUADRADOS                                    |M     |63   |-----|-----|64  |62   |61  |65  |65   |56  |69   |71   |68   |\n",
            "|RESECCION DE TUMOR BENIGNO O MALIGNO DE PIEL Y/O TEJIDO CELULAR SUBCUTANEO DE AREA ESPECIAL ENTRE DOS A TRES CENTIMETROS|F     |78   |85   |80   |74  |-----|74  |66  |67   |58  |63   |66   |70   |\n",
            "|RESECCION DE TUMOR BENIGNO O MALIGNO DE PIEL Y/O TEJIDO CELULAR SUBCUTANEO DE AREA ESPECIAL ENTRE DOS A TRES CENTIMETROS|M     |-----|81   |79   |78  |65   |68  |62  |64   |56  |70   |71   |67   |\n",
            "|TIROIDECTOMIA TOTAL SOD                                                                                                 |F     |44   |63   |60   |55  |53   |54  |52  |54   |52  |50   |50   |47   |\n",
            "|TIROIDECTOMIA TOTAL SOD                                                                                                 |M     |47   |-----|49   |40  |53   |54  |41  |56   |74  |48   |-----|58   |\n",
            "|VACIAMIENTO RADICAL SUPRAHIOIDEO DE CUELLO SOD                                                                          |F     |46   |47   |65   |56  |56   |56  |46  |57   |53  |51   |50   |48   |\n",
            "|VACIAMIENTO RADICAL SUPRAHIOIDEO DE CUELLO SOD                                                                          |M     |-----|-----|49   |72  |-----|51  |29  |-----|74  |41   |-----|-----|\n",
            "+------------------------------------------------------------------------------------------------------------------------+------+-----+-----+-----+----+-----+----+----+-----+----+-----+-----+-----+\n",
            "\n"
          ]
        }
      ]
    },
    {
      "cell_type": "markdown",
      "metadata": {
        "id": "j1LlOYfTNVsn"
      },
      "source": [
        "#**Notas:**\n",
        "\n",
        "* Analice los resultados de cada punto y presente sus conclusiones\n",
        "* Utilice al menos una vez cada uno de los siguientes métodos\n",
        "\n",
        "  *   agg\n",
        "  *   withColumn\n",
        "  *   groupBy\n",
        "  *   sql\n",
        "  *   registerFunction\n",
        "\n"
      ]
    },
    {
      "cell_type": "code",
      "metadata": {
        "id": "iq7JJWcs2aU6",
        "outputId": "0ff99a29-0bde-4c3c-ce1b-dfd8b8c59949",
        "colab": {
          "base_uri": "https://localhost:8080/"
        }
      },
      "source": [
        "def clasificar_edad(x):\n",
        "  if x is None:\n",
        "    return None\n",
        "\n",
        "  if x < 20:\n",
        "    return \"Menor de 20\"\n",
        "  elif (x >= 20) & (x < 30):\n",
        "    return \"20-30\"\n",
        "  elif (x >= 30) & (x < 40):\n",
        "    return \"30-40\"\n",
        "  elif (x >= 40) & (x < 50):\n",
        "    return \"40-50\"\n",
        "  elif (x >= 50) & (x < 60):\n",
        "    return \"50-60\"\n",
        "  elif (x >= 60) & (x < 70):\n",
        "    return \"60-70\"\n",
        "  elif (x >= 70) & (x < 80):\n",
        "    return \"70-80\"\n",
        "  else:\n",
        "    return \"Mayores de 80\"\n",
        "\n",
        "\n",
        "sqlCtx.registerFunction(\"clasificar_edad\",clasificar_edad)\n",
        "df.registerTempTable(\"Pacientes\")\n",
        "\n",
        "qf = sqlCtx.sql(\"\"\"\n",
        "    SELECT clasificar_edad(Edad) as clasi,ROUND(COUNT(*)/(SELECT COUNT(*) FROM Pacientes),2)*100 as conteo\n",
        "\t\tFROM Pacientes\n",
        "    GROUP BY clasi\n",
        "    ORDER BY conteo DESC\n",
        "\t\t\"\"\")\n",
        "\n",
        "qf.show(20, truncate=False)"
      ],
      "execution_count": 88,
      "outputs": [
        {
          "output_type": "stream",
          "name": "stdout",
          "text": [
            "+-------------+------+\n",
            "|clasi        |conteo|\n",
            "+-------------+------+\n",
            "|60-70        |26.0  |\n",
            "|50-60        |23.0  |\n",
            "|70-80        |19.0  |\n",
            "|40-50        |13.0  |\n",
            "|Mayores de 80|8.0   |\n",
            "|30-40        |6.0   |\n",
            "|20-30        |3.0   |\n",
            "|null         |1.0   |\n",
            "|Menor de 20  |1.0   |\n",
            "+-------------+------+\n",
            "\n"
          ]
        }
      ]
    },
    {
      "cell_type": "code",
      "metadata": {
        "id": "cKEKPs8J5Xhh"
      },
      "source": [
        ""
      ],
      "execution_count": null,
      "outputs": []
    }
  ]
}