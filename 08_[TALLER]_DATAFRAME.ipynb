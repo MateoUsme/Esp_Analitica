{
  "nbformat": 4,
  "nbformat_minor": 0,
  "metadata": {
    "colab": {
      "name": "08 - [TALLER] - DATAFRAME.ipynb",
      "provenance": [],
      "collapsed_sections": [],
      "toc_visible": true
    },
    "kernelspec": {
      "name": "python3",
      "display_name": "Python 3"
    }
  },
  "cells": [
    {
      "cell_type": "code",
      "metadata": {
        "id": "Z7rbDx_-JApm"
      },
      "source": [
        "!wget --no-cache -O init.py -q https://raw.githubusercontent.com/UDEA-Esp-Analitica-y-Ciencia-de-Datos/EACD-03-BIGDATA/master/init.py\n",
        "import init; init.init(force_download=False); \n",
        "from IPython.display import Image"
      ],
      "execution_count": 1,
      "outputs": []
    },
    {
      "cell_type": "code",
      "metadata": {
        "id": "hDzn_xcpJRWR",
        "outputId": "8c3a1c98-6cdc-423e-9390-9861fb09b576",
        "colab": {
          "base_uri": "https://localhost:8080/",
          "height": 251
        }
      },
      "source": [
        "Image(\"local/imgs/udea-datascience.png\")"
      ],
      "execution_count": 2,
      "outputs": [
        {
          "output_type": "execute_result",
          "data": {
            "image/png": "[encoded data removed]",
            "text/plain": [
              "<IPython.core.display.Image object>"
            ]
          },
          "metadata": {},
          "execution_count": 2
        }
      ]
    },
    {
      "cell_type": "code",
      "metadata": {
        "id": "vn53Mwxqze4U"
      },
      "source": [
        "#Instalación\n",
        "!apt-get install openjdk-11-jdk-headless -qq > /dev/null\n",
        "!wget -q http://archive.apache.org/dist/spark/spark-3.0.1/spark-3.0.1-bin-hadoop3.2.tgz\n",
        "!tar xf spark-3.0.1-bin-hadoop3.2.tgz \n",
        "!pip install -q findspark\n",
        "\n",
        "#Variables de Entorno\n",
        "import os\n",
        "os.environ[\"JAVA_HOME\"] = \"/usr/lib/jvm/java-11-openjdk-amd64\"\n",
        "os.environ[\"SPARK_HOME\"] = \"/content/spark-3.0.1-bin-hadoop3.2\"\n",
        "\n",
        "#SparkContext\n",
        "import findspark\n",
        "findspark.init()\n",
        "from pyspark.sql import SparkSession\n",
        "from pyspark import SparkContext\n",
        "spark = SparkSession.builder.master(\"local[*]\").getOrCreate()\n",
        "sc = SparkContext.getOrCreate()"
      ],
      "execution_count": 3,
      "outputs": []
    },
    {
      "cell_type": "markdown",
      "metadata": {
        "id": "myHD-jFLKEal"
      },
      "source": [
        "# **TALLER 3: DATAFRAME**\n",
        "## Desarrollado por: Mg. Efraín Alberto Oviedo\n",
        "## Universidad de Antioquia"
      ]
    },
    {
      "cell_type": "markdown",
      "metadata": {
        "id": "4GK6iJ1CKS8o"
      },
      "source": [
        "Por favor, ingrese la siguiente información:\n",
        "\n",
        "**Nombre Completo:**\n",
        "\n",
        "**Cédula:**\n",
        "\n",
        "**Correo Institucional:**\n",
        "\n",
        "**Nombre Completo:**\n",
        "\n",
        "**Cédula:**\n",
        "\n",
        "**Correo Institucional:**\n",
        "\n",
        "**Nombre Completo:**\n",
        "\n",
        "**Cédula:**\n",
        "\n",
        "**Correo Institucional:**\n",
        "\n",
        "**Nombre Completo:**\n",
        "\n",
        "**Cédula:**\n",
        "\n",
        "**Correo Institucional:**"
      ]
    },
    {
      "cell_type": "markdown",
      "metadata": {
        "id": "UlYY1g0lKhz_"
      },
      "source": [
        "#**Pacientes sometidos a cirugías por tumores malignos**\n",
        "\n",
        "Se dispone de un conjunto de datos (pacientes.json) que contiene datos socio demográficos de pacientes que fueron sometidos a procedimientos quirúrgicos durante los años 2007 a 2018 y cuyos Códigos Internacionales de Enfermedades (CIE-10) correspondía a tumores malignos. Tomado de: https://www.datos.gov.co/Salud-y-Protecci-n-Social/Perfil-socio-demogr-fico-pacientes-sometidos-a-cir/i45c-f4fs\n",
        "\n",
        "\n",
        "Por cada paciente, se dispone de los siguientes atributos:\n",
        " \n",
        "* DiagnosticoAgrupado: Nombre del Grupo de Diagnóstico Agrupado\n",
        "* Cirugia: Descripción del Procedimiento Quirúrgico\n",
        "* TipoAtencion: Tipo de atención que generó el procedimiento (Urgencia-Programada)\n",
        "* Edad: Edad en años del paciente\n",
        "* Subregion: Subregión del departamento de la cual proviene el paciente\n",
        "* Regimen: Régimen de salud al cual pertenecía el paciente al momento del procedimiento\n",
        "* Genero: Genero del paciente\n",
        "* Estado_Civil: Estado civil del paciente al momento del procedimiento quirúrgico\n",
        "* Etnia: Etnia a la cual pertenecía el paciente al momento del procedimiento quirúrgico\n",
        "* Estrato: Nivel socio económico del paciente al momento del procedimiento quirúrgico\n",
        "* Año en el cual fue realizado el procedimiento quirúrgico\n",
        "\n",
        "Se requiere de su apoyo para comprender el comportamiento de esta enfermedad, respondiendo las siguientes inquietudes:\n",
        "\n"
      ]
    },
    {
      "cell_type": "markdown",
      "metadata": {
        "id": "GAyH6mgGK3VA"
      },
      "source": [
        "##**A) Calidad de datos**\n",
        "\n",
        "Revise cada una de las variables disponibles y solucione los posibles problemas presentes respecto a registros nulos y atípicos.\n",
        "\n",
        "Analice el tipo de dato utilizado para cada variable y realice los ajustes que considere necesarios para optimizar el almacenamiento\n",
        "\n",
        "Justificando las decisiones tomadas en cada caso "
      ]
    },
    {
      "cell_type": "code",
      "metadata": {
        "id": "FwAndvQRz-GZ"
      },
      "source": [
        "from pyspark.sql import SQLContext\n",
        "from pyspark.sql.types import *\n",
        "from pyspark.sql import functions\n",
        "from pyspark.sql.functions import isnan, when, count, col, col, countDistinct, trim\n",
        "sqlCtx = SQLContext(sc)"
      ],
      "execution_count": 4,
      "outputs": []
    },
    {
      "cell_type": "code",
      "metadata": {
        "id": "H4j93oAhz_GY"
      },
      "source": [
        "raw = sqlCtx.read.json('local/data/pacientes.json')"
      ],
      "execution_count": 5,
      "outputs": []
    },
    {
      "cell_type": "code",
      "metadata": {
        "id": "QXzhOMjSz_O8",
        "outputId": "b671bb1a-275e-4bd5-8616-1b1a8c9ee6bc",
        "colab": {
          "base_uri": "https://localhost:8080/"
        }
      },
      "source": [
        "print('No. Registros', raw.count())\n",
        "raw.printSchema()\n",
        "raw.show(2)"
      ],
      "execution_count": 6,
      "outputs": [
        {
          "output_type": "stream",
          "name": "stdout",
          "text": [
            "No. Registros 14252\n",
            "root\n",
            " |-- Año: long (nullable = true)\n",
            " |-- Cirugia: string (nullable = true)\n",
            " |-- DiagnosticoAgrupado: string (nullable = true)\n",
            " |-- Edad: long (nullable = true)\n",
            " |-- Estado_Civil: string (nullable = true)\n",
            " |-- Estrato: string (nullable = true)\n",
            " |-- Etnia: string (nullable = true)\n",
            " |-- Genero: string (nullable = true)\n",
            " |-- Regimen: string (nullable = true)\n",
            " |-- Subregion: string (nullable = true)\n",
            " |-- TipoAtencion: string (nullable = true)\n",
            "\n",
            "+----+-----------------+--------------------+----+------------+---------+--------+------+----------+----------+------------+\n",
            "| Año|          Cirugia| DiagnosticoAgrupado|Edad|Estado_Civil|  Estrato|   Etnia|Genero|   Regimen| Subregion|TipoAtencion|\n",
            "+----+-----------------+--------------------+----+------------+---------+--------+------+----------+----------+------------+\n",
            "|2007|TRAQUEOSTOMIA SOD|CARCINOMA IN SITU...|  77|      Casado|Estrato 4|Indigena|     M|PARTICULAR|Centro Sur|    Urgencia|\n",
            "|2007|TRAQUEOSTOMIA SOD|CARCINOMA IN SITU...|  77|      Casado|Estrato 4|Indigena|     M|PARTICULAR|Centro Sur|    Urgencia|\n",
            "+----+-----------------+--------------------+----+------------+---------+--------+------+----------+----------+------------+\n",
            "only showing top 2 rows\n",
            "\n"
          ]
        }
      ]
    },
    {
      "cell_type": "code",
      "metadata": {
        "id": "u3t4Vmcc0ok-"
      },
      "source": [
        "schema = StructType()\\\n",
        "      .add(\"Año\",ShortType(),True) \\\n",
        "      .add(\"Cirugia\",StringType(),True) \\\n",
        "      .add(\"DiagnosticoAgrupado\",StringType(),True) \\\n",
        "      .add(\"Edad\",ByteType(),True) \\\n",
        "      .add(\"Estado_Civil\",StringType(),True) \\\n",
        "      .add(\"Estrato\",StringType(),True) \\\n",
        "      .add(\"Etnia\", StringType(),True) \\\n",
        "      .add(\"Genero\", StringType(),True) \\\n",
        "      .add(\"Regimen\", StringType(),True) \\\n",
        "      .add(\"Subregion\", StringType(),True) \\\n",
        "      .add(\"TipoAtencion\",StringType(),True)"
      ],
      "execution_count": 7,
      "outputs": []
    },
    {
      "cell_type": "code",
      "metadata": {
        "id": "EysHMC_C2xyy",
        "outputId": "fe3a6295-323e-401b-c130-29e408f49ac1",
        "colab": {
          "base_uri": "https://localhost:8080/"
        }
      },
      "source": [
        "df = sqlCtx.read.json('local/data/pacientes.json',schema)\n",
        "df = df.withColumn('Cirugia', trim(df.Cirugia))\n",
        "df = df.withColumn('DiagnosticoAgrupado', trim(df.DiagnosticoAgrupado))\n",
        "df = df.withColumn('Estrato', trim(df.Estrato))\n",
        "df = df.withColumn('Etnia', trim(df.Etnia))\n",
        "df = df.withColumn('Regimen', trim(df.Regimen))\n",
        "df.printSchema()\n",
        "df.show(4)"
      ],
      "execution_count": 8,
      "outputs": [
        {
          "output_type": "stream",
          "name": "stdout",
          "text": [
            "root\n",
            " |-- Año: short (nullable = true)\n",
            " |-- Cirugia: string (nullable = true)\n",
            " |-- DiagnosticoAgrupado: string (nullable = true)\n",
            " |-- Edad: byte (nullable = true)\n",
            " |-- Estado_Civil: string (nullable = true)\n",
            " |-- Estrato: string (nullable = true)\n",
            " |-- Etnia: string (nullable = true)\n",
            " |-- Genero: string (nullable = true)\n",
            " |-- Regimen: string (nullable = true)\n",
            " |-- Subregion: string (nullable = true)\n",
            " |-- TipoAtencion: string (nullable = true)\n",
            "\n",
            "+----+--------------------+--------------------+----+------------+---------+--------+------+----------+----------+------------+\n",
            "| Año|             Cirugia| DiagnosticoAgrupado|Edad|Estado_Civil|  Estrato|   Etnia|Genero|   Regimen| Subregion|TipoAtencion|\n",
            "+----+--------------------+--------------------+----+------------+---------+--------+------+----------+----------+------------+\n",
            "|2007|   TRAQUEOSTOMIA SOD|CARCINOMA IN SITU...|  77|      Casado|Estrato 4|Indigena|     M|PARTICULAR|Centro Sur|    Urgencia|\n",
            "|2007|   TRAQUEOSTOMIA SOD|CARCINOMA IN SITU...|  77|      Casado|Estrato 4|Indigena|     M|PARTICULAR|Centro Sur|    Urgencia|\n",
            "|2007|MICROENDOSCOPIA L...|CARCINOMA IN SITU...|  77|      Casado|Estrato 4|Indigena|     M|PARTICULAR|Centro Sur|    Urgencia|\n",
            "|2007|MICROENDOSCOPIA L...|CARCINOMA IN SITU...|  77|      Casado|Estrato 4| Ninguna|     M|PARTICULAR|Centro Sur|    Urgencia|\n",
            "+----+--------------------+--------------------+----+------------+---------+--------+------+----------+----------+------------+\n",
            "only showing top 4 rows\n",
            "\n"
          ]
        }
      ]
    },
    {
      "cell_type": "code",
      "metadata": {
        "id": "tp91DdGv7Nwt",
        "outputId": "24ff14fb-fe14-41bd-d10d-d0fc12b76419",
        "colab": {
          "base_uri": "https://localhost:8080/"
        }
      },
      "source": [
        "df.agg(*(countDistinct(col(c)).alias(c) for c in df.columns)).show()"
      ],
      "execution_count": 9,
      "outputs": [
        {
          "output_type": "stream",
          "name": "stdout",
          "text": [
            "+---+-------+-------------------+----+------------+-------+-----+------+-------+---------+------------+\n",
            "|Año|Cirugia|DiagnosticoAgrupado|Edad|Estado_Civil|Estrato|Etnia|Genero|Regimen|Subregion|TipoAtencion|\n",
            "+---+-------+-------------------+----+------------+-------+-----+------+-------+---------+------------+\n",
            "| 12|    675|                 82|  82|           7|      8|    3|     3|      6|        7|           3|\n",
            "+---+-------+-------------------+----+------------+-------+-----+------+-------+---------+------------+\n",
            "\n"
          ]
        }
      ]
    },
    {
      "cell_type": "code",
      "metadata": {
        "id": "ZhLNu0Ii5gS6",
        "outputId": "71e44a9a-951b-49b2-ba83-692db8ed231e",
        "colab": {
          "base_uri": "https://localhost:8080/"
        }
      },
      "source": [
        "df.describe(['Edad', 'Año']).show()"
      ],
      "execution_count": 10,
      "outputs": [
        {
          "output_type": "stream",
          "name": "stdout",
          "text": [
            "+-------+------------------+------------------+\n",
            "|summary|              Edad|               Año|\n",
            "+-------+------------------+------------------+\n",
            "|  count|             14127|             14127|\n",
            "|   mean|59.667232958165215|2012.7959934876478|\n",
            "| stddev|14.969170881821189| 3.419593306182815|\n",
            "|    min|                10|              2007|\n",
            "|    max|                95|              2018|\n",
            "+-------+------------------+------------------+\n",
            "\n"
          ]
        }
      ]
    },
    {
      "cell_type": "code",
      "metadata": {
        "id": "LDM8j_Jk9Kn6",
        "outputId": "d7b3aebf-8e3a-4f5f-81c2-fc7c4a4b282d",
        "colab": {
          "base_uri": "https://localhost:8080/"
        }
      },
      "source": [
        "df = df.select([when(col(c)==\"\",None).otherwise(col(c)).alias(c) for c in df.columns])\n",
        "df.select([count(when(isnan(c) | col(c).isNull(), c)).alias(c) for c in df.columns]).show()"
      ],
      "execution_count": 11,
      "outputs": [
        {
          "output_type": "stream",
          "name": "stdout",
          "text": [
            "+---+-------+-------------------+----+------------+-------+-----+------+-------+---------+------------+\n",
            "|Año|Cirugia|DiagnosticoAgrupado|Edad|Estado_Civil|Estrato|Etnia|Genero|Regimen|Subregion|TipoAtencion|\n",
            "+---+-------+-------------------+----+------------+-------+-----+------+-------+---------+------------+\n",
            "|125|      0|                  0| 125|         125|    125|  125|   125|    125|      125|         125|\n",
            "+---+-------+-------------------+----+------------+-------+-----+------+-------+---------+------------+\n",
            "\n"
          ]
        }
      ]
    },
    {
      "cell_type": "code",
      "metadata": {
        "id": "HdYQlEmc-J5N",
        "outputId": "19517f4f-0446-4dc5-f040-7bfedfeecc54",
        "colab": {
          "base_uri": "https://localhost:8080/"
        }
      },
      "source": [
        "df.summary(\"count\", \"min\", \"25%\", \"mean\", \"50%\", \"75%\", \"max\").show()"
      ],
      "execution_count": 12,
      "outputs": [
        {
          "output_type": "stream",
          "name": "stdout",
          "text": [
            "+-------+------------------+--------------------+--------------------+------------------+------------+---------+--------+------+------------+--------------+------------+\n",
            "|summary|               Año|             Cirugia| DiagnosticoAgrupado|              Edad|Estado_Civil|  Estrato|   Etnia|Genero|     Regimen|     Subregion|TipoAtencion|\n",
            "+-------+------------------+--------------------+--------------------+------------------+------------+---------+--------+------+------------+--------------+------------+\n",
            "|  count|             14127|               14252|               14252|             14127|       14127|    14127|   14127| 14127|       14127|         14127|       14127|\n",
            "|    min|              2007|ADENOAMIGDALECTOM...|CARCINOMA IN SITU...|                10|      Casado|Estrato 0|Indigena|     F|CONTRIBUTIVO|Alto Occidente|  Programada|\n",
            "|    25%|              2010|                null|                null|                50|        null|     null|    null|  null|        null|          null|        null|\n",
            "|   mean|2012.7959934876478|                null|                null|59.667232958165215|        null|     null|    null|  null|        null|          null|        null|\n",
            "|    50%|              2013|                null|                null|                61|        null|     null|    null|  null|        null|          null|        null|\n",
            "|    75%|              2016|                null|                null|                71|        null|     null|    null|  null|        null|          null|        null|\n",
            "|    max|              2018|        YEYUNOSTOMIA|TUMORES MALIGNOS ...|                95|       Viudo|Estrato 6| Ninguna|     M|   VINCULADO|         Norte|    Urgencia|\n",
            "+-------+------------------+--------------------+--------------------+------------------+------------+---------+--------+------+------------+--------------+------------+\n",
            "\n"
          ]
        }
      ]
    },
    {
      "cell_type": "code",
      "metadata": {
        "id": "TwdQ4jaL_suz",
        "outputId": "89fe617b-8cae-473e-98b9-61372741ee40",
        "colab": {
          "base_uri": "https://localhost:8080/"
        }
      },
      "source": [
        "df.select(['Estrato']).distinct().show()"
      ],
      "execution_count": 13,
      "outputs": [
        {
          "output_type": "stream",
          "name": "stdout",
          "text": [
            "+---------+\n",
            "|  Estrato|\n",
            "+---------+\n",
            "|Estrato 3|\n",
            "|     null|\n",
            "|Estrato 2|\n",
            "|Estrato 6|\n",
            "|Estrato 4|\n",
            "|Estrato 0|\n",
            "|Estrato 1|\n",
            "|Estrato 5|\n",
            "+---------+\n",
            "\n"
          ]
        }
      ]
    },
    {
      "cell_type": "markdown",
      "metadata": {
        "id": "F-njqbnTM2To"
      },
      "source": [
        "Presente aquí el código desarrollado y el resultado obtenido"
      ]
    },
    {
      "cell_type": "markdown",
      "metadata": {
        "id": "HGwierHTLFt3"
      },
      "source": [
        "##**B) Análisis por rango de edad**\n",
        "\n",
        "Identifique las 5 cirugías mas frecuentes para los mayores de 80 años y para los menores de 20 años, indicando la influencia del género para cada grupo de edad "
      ]
    },
    {
      "cell_type": "code",
      "metadata": {
        "id": "SDe9kRi-Ej-l",
        "outputId": "7b8b875f-aa20-40c0-a4b6-11c6d2e4e095",
        "colab": {
          "base_uri": "https://localhost:8080/"
        }
      },
      "source": [
        "df.groupBy('Genero').count().show()"
      ],
      "execution_count": 14,
      "outputs": [
        {
          "output_type": "stream",
          "name": "stdout",
          "text": [
            "+------+-----+\n",
            "|Genero|count|\n",
            "+------+-----+\n",
            "|     F| 7784|\n",
            "|  null|  125|\n",
            "|     M| 6343|\n",
            "+------+-----+\n",
            "\n"
          ]
        }
      ]
    },
    {
      "cell_type": "code",
      "metadata": {
        "id": "SHYyU_eb_aii",
        "outputId": "51fe4014-0418-442e-deff-4279c226908d",
        "colab": {
          "base_uri": "https://localhost:8080/"
        }
      },
      "source": [
        "df.filter((df.Edad>80)|(df.Genero=='M')).groupBy('Cirugia', 'Genero').count().orderBy('count', ascending=False).show(5, truncate=False)\n",
        "df.filter((df.Edad>80)|(df.Genero=='F')).groupBy('Cirugia', 'Genero').count().orderBy('count', ascending=False).show(5, truncate=False)"
      ],
      "execution_count": 15,
      "outputs": [
        {
          "output_type": "stream",
          "name": "stdout",
          "text": [
            "+------------------------------------------------------------------------------------------------------------------------+------+-----+\n",
            "|Cirugia                                                                                                                 |Genero|count|\n",
            "+------------------------------------------------------------------------------------------------------------------------+------+-----+\n",
            "|COLGAJO LOCAL DE PIEL COMPUESTO DE VECINDAD ENTRE CINCO A DIEZ CENTIMETROS CUADRADOS                                    |M     |249  |\n",
            "|RESECCION DE TUMOR BENIGNO O MALIGNO DE PIEL Y/O TEJIDO CELULAR SUBCUTANEO DE AREA ESPECIAL ENTRE DOS A TRES CENTIMETROS|M     |230  |\n",
            "|ANASTOMOSIS DE INTESTINO DELGADO A INTESTINO DELGADO SOD                                                                |M     |224  |\n",
            "|GASTRECTOMIA TOTAL CON INTERPOSICION INTESTINAL SOD                                                                     |M     |180  |\n",
            "|RESECCION DE TUMOR MALIGNO  DE PIEL Y/O TEJIDO CELULAR SUBCUTANEO AREA GENERAL CON REPARACION (COLGAJO Y/O INJERTO)     |M     |136  |\n",
            "+------------------------------------------------------------------------------------------------------------------------+------+-----+\n",
            "only showing top 5 rows\n",
            "\n",
            "+------------------------------------------------------------------------------------------------------------------------+------+-----+\n",
            "|Cirugia                                                                                                                 |Genero|count|\n",
            "+------------------------------------------------------------------------------------------------------------------------+------+-----+\n",
            "|TIROIDECTOMIA TOTAL SOD                                                                                                 |F     |490  |\n",
            "|COLGAJO LOCAL DE PIEL COMPUESTO DE VECINDAD ENTRE CINCO A DIEZ CENTIMETROS CUADRADOS                                    |F     |452  |\n",
            "|VACIAMIENTO RADICAL SUPRAHIOIDEO DE CUELLO SOD                                                                          |F     |386  |\n",
            "|RESECCION DE TUMOR BENIGNO O MALIGNO DE PIEL Y/O TEJIDO CELULAR SUBCUTANEO DE AREA ESPECIAL ENTRE DOS A TRES CENTIMETROS|F     |221  |\n",
            "|VACIAMIENTO RADICAL LINFATICO AXILAR SOD                                                                                |F     |213  |\n",
            "+------------------------------------------------------------------------------------------------------------------------+------+-----+\n",
            "only showing top 5 rows\n",
            "\n"
          ]
        }
      ]
    },
    {
      "cell_type": "code",
      "metadata": {
        "id": "j3b3oT3g_aO-",
        "outputId": "5fd54e09-cc6b-45c8-b1e3-859396991462",
        "colab": {
          "base_uri": "https://localhost:8080/"
        }
      },
      "source": [
        "df.filter((df.Edad<20)|(df.Genero=='M')).groupBy('Cirugia', 'Genero').count().orderBy('count', ascending=False).show(5, truncate=False)\n",
        "df.filter((df.Edad<20)|(df.Genero=='F')).groupBy('Cirugia', 'Genero').count().orderBy('count', ascending=False).show(5, truncate=False)"
      ],
      "execution_count": 16,
      "outputs": [
        {
          "output_type": "stream",
          "name": "stdout",
          "text": [
            "+------------------------------------------------------------------------------------------------------------------------+------+-----+\n",
            "|Cirugia                                                                                                                 |Genero|count|\n",
            "+------------------------------------------------------------------------------------------------------------------------+------+-----+\n",
            "|COLGAJO LOCAL DE PIEL COMPUESTO DE VECINDAD ENTRE CINCO A DIEZ CENTIMETROS CUADRADOS                                    |M     |249  |\n",
            "|RESECCION DE TUMOR BENIGNO O MALIGNO DE PIEL Y/O TEJIDO CELULAR SUBCUTANEO DE AREA ESPECIAL ENTRE DOS A TRES CENTIMETROS|M     |230  |\n",
            "|ANASTOMOSIS DE INTESTINO DELGADO A INTESTINO DELGADO SOD                                                                |M     |224  |\n",
            "|GASTRECTOMIA TOTAL CON INTERPOSICION INTESTINAL SOD                                                                     |M     |180  |\n",
            "|RESECCION DE TUMOR MALIGNO  DE PIEL Y/O TEJIDO CELULAR SUBCUTANEO AREA GENERAL CON REPARACION (COLGAJO Y/O INJERTO)     |M     |136  |\n",
            "+------------------------------------------------------------------------------------------------------------------------+------+-----+\n",
            "only showing top 5 rows\n",
            "\n",
            "+------------------------------------------------------------------------------------------------------------------------+------+-----+\n",
            "|Cirugia                                                                                                                 |Genero|count|\n",
            "+------------------------------------------------------------------------------------------------------------------------+------+-----+\n",
            "|TIROIDECTOMIA TOTAL SOD                                                                                                 |F     |490  |\n",
            "|COLGAJO LOCAL DE PIEL COMPUESTO DE VECINDAD ENTRE CINCO A DIEZ CENTIMETROS CUADRADOS                                    |F     |452  |\n",
            "|VACIAMIENTO RADICAL SUPRAHIOIDEO DE CUELLO SOD                                                                          |F     |386  |\n",
            "|RESECCION DE TUMOR BENIGNO O MALIGNO DE PIEL Y/O TEJIDO CELULAR SUBCUTANEO DE AREA ESPECIAL ENTRE DOS A TRES CENTIMETROS|F     |221  |\n",
            "|VACIAMIENTO RADICAL LINFATICO AXILAR SOD                                                                                |F     |213  |\n",
            "+------------------------------------------------------------------------------------------------------------------------+------+-----+\n",
            "only showing top 5 rows\n",
            "\n"
          ]
        }
      ]
    },
    {
      "cell_type": "markdown",
      "metadata": {
        "id": "WlI7cjLXLdlQ"
      },
      "source": [
        "##**C) Análisis por diagnóstico**\n",
        "\n",
        "Identifique los cinco tipos de diagnóstico más comunes y para ellos presente el promedio de edad por género y Subregión"
      ]
    },
    {
      "cell_type": "code",
      "metadata": {
        "id": "Z7QV8-GBG9uq",
        "outputId": "d4e4ea6d-1e61-423a-91dd-66a5595a03ed",
        "colab": {
          "base_uri": "https://localhost:8080/"
        }
      },
      "source": [
        "top5 = df.groupBy('DiagnosticoAgrupado')\\\n",
        "         .count()\\\n",
        "         .orderBy('count', ascending=False)\\\n",
        "         .take(5)\n",
        "top5 = [top5[i].DiagnosticoAgrupado for i in range(len(top5))]\n",
        "top5"
      ],
      "execution_count": 17,
      "outputs": [
        {
          "output_type": "execute_result",
          "data": {
            "text/plain": [
              "['OTROS TUMORES MALIGNOS DE LA PIEL.',\n",
              " 'TUMOR MALIGNO DEL ESTOMAGO',\n",
              " 'TUMOR MALIGNO DE LA GLANDULA TIROIDES',\n",
              " 'TUMOR MALIGNO DEL COLON',\n",
              " 'TUMOR MALIGNO DE LA MAMA']"
            ]
          },
          "metadata": {},
          "execution_count": 17
        }
      ]
    },
    {
      "cell_type": "code",
      "metadata": {
        "id": "FsIu80YOCE3Y",
        "outputId": "9ee040e1-c7fe-487a-97d3-67b09486ad78",
        "colab": {
          "base_uri": "https://localhost:8080/"
        }
      },
      "source": [
        "df.filter((~df.Edad.isNull())&(df.DiagnosticoAgrupado.isin(top5)))\\\n",
        "  .groupBy('DiagnosticoAgrupado','Subregion')\\\n",
        "  .pivot('Genero')\\\n",
        "  .agg({'Edad':'avg'})\\\n",
        "  .orderBy('DiagnosticoAgrupado','Subregion')\\\n",
        "  .show(30, truncate=False)"
      ],
      "execution_count": 18,
      "outputs": [
        {
          "output_type": "stream",
          "name": "stdout",
          "text": [
            "+-------------------------------------+------------------+------------------+------------------+\n",
            "|DiagnosticoAgrupado                  |Subregion         |F                 |M                 |\n",
            "+-------------------------------------+------------------+------------------+------------------+\n",
            "|OTROS TUMORES MALIGNOS DE LA PIEL.   |Alto Occidente    |66.01769911504425 |66.35862068965517 |\n",
            "|OTROS TUMORES MALIGNOS DE LA PIEL.   |Alto Oriente      |82.0              |59.63793103448276 |\n",
            "|OTROS TUMORES MALIGNOS DE LA PIEL.   |Bajo Occidente    |65.26229508196721 |69.57142857142857 |\n",
            "|OTROS TUMORES MALIGNOS DE LA PIEL.   |Centro Sur        |64.08191653786707 |65.04841149773071 |\n",
            "|OTROS TUMORES MALIGNOS DE LA PIEL.   |Magdalena Caldense|67.06451612903226 |65.83076923076923 |\n",
            "|OTROS TUMORES MALIGNOS DE LA PIEL.   |Norte             |67.71774193548387 |66.3360655737705  |\n",
            "|TUMOR MALIGNO DE LA GLANDULA TIROIDES|Alto Occidente    |46.0609756097561  |52.125            |\n",
            "|TUMOR MALIGNO DE LA GLANDULA TIROIDES|Alto Oriente      |53.608695652173914|null              |\n",
            "|TUMOR MALIGNO DE LA GLANDULA TIROIDES|Bajo Occidente    |59.16129032258065 |null              |\n",
            "|TUMOR MALIGNO DE LA GLANDULA TIROIDES|Centro Sur        |54.30328867235079 |50.207317073170735|\n",
            "|TUMOR MALIGNO DE LA GLANDULA TIROIDES|Magdalena Caldense|51.225806451612904|65.5              |\n",
            "|TUMOR MALIGNO DE LA GLANDULA TIROIDES|Norte             |46.5              |null              |\n",
            "|TUMOR MALIGNO DE LA MAMA             |Alto Occidente    |58.75892857142857 |null              |\n",
            "|TUMOR MALIGNO DE LA MAMA             |Alto Oriente      |64.66666666666667 |null              |\n",
            "|TUMOR MALIGNO DE LA MAMA             |Bajo Occidente    |58.87234042553192 |null              |\n",
            "|TUMOR MALIGNO DE LA MAMA             |Centro Sur        |59.58390410958904 |22.0              |\n",
            "|TUMOR MALIGNO DE LA MAMA             |Magdalena Caldense|57.32258064516129 |null              |\n",
            "|TUMOR MALIGNO DE LA MAMA             |Norte             |46.544117647058826|null              |\n",
            "|TUMOR MALIGNO DEL COLON              |Alto Occidente    |65.8125           |66.65853658536585 |\n",
            "|TUMOR MALIGNO DEL COLON              |Alto Oriente      |65.0              |67.5              |\n",
            "|TUMOR MALIGNO DEL COLON              |Bajo Occidente    |34.0              |null              |\n",
            "|TUMOR MALIGNO DEL COLON              |Centro Sur        |61.65196078431372 |63.78378378378378 |\n",
            "|TUMOR MALIGNO DEL COLON              |Magdalena Caldense|57.170731707317074|59.36363636363637 |\n",
            "|TUMOR MALIGNO DEL COLON              |Norte             |64.8360655737705  |null              |\n",
            "|TUMOR MALIGNO DEL ESTOMAGO           |Alto Occidente    |69.16666666666667 |62.41935483870968 |\n",
            "|TUMOR MALIGNO DEL ESTOMAGO           |Alto Oriente      |42.166666666666664|66.21428571428571 |\n",
            "|TUMOR MALIGNO DEL ESTOMAGO           |Bajo Occidente    |49.15384615384615 |62.51898734177215 |\n",
            "|TUMOR MALIGNO DEL ESTOMAGO           |Centro Sur        |63.022922636103154|62.06734992679356 |\n",
            "|TUMOR MALIGNO DEL ESTOMAGO           |Magdalena Caldense|70.0              |65.46153846153847 |\n",
            "|TUMOR MALIGNO DEL ESTOMAGO           |Norte             |56.53333333333333 |64.2258064516129  |\n",
            "+-------------------------------------+------------------+------------------+------------------+\n",
            "\n"
          ]
        }
      ]
    },
    {
      "cell_type": "markdown",
      "metadata": {
        "id": "pDX41ab4LO7g"
      },
      "source": [
        "##**D) Análisis por estrato y estado civil**\n",
        "\n",
        "Identifique para el total de pacientes, cuáles son los 5 tipos de cirugías más frecuentes. Para cada tipo de cirugía calcule el porcentaje de ocurrencia para las variables estrato y estado civil"
      ]
    },
    {
      "cell_type": "code",
      "metadata": {
        "id": "gZpk6rSqL412",
        "outputId": "b23c86fb-f3be-45c1-f9f4-f690a5d9401a",
        "colab": {
          "base_uri": "https://localhost:8080/"
        }
      },
      "source": [
        "top5 = df.groupBy('Cirugia')\\\n",
        "         .count()\\\n",
        "         .orderBy('count', ascending=False)\\\n",
        "         .take(5)\n",
        "top5 = [top5[i].Cirugia for i in range(len(top5))]\n",
        "top5"
      ],
      "execution_count": 19,
      "outputs": [
        {
          "output_type": "execute_result",
          "data": {
            "text/plain": [
              "['COLGAJO LOCAL DE PIEL COMPUESTO DE VECINDAD ENTRE CINCO A DIEZ CENTIMETROS CUADRADOS',\n",
              " 'TIROIDECTOMIA TOTAL SOD',\n",
              " 'RESECCION DE TUMOR BENIGNO O MALIGNO DE PIEL Y/O TEJIDO CELULAR SUBCUTANEO DE AREA ESPECIAL ENTRE DOS A TRES CENTIMETROS',\n",
              " 'VACIAMIENTO RADICAL SUPRAHIOIDEO DE CUELLO SOD',\n",
              " 'ANASTOMOSIS DE INTESTINO DELGADO A INTESTINO DELGADO SOD']"
            ]
          },
          "metadata": {},
          "execution_count": 19
        }
      ]
    },
    {
      "cell_type": "code",
      "metadata": {
        "id": "I68maoRQPuiv",
        "outputId": "5eec1ef5-9370-4a44-f020-861d70747280",
        "colab": {
          "base_uri": "https://localhost:8080/"
        }
      },
      "source": [
        "df.filter(df.Cirugia.isin(top5))\\\n",
        "  .groupBy('Cirugia')\\\n",
        "  .pivot('Estrato')\\\n",
        "  .count()\\\n",
        "  .show(truncate=False)"
      ],
      "execution_count": 20,
      "outputs": [
        {
          "output_type": "stream",
          "name": "stdout",
          "text": [
            "+------------------------------------------------------------------------------------------------------------------------+---------+---------+---------+---------+---------+\n",
            "|Cirugia                                                                                                                 |Estrato 0|Estrato 1|Estrato 2|Estrato 3|Estrato 4|\n",
            "+------------------------------------------------------------------------------------------------------------------------+---------+---------+---------+---------+---------+\n",
            "|VACIAMIENTO RADICAL SUPRAHIOIDEO DE CUELLO SOD                                                                          |135      |107      |46       |127      |1        |\n",
            "|COLGAJO LOCAL DE PIEL COMPUESTO DE VECINDAD ENTRE CINCO A DIEZ CENTIMETROS CUADRADOS                                    |333      |164      |86       |114      |4        |\n",
            "|ANASTOMOSIS DE INTESTINO DELGADO A INTESTINO DELGADO SOD                                                                |114      |153      |65       |22       |6        |\n",
            "|RESECCION DE TUMOR BENIGNO O MALIGNO DE PIEL Y/O TEJIDO CELULAR SUBCUTANEO DE AREA ESPECIAL ENTRE DOS A TRES CENTIMETROS|226      |100      |46       |79       |null     |\n",
            "|TIROIDECTOMIA TOTAL SOD                                                                                                 |190      |115      |71       |163      |null     |\n",
            "+------------------------------------------------------------------------------------------------------------------------+---------+---------+---------+---------+---------+\n",
            "\n"
          ]
        }
      ]
    },
    {
      "cell_type": "code",
      "metadata": {
        "id": "g--DMxGPR6AJ",
        "outputId": "8d99449d-0758-42bf-a821-549ce6eee1cd",
        "colab": {
          "base_uri": "https://localhost:8080/"
        }
      },
      "source": [
        "df.filter(df.Cirugia.isin(top5))\\\n",
        "  .groupBy('Cirugia')\\\n",
        "  .pivot('Estado_Civil')\\\n",
        "  .count()\\\n",
        "  .show(truncate=False)"
      ],
      "execution_count": 21,
      "outputs": [
        {
          "output_type": "stream",
          "name": "stdout",
          "text": [
            "+------------------------------------------------------------------------------------------------------------------------+------+----+---+-------+-----------+-----+\n",
            "|Cirugia                                                                                                                 |Casado|M   |P  |Soltero|Union Libre|Viudo|\n",
            "+------------------------------------------------------------------------------------------------------------------------+------+----+---+-------+-----------+-----+\n",
            "|VACIAMIENTO RADICAL SUPRAHIOIDEO DE CUELLO SOD                                                                          |234   |3   |9  |119    |16         |35   |\n",
            "|COLGAJO LOCAL DE PIEL COMPUESTO DE VECINDAD ENTRE CINCO A DIEZ CENTIMETROS CUADRADOS                                    |438   |null|13 |137    |36         |77   |\n",
            "|ANASTOMOSIS DE INTESTINO DELGADO A INTESTINO DELGADO SOD                                                                |251   |null|4  |65     |10         |30   |\n",
            "|RESECCION DE TUMOR BENIGNO O MALIGNO DE PIEL Y/O TEJIDO CELULAR SUBCUTANEO DE AREA ESPECIAL ENTRE DOS A TRES CENTIMETROS|309   |null|3  |64     |21         |54   |\n",
            "|TIROIDECTOMIA TOTAL SOD                                                                                                 |308   |null|9  |145    |34         |43   |\n",
            "+------------------------------------------------------------------------------------------------------------------------+------+----+---+-------+-----------+-----+\n",
            "\n"
          ]
        }
      ]
    },
    {
      "cell_type": "code",
      "metadata": {
        "id": "lzqhrjlwL5Ft",
        "outputId": "386a19ee-9583-4369-8574-dbca3fe4b7f0",
        "colab": {
          "base_uri": "https://localhost:8080/"
        }
      },
      "source": [
        "def top5cirugia(x):\n",
        "  return x in top5\n",
        "df.registerTempTable('pacientes')\n",
        "sqlCtx.registerFunction(\"top5cirugia\",top5cirugia)"
      ],
      "execution_count": 22,
      "outputs": [
        {
          "output_type": "execute_result",
          "data": {
            "text/plain": [
              "<function __main__.top5cirugia>"
            ]
          },
          "metadata": {},
          "execution_count": 22
        }
      ]
    },
    {
      "cell_type": "code",
      "metadata": {
        "id": "wzNujNUeL5Nd",
        "outputId": "4a4bb83f-1aef-49cb-d045-b65cecbd620a",
        "colab": {
          "base_uri": "https://localhost:8080/"
        }
      },
      "source": [
        "sqlCtx.sql('select * from pacientes where top5cirugia(Cirugia)=true').show()"
      ],
      "execution_count": 23,
      "outputs": [
        {
          "output_type": "stream",
          "name": "stdout",
          "text": [
            "+----+--------------------+--------------------+----+------------+---------+-------+------+------------+------------------+------------+\n",
            "| Año|             Cirugia| DiagnosticoAgrupado|Edad|Estado_Civil|  Estrato|  Etnia|Genero|     Regimen|         Subregion|TipoAtencion|\n",
            "+----+--------------------+--------------------+----+------------+---------+-------+------+------------+------------------+------------+\n",
            "|2007|VACIAMIENTO RADIC...|TUMOR MALIGNO DE ...|  57|      Casado|Estrato 1|Ninguna|     F|CONTRIBUTIVO|        Centro Sur|  Programada|\n",
            "|2007|ANASTOMOSIS DE IN...|TUMOR MALIGNO DEL...|  77|      Casado|Estrato 1|Ninguna|     M|CONTRIBUTIVO|        Centro Sur|    Urgencia|\n",
            "|2007|ANASTOMOSIS DE IN...|TUMOR MALIGNO DEL...|  77|      Casado|Estrato 1|Ninguna|     M|CONTRIBUTIVO|        Centro Sur|    Urgencia|\n",
            "|2007|VACIAMIENTO RADIC...|TUMOR MALIGNO DE ...|  55|     Soltero|Estrato 1|Ninguna|     F|CONTRIBUTIVO|        Centro Sur|  Programada|\n",
            "|2007|TIROIDECTOMIA TOT...|TUMOR MALIGNO DE ...|  45|     Soltero|Estrato 3|Ninguna|     F|   VINCULADO|        Centro Sur|  Programada|\n",
            "|2007|TIROIDECTOMIA TOT...|TUMOR MALIGNO DE ...|  45|     Soltero|Estrato 3|Ninguna|     F|   VINCULADO|        Centro Sur|  Programada|\n",
            "|2007|TIROIDECTOMIA TOT...|TUMOR MALIGNO DE ...|  45|     Soltero|Estrato 3|Ninguna|     F|   VINCULADO|        Centro Sur|  Programada|\n",
            "|2007|ANASTOMOSIS DE IN...|TUMOR MALIGNO DEL...|  63|      Casado|Estrato 1|Ninguna|     M|CONTRIBUTIVO|        Centro Sur|  Programada|\n",
            "|2007|ANASTOMOSIS DE IN...|TUMOR MALIGNO DEL...|  63|      Casado|Estrato 1|Ninguna|     M|CONTRIBUTIVO|        Centro Sur|  Programada|\n",
            "|2007|ANASTOMOSIS DE IN...|TUMOR MALIGNO DEL...|  63|      Casado|Estrato 1|Ninguna|     M|CONTRIBUTIVO|        Centro Sur|  Programada|\n",
            "|2007|VACIAMIENTO RADIC...|TUMOR MALIGNO DE ...|  66|     Soltero|Estrato 4|Ninguna|     F|  PARTICULAR|        Centro Sur|  Programada|\n",
            "|2007|COLGAJO LOCAL DE ...|OTROS TUMORES MAL...|  86|      Casado|Estrato 2|Ninguna|     M|  SUBSIDIADO|      Alto Oriente|  Programada|\n",
            "|2007|COLGAJO LOCAL DE ...|OTROS TUMORES MAL...|  86|      Casado|Estrato 2|Ninguna|     M|  SUBSIDIADO|      Alto Oriente|  Programada|\n",
            "|2007|TIROIDECTOMIA TOT...|TUMOR MALIGNO DE ...|  84|       Viudo|Estrato 2|Ninguna|     F|   VINCULADO|        Centro Sur|  Programada|\n",
            "|2007|TIROIDECTOMIA TOT...|TUMOR MALIGNO DE ...|  84|       Viudo|Estrato 2|Ninguna|     F|   VINCULADO|        Centro Sur|  Programada|\n",
            "|2007|VACIAMIENTO RADIC...|TUMOR MALIGNO SEC...|  47|      Casado|Estrato 1|Ninguna|     F|CONTRIBUTIVO|        Centro Sur|  Programada|\n",
            "|2007|ANASTOMOSIS DE IN...|TUMOR MALIGNO DEL...|  58|      Casado|Estrato 1|Ninguna|     M|   VINCULADO|    Bajo Occidente|    Urgencia|\n",
            "|2007|ANASTOMOSIS DE IN...|TUMOR MALIGNO DEL...|  58|      Casado|Estrato 1|Ninguna|     M|   VINCULADO|    Bajo Occidente|    Urgencia|\n",
            "|2007|ANASTOMOSIS DE IN...|TUMOR MALIGNO DEL...|  58|      Casado|Estrato 1|Ninguna|     M|   VINCULADO|    Bajo Occidente|    Urgencia|\n",
            "|2007|RESECCION DE TUMO...|OTROS TUMORES MAL...|  78|      Casado|Estrato 2|Ninguna|     F|  SUBSIDIADO|Magdalena Caldense|  Programada|\n",
            "+----+--------------------+--------------------+----+------------+---------+-------+------+------------+------------------+------------+\n",
            "only showing top 20 rows\n",
            "\n"
          ]
        }
      ]
    },
    {
      "cell_type": "markdown",
      "metadata": {
        "id": "xWQkDcDZNRVa"
      },
      "source": [
        "Presente aquí el código desarrollado y el resultado obtenido"
      ]
    },
    {
      "cell_type": "markdown",
      "metadata": {
        "id": "T89Y60StLUuh"
      },
      "source": [
        "##**E) Seguimiento de las cirugías en el tiempo**\n",
        "\n",
        "Para los cinco tipos de cirugías más frecuentes, verifique si los casos han aumentado o disminuido en los últimos cinco años.\n",
        "Para cada cirugía presente el promedio de edad de los pacientes por género en cada año"
      ]
    },
    {
      "cell_type": "code",
      "metadata": {
        "id": "Q43gvpg9R7rs",
        "outputId": "a04b3ad0-2c70-4963-c886-e8281aacf19c",
        "colab": {
          "base_uri": "https://localhost:8080/"
        }
      },
      "source": [
        "df.filter(df.Cirugia.isin(top5))\\\n",
        "  .groupBy('Cirugia')\\\n",
        "  .pivot('Año')\\\n",
        "  .count()\\\n",
        "  .show(truncate=False)"
      ],
      "execution_count": 24,
      "outputs": [
        {
          "output_type": "stream",
          "name": "stdout",
          "text": [
            "+------------------------------------------------------------------------------------------------------------------------+----+----+----+----+----+----+----+----+----+----+----+----+\n",
            "|Cirugia                                                                                                                 |2007|2008|2009|2010|2011|2012|2013|2014|2015|2016|2017|2018|\n",
            "+------------------------------------------------------------------------------------------------------------------------+----+----+----+----+----+----+----+----+----+----+----+----+\n",
            "|VACIAMIENTO RADICAL SUPRAHIOIDEO DE CUELLO SOD                                                                          |10  |2   |7   |9   |19  |22  |33  |26  |63  |72  |72  |81  |\n",
            "|COLGAJO LOCAL DE PIEL COMPUESTO DE VECINDAD ENTRE CINCO A DIEZ CENTIMETROS CUADRADOS                                    |5   |null|3   |35  |25  |71  |118 |85  |78  |77  |95  |109 |\n",
            "|ANASTOMOSIS DE INTESTINO DELGADO A INTESTINO DELGADO SOD                                                                |33  |55  |44  |34  |3   |26  |45  |34  |36  |9   |29  |12  |\n",
            "|RESECCION DE TUMOR BENIGNO O MALIGNO DE PIEL Y/O TEJIDO CELULAR SUBCUTANEO DE AREA ESPECIAL ENTRE DOS A TRES CENTIMETROS|2   |6   |5   |15  |6   |19  |58  |52  |56  |58  |63  |111 |\n",
            "|TIROIDECTOMIA TOTAL SOD                                                                                                 |18  |19  |10  |20  |24  |21  |42  |40  |78  |87  |75  |105 |\n",
            "+------------------------------------------------------------------------------------------------------------------------+----+----+----+----+----+----+----+----+----+----+----+----+\n",
            "\n"
          ]
        }
      ]
    },
    {
      "cell_type": "code",
      "metadata": {
        "id": "bfLldNhGR70z",
        "outputId": "f1aff6db-4ade-4664-b4d6-3872a8e1e080",
        "colab": {
          "base_uri": "https://localhost:8080/"
        }
      },
      "source": [
        "df.filter(df.Cirugia.isin(top5))\\\n",
        "  .groupBy('Cirugia', 'Genero')\\\n",
        "  .pivot('Año')\\\n",
        "  .agg({'Edad': 'avg'})\\\n",
        "  .show(truncate=False)"
      ],
      "execution_count": 25,
      "outputs": [
        {
          "output_type": "stream",
          "name": "stdout",
          "text": [
            "+------------------------------------------------------------------------------------------------------------------------+------+-----------------+-----------------+------------------+------------------+-----------------+------------------+------------------+------------------+------------------+------------------+------------------+------------------+\n",
            "|Cirugia                                                                                                                 |Genero|2007             |2008             |2009              |2010              |2011             |2012              |2013              |2014              |2015              |2016              |2017              |2018              |\n",
            "+------------------------------------------------------------------------------------------------------------------------+------+-----------------+-----------------+------------------+------------------+-----------------+------------------+------------------+------------------+------------------+------------------+------------------+------------------+\n",
            "|RESECCION DE TUMOR BENIGNO O MALIGNO DE PIEL Y/O TEJIDO CELULAR SUBCUTANEO DE AREA ESPECIAL ENTRE DOS A TRES CENTIMETROS|F     |78.0             |85.0             |79.5              |74.5              |null             |73.8              |66.0              |67.125            |57.6              |63.22222222222222 |66.0              |70.5              |\n",
            "|RESECCION DE TUMOR BENIGNO O MALIGNO DE PIEL Y/O TEJIDO CELULAR SUBCUTANEO DE AREA ESPECIAL ENTRE DOS A TRES CENTIMETROS|M     |null             |81.0             |79.0              |77.77777777777777 |65.0             |67.5              |62.411764705882355|63.916666666666664|56.38461538461539 |70.0              |71.44             |66.86666666666666 |\n",
            "|VACIAMIENTO RADICAL SUPRAHIOIDEO DE CUELLO SOD                                                                          |M     |null             |null             |49.0              |72.0              |null             |51.0              |29.0              |null              |73.5              |41.0              |null              |null              |\n",
            "|COLGAJO LOCAL DE PIEL COMPUESTO DE VECINDAD ENTRE CINCO A DIEZ CENTIMETROS CUADRADOS                                    |F     |null             |null             |51.0              |70.22727272727273 |73.07142857142857|66.35135135135135 |63.16438356164384 |59.527272727272724|58.95             |62.588235294117645|61.68421052631579 |64.875            |\n",
            "|COLGAJO LOCAL DE PIEL COMPUESTO DE VECINDAD ENTRE CINCO A DIEZ CENTIMETROS CUADRADOS                                    |M     |62.6             |null             |null              |63.53846153846154 |62.45454545454545|61.294117647058826|64.73333333333333 |64.8              |56.0              |68.76923076923077 |70.92105263157895 |68.44827586206897 |\n",
            "|ANASTOMOSIS DE INTESTINO DELGADO A INTESTINO DELGADO SOD                                                                |M     |65.31818181818181|63.24242424242424|63.15384615384615 |68.28571428571429 |50.0             |69.0              |62.81818181818182 |75.88888888888889 |53.6              |null              |64.73684210526316 |69.0              |\n",
            "|ANASTOMOSIS DE INTESTINO DELGADO A INTESTINO DELGADO SOD                                                                |F     |61.45454545454545|62.86363636363637|62.166666666666664|46.0              |null             |58.36363636363637 |64.75             |67.85714285714286 |64.19047619047619 |80.66666666666667 |49.5              |71.33333333333333 |\n",
            "|VACIAMIENTO RADICAL SUPRAHIOIDEO DE CUELLO SOD                                                                          |F     |46.1             |47.0             |64.6              |56.285714285714285|56.21052631578947|55.785714285714285|45.75             |56.53846153846154 |53.1578947368421  |50.82608695652174 |49.666666666666664|47.592592592592595|\n",
            "|TIROIDECTOMIA TOTAL SOD                                                                                                 |F     |44.13333333333333|63.31578947368421|59.5              |55.0              |53.21739130434783|54.2              |52.09090909090909 |53.73529411764706 |52.166666666666664|50.03703703703704 |49.84             |47.0              |\n",
            "|TIROIDECTOMIA TOTAL SOD                                                                                                 |M     |47.0             |null             |49.0              |40.25             |53.0             |54.0              |41.0              |56.5              |73.5              |48.5              |null              |58.5              |\n",
            "+------------------------------------------------------------------------------------------------------------------------+------+-----------------+-----------------+------------------+------------------+-----------------+------------------+------------------+------------------+------------------+------------------+------------------+------------------+\n",
            "\n"
          ]
        }
      ]
    },
    {
      "cell_type": "markdown",
      "metadata": {
        "id": "xHtI3jGcNTNn"
      },
      "source": [
        "Presente aquí el código desarrollado y el resultado obtenido"
      ]
    },
    {
      "cell_type": "markdown",
      "metadata": {
        "id": "j1LlOYfTNVsn"
      },
      "source": [
        "#**Notas:**\n",
        "\n",
        "* Analice los resultados de cada punto y presente sus conclusiones\n",
        "* Utilice al menos una vez cada uno de los siguientes métodos\n",
        "\n",
        "  *   agg\n",
        "  *   withColumn\n",
        "  *   groupBy\n",
        "  *   sql\n",
        "  *   registerFunction\n",
        "\n"
      ]
    },
    {
      "cell_type": "code",
      "metadata": {
        "id": "fnoR3c0-z845"
      },
      "source": [
        ""
      ],
      "execution_count": 25,
      "outputs": []
    },
    {
      "cell_type": "code",
      "metadata": {
        "id": "vGwXsPM2PtkY"
      },
      "source": [
        ""
      ],
      "execution_count": 25,
      "outputs": []
    }
  ]
}