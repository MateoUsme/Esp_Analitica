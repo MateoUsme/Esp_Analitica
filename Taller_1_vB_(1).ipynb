{
  "nbformat": 4,
  "nbformat_minor": 0,
  "metadata": {
    "colab": {
      "name": "Taller_1_vB (1).ipynb",
      "provenance": [],
      "collapsed_sections": [],
      "include_colab_link": true
    },
    "kernelspec": {
      "display_name": "Python 3",
      "language": "python",
      "name": "python3"
    },
    "language_info": {
      "codemirror_mode": {
        "name": "ipython",
        "version": 3
      },
      "file_extension": ".py",
      "mimetype": "text/x-python",
      "name": "python",
      "nbconvert_exporter": "python",
      "pygments_lexer": "ipython3",
      "version": "3.8.5"
    }
  },
  "cells": [
    {
      "cell_type": "markdown",
      "metadata": {
        "id": "view-in-github",
        "colab_type": "text"
      },
      "source": [
        "<a href=\"https://colab.research.google.com/github/MateoUsme/Esp_Analitica/blob/main/Taller_1_vB_(1).ipynb\" target=\"_parent\"><img src=\"https://colab.research.google.com/assets/colab-badge.svg\" alt=\"Open In Colab\"/></a>"
      ]
    },
    {
      "cell_type": "markdown",
      "metadata": {
        "id": "lVYLwpygGSAP"
      },
      "source": [
        "# Taller 1\n",
        "#### **Cédula:** 71.690.015\n",
        "#### **Nombre:** Jorge Iván Rojas\n",
        "\n",
        "\n",
        "#### **Cédula:** 1017264083\n",
        "#### **Nombre:** Mateo Usme Valencia\n",
        "#### **Fecha:** 13-10-2021"
      ]
    },
    {
      "cell_type": "markdown",
      "metadata": {
        "id": "JhGTiacTilkN"
      },
      "source": [
        "# Ejercicio 1\n",
        "\n",
        "En un hospital se estudiaron tres tratamientos para la depresión: imipramina, \n",
        "carbonato de litio y una combinación. Como es tradicional\n",
        "en dichos estudios (denominados ensayos clínicos), también hubo un grupo \n",
        "de pacientes que recibieron un placebo. (Un placebo es un tratamiento que se \n",
        "supone que no es útil ni dañino). A algunos pacientes se les administra \n",
        "un placebo para que no sepan que no recibieron ninguno de los otros tratamientos. \n",
        "En este caso se consideran 30 pacientes que ingresaron al estudio después \n",
        "de un episodio de depresión. Si se sabe que hay 7 pacientes tratados con imipramina, 8 pacientes tratados con carbonato de litio, 9 tratados con la combinación,entonces si se eligen al azar 5 pacientes halle toda la información en cada caso e nterprete  los resultados obtenidos en contexo.\n",
        "\n",
        "Sean $X$ numero de pacientes tratados con imipramina, $Y$ numero de pacientes tratados con la combinación\n",
        "  \n",
        "  - Halle la función de distribución conjunta para los pacientes que recibieron imipramina\n",
        "y la combinación.\n",
        "\n",
        "- Determine la probabilidad de que se seleccionen solo personas tratadas con la combinación\n",
        "\n",
        "- Determine la probabilidad de que se seleccione una persona tratada con placebo si se suponía que estaba siendo tratada con la combinación (imipramina - carbonato de litio).\n",
        "\n",
        "- ¿Es posible decir que se trata de variables independientes?.\n",
        "\n",
        "- Determine $P((X,Y) \\in A)$ donde $A$ es la región determinada por $\\{(X,Y)/ X+Y \\leq 3\\}$"
      ]
    },
    {
      "cell_type": "markdown",
      "metadata": {
        "id": "wEyZrN9lE2Ry"
      },
      "source": [
        "![E1f1.JPG](attachment:E1f1.JPG)"
      ]
    },
    {
      "cell_type": "code",
      "metadata": {
        "id": "pcU-j844E2R1",
        "outputId": "459689ed-093b-4af4-8286-982d50d96a07"
      },
      "source": [
        "#Halle la función de distribución conjunta para los pacientes que recibieron imipramina y la combinación.\n",
        "import math\n",
        "from itertools import combinations\n",
        "import numpy as np\n",
        "nums = [0, 1, 2, 3, 4, 5] # Número maximo de pacientes al azar tratados con imipramina\n",
        "num2 = [0, 1, 2, 3, 4, 5] # Número maximo de pacientes al azar tratados con la combinación\n",
        "dimensiones=(pac_azar+1,pac_azar+1)\n",
        "matriz = np.zeros(dimensiones)\n",
        "muestra=30\n",
        "pac_azar=5\n",
        "imipramina=7\n",
        "drocom=9\n",
        "carbonato=8\n",
        "placebo=6\n",
        "resto=muestra-imipramina-drocom\n",
        "dis_conj_deno=num_combinaciones(muestra,pac_azar)\n",
        "\n",
        "for i in nums:\n",
        "    for j in num2:\n",
        "        k=i+j\n",
        "        if k <= 5:\n",
        "            dis_conj_num1=num_combinaciones(imipramina,i)\n",
        "            dis_conj_num2=num_combinaciones(drocom,j)\n",
        "            dis_conj_num3=num_combinaciones(resto,pac_azar-i-j)\n",
        "            dis_hiper_multi=(dis_conj_num1*dis_conj_num2*dis_conj_num3)/dis_conj_deno\n",
        "            matriz[j, i] = round(dis_hiper_multi,4)\n",
        "\n",
        "print(\"Halle la función de distribución conjunta para los pacientes que recibieron imipramina y la combinación es:\")\n",
        "print(matriz)\n",
        "\n",
        "def num_combinaciones(m,n):\n",
        "    if m < n:\n",
        "        return 0\n",
        "    else:\n",
        "        comb=math.factorial(m)/(math.factorial(n)*math.factorial(m-n))\n",
        "        return comb\n"
      ],
      "execution_count": null,
      "outputs": [
        {
          "name": "stdout",
          "output_type": "stream",
          "text": [
            "Halle la función de distribución conjunta para los pacientes que recibieron imipramina y la combinación es:\n",
            "[[1.400e-02 4.920e-02 5.360e-02 2.230e-02 3.400e-03 1.000e-04]\n",
            " [6.320e-02 1.609e-01 1.207e-01 3.090e-02 2.200e-03 0.000e+00]\n",
            " [9.200e-02 1.609e-01 7.430e-02 8.800e-03 0.000e+00 0.000e+00]\n",
            " [5.360e-02 5.780e-02 1.240e-02 0.000e+00 0.000e+00 0.000e+00]\n",
            " [1.240e-02 6.200e-03 0.000e+00 0.000e+00 0.000e+00 0.000e+00]\n",
            " [9.000e-04 0.000e+00 0.000e+00 0.000e+00 0.000e+00 0.000e+00]]\n"
          ]
        }
      ]
    },
    {
      "cell_type": "markdown",
      "metadata": {
        "id": "tytj_TdVE2R9"
      },
      "source": [
        "![E1f2.JPG](attachment:E1f2.JPG)"
      ]
    },
    {
      "cell_type": "code",
      "metadata": {
        "id": "780DnvhJE2R_",
        "outputId": "54d221f1-5a31-488f-f94d-f8be2821a522"
      },
      "source": [
        "#Determine la probabilidad de que se seleccionen solo personas tratadas con la combinación\n",
        "dis_conj_num1=num_combinaciones(drocom,pac_azar)\n",
        "dis_conj_num2=num_combinaciones(muestra-drocom,0)\n",
        "py5=(dis_conj_num1*dis_conj_num2)/dis_conj_deno\n",
        "print(py5)"
      ],
      "execution_count": null,
      "outputs": [
        {
          "name": "stdout",
          "output_type": "stream",
          "text": [
            "0.0008841732979664014\n"
          ]
        }
      ]
    },
    {
      "cell_type": "markdown",
      "metadata": {
        "id": "vArG5oDoE2SC"
      },
      "source": [
        "![E1f3.JPG](attachment:E1f3.JPG)"
      ]
    },
    {
      "cell_type": "code",
      "metadata": {
        "id": "mE5I-cjaE2SE",
        "outputId": "47a1baf4-ec42-426c-c3e9-d90c7afecd56"
      },
      "source": [
        "# Determine la probabilidad de que se seleccione una persona tratada con placebo si se suponía que estaba siendo tratada con la combinación (imipramina - carbonato de litio).\n",
        "dis_conj_num1=num_combinaciones(placebo,1)\n",
        "dis_conj_num2=num_combinaciones(drocom,0)\n",
        "dis_conj_deno=num_combinaciones(placebo+drocom,1)\n",
        "py1=(dis_conj_num1*dis_conj_num2)/dis_conj_deno\n",
        "print(py1)"
      ],
      "execution_count": null,
      "outputs": [
        {
          "name": "stdout",
          "output_type": "stream",
          "text": [
            "0.4\n"
          ]
        }
      ]
    },
    {
      "cell_type": "code",
      "metadata": {
        "id": "-pKAgpe6E2SH",
        "outputId": "98eb1bc8-d165-4b38-bf63-9184bff8d07a"
      },
      "source": [
        "#¿Es posible decir que se trata de variables independientes?.\n",
        "Eimipramina=pac_azar*(imipramina/muestra)\n",
        "Ecombinacion=pac_azar*(drocom/muestra)\n",
        "Eimip_comb=pac_azar*((imipramina+drocom)/muestra)\n",
        "if (round(Eimip_comb,2)==round(Eimipramina+Ecombinacion,2)):\n",
        "    print(\"Las variables aleatorias son independientes ya que \")\n",
        "    print(round(Eimip_comb,2),\" = \",round(Eimipramina,2),\" + \",round(Ecombinacion,2)) \n",
        "else:\n",
        "    print(\"Las variables aleatorias no son independientes ya que\")\n",
        "    print(round(Eimip_comb,2),\" =/= \",round(Eimipramina,2),\" + \",round(Ecombinacion,2)) \n"
      ],
      "execution_count": null,
      "outputs": [
        {
          "name": "stdout",
          "output_type": "stream",
          "text": [
            "Las variables aleatorias son independientes ya que \n",
            "2.67  =  1.17  +  1.5\n"
          ]
        }
      ]
    },
    {
      "cell_type": "markdown",
      "metadata": {
        "id": "z1YytmwlE2SJ"
      },
      "source": [
        "![E1f4.JPG](attachment:E1f4.JPG)"
      ]
    },
    {
      "cell_type": "code",
      "metadata": {
        "id": "JkKHbQijE2SL",
        "outputId": "9aa6ed22-5256-4579-f048-8653126dfb00"
      },
      "source": [
        "# Determine  𝑃((𝑋,𝑌)∈𝐴)  donde  𝐴  es la región determinada por  {(𝑋,𝑌)/𝑋+𝑌≤3}\n",
        "nums = [0, 1, 2, 3, 4, 5] # Número maximo de pacientes al azar tratados con imipramina\n",
        "num2 = [0, 1, 2, 3, 4, 5] # Número maximo de pacientes al azar tratados con la combinación\n",
        "matriz3 = np.zeros(dimensiones)\n",
        "\n",
        "for i in nums:\n",
        "    for j in num2:\n",
        "        k=i+j\n",
        "        if k <= 3:\n",
        "            matriz3[j, i] = matriz[j, i]\n",
        "print(matriz3)"
      ],
      "execution_count": null,
      "outputs": [
        {
          "name": "stdout",
          "output_type": "stream",
          "text": [
            "[[0.014  0.0492 0.0536 0.0223 0.     0.    ]\n",
            " [0.0632 0.1609 0.1207 0.     0.     0.    ]\n",
            " [0.092  0.1609 0.     0.     0.     0.    ]\n",
            " [0.0536 0.     0.     0.     0.     0.    ]\n",
            " [0.     0.     0.     0.     0.     0.    ]\n",
            " [0.     0.     0.     0.     0.     0.    ]]\n"
          ]
        }
      ]
    },
    {
      "cell_type": "markdown",
      "metadata": {
        "id": "qyOYjahXY5Q5"
      },
      "source": [
        "# Ejercicio 2\n",
        "\n",
        "El cangrejo de herradura hembra se caracteriza porque a su caparazón se adhieren los machos de la misma especie, una persona está interesada en determinar cual es el patrón de variación del número de machos sobre cada \n",
        "hembra, para esto, se recolectó una muestra de hembras a las cuales se les observó el color, la condición de la espina, el peso en kilogramos, el ancho del caparazón en centímetros y el número de satélites o machos sobre \n",
        "el caparazón.\n",
        "\n",
        "#base de datos en la red\n",
        "URL: 'https://raw.githubusercontent.com/fhernanb/datos/master/crab'\n",
        "\n",
        "- Hallar la distribución de probablidad para la variable numero de satélites e interpretar los resultados.  \n",
        "- Construir un histograma y un gráfico de densidad kernel.\n",
        "- Realizar un análsis comparativo de los gráficos obtenidos en el inciso anterior.\n",
        "- Contruir el gráfico de dispersión, hallar la covariana y la correlación para  las variables peso y ancho del caparazón del cangrejo de herradura hembra e interpretar los resultados obtenidos."
      ]
    },
    {
      "cell_type": "code",
      "metadata": {
        "colab": {
          "base_uri": "https://localhost:8080/",
          "height": 417
        },
        "id": "XsuCVG1QcsmS",
        "outputId": "ba68d9f1-1b6c-4030-a568-7a6f40e2860d"
      },
      "source": [
        "import pandas as pd\n",
        "from io import StringIO\n",
        "import matplotlib.pyplot as plt\n",
        "import seaborn as sns\n",
        "\n",
        "CRAB_DATA = 'C,S,W,Wt,Sa \\n2,1,28.0,2.9,4\\n2,3,25.8,2.3,0\\n2,3,25.0,2.1,2\\n3,3,23.1,1.55,0\\n4,3,23.7,1.85,0\\n2,3,25.4,2.25,6\\n4,3,24.7,2.2,0\\n3,3,24.2,1.9,0\\n2,3,27.5,2.55,1\\n2,3,28.2,3.05,8\\n2,2,24.0,1.7,0\\n2,3,27.7,2.9,5\\n2,3,26.2,2.3,0\\n2,3,26.5,2.35,4\\n2,3,28.3,3.2,0\\n2,3,28.7,3.15,3\\n2,1,22.9,1.6,0\\n3,3,29.0,3.28,4\\n2,3,27.5,2.63,6\\n2,3,28.0,2.8,1\\n3,3,26.1,2.75,3\\n2,3,24.2,1.65,2\\n2,3,25.8,2.65,0\\n3,3,28.9,2.8,4\\n4,2,21.0,1.85,0\\n4,3,22.5,1.47,4\\n2,3,28.2,3.05,11\\n3,2,24.7,1.9,0\\n3,1,27.0,2.45,3\\n1,1,27.4,2.7,6\\n4,3,27.0,2.63,0\\n2,3,27.6,2.85,4\\n2,3,28.2,2.87,1\\n2,1,25.7,2.0,8\\n3,3,24.1,1.8,0\\n1,2,25.0,2.3,3\\n2,3,23.9,1.85,2\\n1,1,29.3,3.2,4\\n2,3,30.0,3.05,8\\n2,3,28.3,3.0,15\\n3,3,24.0,1.9,10\\n2,1,26.0,2.3,14\\n1,1,30.2,3.28,2\\n4,3,25.8,2.0,3\\n2,3,26.2,2.4,3\\n2,1,28.7,3.2,0\\n2,3,29.5,3.02,4\\n2,3,26.2,2.4,0\\n3,3,24.8,2.1,0\\n4,3,27.5,2.9,0\\n1,1,28.0,2.62,0\\n1,2,24.5,1.95,6\\n2,3,28.5,3.05,0\\n2,3,26.5,2.3,4\\n3,1,25.9,2.55,4\\n3,3,25.7,2.1,0\\n4,3,29.3,3.23,12\\n2,1,26.7,2.7,5\\n3,3,24.5,2.2,1\\n3,3,26.2,2.17,2\\n1,1,26.1,2.8,5\\n2,1,30.3,3.6,3\\n3,3,26.7,2.6,2\\n2,3,27.0,2.5,6\\n3,3,25.5,2.25,0\\n2,3,27.5,3.15,6\\n3,3,26.2,2.22,0\\n2,3,24.9,2.2,0\\n3,3,29.0,2.92,3\\n2,3,25.8,2.4,0\\n2,1,30.0,3.3,5\\n2,3,29.0,3.1,1\\n2,3,25.0,2.4,5\\n1,1,27.7,2.5,6\\n2,2,22.9,1.6,0\\n2,1,33.5,5.2,7\\n2,3,28.5,3.0,3\\n1,1,26.0,2.3,9\\n3,1,28.5,3.25,9\\n1,1,26.5,2.35,0\\n3,3,27.3,2.9,1\\n3,3,27.1,2.55,0\\n2,1,25.7,2.0,5\\n2,1,26.8,2.55,0\\n2,2,25.4,2.3,0\\n1,1,27.1,2.95,8\\n3,3,26.2,2.3,3\\n3,3,23.1,1.65,0\\n2,3,25.8,2.2,0\\n2,3,27.9,2.8,6\\n3,3,23.0,1.65,1\\n2,2,25.0,2.25,6\\n2,1,31.7,3.73,4\\n2,2,25.7,2.0,0\\n4,3,23.5,1.9,0\\n2,3,27.4,2.9,3\\n2,3,24.7,1.95,4\\n3,2,29.8,3.5,4\\n3,3,28.5,3.0,1\\n2,3,25.1,2.1,5\\n'\n",
        "\n",
        "df_cangrejos = pd.read_csv(StringIO(CRAB_DATA))\n",
        "satelites = df_cangrejos[\"Sa \"].tolist()\n",
        "df_cangrejos"
      ],
      "execution_count": 149,
      "outputs": [
        {
          "output_type": "execute_result",
          "data": {
            "text/html": [
              "<div>\n",
              "<style scoped>\n",
              "    .dataframe tbody tr th:only-of-type {\n",
              "        vertical-align: middle;\n",
              "    }\n",
              "\n",
              "    .dataframe tbody tr th {\n",
              "        vertical-align: top;\n",
              "    }\n",
              "\n",
              "    .dataframe thead th {\n",
              "        text-align: right;\n",
              "    }\n",
              "</style>\n",
              "<table border=\"1\" class=\"dataframe\">\n",
              "  <thead>\n",
              "    <tr style=\"text-align: right;\">\n",
              "      <th></th>\n",
              "      <th>C</th>\n",
              "      <th>S</th>\n",
              "      <th>W</th>\n",
              "      <th>Wt</th>\n",
              "      <th>Sa</th>\n",
              "    </tr>\n",
              "  </thead>\n",
              "  <tbody>\n",
              "    <tr>\n",
              "      <th>0</th>\n",
              "      <td>2</td>\n",
              "      <td>1</td>\n",
              "      <td>28.0</td>\n",
              "      <td>2.90</td>\n",
              "      <td>4</td>\n",
              "    </tr>\n",
              "    <tr>\n",
              "      <th>1</th>\n",
              "      <td>2</td>\n",
              "      <td>3</td>\n",
              "      <td>25.8</td>\n",
              "      <td>2.30</td>\n",
              "      <td>0</td>\n",
              "    </tr>\n",
              "    <tr>\n",
              "      <th>2</th>\n",
              "      <td>2</td>\n",
              "      <td>3</td>\n",
              "      <td>25.0</td>\n",
              "      <td>2.10</td>\n",
              "      <td>2</td>\n",
              "    </tr>\n",
              "    <tr>\n",
              "      <th>3</th>\n",
              "      <td>3</td>\n",
              "      <td>3</td>\n",
              "      <td>23.1</td>\n",
              "      <td>1.55</td>\n",
              "      <td>0</td>\n",
              "    </tr>\n",
              "    <tr>\n",
              "      <th>4</th>\n",
              "      <td>4</td>\n",
              "      <td>3</td>\n",
              "      <td>23.7</td>\n",
              "      <td>1.85</td>\n",
              "      <td>0</td>\n",
              "    </tr>\n",
              "    <tr>\n",
              "      <th>...</th>\n",
              "      <td>...</td>\n",
              "      <td>...</td>\n",
              "      <td>...</td>\n",
              "      <td>...</td>\n",
              "      <td>...</td>\n",
              "    </tr>\n",
              "    <tr>\n",
              "      <th>95</th>\n",
              "      <td>2</td>\n",
              "      <td>3</td>\n",
              "      <td>27.4</td>\n",
              "      <td>2.90</td>\n",
              "      <td>3</td>\n",
              "    </tr>\n",
              "    <tr>\n",
              "      <th>96</th>\n",
              "      <td>2</td>\n",
              "      <td>3</td>\n",
              "      <td>24.7</td>\n",
              "      <td>1.95</td>\n",
              "      <td>4</td>\n",
              "    </tr>\n",
              "    <tr>\n",
              "      <th>97</th>\n",
              "      <td>3</td>\n",
              "      <td>2</td>\n",
              "      <td>29.8</td>\n",
              "      <td>3.50</td>\n",
              "      <td>4</td>\n",
              "    </tr>\n",
              "    <tr>\n",
              "      <th>98</th>\n",
              "      <td>3</td>\n",
              "      <td>3</td>\n",
              "      <td>28.5</td>\n",
              "      <td>3.00</td>\n",
              "      <td>1</td>\n",
              "    </tr>\n",
              "    <tr>\n",
              "      <th>99</th>\n",
              "      <td>2</td>\n",
              "      <td>3</td>\n",
              "      <td>25.1</td>\n",
              "      <td>2.10</td>\n",
              "      <td>5</td>\n",
              "    </tr>\n",
              "  </tbody>\n",
              "</table>\n",
              "<p>100 rows × 5 columns</p>\n",
              "</div>"
            ],
            "text/plain": [
              "    C  S     W    Wt  Sa \n",
              "0   2  1  28.0  2.90    4\n",
              "1   2  3  25.8  2.30    0\n",
              "2   2  3  25.0  2.10    2\n",
              "3   3  3  23.1  1.55    0\n",
              "4   4  3  23.7  1.85    0\n",
              ".. .. ..   ...   ...  ...\n",
              "95  2  3  27.4  2.90    3\n",
              "96  2  3  24.7  1.95    4\n",
              "97  3  2  29.8  3.50    4\n",
              "98  3  3  28.5  3.00    1\n",
              "99  2  3  25.1  2.10    5\n",
              "\n",
              "[100 rows x 5 columns]"
            ]
          },
          "metadata": {},
          "execution_count": 149
        }
      ]
    },
    {
      "cell_type": "markdown",
      "metadata": {
        "id": "zjCzyCdUgZL0"
      },
      "source": [
        "**Hallar la distribución de probablidad para la variable numero de satélites e interpretar los resultados**"
      ]
    },
    {
      "cell_type": "code",
      "metadata": {
        "colab": {
          "base_uri": "https://localhost:8080/",
          "height": 511
        },
        "id": "uLZGiOqKMORI",
        "outputId": "3fcde111-26cf-4c1d-e467-e436aee42e52"
      },
      "source": [
        "\n",
        "satelites_acum = [satelites.count(value) for value in set(satelites)]\n",
        "satelites_fnc_prob = [value/sum(satelites_acum)for value in satelites_acum]\n",
        "satelites_fnc_dist = [round(sum(satelites_fnc_prob[0:i+1]),2) for i in range(len(satelites_fnc_prob))]\n",
        "\n",
        "df_cang = pd.DataFrame({\"Suma Satelites\": satelites_acum, \"Funcion Probabilidad\": satelites_fnc_prob, \"Funcion Distribucion\": satelites_fnc_dist})\n",
        "df_cang"
      ],
      "execution_count": 150,
      "outputs": [
        {
          "output_type": "execute_result",
          "data": {
            "text/html": [
              "<div>\n",
              "<style scoped>\n",
              "    .dataframe tbody tr th:only-of-type {\n",
              "        vertical-align: middle;\n",
              "    }\n",
              "\n",
              "    .dataframe tbody tr th {\n",
              "        vertical-align: top;\n",
              "    }\n",
              "\n",
              "    .dataframe thead th {\n",
              "        text-align: right;\n",
              "    }\n",
              "</style>\n",
              "<table border=\"1\" class=\"dataframe\">\n",
              "  <thead>\n",
              "    <tr style=\"text-align: right;\">\n",
              "      <th></th>\n",
              "      <th>Suma Satelites</th>\n",
              "      <th>Funcion Probabilidad</th>\n",
              "      <th>Funcion Distribucion</th>\n",
              "    </tr>\n",
              "  </thead>\n",
              "  <tbody>\n",
              "    <tr>\n",
              "      <th>0</th>\n",
              "      <td>34</td>\n",
              "      <td>0.34</td>\n",
              "      <td>0.34</td>\n",
              "    </tr>\n",
              "    <tr>\n",
              "      <th>1</th>\n",
              "      <td>8</td>\n",
              "      <td>0.08</td>\n",
              "      <td>0.42</td>\n",
              "    </tr>\n",
              "    <tr>\n",
              "      <th>2</th>\n",
              "      <td>6</td>\n",
              "      <td>0.06</td>\n",
              "      <td>0.48</td>\n",
              "    </tr>\n",
              "    <tr>\n",
              "      <th>3</th>\n",
              "      <td>11</td>\n",
              "      <td>0.11</td>\n",
              "      <td>0.59</td>\n",
              "    </tr>\n",
              "    <tr>\n",
              "      <th>4</th>\n",
              "      <td>13</td>\n",
              "      <td>0.13</td>\n",
              "      <td>0.72</td>\n",
              "    </tr>\n",
              "    <tr>\n",
              "      <th>5</th>\n",
              "      <td>7</td>\n",
              "      <td>0.07</td>\n",
              "      <td>0.79</td>\n",
              "    </tr>\n",
              "    <tr>\n",
              "      <th>6</th>\n",
              "      <td>9</td>\n",
              "      <td>0.09</td>\n",
              "      <td>0.88</td>\n",
              "    </tr>\n",
              "    <tr>\n",
              "      <th>7</th>\n",
              "      <td>1</td>\n",
              "      <td>0.01</td>\n",
              "      <td>0.89</td>\n",
              "    </tr>\n",
              "    <tr>\n",
              "      <th>8</th>\n",
              "      <td>4</td>\n",
              "      <td>0.04</td>\n",
              "      <td>0.93</td>\n",
              "    </tr>\n",
              "    <tr>\n",
              "      <th>9</th>\n",
              "      <td>2</td>\n",
              "      <td>0.02</td>\n",
              "      <td>0.95</td>\n",
              "    </tr>\n",
              "    <tr>\n",
              "      <th>10</th>\n",
              "      <td>1</td>\n",
              "      <td>0.01</td>\n",
              "      <td>0.96</td>\n",
              "    </tr>\n",
              "    <tr>\n",
              "      <th>11</th>\n",
              "      <td>1</td>\n",
              "      <td>0.01</td>\n",
              "      <td>0.97</td>\n",
              "    </tr>\n",
              "    <tr>\n",
              "      <th>12</th>\n",
              "      <td>1</td>\n",
              "      <td>0.01</td>\n",
              "      <td>0.98</td>\n",
              "    </tr>\n",
              "    <tr>\n",
              "      <th>13</th>\n",
              "      <td>1</td>\n",
              "      <td>0.01</td>\n",
              "      <td>0.99</td>\n",
              "    </tr>\n",
              "    <tr>\n",
              "      <th>14</th>\n",
              "      <td>1</td>\n",
              "      <td>0.01</td>\n",
              "      <td>1.00</td>\n",
              "    </tr>\n",
              "  </tbody>\n",
              "</table>\n",
              "</div>"
            ],
            "text/plain": [
              "    Suma Satelites  Funcion Probabilidad  Funcion Distribucion\n",
              "0               34                  0.34                  0.34\n",
              "1                8                  0.08                  0.42\n",
              "2                6                  0.06                  0.48\n",
              "3               11                  0.11                  0.59\n",
              "4               13                  0.13                  0.72\n",
              "5                7                  0.07                  0.79\n",
              "6                9                  0.09                  0.88\n",
              "7                1                  0.01                  0.89\n",
              "8                4                  0.04                  0.93\n",
              "9                2                  0.02                  0.95\n",
              "10               1                  0.01                  0.96\n",
              "11               1                  0.01                  0.97\n",
              "12               1                  0.01                  0.98\n",
              "13               1                  0.01                  0.99\n",
              "14               1                  0.01                  1.00"
            ]
          },
          "metadata": {},
          "execution_count": 150
        }
      ]
    },
    {
      "cell_type": "code",
      "metadata": {
        "colab": {
          "base_uri": "https://localhost:8080/",
          "height": 367
        },
        "id": "-CDKZk1HW3kZ",
        "outputId": "157fe2a4-8143-4c0e-df24-ac41116c9732"
      },
      "source": [
        "df_cang.plot.bar(y='Funcion Probabilidad',\n",
        "                 rot=0,\n",
        "                 title='Función de probabilidad',\n",
        "                 xlabel='Cantidad satelites',\n",
        "                 ylabel = 'f(x)',\n",
        "                 figsize=(7,5))"
      ],
      "execution_count": 151,
      "outputs": [
        {
          "output_type": "execute_result",
          "data": {
            "text/plain": [
              "<matplotlib.axes._subplots.AxesSubplot at 0x7fb639ec1c50>"
            ]
          },
          "metadata": {},
          "execution_count": 151
        },
        {
          "output_type": "display_data",
          "data": {
            "image/png": "[encoded data removed]",
            "text/plain": [
              "<Figure size 504x360 with 1 Axes>"
            ]
          },
          "metadata": {
            "needs_background": "light"
          }
        }
      ]
    },
    {
      "cell_type": "code",
      "metadata": {
        "id": "oIeVPDMog4h5"
      },
      "source": [
        ""
      ],
      "execution_count": 151,
      "outputs": []
    },
    {
      "cell_type": "code",
      "metadata": {
        "colab": {
          "base_uri": "https://localhost:8080/",
          "height": 367
        },
        "id": "Jn_eO7d4W5m_",
        "outputId": "9f931a21-4f2e-4c00-bd27-a1166892c26d"
      },
      "source": [
        "df_cang.plot.bar(y='Funcion Distribucion',\n",
        "                 rot=0,\n",
        "                 title='Función de Distribucion',\n",
        "                 xlabel='Cantidad satelites',\n",
        "                 ylabel = 'f(x)',\n",
        "                 figsize=(7,5))"
      ],
      "execution_count": 152,
      "outputs": [
        {
          "output_type": "execute_result",
          "data": {
            "text/plain": [
              "<matplotlib.axes._subplots.AxesSubplot at 0x7fb639dea950>"
            ]
          },
          "metadata": {},
          "execution_count": 152
        },
        {
          "output_type": "display_data",
          "data": {
            "image/png": "[encoded data removed]",
            "text/plain": [
              "<Figure size 504x360 with 1 Axes>"
            ]
          },
          "metadata": {
            "needs_background": "light"
          }
        }
      ]
    },
    {
      "cell_type": "markdown",
      "metadata": {
        "id": "2YkNkLj-gglB"
      },
      "source": [
        "Los datos para la variable objeto siendo esta el número de satélites no tienen un comportamiento de distribución normal, se observa que lo más común es que no tengan satélites en gran medida o que tengan pero no más de 5."
      ]
    },
    {
      "cell_type": "markdown",
      "metadata": {
        "id": "4JehReArg6Yt"
      },
      "source": [
        "**Construir un histograma y un gráfico de densidad kernel**"
      ]
    },
    {
      "cell_type": "code",
      "metadata": {
        "colab": {
          "base_uri": "https://localhost:8080/",
          "height": 367
        },
        "id": "Za45gV90cJh6",
        "outputId": "a036259f-6d5c-4319-8add-53d37654e3e6"
      },
      "source": [
        "from scipy.interpolate import make_interp_spline\n",
        "\n",
        "x = np.array([0.5,2.5,4.5,6.5,8.5,10.5,12.5,14.5])\n",
        "y = np.array([0.45086,0.1618,0.1965,0.0982,0.052,0.0231,0.0057,0.0115])\n",
        "\n",
        "X_Y_Spline = make_interp_spline(x, y)\n",
        "X_ = np.linspace(x.min(), x.max(), 500)\n",
        "Y_ = X_Y_Spline(X_)\n",
        "\n",
        "df_cang.plot.bar(y='Funcion Probabilidad',\n",
        "                 rot=0,\n",
        "                 title='Función de probabilidad',\n",
        "                 xlabel='Cantidad satelites',\n",
        "                 ylabel = 'f(x)',\n",
        "                 figsize=(7,5))\n",
        "\n",
        "plt.plot(X_,Y_,color=\"r\")\n",
        "plt.title('Fnc de densidad de Kernel vs Fnc de probabilidad')\n",
        "plt.xlabel(\"Cantidad satelites\")\n",
        "plt.ylabel(\"f(x)\")\n",
        "plt.legend([\"Funcion de densidad\",\"Funcion de probabilidad\"])"
      ],
      "execution_count": 153,
      "outputs": [
        {
          "output_type": "execute_result",
          "data": {
            "text/plain": [
              "<matplotlib.legend.Legend at 0x7fb639d15490>"
            ]
          },
          "metadata": {},
          "execution_count": 153
        },
        {
          "output_type": "display_data",
          "data": {
            "image/png": "[encoded data removed]",
            "text/plain": [
              "<Figure size 504x360 with 1 Axes>"
            ]
          },
          "metadata": {
            "needs_background": "light"
          }
        }
      ]
    },
    {
      "cell_type": "markdown",
      "metadata": {
        "id": "4F7rmraphExJ"
      },
      "source": [
        "**Realizar un análsis comparativo de los gráficos obtenidos en el inciso anterior**\n",
        "\n",
        "Observando el gráfico de densidad contra un histograma con los datos de la función de probabilidad se asegura que no hay ninguna posibilidad de ser distribución normal. \n",
        "\n",
        "No es simétrica, se observa un sesgo positivo a la derecha y al parecer es multimodal.\n",
        "\n",
        "La mayoría de la cantidad de satélites sobre nuestra población se encuentran entre 0 y 7 de estos."
      ]
    },
    {
      "cell_type": "markdown",
      "metadata": {
        "id": "SXQnDRS5hwK8"
      },
      "source": [
        "**Contruir el gráfico de dispersión, hallar la covariana y la correlación para las variables peso y ancho del caparazón del cangrejo de herradura hembra e interpretar los resultados obtenidos**"
      ]
    },
    {
      "cell_type": "code",
      "metadata": {
        "colab": {
          "base_uri": "https://localhost:8080/",
          "height": 312
        },
        "id": "sv0HQfDUh5gT",
        "outputId": "180025fa-a15b-46b4-8740-21100c86fd47"
      },
      "source": [
        "df_cangrejos.plot.scatter(x='W',y='Wt',\n",
        "                          title=\"Grafico de dispersion Peso vs Ancho del caparazón\",\n",
        "                          xlabel=\"Peso\",\n",
        "                          ylabel=\"Ancho en cm\")"
      ],
      "execution_count": 154,
      "outputs": [
        {
          "output_type": "execute_result",
          "data": {
            "text/plain": [
              "<matplotlib.axes._subplots.AxesSubplot at 0x7fb639d6f050>"
            ]
          },
          "metadata": {},
          "execution_count": 154
        },
        {
          "output_type": "display_data",
          "data": {
            "image/png": "[encoded data removed]",
            "text/plain": [
              "<Figure size 432x288 with 1 Axes>"
            ]
          },
          "metadata": {
            "needs_background": "light"
          }
        }
      ]
    },
    {
      "cell_type": "code",
      "metadata": {
        "colab": {
          "base_uri": "https://localhost:8080/",
          "height": 286
        },
        "id": "OL68oI_niWLb",
        "outputId": "2cddfa02-4f43-4881-ea3e-d398f7b79cbb"
      },
      "source": [
        "sns.heatmap(df_cangrejos.corr(),annot=True)"
      ],
      "execution_count": 155,
      "outputs": [
        {
          "output_type": "execute_result",
          "data": {
            "text/plain": [
              "<matplotlib.axes._subplots.AxesSubplot at 0x7fb639c76350>"
            ]
          },
          "metadata": {},
          "execution_count": 155
        },
        {
          "output_type": "display_data",
          "data": {
            "image/png": "[encoded data removed]",
            "text/plain": [
              "<Figure size 432x288 with 2 Axes>"
            ]
          },
          "metadata": {
            "needs_background": "light"
          }
        }
      ]
    },
    {
      "cell_type": "code",
      "metadata": {
        "colab": {
          "base_uri": "https://localhost:8080/",
          "height": 203
        },
        "id": "7JSJ4rzEjwn4",
        "outputId": "bed24bed-35fa-49aa-c815-acbef6ce6def"
      },
      "source": [
        "df_cangrejos.cov()"
      ],
      "execution_count": 156,
      "outputs": [
        {
          "output_type": "execute_result",
          "data": {
            "text/html": [
              "<div>\n",
              "<style scoped>\n",
              "    .dataframe tbody tr th:only-of-type {\n",
              "        vertical-align: middle;\n",
              "    }\n",
              "\n",
              "    .dataframe tbody tr th {\n",
              "        vertical-align: top;\n",
              "    }\n",
              "\n",
              "    .dataframe thead th {\n",
              "        text-align: right;\n",
              "    }\n",
              "</style>\n",
              "<table border=\"1\" class=\"dataframe\">\n",
              "  <thead>\n",
              "    <tr style=\"text-align: right;\">\n",
              "      <th></th>\n",
              "      <th>C</th>\n",
              "      <th>S</th>\n",
              "      <th>W</th>\n",
              "      <th>Wt</th>\n",
              "      <th>Sa</th>\n",
              "    </tr>\n",
              "  </thead>\n",
              "  <tbody>\n",
              "    <tr>\n",
              "      <th>C</th>\n",
              "      <td>0.627374</td>\n",
              "      <td>0.294343</td>\n",
              "      <td>-0.461030</td>\n",
              "      <td>-0.100991</td>\n",
              "      <td>-0.598889</td>\n",
              "    </tr>\n",
              "    <tr>\n",
              "      <th>S</th>\n",
              "      <td>0.294343</td>\n",
              "      <td>0.730909</td>\n",
              "      <td>-0.384929</td>\n",
              "      <td>-0.110297</td>\n",
              "      <td>-0.600606</td>\n",
              "    </tr>\n",
              "    <tr>\n",
              "      <th>W</th>\n",
              "      <td>-0.461030</td>\n",
              "      <td>-0.384929</td>\n",
              "      <td>4.585782</td>\n",
              "      <td>1.171948</td>\n",
              "      <td>2.274121</td>\n",
              "    </tr>\n",
              "    <tr>\n",
              "      <th>Wt</th>\n",
              "      <td>-0.100991</td>\n",
              "      <td>-0.110297</td>\n",
              "      <td>1.171948</td>\n",
              "      <td>0.341532</td>\n",
              "      <td>0.619959</td>\n",
              "    </tr>\n",
              "    <tr>\n",
              "      <th>Sa</th>\n",
              "      <td>-0.598889</td>\n",
              "      <td>-0.600606</td>\n",
              "      <td>2.274121</td>\n",
              "      <td>0.619959</td>\n",
              "      <td>11.225354</td>\n",
              "    </tr>\n",
              "  </tbody>\n",
              "</table>\n",
              "</div>"
            ],
            "text/plain": [
              "            C         S         W        Wt        Sa \n",
              "C    0.627374  0.294343 -0.461030 -0.100991  -0.598889\n",
              "S    0.294343  0.730909 -0.384929 -0.110297  -0.600606\n",
              "W   -0.461030 -0.384929  4.585782  1.171948   2.274121\n",
              "Wt  -0.100991 -0.110297  1.171948  0.341532   0.619959\n",
              "Sa  -0.598889 -0.600606  2.274121  0.619959  11.225354"
            ]
          },
          "metadata": {},
          "execution_count": 156
        }
      ]
    },
    {
      "cell_type": "markdown",
      "metadata": {
        "id": "YBdS91ECkRhn"
      },
      "source": [
        "Específicamente entre el ancho y el peso del caparazón del cangrejo de herradura se encuentra una correlación relevante, de 94% y es algo entendible puesto que entre más grande más peso tendrá.\n",
        "\n",
        "La covarianza positiva entre estos dos nos indica una relación positiva a su vez que el gráfico de dispersión enseña lo mismo."
      ]
    },
    {
      "cell_type": "markdown",
      "metadata": {
        "id": "txWl4Sgj5cVP"
      },
      "source": [
        "# Ejercicio 3\n",
        "\n",
        "Considere el siguiente problema:\n",
        "\n",
        "En una asignatura llamada Métodos estadísticos, se tiene un registro de las notas que sacaron los estudiantes en los cuatro parciales realizados en el último semestre académico. Las notas se organizaron en un DataFrame para realizar un análisis estadístico que permita evaluar el desempeño global de los estudiantes. A partir de esta base de datos:\n",
        "  \n",
        "- Construir los histogramas de cada una de las variables, usando la regla de Freedman-Diaconis (fd)\n",
        "- Calcular la media y la varianza de cada una de las variables e interpretar lso resultados.\n",
        "- Determinar cuál de los parciales tienen mejor y peor desempeño los estudiantes.\n",
        "- Seleccione una muestra de 5 estudiantes de forma aleatoria. Calcule la media y la varianza muestral.\n",
        "- Compare con la media y la varianza poblacional de los item anteriores. Realice una interpretación en contexto de los resultados obtenidos."
      ]
    },
    {
      "cell_type": "code",
      "metadata": {
        "id": "fWc9QAL77Nau"
      },
      "source": [
        "Parcial_1 = [4.4, 3.9, 2.3, 0.7, 4.8, 2.5, 4.8, 2.3, 1.3, 4.6, 0.4, 0.6, 4.6, 3.8, 3.3, 0.1, 3.3, 0.9, 1. , 4.4]\n",
        "Parcial_2 = [2. , 3.4, 0.3, 2.9, 4.3, 4.8, 1.8, 2.6, 4.6, 4.6, 1. , 2.8, 0.6, 0.8, 4.2, 2.8, 3.9, 4. , 1. , 5. ]\n",
        "Parcial_3 = [2.5, 1.9, 5. , 3.5, 4.5, 3.1, 1.4, 4.4, 4.1, 0.9, 1.2, 3.2, 2.9, 0.1, 4.3, 3.3, 3.4, 3.7, 1.9, 1.1]\n",
        "Parcial_4 = [2.4, 3.6, 2. , 4.7, 2.4, 0.9, 3.2, 3.5, 2. , 0.6, 2.3, 0.3, 3.1, 3.2, 4.5, 0.3, 1.6, 2.4, 1.9, 1.8]"
      ],
      "execution_count": 2,
      "outputs": []
    },
    {
      "cell_type": "markdown",
      "metadata": {
        "id": "62rL7geUFD8_"
      },
      "source": [
        "**Construir los histogramas de cada una de las variables, usando la regla de Freedman-Diaconis (fd)**"
      ]
    },
    {
      "cell_type": "code",
      "metadata": {
        "colab": {
          "base_uri": "https://localhost:8080/",
          "height": 365
        },
        "id": "UafnikAcFG1n",
        "outputId": "258a2a9a-3521-40c3-9782-900047778384"
      },
      "source": [
        "df = pd.DataFrame({\"Parcial 1\":Parcial_1,\"Parcial 2\":Parcial_2,\"Parcial 3\":Parcial_3,\"Parcial 4\":Parcial_4})\n",
        "df.hist(bins='fd')"
      ],
      "execution_count": 3,
      "outputs": [
        {
          "output_type": "execute_result",
          "data": {
            "text/plain": [
              "array([[<matplotlib.axes._subplots.AxesSubplot object at 0x7fb65bbb4dd0>,\n",
              "        <matplotlib.axes._subplots.AxesSubplot object at 0x7fb65bb13190>],\n",
              "       [<matplotlib.axes._subplots.AxesSubplot object at 0x7fb65bacb7d0>,\n",
              "        <matplotlib.axes._subplots.AxesSubplot object at 0x7fb65ba80e50>]],\n",
              "      dtype=object)"
            ]
          },
          "metadata": {},
          "execution_count": 3
        },
        {
          "output_type": "display_data",
          "data": {
            "image/png": "[encoded data removed]",
            "text/plain": [
              "<Figure size 432x288 with 4 Axes>"
            ]
          },
          "metadata": {
            "needs_background": "light"
          }
        }
      ]
    },
    {
      "cell_type": "markdown",
      "metadata": {
        "id": "QVuo79PaLFQP"
      },
      "source": [
        "**Calcular la media y la varianza de cada una de las variables e interpretar los resultados**"
      ]
    },
    {
      "cell_type": "code",
      "metadata": {
        "colab": {
          "base_uri": "https://localhost:8080/",
          "height": 110
        },
        "id": "QPy3pFqRLcLG",
        "outputId": "85c4b281-3262-4316-b732-e56dbe17cf66"
      },
      "source": [
        "df.aggregate([np.mean,np.var])"
      ],
      "execution_count": 4,
      "outputs": [
        {
          "output_type": "execute_result",
          "data": {
            "text/html": [
              "<div>\n",
              "<style scoped>\n",
              "    .dataframe tbody tr th:only-of-type {\n",
              "        vertical-align: middle;\n",
              "    }\n",
              "\n",
              "    .dataframe tbody tr th {\n",
              "        vertical-align: top;\n",
              "    }\n",
              "\n",
              "    .dataframe thead th {\n",
              "        text-align: right;\n",
              "    }\n",
              "</style>\n",
              "<table border=\"1\" class=\"dataframe\">\n",
              "  <thead>\n",
              "    <tr style=\"text-align: right;\">\n",
              "      <th></th>\n",
              "      <th>Parcial 1</th>\n",
              "      <th>Parcial 2</th>\n",
              "      <th>Parcial 3</th>\n",
              "      <th>Parcial 4</th>\n",
              "    </tr>\n",
              "  </thead>\n",
              "  <tbody>\n",
              "    <tr>\n",
              "      <th>mean</th>\n",
              "      <td>2.700000</td>\n",
              "      <td>2.870000</td>\n",
              "      <td>2.820000</td>\n",
              "      <td>2.335000</td>\n",
              "    </tr>\n",
              "    <tr>\n",
              "      <th>var</th>\n",
              "      <td>2.847368</td>\n",
              "      <td>2.405368</td>\n",
              "      <td>1.916421</td>\n",
              "      <td>1.575026</td>\n",
              "    </tr>\n",
              "  </tbody>\n",
              "</table>\n",
              "</div>"
            ],
            "text/plain": [
              "      Parcial 1  Parcial 2  Parcial 3  Parcial 4\n",
              "mean   2.700000   2.870000   2.820000   2.335000\n",
              "var    2.847368   2.405368   1.916421   1.575026"
            ]
          },
          "metadata": {},
          "execution_count": 4
        }
      ]
    },
    {
      "cell_type": "markdown",
      "metadata": {
        "id": "z7LkKYGPkzU7"
      },
      "source": [
        "Desde la media y la varianza de la población que tenemos por cada tipo de parcial se obtienen resultados similares, todos tienden a una nota promedio del rango que se está usando siendo esta nota $ 0<X<5 $ y su punto medio un $2.5$\n",
        "\n",
        "La media sugiere este tipo de relación pero cuando observamos la varianza podemos tener en cuenta que los datos más distantes entre sí son los del *Parcial 1*. En cambio, el *Parcial 4* tiene el conjunto de notas más similares donde todos los estudiantes obtuvieron notas poco atípicas en el conjunto."
      ]
    },
    {
      "cell_type": "markdown",
      "metadata": {
        "id": "vlHid1OqLdjS"
      },
      "source": [
        "**Determinar cuál de los parciales tienen mejor y peor desempeño los estudiantes**"
      ]
    },
    {
      "cell_type": "code",
      "metadata": {
        "colab": {
          "base_uri": "https://localhost:8080/",
          "height": 465
        },
        "id": "8_HZWjjALf6h",
        "outputId": "113591e4-44a7-4f9b-f55f-202d43ed3364"
      },
      "source": [
        "df.plot.bar(figsize=(25,7),rot=0)"
      ],
      "execution_count": 5,
      "outputs": [
        {
          "output_type": "execute_result",
          "data": {
            "text/plain": [
              "<matplotlib.axes._subplots.AxesSubplot at 0x7fb65b99ff50>"
            ]
          },
          "metadata": {},
          "execution_count": 5
        },
        {
          "output_type": "display_data",
          "data": {
            "image/png": "[encoded data removed]",
            "text/plain": [
              "<Figure size 1800x504 with 1 Axes>"
            ]
          },
          "metadata": {
            "needs_background": "light"
          }
        }
      ]
    },
    {
      "cell_type": "code",
      "metadata": {
        "colab": {
          "base_uri": "https://localhost:8080/"
        },
        "id": "89dVGNyPLkCG",
        "outputId": "911381c6-2e79-4f87-a32d-39f65500a011"
      },
      "source": [
        "df_top = df.copy()\n",
        "top = df.aggregate([\"max\"],axis=1)\n",
        "for col in df_top.columns:\n",
        "  df_top[col] = (df_top[col] == top[\"max\"]).astype(int)\n",
        "df_top.sum()"
      ],
      "execution_count": 6,
      "outputs": [
        {
          "output_type": "execute_result",
          "data": {
            "text/plain": [
              "Parcial 1    7\n",
              "Parcial 2    6\n",
              "Parcial 3    5\n",
              "Parcial 4    4\n",
              "dtype: int64"
            ]
          },
          "metadata": {},
          "execution_count": 6
        }
      ]
    },
    {
      "cell_type": "code",
      "metadata": {
        "colab": {
          "base_uri": "https://localhost:8080/"
        },
        "id": "EvGF-D6jLkQ2",
        "outputId": "09218a7d-b6a8-46ea-88ce-ab9bbde54a50"
      },
      "source": [
        "df_bottom = df.copy()\n",
        "bott = df.aggregate([\"min\"],axis=1)\n",
        "for col in df_bottom.columns:\n",
        "  df_bottom[col] = (df_bottom[col] == bott[\"min\"]).astype(int)\n",
        "df_bottom.sum()"
      ],
      "execution_count": 7,
      "outputs": [
        {
          "output_type": "execute_result",
          "data": {
            "text/plain": [
              "Parcial 1    8\n",
              "Parcial 2    4\n",
              "Parcial 3    4\n",
              "Parcial 4    5\n",
              "dtype: int64"
            ]
          },
          "metadata": {},
          "execution_count": 7
        }
      ]
    },
    {
      "cell_type": "markdown",
      "metadata": {
        "id": "P0Ll4lL5mC-R"
      },
      "source": [
        "\n",
        "\n",
        "*   El *Parcial 1* es quien tiene el mayor número de nota más alta por estudiante, siendo así para 7 estudiantes pero a su vez es donde se obtuvo el mayor número de notas más bajas entre estudiantes, siendo 8. Por este desbalance no se puede afirmar la dificultad de este parcial, está más atribuido a lo que ha estudiado el estudiante.\n",
        "*   El *Parcial 2* En cambio tiene la mejor relación pues 6 estudiantes obtuvieron su mayor nota en este y solo 4 estudiantes su peor nota. Se puede notar a diferencia de los demás parciales que es el más accesible en cuanto a dificultad de todos.\n",
        "\n"
      ]
    },
    {
      "cell_type": "markdown",
      "metadata": {
        "id": "BccHcZRBLpzj"
      },
      "source": [
        "**Seleccione una muestra de 5 estudiantes de forma aleatoria. Calcule la media y la varianza muestral**"
      ]
    },
    {
      "cell_type": "code",
      "metadata": {
        "colab": {
          "base_uri": "https://localhost:8080/",
          "height": 203
        },
        "id": "YECp26IVLsMj",
        "outputId": "a43ca6a8-9079-4efa-88cd-d5abdde19dbf"
      },
      "source": [
        "df_muestra = df.sample(5).copy()\n",
        "df_muestra"
      ],
      "execution_count": 8,
      "outputs": [
        {
          "output_type": "execute_result",
          "data": {
            "text/html": [
              "<div>\n",
              "<style scoped>\n",
              "    .dataframe tbody tr th:only-of-type {\n",
              "        vertical-align: middle;\n",
              "    }\n",
              "\n",
              "    .dataframe tbody tr th {\n",
              "        vertical-align: top;\n",
              "    }\n",
              "\n",
              "    .dataframe thead th {\n",
              "        text-align: right;\n",
              "    }\n",
              "</style>\n",
              "<table border=\"1\" class=\"dataframe\">\n",
              "  <thead>\n",
              "    <tr style=\"text-align: right;\">\n",
              "      <th></th>\n",
              "      <th>Parcial 1</th>\n",
              "      <th>Parcial 2</th>\n",
              "      <th>Parcial 3</th>\n",
              "      <th>Parcial 4</th>\n",
              "    </tr>\n",
              "  </thead>\n",
              "  <tbody>\n",
              "    <tr>\n",
              "      <th>9</th>\n",
              "      <td>4.6</td>\n",
              "      <td>4.6</td>\n",
              "      <td>0.9</td>\n",
              "      <td>0.6</td>\n",
              "    </tr>\n",
              "    <tr>\n",
              "      <th>14</th>\n",
              "      <td>3.3</td>\n",
              "      <td>4.2</td>\n",
              "      <td>4.3</td>\n",
              "      <td>4.5</td>\n",
              "    </tr>\n",
              "    <tr>\n",
              "      <th>11</th>\n",
              "      <td>0.6</td>\n",
              "      <td>2.8</td>\n",
              "      <td>3.2</td>\n",
              "      <td>0.3</td>\n",
              "    </tr>\n",
              "    <tr>\n",
              "      <th>3</th>\n",
              "      <td>0.7</td>\n",
              "      <td>2.9</td>\n",
              "      <td>3.5</td>\n",
              "      <td>4.7</td>\n",
              "    </tr>\n",
              "    <tr>\n",
              "      <th>17</th>\n",
              "      <td>0.9</td>\n",
              "      <td>4.0</td>\n",
              "      <td>3.7</td>\n",
              "      <td>2.4</td>\n",
              "    </tr>\n",
              "  </tbody>\n",
              "</table>\n",
              "</div>"
            ],
            "text/plain": [
              "    Parcial 1  Parcial 2  Parcial 3  Parcial 4\n",
              "9         4.6        4.6        0.9        0.6\n",
              "14        3.3        4.2        4.3        4.5\n",
              "11        0.6        2.8        3.2        0.3\n",
              "3         0.7        2.9        3.5        4.7\n",
              "17        0.9        4.0        3.7        2.4"
            ]
          },
          "metadata": {},
          "execution_count": 8
        }
      ]
    },
    {
      "cell_type": "code",
      "metadata": {
        "colab": {
          "base_uri": "https://localhost:8080/",
          "height": 110
        },
        "id": "lzZ1t5wBLvlj",
        "outputId": "6214d200-4392-48f5-89a6-b6ec0e872df5"
      },
      "source": [
        "df_muestra.aggregate([np.mean,np.var])"
      ],
      "execution_count": 9,
      "outputs": [
        {
          "output_type": "execute_result",
          "data": {
            "text/html": [
              "<div>\n",
              "<style scoped>\n",
              "    .dataframe tbody tr th:only-of-type {\n",
              "        vertical-align: middle;\n",
              "    }\n",
              "\n",
              "    .dataframe tbody tr th {\n",
              "        vertical-align: top;\n",
              "    }\n",
              "\n",
              "    .dataframe thead th {\n",
              "        text-align: right;\n",
              "    }\n",
              "</style>\n",
              "<table border=\"1\" class=\"dataframe\">\n",
              "  <thead>\n",
              "    <tr style=\"text-align: right;\">\n",
              "      <th></th>\n",
              "      <th>Parcial 1</th>\n",
              "      <th>Parcial 2</th>\n",
              "      <th>Parcial 3</th>\n",
              "      <th>Parcial 4</th>\n",
              "    </tr>\n",
              "  </thead>\n",
              "  <tbody>\n",
              "    <tr>\n",
              "      <th>mean</th>\n",
              "      <td>2.020</td>\n",
              "      <td>3.70</td>\n",
              "      <td>3.120</td>\n",
              "      <td>2.500</td>\n",
              "    </tr>\n",
              "    <tr>\n",
              "      <th>var</th>\n",
              "      <td>3.327</td>\n",
              "      <td>0.65</td>\n",
              "      <td>1.702</td>\n",
              "      <td>4.325</td>\n",
              "    </tr>\n",
              "  </tbody>\n",
              "</table>\n",
              "</div>"
            ],
            "text/plain": [
              "      Parcial 1  Parcial 2  Parcial 3  Parcial 4\n",
              "mean      2.020       3.70      3.120      2.500\n",
              "var       3.327       0.65      1.702      4.325"
            ]
          },
          "metadata": {},
          "execution_count": 9
        }
      ]
    },
    {
      "cell_type": "markdown",
      "metadata": {
        "id": "SE31QtWDm-vi"
      },
      "source": [
        "**Compare con la media y la varianza poblacional de los item anteriores. Realice una interpretación en contexto de los resultados obtenidos**\n",
        "\n",
        "Cuando se obtiene una muestra de la población estos datos están sesgados a la suerte que se tiene, en algunos casos se puede obtener un conjunto óptimo para la estadística descriptiva aplicable a alguno de los parciales y esto no refleje la realidad.\n",
        "\n",
        "En la población todos los parciales tendían a una media de $2.5$ pero al llevar esta misma observación a muestras pequeñas cada una ofrece distintos resultados y no se puede asegurar algo aplicable."
      ]
    },
    {
      "cell_type": "markdown",
      "metadata": {
        "id": "f--A3VTO78at"
      },
      "source": [
        "# Ejercicio 4\n",
        "\n",
        "Una empresa dispone de dos máquinas disponibles para cortar corchos que se  usan en botellas de vino. La máquina 1 produce corchos con diámetros que están normalmente distribuidos con media de 3cm y desviación estándar de 0.1cm. La máquina 2 produce corchos con diámetros que tienen una distribución normal con media de 3.04cm y desviación estándar de 0.2cm. Los corchos aceptables tienen diámetros entre 2.9 y 3.1 cm.\n",
        "\n",
        "- Realice un gráfico para la distribución del diametro de los corchos producidos por cada máquina (use un rango de +/- 2 unidades alrededor de la media)\n",
        "- Determine la probabildad de que cada maquina produzca corchos aceptables y construya el gráfico asociado.\n",
        "- ¿ Cuál es la máquina con mayor probabilidad de corchos aceptables?\n",
        "- Si se toma una muestra de 300 corchos producidos por cada máquina, ¿el número esperado de corchos aceptables es? "
      ]
    },
    {
      "cell_type": "markdown",
      "metadata": {
        "id": "mafyzXF5E2SU"
      },
      "source": [
        "![E4f1.JPG](attachment:E4f1.JPG)"
      ]
    },
    {
      "cell_type": "code",
      "metadata": {
        "id": "inigp8wQE2SV"
      },
      "source": [
        "#Realice un gráfico para la distribución del diametro de los corchos producidos por cada máquina (use un rango de +/- 2 unidades alrededor de la media)\n",
        "from scipy.stats import norm\n",
        "import scipy.stats"
      ],
      "execution_count": null,
      "outputs": []
    },
    {
      "cell_type": "code",
      "metadata": {
        "scrolled": true,
        "id": "-PFnk0v1E2SW",
        "outputId": "2dc404bb-6094-49a8-a530-d65967ae18bc"
      },
      "source": [
        "mu, sigma = 3, 0.1 # media y desviación estandar\n",
        "datos = np.random.normal(mu, sigma, 1000) #creando muestra de datos\n",
        "s = np.random.normal(mu, sigma, 1000)\n",
        "# histograma de distribución normal.\n",
        "count, bins, ignored = plt.hist(s, 30, density=True)\n",
        "plt.ylabel('frequencia')\n",
        "plt.xlabel('valores')\n",
        "plt.title('Histograma')\n",
        "plt.plot(bins, 1/(sigma * np.sqrt(2 * np.pi)) *np.exp( - (bins - mu)**2 / (2 * sigma**2) ),linewidth=2, color='r')\n",
        "plt.show()"
      ],
      "execution_count": null,
      "outputs": [
        {
          "data": {
            "image/png": "[encoded data removed]",
            "text/plain": [
              "<Figure size 432x288 with 1 Axes>"
            ]
          },
          "metadata": {
            "needs_background": "light"
          },
          "output_type": "display_data"
        }
      ]
    },
    {
      "cell_type": "code",
      "metadata": {
        "id": "c2kF-ihNE2SX",
        "outputId": "9d3fdf6b-e30d-4d7e-95af-4190bb687f23"
      },
      "source": [
        "z1=(2.9-mu)/sigma\n",
        "z2=(3.1-mu)/sigma\n",
        "print(z1,z2)"
      ],
      "execution_count": null,
      "outputs": [
        {
          "name": "stdout",
          "output_type": "stream",
          "text": [
            "-1.0000000000000009 1.0000000000000009\n"
          ]
        }
      ]
    },
    {
      "cell_type": "code",
      "metadata": {
        "scrolled": true,
        "id": "-NSzEkW3E2Sa",
        "outputId": "bb771331-d60d-423d-ee73-168a51ebcaac"
      },
      "source": [
        "x=np.arange(z1,z2,0.0001)\n",
        "x2=np.arange(-10,10,0.0001)\n",
        "y=norm.pdf(x,0.1)\n",
        "y2=norm.pdf(x2,0.1)\n",
        "fig,ax=plt.subplots(figsize=(9,6))\n",
        "plt.style.use(\"fivethirtyeight\")\n",
        "ax.plot(x2,y2)\n",
        "ax.fill_between(x,y,0,color=\"g\")\n",
        "ax.fill_between(x2,y2,0,alpha=0.1)\n",
        "ax.set_xlim(-3,3)\n",
        "ax.set_xlabel('Corchos dentro del promedio')        \n",
        "plt.show()"
      ],
      "execution_count": null,
      "outputs": [
        {
          "data": {
            "image/png": "[encoded data removed]",
            "text/plain": [
              "<Figure size 648x432 with 1 Axes>"
            ]
          },
          "metadata": {
            "needs_background": "light"
          },
          "output_type": "display_data"
        }
      ]
    },
    {
      "cell_type": "markdown",
      "metadata": {
        "id": "hP0A2rngE2Sb"
      },
      "source": [
        "![E4f2.JPG](attachment:E4f2.JPG)"
      ]
    },
    {
      "cell_type": "code",
      "metadata": {
        "id": "fZfRNS7pE2Sc",
        "outputId": "83a0f924-7364-49c6-85cf-cc6f82f34a2e"
      },
      "source": [
        "#Determine la probabildad de que cada maquina produzca corchos aceptables y construya el gráfico asociado.\n",
        "scipy.stats.norm(0, 1)\n",
        "Fz1=scipy.stats.norm(0, 1).cdf(z1)\n",
        "Fz2=scipy.stats.norm(0, 1).cdf(z2)\n",
        "Pm1=Fz2-Fz1\n",
        "print(Fz2,\"-\",Fz1,\"=\",Pm1)\n",
        "print(\"la maquina 1 tiene un\",Pm1*100,\"% de corchos aceptables\")"
      ],
      "execution_count": null,
      "outputs": [
        {
          "name": "stdout",
          "output_type": "stream",
          "text": [
            "0.8413447460685431 - 0.15865525393145685 = 0.6826894921370863\n",
            "la maquina 1 tiene un 68.26894921370862 % de corchos aceptables\n"
          ]
        }
      ]
    },
    {
      "cell_type": "code",
      "metadata": {
        "id": "mg5nSjepE2Se",
        "outputId": "4d94b54c-dcaa-4462-f226-e501aaf425cd"
      },
      "source": [
        "mu, sigma = 3.04, 0.2 # media y desvio estandar\n",
        "datos = np.random.normal(mu, sigma, 1000) #creando muestra de datos\n",
        "s = np.random.normal(mu, sigma, 1000)\n",
        "# histograma de distribución normal.\n",
        "count, bins, ignored = plt.hist(s, 30, density=True)\n",
        "plt.ylabel('frequencia')\n",
        "plt.xlabel('valores')\n",
        "plt.title('Histograma')\n",
        "plt.plot(bins, 1/(sigma * np.sqrt(2 * np.pi)) *np.exp( - (bins - mu)**2 / (2 * sigma**2) ),linewidth=2, color='r')\n",
        "plt.show()"
      ],
      "execution_count": null,
      "outputs": [
        {
          "data": {
            "image/png": "[encoded data removed]",
            "text/plain": [
              "<Figure size 432x288 with 1 Axes>"
            ]
          },
          "metadata": {},
          "output_type": "display_data"
        }
      ]
    },
    {
      "cell_type": "code",
      "metadata": {
        "id": "JNAlGTQ4E2Sf",
        "outputId": "f9f378ef-1d68-441d-bbd6-3f434f985fcf"
      },
      "source": [
        "z3=(2.9-mu)/sigma\n",
        "z4=(3.1-mu)/sigma\n",
        "print(z3,z4)\n",
        "scipy.stats.norm(0, 1)\n",
        "Fz3=scipy.stats.norm(0, 1).cdf(z3)\n",
        "Fz4=scipy.stats.norm(0, 1).cdf(z4)\n",
        "Pm2=Fz4-Fz3\n",
        "print(Fz3,\"-\",Fz4,\"=\",Pm2)\n",
        "print(\"la maquina 2 tiene un\",Pm2*100,\"% de corchos aceptables\")"
      ],
      "execution_count": null,
      "outputs": [
        {
          "name": "stdout",
          "output_type": "stream",
          "text": [
            "-0.7000000000000006 0.30000000000000027\n",
            "0.24196365222307287 - 0.6179114221889528 = 0.3759477699658799\n",
            "la maquina 2 tiene un 37.59477699658799 % de corchos aceptables\n"
          ]
        }
      ]
    },
    {
      "cell_type": "code",
      "metadata": {
        "id": "VQdJ9crHE2Sg",
        "outputId": "ea259147-d629-49ff-eb15-ee922534815b"
      },
      "source": [
        "#¿Cuál es la máquina con mayor probabilidad de corchos aceptables?\n",
        "if Pm1 > Pm2:\n",
        "    print(\"La maquina 1 tiene mayor probabilidad de corchos aceptable por\")\n",
        "    print(Pm1, \" > \",Pm2)\n",
        "else:\n",
        "    print(\"La maquina 2 tiene mayor probabilidad de corchos aceptable por\")\n",
        "    print(Pm2, \" > \",Pm1)\n"
      ],
      "execution_count": null,
      "outputs": [
        {
          "name": "stdout",
          "output_type": "stream",
          "text": [
            "La maquina 1 tiene mayor probabilidad de corchos aceptable por\n",
            "0.6826894921370863  >  0.3759477699658799\n"
          ]
        }
      ]
    },
    {
      "cell_type": "code",
      "metadata": {
        "id": "gOQfUQasE2Sh",
        "outputId": "abdbfcf4-a51f-49f4-d05c-fc95201a3fdb"
      },
      "source": [
        "#Si se toma una muestra de 300 corchos producidos por cada máquina, ¿el número esperado de corchos aceptables es?\n",
        "muestra=300\n",
        "Numespem1=Pm1*muestra\n",
        "Numespem2=Pm2*muestra\n",
        "print(\"El número esperado de corchos aceptables para la maquina 1 es \",Numespem1)\n",
        "print(\"El número esperado de corchos aceptables para la maquina 2 es \",Numespem2)\n"
      ],
      "execution_count": null,
      "outputs": [
        {
          "name": "stdout",
          "output_type": "stream",
          "text": [
            "El número esperado de corchos aceptables para la maquina 1 es  204.8068476411259\n",
            "El número esperado de corchos aceptables para la maquina 2 es  112.78433098976397\n"
          ]
        }
      ]
    }
  ]
}